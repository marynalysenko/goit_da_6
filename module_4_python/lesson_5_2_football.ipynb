{
 "cells": [
  {
   "cell_type": "code",
   "execution_count": null,
   "metadata": {},
   "outputs": [],
   "source": [
    "import numpy as np\n",
    "import pandas as pd\n",
    "import matplotlib.pyplot as plt\n",
    "import seaborn as sns\n",
    "\n",
    "# параметри виведення\n",
    "pd.set_option(\"display.max_columns\", 500)  # кількість колонок\n",
    "pd.set_option(\"display.max_rows\", 1000)  # кількість рядків\n",
    "pd.set_option(\"display.max_colwidth\", 300)  # ширина колонок\n",
    "pd.set_option(\"display.precision\", 7)  # кількість знаків після коми\n",
    "\n",
    "# вимикаємо зайві попередження\n",
    "import warnings\n",
    "\n",
    "warnings.filterwarnings(\"ignore\")\n",
    "\n",
    "# друк всіх результатів в одній комірці а не тільки останнього\n",
    "from IPython.core.interactiveshell import InteractiveShell\n",
    "\n",
    "InteractiveShell.ast_node_interactivity = \"all\""
   ]
  },
  {
   "cell_type": "code",
   "execution_count": null,
   "metadata": {},
   "outputs": [],
   "source": [
    "%matplotlib inline"
   ]
  },
  {
   "cell_type": "code",
   "execution_count": null,
   "metadata": {},
   "outputs": [],
   "source": [
    "# https://www.kaggle.com/datasets/cashncarry/fifa-23-complete-player-dataset\n",
    "data = pd.read_csv(\"players_fifa23.csv\")"
   ]
  },
  {
   "cell_type": "code",
   "execution_count": null,
   "metadata": {},
   "outputs": [],
   "source": [
    "data.head()"
   ]
  },
  {
   "cell_type": "code",
   "execution_count": null,
   "metadata": {},
   "outputs": [],
   "source": [
    "data.columns"
   ]
  },
  {
   "cell_type": "code",
   "execution_count": null,
   "metadata": {},
   "outputs": [],
   "source": [
    "left = data[data[\"PreferredFoot\"] == \"Left\"].count()[0]\n",
    "right = data[data[\"PreferredFoot\"] == \"Right\"].count()[0]\n",
    "\n",
    "plt.pie([left, right], labels=[\"Ліва нога\", \"Права нога\"], autopct=\"%.2f %%\"); \n",
    "plt.title(\"Яка нога є основною у футболістів?\");"
   ]
  },
  {
   "cell_type": "code",
   "execution_count": null,
   "metadata": {},
   "outputs": [],
   "source": [
    "data[\"Club\"].unique()"
   ]
  },
  {
   "cell_type": "markdown",
   "metadata": {},
   "source": []
  },
  {
   "cell_type": "code",
   "execution_count": null,
   "metadata": {},
   "outputs": [],
   "source": [
    "barcelona = data[data[\"Club\"] == \"FC Barcelona\"][\"Overall\"]\n",
    "madrid = data[data[\"Club\"] == \"Real Madrid CF\"][\"Overall\"]\n",
    "revs = data[data[\"Club\"] == \"New England Revolution\"][\"Overall\"]\n",
    "\n",
    "plt.boxplot(\n",
    "    [barcelona, madrid, revs],\n",
    "    labels=[\"FC Barcelona\", \"Real Madrid\", \"NE Revolution\"],\n",
    ")\n",
    "plt.title(\"Розподіл рейтингу гравців\")\n",
    "plt.show();\n",
    "\n",
    "# діаграма типу \"ящик з вусами\" (boxplot) показує розподіл даних за допомогою квартилів"
   ]
  },
  {
   "cell_type": "code",
   "execution_count": null,
   "metadata": {},
   "outputs": [],
   "source": [
    "plt.hist(data[\"Overall\"], bins=20)\n",
    "\n",
    "plt.title(\"Розподіл рейтингу гравців\")\n",
    "plt.xlabel(\"Рейтинг\")\n",
    "plt.ylabel(\"Кількість гравців\")\n",
    "plt.show();\n",
    "\n",
    "# Побудова гістаграми "
   ]
  },
  {
   "cell_type": "code",
   "execution_count": null,
   "metadata": {},
   "outputs": [],
   "source": [
    "plt.style.available\n",
    "\n",
    "# В Matplotlib доступно 26 стилів оформлення графіків."
   ]
  },
  {
   "cell_type": "code",
   "execution_count": null,
   "metadata": {},
   "outputs": [],
   "source": [
    "plt.style.use(\"fivethirtyeight\")\n",
    "plt.hist(data[\"Overall\"], bins=20)\n",
    "plt.title(\"Розподіл рейтингу гравців\")\n",
    "plt.xlabel(\"Рейтинг\")\n",
    "plt.ylabel(\"Кількість гравців\")\n",
    "plt.show();"
   ]
  },
  {
   "cell_type": "markdown",
   "metadata": {},
   "source": [
    "### demo to sns"
   ]
  },
  {
   "cell_type": "code",
   "execution_count": null,
   "metadata": {},
   "outputs": [],
   "source": [
    "# відбираю числові ознаки з датасету tips\n",
    "df = data.select_dtypes(include=[\"float64\", \"int64\"])\n",
    "df.columns"
   ]
  },
  {
   "cell_type": "code",
   "execution_count": null,
   "metadata": {},
   "outputs": [],
   "source": [
    "df = df[\n",
    "    [\n",
    "        \"Overall\",\n",
    "        \"Age\",\n",
    "        \"Height\",\n",
    "        \"Weight\",\n",
    "        \"PassingTotal\",\n",
    "        \"PhysicalityTotal\",\n",
    "        \"ShortPassing\",\n",
    "        \"Crossing\",\n",
    "        \"Finishing\",\n",
    "        \"HeadingAccuracy\",\n",
    "        \"ShortPassing\",\n",
    "        \"Volleys\",\n",
    "    ]\n",
    "]"
   ]
  },
  {
   "cell_type": "code",
   "execution_count": null,
   "metadata": {},
   "outputs": [],
   "source": [
    "# heatmap - це теплова карта\n",
    "sns.heatmap(df.corr(), cmap=\"coolwarm\", annot=True)"
   ]
  },
  {
   "cell_type": "code",
   "execution_count": null,
   "metadata": {},
   "outputs": [],
   "source": [
    "sns.heatmap(df.corr(), cmap=\"crest_r\", annot=True)"
   ]
  },
  {
   "cell_type": "code",
   "execution_count": null,
   "metadata": {},
   "outputs": [],
   "source": [
    "# зменшити шрифт анотацій\n",
    "cmap = sns.diverging_palette(230, 20, as_cmap=True)\n",
    "sns.heatmap(df.corr(), cmap=\"crest_r\", annot=True, fmt=\".0%\", annot_kws={\"fontsize\": 8}) \n",
    "# fmt - формат виведення значень   annot_kws - параметри анотацій (розмір шрифту) , cmap - палітра кольорів (https://matplotlib.org/stable/tutorials/colors/colormaps.html)\n"
   ]
  },
  {
   "cell_type": "markdown",
   "metadata": {},
   "source": []
  }
 ],
 "metadata": {
  "kernelspec": {
   "display_name": "Python 3",
   "language": "python",
   "name": "python3"
  },
  "language_info": {
   "codemirror_mode": {
    "name": "ipython",
    "version": 3
   },
   "file_extension": ".py",
   "mimetype": "text/x-python",
   "name": "python",
   "nbconvert_exporter": "python",
   "pygments_lexer": "ipython3",
   "version": "3.10.12"
  }
 },
 "nbformat": 4,
 "nbformat_minor": 2
}
