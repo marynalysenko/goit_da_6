{
 "cells": [
  {
   "cell_type": "markdown",
   "metadata": {},
   "source": []
  },
  {
   "cell_type": "code",
   "execution_count": null,
   "metadata": {},
   "outputs": [],
   "source": [
    "import pandas as pd\n",
    "import numpy as np\n",
    "import matplotlib.pyplot as plt\n",
    "import seaborn as sns\n",
    "\n",
    "# Імпортуємо одразу все, що нам знадобиться"
   ]
  },
  {
   "cell_type": "code",
   "execution_count": null,
   "metadata": {},
   "outputs": [],
   "source": [
    "pd.__version__"
   ]
  },
  {
   "cell_type": "markdown",
   "metadata": {},
   "source": [
    "# Об'єднання даних кількох датасетів"
   ]
  },
  {
   "cell_type": "markdown",
   "metadata": {},
   "source": [
    "### pd.concat"
   ]
  },
  {
   "cell_type": "code",
   "execution_count": null,
   "metadata": {},
   "outputs": [],
   "source": [
    "df1 = pd.DataFrame({'A': ['A0', 'A1', 'A2', 'A3'],\n",
    "                    'B': ['B0', 'B1', 'B2', 'B3'],\n",
    "                    'C': ['C0', 'C1', 'C2', 'C3'],\n",
    "                    'D': ['D0', 'D1', 'D2', 'D3']},\n",
    "                   index=[0, 1, 2, 3])"
   ]
  },
  {
   "cell_type": "code",
   "execution_count": null,
   "metadata": {},
   "outputs": [],
   "source": [
    "df2 = pd.DataFrame({'A': ['A4', 'A5', 'A6', 'A7'],\n",
    "                    'B': ['B4', 'B5', 'B6', 'B7'],\n",
    "                    'C': ['C4', 'C5', 'C6', 'C7'],\n",
    "                    'D': ['D4', 'D5', 'D6', 'D7']},\n",
    "                   index=[4, 5, 6, 7])"
   ]
  },
  {
   "cell_type": "code",
   "execution_count": null,
   "metadata": {},
   "outputs": [],
   "source": [
    "df3 = pd.DataFrame({'A': ['A8', 'A9', 'A10', 'A11'],\n",
    "                    'B': ['B8', 'B9', 'B10', 'B11'],\n",
    "                    'C': ['C8', 'C9', 'C10', 'C11'],\n",
    "                    'D': ['D8', 'D9', 'D10', 'D11']},\n",
    "                   index=[8, 9, 10, 11])"
   ]
  },
  {
   "cell_type": "code",
   "execution_count": null,
   "metadata": {},
   "outputs": [],
   "source": [
    "df4 = pd.DataFrame({'B': ['B2', 'B3', 'B6', 'B7'],\n",
    "                    'D': ['D2', 'D3', 'D6', 'D7'],\n",
    "                    'F': ['F2', 'F3', 'F6', 'F7']},\n",
    "                   index=[2, 3, 6, 7])"
   ]
  },
  {
   "cell_type": "code",
   "execution_count": null,
   "metadata": {},
   "outputs": [],
   "source": [
    "display(df1, df2, df3, df4)"
   ]
  },
  {
   "cell_type": "code",
   "execution_count": null,
   "metadata": {},
   "outputs": [],
   "source": [
    "pd.concat([df1, df2])\n",
    "# Він поєднує по індексу! Тобто, якщо індекси однакові, то вони будуть в одному рядку (якщо відсутні, то вони будуть просто поряд)\n",
    "# працює як union в SQL\n",
    "# Якщо відсутній стовпчик, то він буде просто доданий з NaN\n",
    "#pd.concat([df1, df2, df3])"
   ]
  },
  {
   "cell_type": "code",
   "execution_count": null,
   "metadata": {},
   "outputs": [],
   "source": [
    "pd.concat([df1, df4]) # увага на індекси!"
   ]
  },
  {
   "cell_type": "code",
   "execution_count": null,
   "metadata": {},
   "outputs": [],
   "source": [
    "pd.concat([df1, df4]).reset_index() "
   ]
  },
  {
   "cell_type": "code",
   "execution_count": null,
   "metadata": {},
   "outputs": [],
   "source": [
    "pd.concat([df1, df4]).reset_index(drop=True) # видаляємо старі індекси"
   ]
  },
  {
   "cell_type": "code",
   "execution_count": null,
   "metadata": {},
   "outputs": [],
   "source": [
    "pd.concat([df1, df4], ignore_index=True) # аналогічно"
   ]
  },
  {
   "cell_type": "code",
   "execution_count": null,
   "metadata": {},
   "outputs": [],
   "source": [
    "pd.concat([df1, df3], axis=1) \n",
    "# поєднуємо по стовпчиках\n",
    "# зазвичай, для цього краще використовувати merge"
   ]
  },
  {
   "cell_type": "code",
   "execution_count": null,
   "metadata": {},
   "outputs": [],
   "source": [
    "# як перевірити дані перед початком обєднання\n",
    "pd.concat(\n",
    "    [df1, df4],\n",
    "    keys=[\"clients's data\",\"df4\"], # додаємо ключі для розрізнення даних \n",
    "    names=[\"Source\", \"client_id\"], # додаємо імена для індексів\n",
    ")"
   ]
  },
  {
   "cell_type": "markdown",
   "metadata": {},
   "source": [
    "### pd.merge"
   ]
  },
  {
   "cell_type": "code",
   "execution_count": null,
   "metadata": {},
   "outputs": [],
   "source": [
    "left = pd.DataFrame(\n",
    "    {\n",
    "        \"ID\": [\"1\", \"2\", \"3\", \"5\", \"9\"],\n",
    "        \"Name\": [\"Alex\", \"Amy\", \"Allen\", \"Alice\", \"Ayoung\"],\n",
    "        \"subject_id\": [\"apple\", \"orange\", \"banana\", \"strawberry\", \"raspberry\"],\n",
    "    }\n",
    ")\n",
    "\n",
    "right = pd.DataFrame(\n",
    "    {\n",
    "        \"ID\": [\"1\", \"1\", \"3\", \"5\"],\n",
    "        \"col_a\": [\"A0\", \"A1\", \"A2\", \"A3\"],\n",
    "        \"col_b\": [\"B0\", \"B1\", \"B2\", \"B3\"],\n",
    "        \"subject_id\": [\"apple\", \"orange\", \"banana\", \"kiwi\"],\n",
    "    }\n",
    ")\n",
    "\n",
    "display(left, right)"
   ]
  },
  {
   "cell_type": "code",
   "execution_count": null,
   "metadata": {},
   "outputs": [],
   "source": [
    "pd.merge(left, right)\n",
    "# вона є аналоічною до join в SQL\n",
    "# по замовчуванню використовується inner join\n",
    "# використовується спільний стовпчик subject_id\n",
    "# використовується спільний стовпчик ID\n",
    "# документація https://pandas.pydata.org/pandas-docs/stable/reference/api/pandas.DataFrame.merge.html"
   ]
  },
  {
   "cell_type": "code",
   "execution_count": null,
   "metadata": {},
   "outputs": [],
   "source": [
    "pd.merge(left, right, suffixes=(\"_l\", \"_r\"),\n",
    "         left_index=True, \n",
    "         right_index=True, \n",
    "         how =  'left') # вказуємо, по якому стовпчику ми хочемо зєднати\n",
    "\n",
    "# можна поєднати по індексу (left_index=True, right_index=True) і буде як concat \n",
    "# fле в проді так не роблять!"
   ]
  },
  {
   "cell_type": "code",
   "execution_count": null,
   "metadata": {},
   "outputs": [],
   "source": [
    "pd.merge(left, right, on=\"ID\")  # вказуємо, по якому стовпчику ми хочемо зєднати"
   ]
  },
  {
   "cell_type": "code",
   "execution_count": null,
   "metadata": {},
   "outputs": [],
   "source": [
    "pd.merge(\n",
    "    left, right, on=[\"ID\", \"subject_id\"]\n",
    ")  # вказуємо кілька стовпчиків, по яким ми хочемо зєднати "
   ]
  },
  {
   "cell_type": "code",
   "execution_count": null,
   "metadata": {},
   "outputs": [],
   "source": [
    "pd.merge(left, right, suffixes=(\"_l\", \"_r\"), how=\"left\", left_on=\"ID\", right_on=\"ID\") \n",
    "# вказуємо поля для лівої і правої таблиць окремо\n",
    "# вказуємо cуфікси для стовпчиків, які збігаються"
   ]
  },
  {
   "cell_type": "code",
   "execution_count": null,
   "metadata": {},
   "outputs": [],
   "source": [
    "# додаємо тип з'єднання\n",
    "pd.merge(left, right, on=[\"ID\", \"subject_id\"], how=\"left\")"
   ]
  },
  {
   "cell_type": "code",
   "execution_count": null,
   "metadata": {},
   "outputs": [],
   "source": [
    "# додаємо тип з'єднання\n",
    "pd.merge(left, right, on=[\"ID\", \"subject_id\"], how=\"outer\")"
   ]
  },
  {
   "cell_type": "code",
   "execution_count": null,
   "metadata": {},
   "outputs": [],
   "source": [
    "pd.merge(left, right, on=[\"ID\", \"subject_id\"], how=\"outer\", indicator=True) # додаємо індикатор, який показує, звідки взялися дані\n",
    "# Трішки бонуса, щоб спростити собі життя в майбутньому"
   ]
  },
  {
   "cell_type": "markdown",
   "metadata": {},
   "source": [
    "### pd.join"
   ]
  },
  {
   "cell_type": "code",
   "execution_count": null,
   "metadata": {},
   "outputs": [],
   "source": [
    "left.join(right, lsuffix=\"_l\", rsuffix=\"_r\")\n",
    "# Метод dataFrame, a не функція pandas\n",
    "# join робить те саме що і merge, але простенький \n",
    "# https://pandas.pydata.org/pandas-docs/stable/reference/api/pandas.DataFrame.join.html\n",
    "\n",
    "# join - це просто merge по індексу\n",
    "# merge - це join по індексу або по стовпчику, або по кількох стовпчиках = any key, more flexible"
   ]
  },
  {
   "cell_type": "code",
   "execution_count": null,
   "metadata": {},
   "outputs": [],
   "source": [
    "left.join(right,  how=\"inner\", lsuffix=\"_l\", rsuffix=\"_r\")\n",
    "\n",
    "# внутрішнє зєднання"
   ]
  },
  {
   "cell_type": "markdown",
   "metadata": {},
   "source": [
    "# Зведені таблиці"
   ]
  },
  {
   "cell_type": "code",
   "execution_count": null,
   "metadata": {},
   "outputs": [],
   "source": [
    "df = pd.read_csv('survey_results_public.csv')\n",
    "df.head(5)\n",
    "\n",
    "#завантажимо вже знайомий датасет з опитування StackOverflow"
   ]
  },
  {
   "cell_type": "code",
   "execution_count": null,
   "metadata": {},
   "outputs": [],
   "source": [
    "# будувати зведені таблиці краще за все поступово: від простих до більш складних операцій\n",
    "# > 100 MB Excel не відкриє, але pandas може працювати з файлами > 1 GB\n",
    "\n",
    "# pivot_table(data, \n",
    "#             values = None, \n",
    "#             index = None, \n",
    "#             columns = None, \n",
    "#             aggfunc = 'mean', \n",
    "#             fill_value = None, \n",
    "#             margins = False, \n",
    "#             dropna = True, \n",
    "#             margins_name = 'All')"
   ]
  },
  {
   "cell_type": "code",
   "execution_count": null,
   "metadata": {},
   "outputs": [],
   "source": [
    "df.head(5)"
   ]
  },
  {
   "cell_type": "code",
   "execution_count": null,
   "metadata": {},
   "outputs": [],
   "source": [
    "df.columns"
   ]
  },
  {
   "cell_type": "code",
   "execution_count": null,
   "metadata": {},
   "outputs": [],
   "source": [
    "df.pivot_table(index=\"Industry\", aggfunc=\"count\").head(5)"
   ]
  },
  {
   "cell_type": "code",
   "execution_count": null,
   "metadata": {},
   "outputs": [],
   "source": [
    "# виведемо числові колонки\n",
    "df.describe()"
   ]
  },
  {
   "cell_type": "code",
   "execution_count": null,
   "metadata": {},
   "outputs": [],
   "source": [
    "df[[\"Industry\", \"CompTotal\", \"WorkExp\"]].pivot_table(index=\"Industry\")"
   ]
  },
  {
   "cell_type": "code",
   "execution_count": null,
   "metadata": {},
   "outputs": [],
   "source": [
    "df[[\"Industry\", \"CompTotal\", \"WorkExp\"]].pivot_table(index=\"Industry\", aggfunc=\"mean\" )"
   ]
  },
  {
   "cell_type": "code",
   "execution_count": null,
   "metadata": {},
   "outputs": [],
   "source": [
    "df[[\"Industry\", 'Country', \"CompTotal\", \"WorkExp\"]].pivot_table(index=[\"Industry\",'Country'], aggfunc=\"mean\")"
   ]
  },
  {
   "cell_type": "code",
   "execution_count": null,
   "metadata": {},
   "outputs": [],
   "source": [
    "df[[\"Industry\", \"Country\", \"CompTotal\", \"WorkExp\"]].pivot_table(\n",
    "    index=[\"Industry\", \"Country\"], aggfunc=\"mean\"\n",
    ").to_clipboard()"
   ]
  },
  {
   "cell_type": "code",
   "execution_count": null,
   "metadata": {},
   "outputs": [],
   "source": [
    "df[[\"Industry\", \"Country\", \"CompTotal\", \"WorkExp\"]].pivot_table(\n",
    "    index=[\"Industry\", \"Country\"], aggfunc=\"median\"\n",
    ")"
   ]
  },
  {
   "cell_type": "code",
   "execution_count": null,
   "metadata": {},
   "outputs": [],
   "source": [
    "df[[\"Industry\", \"Country\", \"CompTotal\", \"WorkExp\"]].pivot_table(\n",
    "    index=[\"Industry\", \"Country\"], aggfunc=\"sum\"\n",
    ")"
   ]
  },
  {
   "cell_type": "code",
   "execution_count": null,
   "metadata": {},
   "outputs": [],
   "source": [
    "df[[\"Industry\", \"Country\", \"CompTotal\", \"WorkExp\"]].pivot_table(\n",
    "    index=[\"Industry\", \"Country\"], aggfunc=['mean', 'median']\n",
    ")"
   ]
  },
  {
   "cell_type": "code",
   "execution_count": null,
   "metadata": {},
   "outputs": [],
   "source": [
    "df.pivot_table(index=\"Industry\", values=\"ConvertedCompYearly\", aggfunc=\"mean\").head(5)"
   ]
  },
  {
   "cell_type": "code",
   "execution_count": null,
   "metadata": {},
   "outputs": [],
   "source": [
    "mask = df[\"Country\"].isin([\"Ukraine\", \"Poland\", \"USA\", \"Germany\", \"France\", \"Canada\", \"Australia\", 'Afghanistan'])\n",
    "df[mask].pivot_table(\n",
    "    index=\"Industry\", values=\"ConvertedCompYearly\", columns=\"Country\", aggfunc=\"mean\", #fill_value=0\n",
    ").head(5)"
   ]
  },
  {
   "cell_type": "code",
   "execution_count": null,
   "metadata": {},
   "outputs": [],
   "source": [
    "mask = df[\"Country\"].isin(\n",
    "    [\n",
    "        \"Ukraine\",\n",
    "        \"Poland\",\n",
    "        \"USA\",\n",
    "        \"Germany\",\n",
    "        \"France\",\n",
    "        \"Canada\",\n",
    "        \"Australia\",\n",
    "        \"Afghanistan\",\n",
    "    ]\n",
    ")\n",
    "df[mask].pivot_table(\n",
    "    index=\"Industry\",\n",
    "    values=\"ConvertedCompYearly\",\n",
    "    columns=\"Country\",\n",
    "    aggfunc=\"mean\",  \n",
    "    fill_value=0,\n",
    "    margins=True, # додаємо рядок зі зведеними даними\n",
    ").head(5)"
   ]
  },
  {
   "cell_type": "code",
   "execution_count": null,
   "metadata": {},
   "outputs": [],
   "source": [
    "# ключами що хочемо рахувати \n",
    "mask = df[\"Country\"].isin(\n",
    "    [\n",
    "        \"Ukraine\",\n",
    "        \"Poland\",\n",
    "        \"USA\",\n",
    "        \"Germany\",\n",
    "        \"France\",\n",
    "        \"Canada\",\n",
    "        \"Australia\",\n",
    "        \"Afghanistan\",\n",
    "    ]\n",
    ")\n",
    "#table = \n",
    "df[mask].pivot_table(\n",
    "    index=\"Industry\",\n",
    "    values=[\"ConvertedCompYearly\", \"WorkExp\"],\n",
    "    columns=\"Country\",\n",
    "    aggfunc={\"ConvertedCompYearly\": [\"mean\", \"median\"], \"WorkExp\": \"mean\"},\n",
    "    fill_value=0,\n",
    ").head(5)"
   ]
  },
  {
   "cell_type": "code",
   "execution_count": null,
   "metadata": {},
   "outputs": [],
   "source": [
    "columns = [\"ConvertedCompYearly\", \"WorkExp\"]"
   ]
  },
  {
   "cell_type": "code",
   "execution_count": null,
   "metadata": {},
   "outputs": [],
   "source": [
    "table.columns"
   ]
  },
  {
   "cell_type": "code",
   "execution_count": null,
   "metadata": {},
   "outputs": [],
   "source": [
    "table.columns.to_flat_index() # перетворюємо в один рівень"
   ]
  },
  {
   "cell_type": "code",
   "execution_count": null,
   "metadata": {},
   "outputs": [],
   "source": [
    "columns = [\"_\".join(col).strip() for col in table.columns.to_flat_index()]\n",
    "columns"
   ]
  },
  {
   "cell_type": "code",
   "execution_count": null,
   "metadata": {},
   "outputs": [],
   "source": [
    "table.columns = columns"
   ]
  },
  {
   "cell_type": "code",
   "execution_count": null,
   "metadata": {},
   "outputs": [],
   "source": [
    "table.head(5)"
   ]
  },
  {
   "cell_type": "code",
   "execution_count": null,
   "metadata": {},
   "outputs": [],
   "source": [
    "dfp = df.pivot_table(index=\"Industry\", columns = 'RemoteWork', values=\"ConvertedCompYearly\", aggfunc=\"mean\")\n",
    "sns.heatmap(dfp, annot=True, fmt=\".1f\", linewidths=0.5, cmap=\"YlGnBu\")"
   ]
  },
  {
   "cell_type": "markdown",
   "metadata": {},
   "source": [
    "# Lambda - функції та метод apply()"
   ]
  },
  {
   "cell_type": "code",
   "execution_count": null,
   "metadata": {},
   "outputs": [],
   "source": [
    "dfp[\"Remote\"]\n",
    "\n",
    "# якщо ми використовуємо агрегацію mean, то за замовчуванням ми отримуємо не округлені числа з dtype: float64\n",
    "# що ми можемо зробити інакше, якщо нам треба, наприклад, експортувати дані з 2 знаками після коми?"
   ]
  },
  {
   "cell_type": "code",
   "execution_count": null,
   "metadata": {},
   "outputs": [],
   "source": [
    "# dfp = df.pivot_table(\n",
    "#     index=\"Industry\", columns=\"RemoteWork\", values=\"ConvertedCompYearly\", aggfunc=np.round(np.mean,2)\n",
    "# )\n",
    "\n",
    "\n",
    "# і ми не можемо використати як аргумент одразу кілька функцій"
   ]
  },
  {
   "cell_type": "code",
   "execution_count": null,
   "metadata": {},
   "outputs": [],
   "source": [
    "def round_mean(x):\n",
    "    return np.round(np.mean(x), 2)  # округлюємо до 2 знаків після коми"
   ]
  },
  {
   "cell_type": "code",
   "execution_count": null,
   "metadata": {},
   "outputs": [],
   "source": [
    "dfp = df.pivot_table(\n",
    "    index=\"Industry\",\n",
    "    columns=\"RemoteWork\",\n",
    "    values=\"ConvertedCompYearly\",\n",
    "    aggfunc=round_mean,\n",
    ")"
   ]
  },
  {
   "cell_type": "code",
   "execution_count": null,
   "metadata": {},
   "outputs": [],
   "source": [
    "dfp.head(5)"
   ]
  },
  {
   "cell_type": "code",
   "execution_count": null,
   "metadata": {},
   "outputs": [],
   "source": [
    "lambda_round_mean = lambda x: np.round(np.mean(x), 2)  # округлюємо до 2 знаків після коми"
   ]
  },
  {
   "cell_type": "code",
   "execution_count": null,
   "metadata": {},
   "outputs": [],
   "source": [
    "dfp = df.pivot_table(\n",
    "    index=\"Industry\",\n",
    "    columns=\"RemoteWork\",\n",
    "    values=\"ConvertedCompYearly\",\n",
    "    aggfunc=lambda_round_mean,\n",
    ")\n",
    "\n",
    "# ми можемо використати lambda-функцію за спрощеним синтаксисом"
   ]
  },
  {
   "cell_type": "code",
   "execution_count": null,
   "metadata": {},
   "outputs": [],
   "source": [
    "dfp = df.pivot_table(\n",
    "    index=\"Industry\",\n",
    "    columns=\"RemoteWork\",\n",
    "    values=\"ConvertedCompYearly\",\n",
    "    aggfunc=lambda x: np.round(np.mean(x), 2),\n",
    ")\n",
    "\n",
    "dfp.head(5)\n",
    "\n",
    "# але вона нам треба тільки один раз, тому ми можемо використати анонімну функцію вказавши прямо на місці значення відповідного аргументу"
   ]
  },
  {
   "cell_type": "code",
   "execution_count": null,
   "metadata": {},
   "outputs": [],
   "source": [
    "# А що робити якщо ми маэмо вже створену не округлену таблицю?\n"
   ]
  },
  {
   "cell_type": "code",
   "execution_count": null,
   "metadata": {},
   "outputs": [],
   "source": [
    "dfp = df.pivot_table(\n",
    "    index=\"Industry\",\n",
    "    columns=\"RemoteWork\",\n",
    "    values=\"ConvertedCompYearly\",\n",
    "    aggfunc='mean',\n",
    ")\n",
    "\n",
    "dfp.head(5)"
   ]
  },
  {
   "cell_type": "code",
   "execution_count": null,
   "metadata": {},
   "outputs": [],
   "source": [
    "dfp['Remote'].apply(lambda x: np.round(x, 2)).head(5)"
   ]
  },
  {
   "cell_type": "code",
   "execution_count": null,
   "metadata": {},
   "outputs": [],
   "source": [
    "dfp[['Hybrid (some remote, some in-person)','In-person','Remote']].apply(lambda x: np.round(x, 2)).head(5)\n",
    "\n",
    "# застосувати до декількох конкретиних стовпчиків"
   ]
  },
  {
   "cell_type": "code",
   "execution_count": null,
   "metadata": {},
   "outputs": [],
   "source": [
    "dfp[[\"Hybrid (some remote, some in-person)\", \"In-person\", \"Remote\"]].apply(lambda x: np.round(x, 2))"
   ]
  },
  {
   "cell_type": "markdown",
   "metadata": {},
   "source": [
    "# Робота з датами та часом"
   ]
  },
  {
   "cell_type": "markdown",
   "metadata": {},
   "source": [
    "https://github.com/devua/csv/tree/master/salaries\n",
    "Зимове опитування обіцяють надати тільки в понеділок((  https://dou.ua/lenta/sitenews/winter-survey-2023/ "
   ]
  },
  {
   "cell_type": "code",
   "execution_count": null,
   "metadata": {},
   "outputs": [],
   "source": [
    "df = pd.read_csv('2023_june_raw.csv', sep = ';')\n",
    "df.head(5)"
   ]
  },
  {
   "cell_type": "code",
   "execution_count": null,
   "metadata": {},
   "outputs": [],
   "source": [
    "df.info()"
   ]
  },
  {
   "cell_type": "code",
   "execution_count": null,
   "metadata": {},
   "outputs": [],
   "source": [
    "df[\"Timestamp\"]\n",
    "\n",
    "# поле з датою, за замовчуванням, має тип \"object\""
   ]
  },
  {
   "cell_type": "code",
   "execution_count": null,
   "metadata": {},
   "outputs": [],
   "source": [
    "#df[\"Timestamp\"].dt.day_name()\n",
    "\n",
    "# на поле такого типу ми не можемо застосувати методи, які доступні для типу \"datetime\""
   ]
  },
  {
   "cell_type": "code",
   "execution_count": null,
   "metadata": {},
   "outputs": [],
   "source": [
    "# ми можемо конвертувати поле в тип \"datetime\" за допомогою методу to_datetime\n",
    "\n",
    "df[\"Timestamp\"] = pd.to_datetime(df[\"Timestamp\"])"
   ]
  },
  {
   "cell_type": "code",
   "execution_count": null,
   "metadata": {},
   "outputs": [],
   "source": [
    "df[\"Timestamp\"].dt.day_name()"
   ]
  },
  {
   "cell_type": "code",
   "execution_count": null,
   "metadata": {},
   "outputs": [],
   "source": [
    "# також можна вказати поля з датами і часом при читанні файлу\n",
    "\n",
    "df = pd.read_csv('2023_june_raw.csv', sep = ';', parse_dates=['Timestamp'])\n",
    "df.info()"
   ]
  },
  {
   "cell_type": "code",
   "execution_count": null,
   "metadata": {},
   "outputs": [],
   "source": [
    "df['Timestamp'].dt.day_name()"
   ]
  },
  {
   "cell_type": "code",
   "execution_count": null,
   "metadata": {},
   "outputs": [],
   "source": [
    "df[\"Timestamp\"].dt.year"
   ]
  },
  {
   "cell_type": "code",
   "execution_count": null,
   "metadata": {},
   "outputs": [],
   "source": [
    "df[\"Timestamp\"].dt.days_in_month"
   ]
  },
  {
   "cell_type": "code",
   "execution_count": null,
   "metadata": {},
   "outputs": [],
   "source": [
    "# перевіримо коли відбулося перше та останне заповнення опитування\n",
    "\n",
    "print(df[\"Timestamp\"].min())\n",
    "print(df[\"Timestamp\"].max())"
   ]
  },
  {
   "cell_type": "code",
   "execution_count": null,
   "metadata": {},
   "outputs": [],
   "source": [
    "df_filter = (df[\"Timestamp\"] >= pd.to_datetime(\"2023-06-01\")) & (df[\"Timestamp\"] <= pd.to_datetime(\"2023-06-16\"))\n",
    "df.loc[df_filter].head(2)\n",
    "\n",
    "# відфільтруємо лише тих, хто заповнив опитування в першій половині червня 2023 року"
   ]
  },
  {
   "cell_type": "code",
   "execution_count": null,
   "metadata": {},
   "outputs": [],
   "source": [
    "df.index"
   ]
  },
  {
   "cell_type": "code",
   "execution_count": null,
   "metadata": {},
   "outputs": [],
   "source": [
    "df = df.set_index(\"Timestamp\")\n",
    "df.head(5)\n",
    "\n",
    "# Дату та час можна використовувати як індекс"
   ]
  },
  {
   "cell_type": "code",
   "execution_count": null,
   "metadata": {},
   "outputs": [],
   "source": []
  },
  {
   "cell_type": "code",
   "execution_count": null,
   "metadata": {},
   "outputs": [],
   "source": []
  },
  {
   "cell_type": "code",
   "execution_count": null,
   "metadata": {},
   "outputs": [],
   "source": []
  },
  {
   "cell_type": "code",
   "execution_count": null,
   "metadata": {},
   "outputs": [],
   "source": []
  }
 ],
 "metadata": {
  "kernelspec": {
   "display_name": "Python 3",
   "language": "python",
   "name": "python3"
  },
  "language_info": {
   "codemirror_mode": {
    "name": "ipython",
    "version": 3
   },
   "file_extension": ".py",
   "mimetype": "text/x-python",
   "name": "python",
   "nbconvert_exporter": "python",
   "pygments_lexer": "ipython3",
   "version": "3.10.12"
  }
 },
 "nbformat": 4,
 "nbformat_minor": 2
}
