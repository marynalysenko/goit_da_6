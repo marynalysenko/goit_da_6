{
 "cells": [
  {
   "cell_type": "markdown",
   "id": "c974bc6e",
   "metadata": {},
   "source": [
    "# Lesson 2\n",
    "## Робота з даними"
   ]
  },
  {
   "cell_type": "code",
   "execution_count": 1,
   "id": "63e56d06",
   "metadata": {},
   "outputs": [],
   "source": [
    "# задаємо список\n",
    "['a', 17, 35.77, [1, 2, 3], True, None]"
   ]
  },
  {
   "cell_type": "code",
   "execution_count": 2,
   "id": "049cbad4",
   "metadata": {},
   "outputs": [],
   "source": [
    "# присвоюємо список іншій змінній\n",
    "l = ['a', 17, 35.77, [1, 2, 3], True, None]"
   ]
  },
  {
   "cell_type": "code",
   "execution_count": 3,
   "id": "b9ab380e",
   "metadata": {},
   "outputs": [],
   "source": [
    "# звертаємось до значення за індексом (що в середині списку на третьому місці?) \n",
    "# індексація з 0!\n",
    "l[3]"
   ]
  },
  {
   "cell_type": "code",
   "execution_count": 4,
   "id": "f2ad4abd",
   "metadata": {},
   "outputs": [],
   "source": [
    "#звертатись можемо і по змінній\n",
    "i = 4\n",
    "l[4]"
   ]
  },
  {
   "cell_type": "code",
   "execution_count": 5,
   "id": "d2016014",
   "metadata": {},
   "outputs": [],
   "source": [
    "# додати елемент в кінець списку\n",
    "l.append(12)\n",
    "l"
   ]
  },
  {
   "cell_type": "code",
   "execution_count": 6,
   "id": "63c61d6f",
   "metadata": {},
   "outputs": [],
   "source": [
    "#додавати теж можемо змінні\n",
    "k = 5\n",
    "l.append(k)\n",
    "l"
   ]
  },
  {
   "cell_type": "code",
   "execution_count": 7,
   "id": "42f9f254",
   "metadata": {},
   "outputs": [],
   "source": [
    "# змінити значення певного елементу\n",
    "l[0] = i \n",
    "l"
   ]
  },
  {
   "cell_type": "markdown",
   "id": "f62afb75",
   "metadata": {},
   "source": [
    "#### Чим відрізняється метод від ф-ції?\n",
    "Ф-ція \n",
    "i = float('3.14') # перетворює з іншим типом данних в флоат\n",
    "Функція є незалежним блоком коду, який виконує певну операцію або обчислення.\n",
    "Функції можуть приймати вхідні дані (аргументи) і повертати результат.\n",
    "Функції в Python можна визначити за допомогою ключового слова def.\n",
    "Функції не залежать від об'єкта або класу. Вони можуть бути викликані самостійно.\n",
    "\n",
    "Метод - це функція, яка визначена в межах класу і пов'язана з об'єктом цього класу.\n",
    "Методи викликаються для конкретного об'єкта і можуть взаємодіяти з його атрибутами (станом).\n",
    "Методи зазвичай використовують дані об'єкта, до якого вони застосовуються.\n",
    "Виклик методу зазвичай виглядає як object.method().\n",
    "\n",
    "Отже, головна відмінність полягає в тому, що функції є незалежними та можуть використовуватися самостійно, тоді як методи завжди асоційовані з об'єктами класів та часто використовують або змінюють стан цих об'єктів."
   ]
  },
  {
   "cell_type": "code",
   "execution_count": 8,
   "id": "e18779a4",
   "metadata": {},
   "outputs": [],
   "source": [
    "#Вставити елемент, з якимось значенням x, на позицію з індексом i my_list.insert(i, x)\n",
    "l.insert(0,i)\n",
    "l"
   ]
  },
  {
   "cell_type": "code",
   "execution_count": 9,
   "id": "5bff6925",
   "metadata": {},
   "outputs": [],
   "source": [
    "# склеїти два списки\n",
    "m = [1, 2]\n",
    "\n",
    "l.extend(m)\n",
    "print(l) "
   ]
  },
  {
   "cell_type": "code",
   "execution_count": 10,
   "id": "be5862c7",
   "metadata": {},
   "outputs": [],
   "source": [
    "l"
   ]
  },
  {
   "cell_type": "code",
   "execution_count": 11,
   "id": "d9e9b8fc",
   "metadata": {},
   "outputs": [],
   "source": [
    "# те ж саме робить l = l+m"
   ]
  },
  {
   "cell_type": "code",
   "execution_count": 12,
   "id": "ba4e5f01",
   "metadata": {},
   "outputs": [],
   "source": [
    "# можемо видалити елемент за номером\n",
    "l.pop(3)\n",
    "l\n"
   ]
  },
  {
   "cell_type": "code",
   "execution_count": 13,
   "id": "e83d6d2b",
   "metadata": {},
   "outputs": [],
   "source": [
    "#Знайти індекс першого елемента у списку, що дорівнює якомусь значенню x: index = my_list.index(x)\n",
    "\n",
    "c_ind = l.index(17) \n",
    "print(c_ind) "
   ]
  },
  {
   "cell_type": "code",
   "execution_count": 14,
   "id": "25de8518",
   "metadata": {},
   "outputs": [],
   "source": [
    "# Повернути кількість елементів у списку, що дорівнюють якомусь значенню x: x_number = my_list.count(x)\n",
    "\n",
    "counter_4 = l.count(4)\n",
    "print(counter_4) "
   ]
  },
  {
   "cell_type": "markdown",
   "id": "ad75f515",
   "metadata": {},
   "source": [
    "Юзкейси: Коли вам потрібно зберігати колекцію елементів, яка може змінюватися (модифікуватися).\n",
    "Приклади:\n",
    "Зберігання послідовності елементів, що часто змінюються, наприклад, список завдань або динамічний набір даних.\n",
    "Зберігання елементів для подальшої ітерації або сортування."
   ]
  },
  {
   "cell_type": "markdown",
   "id": "0356c87a",
   "metadata": {},
   "source": [
    "## Кортежі\n"
   ]
  },
  {
   "cell_type": "code",
   "execution_count": 15,
   "id": "381cdc28",
   "metadata": {},
   "outputs": [],
   "source": [
    "l = ('a', 17, 35.77, [1, 2, 3], True, None)"
   ]
  },
  {
   "cell_type": "code",
   "execution_count": 16,
   "id": "13281d0a",
   "metadata": {},
   "outputs": [],
   "source": [
    "#Доступ до елементів кортежу відбувається за індексом за допомогою синтаксису квадратних дужок:\n",
    "l[0]\n"
   ]
  },
  {
   "cell_type": "markdown",
   "id": "0d7e4685",
   "metadata": {},
   "source": [
    "Кортежі (Tuples):\n",
    "\n",
    "Юзкейси: Коли вам потрібно зберігати колекцію елементів, яка не повинна змінюватися (незмінна).\n",
    "Приклади:\n",
    "Зберігання координат або інших наборів даних, де порядок та незмінність є важливими.\n",
    "Використання як ключів у словниках, оскільки кортежі можуть виступати в якості ключів (на відміну від списків)."
   ]
  },
  {
   "cell_type": "markdown",
   "id": "f0dfcfbe",
   "metadata": {},
   "source": [
    "## Множини \n"
   ]
  },
  {
   "cell_type": "code",
   "execution_count": 17,
   "id": "d1a21ed8",
   "metadata": {},
   "outputs": [],
   "source": [
    "#відмінність - невпорядкована\n",
    "#можемо додавати\n",
    "#немає індексів\n",
    "#кожен елемент має бути унікальним\n",
    "\n",
    "s = {'a', 17, 35.77, True, None}\n",
    "s"
   ]
  },
  {
   "cell_type": "code",
   "execution_count": 18,
   "id": "bbc6e4f4",
   "metadata": {},
   "outputs": [],
   "source": [
    "s.add('b') #новий додати можемо"
   ]
  },
  {
   "cell_type": "code",
   "execution_count": 19,
   "id": "df9fe6b9",
   "metadata": {},
   "outputs": [],
   "source": [
    "s.add('a') #для вже існуючого склад не зміниться (бо мають бути унікальними всі елементи)"
   ]
  },
  {
   "cell_type": "code",
   "execution_count": 20,
   "id": "f25b6527",
   "metadata": {},
   "outputs": [],
   "source": [
    "# можемо додавати множиеу\n",
    "s = {'a', 17, 35.77, True, None}\n",
    "s2 = {5,6,7,8}\n",
    "s.update(s2)\n",
    "s"
   ]
  },
  {
   "cell_type": "code",
   "execution_count": 21,
   "id": "267e736a",
   "metadata": {},
   "outputs": [],
   "source": [
    "# не працює додавання через + а працює |\n",
    "s = {'a', 17, 35.77, True, None}\n",
    "s2 = {5,6,7,8}\n",
    "s = s | s2\n",
    "s"
   ]
  },
  {
   "cell_type": "code",
   "execution_count": 22,
   "id": "36af58ae",
   "metadata": {},
   "outputs": [],
   "source": [
    "#remove(elem) — видаляє елемент з множини, викликає виняток, якщо такого елементу немає\n",
    "s.remove(17)\n",
    "s"
   ]
  },
  {
   "cell_type": "code",
   "execution_count": 23,
   "id": "449cfbc1",
   "metadata": {},
   "outputs": [],
   "source": [
    "#discard(elem) — видаляє елемент з множини і не викликає виняток, якщо його немає\n",
    "s.discard(7)\n",
    "s"
   ]
  },
  {
   "cell_type": "markdown",
   "id": "a3b0a8c4",
   "metadata": {},
   "source": [
    "Множини (Sets):\n",
    "\n",
    "Юзкейси: Коли вам потрібно зберігати унікальні елементи і вам важлива швидкість перевірки на наявність.\n",
    "Приклади:\n",
    "Видалення дублікатів з послідовності даних.\n",
    "Перевірка на наявність елемента в колекції, оскільки множини оптимізовані для швидкого пошуку."
   ]
  },
  {
   "cell_type": "markdown",
   "id": "43a77427",
   "metadata": {},
   "source": [
    "## Словники"
   ]
  },
  {
   "cell_type": "markdown",
   "id": "90c12c20",
   "metadata": {},
   "source": [
    "те як в пайтоні реалізований формат зберігання майже як json\n",
    "вони є множиною ключів і значень\n",
    "-ключем може бути будь яке імя (але не список)\n",
    "-значенням може бути будь яке (навіть ще один словник - будь яка вкладеність)\n",
    " ключі мають бути унікальними (ключі є множина)"
   ]
  },
  {
   "cell_type": "code",
   "execution_count": 24,
   "id": "6cded08d",
   "metadata": {},
   "outputs": [],
   "source": [
    "d = {\n",
    "        \"key\": \"value\", \n",
    "        1: \"one\",\n",
    "}\n",
    "d"
   ]
  },
  {
   "cell_type": "code",
   "execution_count": 25,
   "id": "40be786d",
   "metadata": {},
   "outputs": [],
   "source": [
    "client_info = {\n",
    "    \"name\": \"Andriy\",\n",
    "    \"age\": 30,\n",
    "    \"address\": {\n",
    "        \"street\": \"Hlova Street, 10\",\n",
    "        \"city\": \"Kyiv\",\n",
    "        \"country\": \"Ukraine\"\n",
    "    },\n",
    "    \"email\": \"andriy@example.com\",\n",
    "    \"phone\": \"+380123456789\",\n",
    "    \"orders\": [{  \n",
    "                  'id':1,\n",
    "                  'item_id':55\n",
    "                },\n",
    "               {\n",
    "                   'id':2,\n",
    "                   'item_id':57\n",
    "               },\n",
    "              ]\n",
    "}\n",
    "client_info\n",
    "#часто будете працювати якщо дані з API, але частіше будуть дата інженери так отримувати дані"
   ]
  },
  {
   "cell_type": "code",
   "execution_count": 26,
   "id": "63e6909f",
   "metadata": {},
   "outputs": [],
   "source": [
    "client_info['address']['street']"
   ]
  },
  {
   "cell_type": "code",
   "execution_count": 27,
   "id": "f413165b",
   "metadata": {},
   "outputs": [],
   "source": [
    "client_info['orders']"
   ]
  },
  {
   "cell_type": "code",
   "execution_count": 28,
   "id": "699014df",
   "metadata": {},
   "outputs": [],
   "source": [
    "# Метод pop(key) — повертає значення елементу і видаляє пару ключ-значення зі словника\n"
   ]
  },
  {
   "cell_type": "code",
   "execution_count": 29,
   "id": "ee136f26",
   "metadata": {},
   "outputs": [],
   "source": [
    "client_info2 = client_info.pop('phone')\n",
    "print(client_info2) \n",
    "print(client_info) "
   ]
  },
  {
   "cell_type": "code",
   "execution_count": 30,
   "id": "28f98751",
   "metadata": {},
   "outputs": [],
   "source": [
    "# Метод update(another_dict) — розширює словник значеннями з іншого словника\n",
    "client_info.update({\"social_status\": 'worker'})\n",
    "print(client_info) "
   ]
  },
  {
   "cell_type": "code",
   "execution_count": 31,
   "id": "68033127",
   "metadata": {},
   "outputs": [],
   "source": [
    "#Метод get(key[, default]) — не викликає виключення, якщо ключа немає в словнику, повертає default, за замовчуванням default=None.\n",
    "\n",
    "d.get('gender','unknown')"
   ]
  },
  {
   "cell_type": "code",
   "execution_count": 32,
   "id": "7492e7ac",
   "metadata": {},
   "outputs": [],
   "source": [
    "#додати ключ\n",
    "d['gender'] = 'f'"
   ]
  },
  {
   "cell_type": "code",
   "execution_count": 33,
   "id": "2dd2e667",
   "metadata": {},
   "outputs": [],
   "source": [
    "d2 = { 'mom_name': 'Marie',\n",
    "       'mom_age': 55}\n",
    "\n",
    "d.update(d2)\n",
    "d"
   ]
  },
  {
   "cell_type": "markdown",
   "id": "3c8c40b1",
   "metadata": {},
   "source": [
    "Юзкейси: Коли вам потрібно зберігати дані у вигляді пар ключ-значення, де кожен ключ унікальний.\n",
    "Приклади:\n",
    "Зберігання та доступ до даних за допомогою унікальних ідентифікаторів, наприклад, зберігання інформації про співробітників, де ключем є ID співробітника.\n",
    "Реалізація структур даних, таких як кеші або асоціативні масиви, де швидкий доступ до елемента за ключем є критично важливим."
   ]
  },
  {
   "cell_type": "markdown",
   "id": "a9eb5dce",
   "metadata": {},
   "source": [
    "# Цикл"
   ]
  },
  {
   "cell_type": "code",
   "execution_count": 34,
   "id": "6efc2419",
   "metadata": {},
   "outputs": [],
   "source": [
    "# цикли дозволяють нам відтворювати один і той самий код кілька разів \n",
    "# проходитись по кожному елементу колекції"
   ]
  },
  {
   "cell_type": "code",
   "execution_count": 35,
   "id": "d914a0f5",
   "metadata": {},
   "outputs": [],
   "source": [
    "my_list = ['a', 17, 35.77, [1, 2, 3], True, None]\n",
    "for element in my_list:\n",
    "    print(element)"
   ]
  },
  {
   "cell_type": "code",
   "execution_count": 36,
   "id": "d1a62609",
   "metadata": {},
   "outputs": [],
   "source": [
    "# цикли можуть містити довільні інструкції\n",
    "my_list = [1,2,3,4]\n",
    "for element in my_list:\n",
    "    \n",
    "    print(element+5)\n"
   ]
  },
  {
   "cell_type": "code",
   "execution_count": 37,
   "id": "5e7f2c5e",
   "metadata": {},
   "outputs": [],
   "source": [
    "# порахувати суму всіх елементів\n",
    "\n",
    "# цикли можуть містити довільні інструкції\n",
    "my_list = [1,2,3,4]\n",
    "\n",
    "list_sum = 0 \n",
    "\n",
    "for element in my_list: #element існує тільки в середині циклу\n",
    "    list_sum += element\n",
    "    \n",
    "print(list_sum)    \n",
    "    "
   ]
  },
  {
   "cell_type": "code",
   "execution_count": 38,
   "id": "543c659a",
   "metadata": {},
   "outputs": [],
   "source": [
    "#цикл по словнику виведе ключі\n",
    "for element in client_info: #element існує тільки в середині циклу\n",
    "    print(element, client_info[element])"
   ]
  },
  {
   "cell_type": "code",
   "execution_count": 39,
   "id": "f3edf662",
   "metadata": {},
   "outputs": [],
   "source": [
    "#Ітеруючи за словником, ви перебираєте ключі словника. \n",
    "#Таку саму поведінку можна отримати, використовуючи метод keys, але так ви явно вкажете, що хочете перебрати ключі:\n",
    "\n",
    "for key in client_info.keys():\n",
    "    print(key)"
   ]
  },
  {
   "cell_type": "code",
   "execution_count": 40,
   "id": "dff713f9",
   "metadata": {},
   "outputs": [],
   "source": [
    "#Часто необхідно перебрати саме значення словника, для цього скористаємося методом values:\n",
    "\n",
    "\n",
    "for val in client_info.values():\n",
    "    print(val)"
   ]
  },
  {
   "cell_type": "code",
   "execution_count": 41,
   "id": "b81ada72",
   "metadata": {},
   "outputs": [],
   "source": [
    "#І переберемо пари ключ значення, використовуючи метод items. На кожній ітерації ми отримаємо пару (ключ, значення):\n",
    "\n",
    "\n",
    "for key, value in client_info.items():\n",
    "    print(key, value)"
   ]
  },
  {
   "cell_type": "markdown",
   "id": "8a8d7e14",
   "metadata": {},
   "source": [
    "# Робота з рядками\n"
   ]
  },
  {
   "cell_type": "code",
   "execution_count": 42,
   "id": "787e7e06",
   "metadata": {},
   "outputs": [],
   "source": [
    "print('Hello world!')\n",
    "print(\"Hello world!\")\n",
    "print('''Hello world!''')\n",
    "print(\"\"\"Hello world!\"\"\")"
   ]
  },
  {
   "cell_type": "code",
   "execution_count": 43,
   "id": "98094d0f",
   "metadata": {},
   "outputs": [],
   "source": [
    "print(\"He's tall!\")"
   ]
  },
  {
   "cell_type": "code",
   "execution_count": 44,
   "id": "c468b36f",
   "metadata": {},
   "outputs": [],
   "source": [
    "my_text = \"He's tall!\""
   ]
  },
  {
   "cell_type": "code",
   "execution_count": 45,
   "id": "8764eeed",
   "metadata": {},
   "outputs": [],
   "source": [
    "#по тексту можна ітеруватись\n",
    "my_text[1]\n",
    "\n",
    "#таким чином іноді рядок поводиться як список"
   ]
  },
  {
   "cell_type": "code",
   "execution_count": 46,
   "id": "ddf88535",
   "metadata": {},
   "outputs": [],
   "source": [
    "my_text = \"tall, young\""
   ]
  },
  {
   "cell_type": "code",
   "execution_count": 47,
   "id": "4ecf9379",
   "metadata": {},
   "outputs": [],
   "source": [
    "traits_list = my_text.split(', ')"
   ]
  },
  {
   "cell_type": "code",
   "execution_count": 48,
   "id": "b419a78f",
   "metadata": {},
   "outputs": [],
   "source": [
    "', '.join(traits_list) #можемо обєднати знов застосувавши джойн на роздільник"
   ]
  },
  {
   "cell_type": "code",
   "execution_count": 49,
   "id": "49ca3cf9",
   "metadata": {},
   "outputs": [],
   "source": [
    "# Важливо знати що ми можемо форматувати рядки"
   ]
  },
  {
   "cell_type": "code",
   "execution_count": 50,
   "id": "25286fdd",
   "metadata": {},
   "outputs": [],
   "source": [
    "name = 'John'\n",
    "age = 30\n",
    "\n",
    "print(f'Hello, {name}! You are {age} years old.')\n",
    "print('Hello, {}. You are {} years old.'.format(name, age)) #template (легко перепутати)\n",
    "print('Hello, {str_name}. You are {str_age} years old.'.format(str_name=name, str_age=age))\n"
   ]
  },
  {
   "cell_type": "markdown",
   "id": "3df79dbd",
   "metadata": {},
   "source": [
    "# Функції"
   ]
  },
  {
   "cell_type": "markdown",
   "id": "1eadb195",
   "metadata": {},
   "source": [
    "Функції - спосіб перевикористовувати код\n",
    "ми розглядали в сіквелі, що краще використовувати принцип не повторювати самих себе\n",
    "Функції – це фрагменти програми, які використовуються багато раз. Вони дозволяють дати ім'я певному блоку команд для того, щоб згодом запускати цей блок за вказаним ім'ям у будь-якому місці програми і скільки завгодно разів. Це називається викликом функції.\n",
    "\n"
   ]
  },
  {
   "cell_type": "markdown",
   "id": "e6c2af0c",
   "metadata": {},
   "source": [
    "Функції визначаються за допомогою зарезервованого слова def. Після цього слова вказується ім'я функції, за яким йде пара дужок, у яких можна вказати імена деяких змінних, та в кінці рядка ставиться двокрапка. Далі слідує блок команд, що складають функцію. На прикладі можна бачити, що насправді це дуже просто:\n",
    "\n"
   ]
  },
  {
   "cell_type": "code",
   "execution_count": 51,
   "id": "e511bb5e",
   "metadata": {},
   "outputs": [],
   "source": [
    "def foo():\n",
    "    print('i am foo!')\n",
    "    \n",
    "# виклик функції\n",
    "foo()  \n",
    "\n",
    "# ще один виклик функції\n",
    "foo()  "
   ]
  },
  {
   "cell_type": "markdown",
   "id": "d3327471",
   "metadata": {},
   "source": [
    "Параметри функції – це деякі вхідні дані, які ми можемо передати функції, щоб отримати результат, який відповідає виконанню функції з цими параметрами."
   ]
  },
  {
   "cell_type": "code",
   "execution_count": 52,
   "id": "c2bff026",
   "metadata": {},
   "outputs": [],
   "source": [
    "def foo(name):\n",
    "    print(f'Hi, {name}!')\n",
    "    \n",
    "# виклик функції\n",
    "foo(\"Marie\")  "
   ]
  },
  {
   "cell_type": "markdown",
   "id": "3a931570",
   "metadata": {},
   "source": [
    "Звернімо увагу на термінологію: \n",
    "імена, вказані при оголошенні функції (name), називаються параметрами, тоді як значення, які передаємо у функцію при її виклику (\"Marie\"), – аргументами."
   ]
  },
  {
   "cell_type": "markdown",
   "id": "49acfc93",
   "metadata": {},
   "source": [
    "### Повернення результату"
   ]
  },
  {
   "cell_type": "code",
   "execution_count": 53,
   "id": "ecea6e16",
   "metadata": {},
   "outputs": [],
   "source": [
    "# Є орієнтовні на дані і є поведінкові функції"
   ]
  },
  {
   "cell_type": "code",
   "execution_count": 54,
   "id": "d6eeb66e",
   "metadata": {},
   "outputs": [],
   "source": [
    "#Спочатку я створю приклад даних: список, де кожен елемент - це кортеж, що містить дату (як рядок) та об'єм продажів за цей день.\n",
    "\n",
    "sales_data = [\n",
    "    (\"2023-01-01\", 100),\n",
    "    (\"2023-01-02\", 120),\n",
    "    (\"2023-01-03\", 90),\n",
    "    (\"2023-01-04\", 110),\n",
    "    (\"2023-01-05\", 95)\n",
    "]\n",
    "\n",
    "def average_sales(data):\n",
    "    \"\"\"Обчислює середній об'єм продажів з переданих даних.\"\"\"\n",
    "    total_sales = sum(sale_amount for _, sale_amount in data)\n",
    "    number_of_days = len(data)\n",
    "    return total_sales / number_of_days\n",
    "\n",
    "# Використання функції\n",
    "avg_sales = average_sales(sales_data)\n",
    "print(f\"Середній об'єм продажів: {avg_sales}\")\n"
   ]
  },
  {
   "cell_type": "code",
   "execution_count": 55,
   "id": "71047a56",
   "metadata": {},
   "outputs": [],
   "source": [
    "# приклад поверінкової - просто щось зробити всередині"
   ]
  },
  {
   "cell_type": "code",
   "execution_count": 56,
   "id": "6d4dd600",
   "metadata": {},
   "outputs": [],
   "source": [
    "team = [\n",
    "    {\"name\": \"John\", \"age\": 20, \"number\": 1},\n",
    "    {\"name\": \"Mark\", \"age\": 33, \"number\": 3},\n",
    "    {\"name\": \"Cavin\", \"age\": 17, \"number\": 12},\n",
    "]\n",
    "\n",
    "def show_players(players):\n",
    "    print(\"Дані про гравців команди\")\n",
    "\n",
    "    for player in players:\n",
    "        # Форматування і виведення інформації про гравця\n",
    "        print(f\" номер = {player['number']}, ім'я = {player['name']}, вік гравця = {player['age']}\")\n",
    "\n",
    "# Викликаємо функцію з нашим списком гравців\n",
    "show_players(team)"
   ]
  },
  {
   "cell_type": "code",
   "execution_count": 57,
   "id": "ac036028",
   "metadata": {},
   "outputs": [],
   "source": [
    "def calculate_statistics(data, mean=True, median=False, std_dev=False):\n",
    "    result = {}\n",
    "    if mean:\n",
    "        result['mean'] = sum(data) / len(data)\n",
    "    if median:\n",
    "        sorted_data = sorted(data)\n",
    "        mid = len(data) // 2\n",
    "        result['median'] = (sorted_data[mid] if len(data) % 2 != 0 else (sorted_data[mid - 1] + sorted_data[mid]) / 2)\n",
    "    if std_dev:\n",
    "        mean_value = sum(data) / len(data)\n",
    "        result['std_dev'] = (sum((x - mean_value) ** 2 for x in data) / len(data)) ** 0.5\n",
    "    return result\n",
    "\n",
    "# Використання функції\n",
    "data = [1, 2, 3, 4, 5, 6, 7, 8, 9, 10]\n",
    "\n",
    "# Обчислення лише середнього та стандартного відхилення\n",
    "stats = calculate_statistics(data, median=False, std_dev=True)\n",
    "print(stats)\n",
    "\n",
    "\n",
    "stats = calculate_statistics(data)\n",
    "print(stats)\n",
    "\n",
    "stats = calculate_statistics(data, median=True)\n",
    "print(stats)\n",
    "\n",
    "\n",
    "#Значеннями за замовчуванням можуть бути забезпечені тільки параметри, що знаходяться у кінці списку параметрів. \n",
    "#Таким чином, у списку параметрів функції параметр зі значенням за замовчуванням не може передувати \n",
    "#параметру без значення за замовчуванням. \n",
    "#Це пов'язано з тим, що значення надаються параметрам відповідно до їх положення!!! "
   ]
  },
  {
   "cell_type": "markdown",
   "id": "4b464dec",
   "metadata": {},
   "source": [
    "## Змінна кількість параметрів функції"
   ]
  },
  {
   "cell_type": "markdown",
   "id": "0c4f58c6",
   "metadata": {},
   "source": [
    "Іноді буває необхідно визначити функцію, здатну приймати будь-яку кількість параметрів. Цього можна досягти за допомогою зірочок:"
   ]
  },
  {
   "cell_type": "code",
   "execution_count": 58,
   "id": "5cb16c03",
   "metadata": {},
   "outputs": [],
   "source": [
    "# позиційні (ключові) і резинові аргументи\n"
   ]
  },
  {
   "cell_type": "markdown",
   "id": "a8f42d26",
   "metadata": {},
   "source": [
    "#### Одна зірочка (*args):\n",
    "\n",
    "Використовується для збору додаткових позиційних аргументів, які не відповідають жодному з іменованих параметрів функції.\n",
    "Ці аргументи збираються в кортеж під ім'ям, яке вказано після зірочки (наприклад, *args).\n",
    "Це корисно, коли ви хочете дозволити функції приймати довільну кількість позиційних аргументів."
   ]
  },
  {
   "cell_type": "markdown",
   "id": "7d7de846",
   "metadata": {},
   "source": [
    "#### Дві зірочки (kwargs):\n",
    "\n",
    "Використовується для збору додаткових ключових аргументів, які не відповідають жодному з іменованих параметрів функції.\n",
    "Ці аргументи збираються в словник, де ключі – це імена аргументів, а значення – це відповідні значення цих аргументів.\n",
    "Це корисно, коли ви хочете дозволити функції приймати довільну кількість ключових аргументів."
   ]
  },
  {
   "cell_type": "code",
   "execution_count": 59,
   "id": "a2d1a8d2",
   "metadata": {},
   "outputs": [],
   "source": [
    "def example_func(fixed_arg, *args, **kwargs):\n",
    "    print(\"Фіксований аргумент:\", fixed_arg)\n",
    "    print(\"Позиційні аргументи (кортеж):\", args)\n",
    "    print(\"Ключові аргументи (словник):\", kwargs)\n",
    "\n",
    "example_func(1, 2, 3, 4, param1='a', param2='b', param3='с')\n"
   ]
  },
  {
   "cell_type": "markdown",
   "id": "a5343e39",
   "metadata": {},
   "source": [
    "## Лямбда-функції\n"
   ]
  },
  {
   "cell_type": "markdown",
   "id": "8b445710",
   "metadata": {},
   "source": [
    "Буває, що нам потрібна функція, суть якої можна викликати, передавши їй аргументи, але сама функція дуже проста і її всю можна описати одним виразом. У таких ситуаціях немає особливого сенсу створювати функцію, використовуючи стандартний синтаксис і захаращувати простір імен.\n",
    "\n",
    "Спеціально для таких випадків у Python є лямбда-функції або анонімні функції."
   ]
  },
  {
   "cell_type": "code",
   "execution_count": 60,
   "id": "afcc5783",
   "metadata": {},
   "outputs": [],
   "source": [
    "double = lambda x: x*2\n",
    "print(double(5))"
   ]
  },
  {
   "cell_type": "code",
   "execution_count": 61,
   "id": "5eea5902",
   "metadata": {},
   "outputs": [],
   "source": [
    "def double(x):\n",
    "\t\treturn x * 2"
   ]
  },
  {
   "cell_type": "code",
   "execution_count": 62,
   "id": "e1ef9d84",
   "metadata": {},
   "outputs": [],
   "source": [
    "def defined_cube(y):\n",
    "    return y*y*y\n",
    "\n",
    "\n",
    "lambda_cube = lambda y: y*y*y\n",
    "print(defined_cube(2))\n",
    "print(lambda_cube(2))"
   ]
  },
  {
   "cell_type": "code",
   "execution_count": 63,
   "id": "928c2c46",
   "metadata": {},
   "outputs": [],
   "source": [
    "my_list = [1, 3, 4, 6, 10, 11, 15, 12, 14]\n",
    "new_list = list(filter(lambda x: (x%2 == 0) , my_list))\n",
    "print(new_list)"
   ]
  },
  {
   "cell_type": "markdown",
   "id": "dc19fc92",
   "metadata": {},
   "source": [
    "Тут відбувається кілька важливих речей:\n",
    "\n",
    "- filter(function, iterable): Функція filter приймає два аргументи: функцію та ітерабельний об'єкт (у цьому випадку, наш список my_list). \n",
    "- filter застосовує функцію до кожного елемента ітерабельного об'єкта і повертає ітератор, який містить тільки ті елементи, для яких функція повернула True.\n",
    "- lambda x: (x%2 == 0): Це лямбда-функція, яка приймає один аргумент x і повертає True, якщо x є парним (тобто x%2 == 0), і False в іншому випадку.\n",
    "- Результатом filter є ітератор, який містить тільки парні числа з my_list.\n",
    "\n",
    "Перетворення ітератора у список:\n",
    "Щоб перетворити ітератор, який повернула функція filter, у список, використовується конструктор списку list(). Це дає нам новий список new_list, який містить тільки парні числа з my_list"
   ]
  },
  {
   "cell_type": "markdown",
   "id": "cb4b7e40",
   "metadata": {},
   "source": [
    "## Q&A"
   ]
  },
  {
   "cell_type": "markdown",
   "id": "0316c6c3",
   "metadata": {},
   "source": [
    "Значення за замовчуванням: \n"
   ]
  },
  {
   "cell_type": "code",
   "execution_count": 64,
   "id": "845f1ea5",
   "metadata": {},
   "outputs": [],
   "source": [
    "#def func(a, b=11, c) #Такий варіант теж заборонений? \n",
    "\n",
    "#Тобто лише так:\n",
    "def foo(a, c, b=11):\n",
    "    print('I am foo')"
   ]
  },
  {
   "cell_type": "code",
   "execution_count": 69,
   "id": "176cadb8",
   "metadata": {},
   "outputs": [
    {
     "name": "stdout",
     "output_type": "stream",
     "text": [
      "Enter coefficient a: 1\n",
      "Enter coefficient b: 2\n",
      "Enter coefficient c: 3\n"
     ]
    }
   ],
   "source": [
    "import math\n",
    "\n",
    "a = int(input(\"Enter coefficient a: \"))\n",
    "b = int(input(\"Enter coefficient b: \"))\n",
    "c = int(input(\"Enter coefficient c: \"))\n",
    "\n",
    "D = b ** 2 - 4 * a * c\n",
    "\n",
    "# Перевірка дискримінанта та обчислення коренів\n",
    "if D > 0:\n",
    "    # Два різні корені\n",
    "    x1 = (-b + math.sqrt(D)) / (2 * a)\n",
    "    x2 = (-b - math.sqrt(D)) / (2 * a)\n",
    "    print(\"Два різні корені: x1 =\", x1, \"x2 =\", x2)\n",
    "elif D == 0:\n",
    "    # Один корінь\n",
    "    x1 = -b / (2 * a)\n",
    "    print(\"Один корінь: x1 = x2 =\", x1)\n",
    "else:\n",
    "    # Коренів немає\n",
    "    print(\"Реальних коренів немає\")\n",
    "    \n",
    "# 4, -5, -12    \n",
    "# 1,-2, 1\n",
    "# 1, 2, 3"
   ]
  },
  {
   "cell_type": "code",
   "execution_count": null,
   "id": "9f41e7b5",
   "metadata": {},
   "outputs": [],
   "source": []
  }
 ],
 "metadata": {
  "kernelspec": {
   "display_name": "Python 3 (ipykernel)",
   "language": "python",
   "name": "python3"
  },
  "language_info": {
   "codemirror_mode": {
    "name": "ipython",
    "version": 3
   },
   "file_extension": ".py",
   "mimetype": "text/x-python",
   "name": "python",
   "nbconvert_exporter": "python",
   "pygments_lexer": "ipython3",
   "version": "3.10.9"
  }
 },
 "nbformat": 4,
 "nbformat_minor": 5
}
