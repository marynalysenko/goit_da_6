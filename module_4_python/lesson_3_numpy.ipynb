{
 "cells": [
  {
   "cell_type": "markdown",
   "metadata": {},
   "source": [
    "# Тема 3. Введення в Pandas та створення DataFrame"
   ]
  },
  {
   "cell_type": "markdown",
   "metadata": {},
   "source": [
    "приклад 1: виведемо словник"
   ]
  },
  {
   "cell_type": "code",
   "execution_count": null,
   "metadata": {},
   "outputs": [],
   "source": [
    "client_info = {\n",
    "    \"name\": \"Andriy\",\n",
    "    \"age\": 30,\n",
    "    \"address\": {\n",
    "                \"street\": \"Hlova Street, 10\", \n",
    "                \"city\": \"Kyiv\", \n",
    "                \"country\": \"Ukraine\"},\n",
    "    \"email\": \"andriy@example.com\",\n",
    "    \"phone\": \"+380123456789\",\n",
    "    \"orders\": [\n",
    "                {\"id\": 1, \"item_id\": 55},\n",
    "                {\"id\": 2, \"item_id\": 57},\n",
    "                {\"id\": 3, \"item_id\": 587},\n",
    "    ],\n",
    "}\n",
    "client_info\n",
    "# часто будете працювати якщо дані з API, але частіше будуть дата інженери так отримувати дані"
   ]
  },
  {
   "cell_type": "code",
   "execution_count": null,
   "metadata": {},
   "outputs": [],
   "source": [
    "# кожен ключ з нового рядка і відступи на рівні - для цього базова бібліотека json\n",
    "# в ній є функція dumbs - словник в текст з форматуванням переводить\n",
    "\n",
    "import json\n",
    "\n",
    "dict_to_print =json.dumps(client_info)\n",
    "print(dict_to_print)"
   ]
  },
  {
   "cell_type": "markdown",
   "metadata": {},
   "source": [
    "Щоб вивести вміст словника в форматованому вигляді з нового рядка для кожного ключа та з відступами, потрібно використовувати аргументи indent та sort_keys у функції json.dumps. Ці аргументи дозволяють вказати рівень відступів та чи потрібно сортувати ключі у виведеному JSON.\n",
    "\n",
    "- indent визначає кількість пробілів, які використовуються для відступів. Наприклад, indent=4 зробить відступ у чотири пробіли для кожного рівня вкладеності.\n",
    "- sort_keys при значенні True впорядковує ключі словника за алфавітом.\n",
    "Ось приклад використання цих параметрів:"
   ]
  },
  {
   "cell_type": "code",
   "execution_count": null,
   "metadata": {},
   "outputs": [],
   "source": [
    "# Використання json.dumps з indent і sort_keys\n",
    "dict_to_print = json.dumps(client_info, indent=4, sort_keys=True)\n",
    "print(dict_to_print)"
   ]
  },
  {
   "cell_type": "markdown",
   "metadata": {},
   "source": [
    "приклад 2: нам треба константа чиста Пі"
   ]
  },
  {
   "cell_type": "code",
   "execution_count": null,
   "metadata": {},
   "outputs": [],
   "source": [
    "from math import pi # спосіб імпортувати конкретну функцію з модуля\n",
    "\n",
    "print(pi)"
   ]
  },
  {
   "cell_type": "markdown",
   "metadata": {},
   "source": [
    "приклад 3: до кожного елементу масива додати 5"
   ]
  },
  {
   "cell_type": "code",
   "execution_count": null,
   "metadata": {},
   "outputs": [],
   "source": [
    "my_list = [1, 2, 3, 4, 5]\n",
    "#my_list +5 # не можна додати число до списку\n",
    "\n",
    "# але можна додати число до кожного елементу списку за допомогою\n",
    "new_list = [] \n",
    "for x in my_list:\n",
    "    new_list.append(x + 5)\n",
    "print(new_list)"
   ]
  },
  {
   "cell_type": "code",
   "execution_count": null,
   "metadata": {},
   "outputs": [],
   "source": [
    "# або можна використати бібліотеку numpy, що дозволяє виконувати операції над матрицями і векторами "
   ]
  },
  {
   "cell_type": "code",
   "execution_count": null,
   "metadata": {},
   "outputs": [],
   "source": [
    "# бібліотек в пайтоні доволі багато  - вони допомагають вирішувати різні задачі\n",
    "# іноді вони вбудовані в пайтон, а іноді потрібно встановлювати окремо\n",
    "# наприклад, для роботи з датами потрібно встановити бібліотеку datetime\n",
    "# для роботи з графіками - matplotlib\n",
    "# для роботи з даними - pandas\n",
    "# для роботи з нейронними мережами - tensorflow\n",
    "# для роботи з образами - opencv\n",
    "# для роботи з текстами - nltk\n",
    "# для роботи зі звуком - librosa\n",
    "# для роботи з геоданими - geopandas\n",
    "# іх треба перевіряти перед інсталяцією на ресурсі pypi.org - там є документація і приклади використання і статистка використання "
   ]
  },
  {
   "cell_type": "markdown",
   "metadata": {},
   "source": [
    "# I. NumPy"
   ]
  },
  {
   "cell_type": "markdown",
   "metadata": {},
   "source": [
    "# pip install numpy"
   ]
  },
  {
   "cell_type": "code",
   "execution_count": null,
   "metadata": {},
   "outputs": [],
   "source": [
    "import numpy as np\n",
    "\n",
    "# 1. Інструкція import в мові програмування Python використовується для підключення модулів та бібліотек до поточного скрипта.\n",
    "# 2. Ми скорочуємо імпортоване ім'я до np для кращого читання коду за допомогою NumPy. Це широко розповсюджена угода, якій необхідно слідувати, щоб будь-хто, хто працює з нашим кодом, зміг легко його зрозуміти.\n",
    "# 3. Інструкція from ... import використовується для імпортування конкретних імен з модуля. Це може бути корисно, якщо ви знаєте, які функції вам потрібні, і ви не хочете завантажувати весь модуль в пам'ять."
   ]
  },
  {
   "cell_type": "code",
   "execution_count": null,
   "metadata": {},
   "outputs": [],
   "source": [
    "# бібліотека NumPy - це основна бібліотека для наукових обчислень у Python.\n",
    "\n",
    "# Об'єкт ndarray в NumPy -  це  ключовий об'єкт у бібліотеці NumPy.\n",
    "# ndarray є скороченням від \"n-dimensional array\", що означає \"багатовимірний масив\".\n",
    "# Це основний тип даних, який використовується в NumPy для зберігання і обробки багатовимірних масивів.\n",
    "# ndarray не є вбудованим типом даних у Python, як, наприклад, int, float, або list.\n",
    "# Натомість, ndarray є типом, який надається бібліотекою NumPy, спеціалізованою бібліотекою для наукових обчислень у Python.\n",
    "\n",
    "# np.array - це функція в NumPy, яка використовується для створення нових об'єктів ndarray.\n",
    "# Коли ви створюєте масив за допомогою np.array, ви отримуєте екземпляр ndarray."
   ]
  },
  {
   "cell_type": "markdown",
   "metadata": {},
   "source": [
    "Найпростіший спосіб створення невеликого масиву NumPy – виклик конструктора np.array зі списком або кортежем значень:"
   ]
  },
  {
   "cell_type": "code",
   "execution_count": null,
   "metadata": {},
   "outputs": [],
   "source": [
    "import numpy as np # стандартний еліас для numpy - np\n",
    "# create a 1D array from a list\n",
    "a = np.array([1, 2, 3, 4, 5], dtype=float)\n",
    "\n",
    "print(a)  # [1. 2. 3. 4. 5.]\n",
    "a+5"
   ]
  },
  {
   "cell_type": "code",
   "execution_count": null,
   "metadata": {},
   "outputs": [],
   "source": [
    "np.array([1, 2, 3, 4, 5])"
   ]
  },
  {
   "cell_type": "code",
   "execution_count": null,
   "metadata": {},
   "outputs": [],
   "source": [
    "# create a 2d array\n",
    "m = np.array([[1, 2, 3], [4, 5, 6]], dtype=int)\n",
    "\n",
    "print(m)"
   ]
  },
  {
   "cell_type": "markdown",
   "metadata": {},
   "source": [
    "## Atributes"
   ]
  },
  {
   "cell_type": "code",
   "execution_count": null,
   "metadata": {},
   "outputs": [],
   "source": [
    "import numpy as np\n",
    "\n",
    "a = np.array([1, 2, 3, 4, 5], dtype=float)\n",
    "\n",
    "\n",
    "m = np.array([[1, 2, 3], [4, 5, 6]], dtype=int)\n",
    "\n",
    "# Розмірність створеного вектора та матриці можна подивитися за допомогою атрибуту shape.Розмірність - це кортеж, який містить кількість елементів у кожному розмірі масиву.\n",
    "print(a.shape)  # (5,)\n",
    "print(m.shape)  # (2, 3)\n",
    "\n",
    "# size - це атрибут, який містить загальну кількість елементів у масиві.\n",
    "print(a.size)\n",
    "print(m.size)\n",
    "\n",
    "# dtype - це атрибут, який містить тип даних, який зберігається в масиві.\n",
    "print(a.dtype)\n",
    "print(m.dtype)"
   ]
  },
  {
   "cell_type": "code",
   "execution_count": null,
   "metadata": {},
   "outputs": [],
   "source": [
    "# Щоб створити масив з випадковими числами, використовуйте функцію random.\n",
    "import numpy as np\n",
    "\n",
    "a = np.random.random(3) # 3 випадкових числа від 0 до 1\n",
    "b = np.random.random((3, 3)) # 3 випадкових числа від 0 до 1\n",
    "print(a , '\\n')\n",
    "print(b)"
   ]
  },
  {
   "cell_type": "code",
   "execution_count": null,
   "metadata": {},
   "outputs": [],
   "source": [
    "# Щоб створити масив з одиниць, використовуйте функцію ones.\n",
    "import numpy as np\n",
    "\n",
    "a = np.ones((5,), dtype=float)\n",
    "print(a)\n",
    "\n",
    "m = np.ones((2, 3), dtype=int)\n",
    "print(m)"
   ]
  },
  {
   "cell_type": "code",
   "execution_count": null,
   "metadata": {},
   "outputs": [],
   "source": [
    "# Щоб створити масив з нулів, використовуйте функцію zeros.\n",
    "import numpy as np\n",
    "\n",
    "a = np.zeros(5, dtype=float)\n",
    "print(a)\n",
    "\n",
    "m = np.zeros((2, 3), dtype=int)\n",
    "print(m)"
   ]
  },
  {
   "cell_type": "code",
   "execution_count": null,
   "metadata": {},
   "outputs": [],
   "source": [
    "# Щоб створити одиничну матрицю, використовуйте функцію eye.\n",
    "m = np.identity(4, dtype=int)\n",
    "print(m)"
   ]
  },
  {
   "cell_type": "code",
   "execution_count": null,
   "metadata": {},
   "outputs": [],
   "source": [
    "# Щоб створити масив з послідовністю чисел, використовуйте функцію arange.\n",
    "import numpy as np\n",
    "\n",
    "a = np.arange(5) # 5 послідовних чисел починаючи з 0\n",
    "b = np.arange(1, 3, 0.5) # послідовність чисел від 1 до 3 з кроком 0.5\n",
    "print(a)\n",
    "print(b)"
   ]
  },
  {
   "cell_type": "code",
   "execution_count": null,
   "metadata": {},
   "outputs": [],
   "source": [
    "# Щоб створити масив з рівномірно розподіленими числами, використовуйте функцію linspace. \n",
    "# Ця функція приймає три аргументи: початок послідовності, кінець послідовності, кількість елементів.\n",
    "# По замовчуванню кількість елементів дорівнює 50.\n",
    "import numpy as np\n",
    "\n",
    "a = np.linspace(1, 5, num=5) # 5 рівномірно розподілених чисел від 1 до 5\n",
    "b = np.linspace(1, 3, num=3) # 3 рівномірно розподілених чисел від 1 до 3\n",
    "print(a)\n",
    "print(b)"
   ]
  },
  {
   "cell_type": "markdown",
   "metadata": {},
   "source": [
    "### Індексація / Slising "
   ]
  },
  {
   "cell_type": "code",
   "execution_count": null,
   "metadata": {},
   "outputs": [],
   "source": [
    "# Масив NumPy можна розділити на частини та присвоїти їм індекси. Принцип роботи схожий на те, як це відбувається зі списками Python.\n",
    "\n",
    "import numpy as np\n",
    "\n",
    "a = np.array([1, 2, 3, 4, 5])\n",
    "print(a[0]) # перший елемент\n",
    "print(a[1:]) # з другого елемента до кінця\n",
    "print(a[:2]) # з початку до другого елемента"
   ]
  },
  {
   "cell_type": "markdown",
   "metadata": {},
   "source": [
    "Індексація багатовимірного масиву NumPy трохи відрізняється від індексації звичайного списку списків у Python: замість зазначення індексу необхідного елемента в окремих квадратних дужках m[i][j] використовується кортеж цілих чисел m[i, j]:"
   ]
  },
  {
   "cell_type": "code",
   "execution_count": null,
   "metadata": {},
   "outputs": [],
   "source": [
    "import numpy as np\n",
    "\n",
    "a = np.array([[1, 2, 3], [4, 5, 6], [7, 8, 9]])\n",
    "\n",
    "print(a[0])     # перший рядок\n",
    "print(a[0][0:2])  # перший рядок, перші два елементи\n",
    "print(a[0][0])  # перший рядок, перший елемент\n",
    "print('\\n')\n",
    "print(a[1, 1]) # другий рядок, другий елемент\n",
    "print(a[1:, 1]) # з другого рядка, другий елемент\n",
    "print(a[0, :2]) # перший рядок, перші два елементи"
   ]
  },
  {
   "cell_type": "code",
   "execution_count": null,
   "metadata": {},
   "outputs": [],
   "source": [
    "# за індексом можна задати елемент масива \n",
    "print(a)\n",
    "a[0, 0] = 10\n",
    "print(a)"
   ]
  },
  {
   "cell_type": "markdown",
   "metadata": {},
   "source": [
    "## Арифметичні операції\n",
    "\n"
   ]
  },
  {
   "cell_type": "code",
   "execution_count": null,
   "metadata": {},
   "outputs": [],
   "source": [
    "a = np.array([[1, 2, 3], [4, 5, 6], [7, 8, 9]])\n",
    "trip_arr = a * 3\n",
    "print(trip_arr)"
   ]
  },
  {
   "cell_type": "code",
   "execution_count": null,
   "metadata": {},
   "outputs": [],
   "source": [
    "float_arr = a.astype(float) # змінює тип даних на float\n",
    "print(float_arr)"
   ]
  },
  {
   "cell_type": "markdown",
   "metadata": {},
   "source": [
    "# Basic math"
   ]
  },
  {
   "cell_type": "code",
   "execution_count": null,
   "metadata": {},
   "outputs": [],
   "source": [
    "# При арифметичних операціях не потрібне написання циклів for з обчисленнями. Операції над масивами виконуються для кожного ряду.\n",
    "\n",
    "import numpy as np\n",
    "\n",
    "a = np.random.random(10)\n",
    "b = np.random.random(10)\n",
    "\n",
    "print(a, \"\\n\")\n",
    "print(b, \"\\n\")\n",
    "print(a + b, \"\\n\")\n",
    "print(a - b, \"\\n\")\n",
    "print(a * b, \"\\n\")\n",
    "print(a / b, \"\\n\")"
   ]
  },
  {
   "cell_type": "code",
   "execution_count": null,
   "metadata": {},
   "outputs": [],
   "source": [
    "add = np.add(a, b)\n",
    "sub = np.subtract(a, b)\n",
    "mul = np.multiply(a, b)\n",
    "div = np.divide(a, b)\n",
    "\n",
    "print(add, \"\\n\")\n",
    "print(sub, \"\\n\")\n",
    "print(mul, \"\\n\")\n",
    "print(div, \"\\n\")"
   ]
  },
  {
   "cell_type": "code",
   "execution_count": null,
   "metadata": {},
   "outputs": [],
   "source": [
    "# Якщо розміри масивів не співпадають, то виконується операція над кожним рядом.\n",
    "# Якщо розміри масивів не співпадають, але можуть бути розширені (Арифметичні операції над матрицями різних розмірів можливі в тому випадку, якщо одна з матриць має лише один стовпець або один рядок.)\n",
    "# то розмір результуючого масиву буде рівний розміру більшого масиву.\n",
    "\n",
    "import numpy as np\n",
    "\n",
    "a = np.array([[1, 2, 3], [4, 5, 6], [7, 8, 9]])\n",
    "b = np.array([1, 2, 3])\n",
    "print(a + b)\n",
    "print(a - b)\n",
    "print(a * b)\n",
    "print(a / b)"
   ]
  },
  {
   "cell_type": "markdown",
   "metadata": {},
   "source": [
    "Якщо розміри масивів не співпадають і не можуть бути розширені, то виникає помилка.\n",
    "\n",
    "a = np.array([[1, 2, 3], [4, 5, 6], [7, 8, 9]])\n",
    "b = np.array([[1, 2, 3], [4, 5, 6]])\n",
    "print(a + b)\n",
    "---------------------------------------------------------------------------\n",
    "ValueError                                Traceback (most recent call last)\n",
    "Cell In[11], line 1\n",
    "----> 1 print(a + b)\n",
    "\n",
    "ValueError: operands could not be broadcast together with shapes (3,3) (2,3) "
   ]
  },
  {
   "cell_type": "code",
   "execution_count": null,
   "metadata": {},
   "outputs": [],
   "source": [
    "# Матричне множення:\n",
    "# Щоб виконати звичайне математичне множення матриць, використовують функцію numpy.dot() або оператор @.\n",
    "# Це відповідає стандартному математичному множенню матриць, де рядки однієї матриці множаться на стовпці іншої.\n",
    "# матриця B має мати стільки ж рядків, скільки стовпців у матриці і на виході буде матриця з таким же розміром\n",
    "a = np.array([[1, 2, 3], [4, 5, 6]])\n",
    "b = np.array([[1, 2], [3, 4], [5, 6]])\n",
    "c = np.dot(a,b)  # або c = a @ b\n",
    "print(c)"
   ]
  },
  {
   "cell_type": "markdown",
   "metadata": {},
   "source": [
    "# Stat Functions"
   ]
  },
  {
   "cell_type": "code",
   "execution_count": null,
   "metadata": {},
   "outputs": [],
   "source": [
    "a = np.random.random(10)\n",
    "b = np.random.random(10)\n",
    "\n",
    "print(a, \"\\n\")\n",
    "print(b, \"\\n\")\n",
    "\n",
    "sqrt_arr = np.sqrt(25)\n",
    "abs_arr = np.abs(-25)\n",
    "power_arr = np.power(5, 2)\n",
    "mins = a.min()\n",
    "maxs = a.max()\n",
    "\n",
    "print(mins, \"\\n\")"
   ]
  },
  {
   "cell_type": "markdown",
   "metadata": {},
   "source": [
    "# Sorting"
   ]
  },
  {
   "cell_type": "code",
   "execution_count": null,
   "metadata": {},
   "outputs": [],
   "source": [
    "a = np.random.random(10)\n",
    "print(a, \"\\n\")\n",
    "a.sort()\n",
    "print(a, \"\\n\")"
   ]
  },
  {
   "cell_type": "code",
   "execution_count": null,
   "metadata": {},
   "outputs": [],
   "source": [
    "# у зворотньому порядку\n",
    "a = np.random.random(10)\n",
    "print(a, \"\\n\")\n",
    "\n",
    "a.sort()  # Спочатку сортуємо список\n",
    "reversed_a = a[::-1]  # Потім звертаємо його.# зворотній порядок бо -1 (Тут : означає взяти весь список, а -1 вказує, що крок перебору елементів має бути задом наперед.)\n",
    "print(reversed_a, \"\\n\")"
   ]
  },
  {
   "cell_type": "code",
   "execution_count": null,
   "metadata": {},
   "outputs": [],
   "source": [
    "reversed_a = sorted(a, reverse=True)\n",
    "print(reversed_a, \"\\n\")"
   ]
  }
 ],
 "metadata": {
  "kernelspec": {
   "display_name": "Python 3",
   "language": "python",
   "name": "python3"
  },
  "language_info": {
   "codemirror_mode": {
    "name": "ipython",
    "version": 3
   },
   "file_extension": ".py",
   "mimetype": "text/x-python",
   "name": "python",
   "nbconvert_exporter": "python",
   "pygments_lexer": "ipython3",
   "version": "3.10.12"
  }
 },
 "nbformat": 4,
 "nbformat_minor": 2
}
