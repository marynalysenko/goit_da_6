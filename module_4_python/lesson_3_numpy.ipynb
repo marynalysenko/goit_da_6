{
 "cells": [
  {
   "cell_type": "markdown",
   "metadata": {},
   "source": [
    "# Тема 3. Введення в Pandas та створення DataFrame"
   ]
  },
  {
   "cell_type": "markdown",
   "metadata": {},
   "source": [
    "приклад 1: виведемо словник"
   ]
  },
  {
   "cell_type": "code",
   "execution_count": 5,
   "metadata": {},
   "outputs": [
    {
     "data": {
      "text/plain": [
       "{'name': 'Andriy',\n",
       " 'age': 30,\n",
       " 'address': {'street': 'Hlova Street, 10',\n",
       "  'city': 'Kyiv',\n",
       "  'country': 'Ukraine'},\n",
       " 'email': 'andriy@example.com',\n",
       " 'phone': '+380123456789',\n",
       " 'orders': [{'id': 1, 'item_id': 55},\n",
       "  {'id': 2, 'item_id': 57},\n",
       "  {'id': 3, 'item_id': 587}]}"
      ]
     },
     "execution_count": 5,
     "metadata": {},
     "output_type": "execute_result"
    }
   ],
   "source": [
    "client_info = {\n",
    "    \"name\": \"Andriy\",\n",
    "    \"age\": 30,\n",
    "    \"address\": {\n",
    "                \"street\": \"Hlova Street, 10\", \n",
    "                \"city\": \"Kyiv\", \n",
    "                \"country\": \"Ukraine\"},\n",
    "    \"email\": \"andriy@example.com\",\n",
    "    \"phone\": \"+380123456789\",\n",
    "    \"orders\": [\n",
    "                {\"id\": 1, \"item_id\": 55},\n",
    "                {\"id\": 2, \"item_id\": 57},\n",
    "                {\"id\": 3, \"item_id\": 587},\n",
    "    ],\n",
    "}\n",
    "client_info\n",
    "# часто будете працювати якщо дані з API, але частіше будуть дата інженери так отримувати дані"
   ]
  },
  {
   "cell_type": "code",
   "execution_count": 6,
   "metadata": {},
   "outputs": [
    {
     "name": "stdout",
     "output_type": "stream",
     "text": [
      "{\"name\": \"Andriy\", \"age\": 30, \"address\": {\"street\": \"Hlova Street, 10\", \"city\": \"Kyiv\", \"country\": \"Ukraine\"}, \"email\": \"andriy@example.com\", \"phone\": \"+380123456789\", \"orders\": [{\"id\": 1, \"item_id\": 55}, {\"id\": 2, \"item_id\": 57}, {\"id\": 3, \"item_id\": 587}]}\n"
     ]
    }
   ],
   "source": [
    "# кожен ключ з нового рядка і відступи на рівні - для цього базова бібліотека json\n",
    "# в ній є функція dumbs - словник в текст з форматуванням переводить\n",
    "\n",
    "import json\n",
    "\n",
    "dict_to_print =json.dumps(client_info)\n",
    "print(dict_to_print)"
   ]
  },
  {
   "cell_type": "markdown",
   "metadata": {},
   "source": [
    "Щоб вивести вміст словника в форматованому вигляді з нового рядка для кожного ключа та з відступами, потрібно використовувати аргументи indent та sort_keys у функції json.dumps. Ці аргументи дозволяють вказати рівень відступів та чи потрібно сортувати ключі у виведеному JSON.\n",
    "\n",
    "- indent визначає кількість пробілів, які використовуються для відступів. Наприклад, indent=4 зробить відступ у чотири пробіли для кожного рівня вкладеності.\n",
    "- sort_keys при значенні True впорядковує ключі словника за алфавітом.\n",
    "Ось приклад використання цих параметрів:"
   ]
  },
  {
   "cell_type": "code",
   "execution_count": 7,
   "metadata": {},
   "outputs": [
    {
     "name": "stdout",
     "output_type": "stream",
     "text": [
      "{\n",
      "    \"address\": {\n",
      "        \"city\": \"Kyiv\",\n",
      "        \"country\": \"Ukraine\",\n",
      "        \"street\": \"Hlova Street, 10\"\n",
      "    },\n",
      "    \"age\": 30,\n",
      "    \"email\": \"andriy@example.com\",\n",
      "    \"name\": \"Andriy\",\n",
      "    \"orders\": [\n",
      "        {\n",
      "            \"id\": 1,\n",
      "            \"item_id\": 55\n",
      "        },\n",
      "        {\n",
      "            \"id\": 2,\n",
      "            \"item_id\": 57\n",
      "        },\n",
      "        {\n",
      "            \"id\": 3,\n",
      "            \"item_id\": 587\n",
      "        }\n",
      "    ],\n",
      "    \"phone\": \"+380123456789\"\n",
      "}\n"
     ]
    }
   ],
   "source": [
    "# Використання json.dumps з indent і sort_keys\n",
    "dict_to_print = json.dumps(client_info, indent=4, sort_keys=True)\n",
    "print(dict_to_print)"
   ]
  },
  {
   "cell_type": "markdown",
   "metadata": {},
   "source": [
    "приклад 2: нам треба константа чиста Пі"
   ]
  },
  {
   "cell_type": "code",
   "execution_count": 8,
   "metadata": {},
   "outputs": [
    {
     "name": "stdout",
     "output_type": "stream",
     "text": [
      "3.141592653589793\n"
     ]
    }
   ],
   "source": [
    "from math import pi # спосіб імпортувати конкретну функцію з модуля\n",
    "\n",
    "print(pi)"
   ]
  },
  {
   "cell_type": "markdown",
   "metadata": {},
   "source": [
    "приклад 3: до кожного елементу масива додати 5"
   ]
  },
  {
   "cell_type": "code",
   "execution_count": 10,
   "metadata": {},
   "outputs": [
    {
     "name": "stdout",
     "output_type": "stream",
     "text": [
      "[6, 7, 8, 9, 10]\n"
     ]
    }
   ],
   "source": [
    "my_list = [1, 2, 3, 4, 5]\n",
    "#my_list +5 # не можна додати число до списку\n",
    "\n",
    "# але можна додати число до кожного елементу списку за допомогою\n",
    "new_list = [] \n",
    "for x in my_list:\n",
    "    new_list.append(x + 5)\n",
    "print(new_list)"
   ]
  },
  {
   "cell_type": "code",
   "execution_count": null,
   "metadata": {},
   "outputs": [],
   "source": [
    "# або можна використати бібліотеку numpy, що дозволяє виконувати операції над матрицями і векторами "
   ]
  },
  {
   "cell_type": "code",
   "execution_count": null,
   "metadata": {},
   "outputs": [],
   "source": [
    "# бібліотек в пайтоні доволі багато  - вони допомагають вирішувати різні задачі\n",
    "# іноді вони вбудовані в пайтон, а іноді потрібно встановлювати окремо\n",
    "# наприклад, для роботи з датами потрібно встановити бібліотеку datetime\n",
    "# для роботи з графіками - matplotlib\n",
    "# для роботи з даними - pandas\n",
    "# для роботи з нейронними мережами - tensorflow\n",
    "# для роботи з образами - opencv\n",
    "# для роботи з текстами - nltk\n",
    "# для роботи зі звуком - librosa\n",
    "# для роботи з геоданими - geopandas\n",
    "# іх треба перевіряти перед інсталяцією на ресурсі pypi.org - там є документація і приклади використання і статистка використання "
   ]
  },
  {
   "cell_type": "markdown",
   "metadata": {},
   "source": [
    "# I. NumPy"
   ]
  },
  {
   "cell_type": "markdown",
   "metadata": {},
   "source": [
    "# pip install numpy"
   ]
  },
  {
   "cell_type": "code",
   "execution_count": 5,
   "metadata": {},
   "outputs": [],
   "source": [
    "import numpy as np\n",
    "\n",
    "# 1. Інструкція import в мові програмування Python використовується для підключення модулів та бібліотек до поточного скрипта.\n",
    "# 2. Ми скорочуємо імпортоване ім'я до np для кращого читання коду за допомогою NumPy. Це широко розповсюджена угода, якій необхідно слідувати, щоб будь-хто, хто працює з нашим кодом, зміг легко його зрозуміти.\n",
    "# 3. Інструкція from ... import використовується для імпортування конкретних імен з модуля. Це може бути корисно, якщо ви знаєте, які функції вам потрібні, і ви не хочете завантажувати весь модуль в пам'ять."
   ]
  },
  {
   "cell_type": "code",
   "execution_count": null,
   "metadata": {},
   "outputs": [],
   "source": [
    "# бібліотека NumPy - це основна бібліотека для наукових обчислень у Python.\n",
    "\n",
    "# Об'єкт ndarray в NumPy -  це  ключовий об'єкт у бібліотеці NumPy.\n",
    "# ndarray є скороченням від \"n-dimensional array\", що означає \"багатовимірний масив\".\n",
    "# Це основний тип даних, який використовується в NumPy для зберігання і обробки багатовимірних масивів.\n",
    "# ndarray не є вбудованим типом даних у Python, як, наприклад, int, float, або list.\n",
    "# Натомість, ndarray є типом, який надається бібліотекою NumPy, спеціалізованою бібліотекою для наукових обчислень у Python.\n",
    "\n",
    "# np.array - це функція в NumPy, яка використовується для створення нових об'єктів ndarray.\n",
    "# Коли ви створюєте масив за допомогою np.array, ви отримуєте екземпляр ndarray."
   ]
  },
  {
   "cell_type": "markdown",
   "metadata": {},
   "source": [
    "Найпростіший спосіб створення невеликого масиву NumPy – виклик конструктора np.array зі списком або кортежем значень:"
   ]
  },
  {
   "cell_type": "code",
   "execution_count": 11,
   "metadata": {},
   "outputs": [
    {
     "name": "stdout",
     "output_type": "stream",
     "text": [
      "[1. 2. 3. 4. 5.]\n"
     ]
    },
    {
     "data": {
      "text/plain": [
       "array([ 6.,  7.,  8.,  9., 10.])"
      ]
     },
     "execution_count": 11,
     "metadata": {},
     "output_type": "execute_result"
    }
   ],
   "source": [
    "import numpy as np # стандартний еліас для numpy - np\n",
    "# create a 1D array from a list\n",
    "a = np.array([1, 2, 3, 4, 5], dtype=float)\n",
    "\n",
    "print(a)  # [1. 2. 3. 4. 5.]\n",
    "a+5"
   ]
  },
  {
   "cell_type": "code",
   "execution_count": 13,
   "metadata": {},
   "outputs": [
    {
     "data": {
      "text/plain": [
       "array([1, 2, 3, 4, 5])"
      ]
     },
     "execution_count": 13,
     "metadata": {},
     "output_type": "execute_result"
    }
   ],
   "source": [
    "np.array([1, 2, 3, 4, 5])"
   ]
  },
  {
   "cell_type": "code",
   "execution_count": 3,
   "metadata": {},
   "outputs": [
    {
     "name": "stdout",
     "output_type": "stream",
     "text": [
      "[[1 2 3]\n",
      " [4 5 6]]\n"
     ]
    }
   ],
   "source": [
    "# create a 2d array\n",
    "m = np.array([[1, 2, 3], [4, 5, 6]], dtype=int)\n",
    "\n",
    "print(m)"
   ]
  },
  {
   "cell_type": "markdown",
   "metadata": {},
   "source": [
    "## Atributes"
   ]
  },
  {
   "cell_type": "code",
   "execution_count": 16,
   "metadata": {},
   "outputs": [
    {
     "name": "stdout",
     "output_type": "stream",
     "text": [
      "(5,)\n",
      "(2, 3)\n",
      "5\n",
      "6\n",
      "float64\n",
      "int64\n"
     ]
    }
   ],
   "source": [
    "import numpy as np\n",
    "\n",
    "a = np.array([1, 2, 3, 4, 5], dtype=float)\n",
    "\n",
    "\n",
    "m = np.array([[1, 2, 3], [4, 5, 6]], dtype=int)\n",
    "\n",
    "# Розмірність створеного вектора та матриці можна подивитися за допомогою атрибуту shape.Розмірність - це кортеж, який містить кількість елементів у кожному розмірі масиву.\n",
    "print(a.shape)  # (5,)\n",
    "print(m.shape)  # (2, 3)\n",
    "\n",
    "# size - це атрибут, який містить загальну кількість елементів у масиві.\n",
    "print(a.size)\n",
    "print(m.size)\n",
    "\n",
    "# dtype - це атрибут, який містить тип даних, який зберігається в масиві.\n",
    "print(a.dtype)\n",
    "print(m.dtype)"
   ]
  },
  {
   "cell_type": "code",
   "execution_count": 18,
   "metadata": {},
   "outputs": [
    {
     "name": "stdout",
     "output_type": "stream",
     "text": [
      "[0.11997659 0.02658034 0.44782431] \n",
      "\n",
      "[[0.07873519 0.84684936 0.7125563 ]\n",
      " [0.25744043 0.28948772 0.46465809]\n",
      " [0.66468088 0.67163968 0.39712495]]\n"
     ]
    }
   ],
   "source": [
    "# Щоб створити масив з випадковими числами, використовуйте функцію random.\n",
    "import numpy as np\n",
    "\n",
    "a = np.random.random(3) # 3 випадкових числа від 0 до 1\n",
    "b = np.random.random((3, 3)) # 3 випадкових числа від 0 до 1\n",
    "print(a , '\\n')\n",
    "print(b)"
   ]
  },
  {
   "cell_type": "code",
   "execution_count": 5,
   "metadata": {},
   "outputs": [
    {
     "name": "stdout",
     "output_type": "stream",
     "text": [
      "[1. 1. 1. 1. 1.]\n",
      "[[1 1 1]\n",
      " [1 1 1]]\n"
     ]
    }
   ],
   "source": [
    "# Щоб створити масив з одиниць, використовуйте функцію ones.\n",
    "import numpy as np\n",
    "\n",
    "a = np.ones((5,), dtype=float)\n",
    "print(a)\n",
    "\n",
    "m = np.ones((2, 3), dtype=int)\n",
    "print(m)"
   ]
  },
  {
   "cell_type": "code",
   "execution_count": null,
   "metadata": {},
   "outputs": [],
   "source": [
    "# Щоб створити масив з нулів, використовуйте функцію zeros.\n",
    "import numpy as np\n",
    "\n",
    "a = np.zeros(5, dtype=float)\n",
    "print(a)\n",
    "\n",
    "m = np.zeros((2, 3), dtype=int)\n",
    "print(m)"
   ]
  },
  {
   "cell_type": "code",
   "execution_count": 6,
   "metadata": {},
   "outputs": [
    {
     "name": "stdout",
     "output_type": "stream",
     "text": [
      "[[1 0 0 0]\n",
      " [0 1 0 0]\n",
      " [0 0 1 0]\n",
      " [0 0 0 1]]\n"
     ]
    }
   ],
   "source": [
    "# Щоб створити одиничну матрицю, використовуйте функцію eye.\n",
    "m = np.identity(4, dtype=int)\n",
    "print(m)"
   ]
  },
  {
   "cell_type": "code",
   "execution_count": 8,
   "metadata": {},
   "outputs": [
    {
     "name": "stdout",
     "output_type": "stream",
     "text": [
      "[0 1 2 3 4]\n",
      "[1.  1.5 2.  2.5]\n"
     ]
    }
   ],
   "source": [
    "# Щоб створити масив з послідовністю чисел, використовуйте функцію arange.\n",
    "import numpy as np\n",
    "\n",
    "a = np.arange(5) # 5 послідовних чисел починаючи з 0\n",
    "b = np.arange(1, 3, 0.5) # послідовність чисел від 1 до 3 з кроком 0.5\n",
    "print(a)\n",
    "print(b)"
   ]
  },
  {
   "cell_type": "code",
   "execution_count": 11,
   "metadata": {},
   "outputs": [
    {
     "name": "stdout",
     "output_type": "stream",
     "text": [
      "[1. 2. 3. 4. 5.]\n",
      "[1. 2. 3.]\n"
     ]
    }
   ],
   "source": [
    "# Щоб створити масив з рівномірно розподіленими числами, використовуйте функцію linspace. \n",
    "# Ця функція приймає три аргументи: початок послідовності, кінець послідовності, кількість елементів.\n",
    "# По замовчуванню кількість елементів дорівнює 50.\n",
    "import numpy as np\n",
    "\n",
    "a = np.linspace(1, 5, num=5) # 5 рівномірно розподілених чисел від 1 до 5\n",
    "b = np.linspace(1, 3, num=3) # 3 рівномірно розподілених чисел від 1 до 3\n",
    "print(a)\n",
    "print(b)"
   ]
  },
  {
   "cell_type": "markdown",
   "metadata": {},
   "source": [
    "### Індексація / Slising "
   ]
  },
  {
   "cell_type": "code",
   "execution_count": 21,
   "metadata": {},
   "outputs": [
    {
     "name": "stdout",
     "output_type": "stream",
     "text": [
      "1\n",
      "[2 3 4 5]\n",
      "[1 2]\n"
     ]
    }
   ],
   "source": [
    "# Масив NumPy можна розділити на частини та присвоїти їм індекси. Принцип роботи схожий на те, як це відбувається зі списками Python.\n",
    "\n",
    "import numpy as np\n",
    "\n",
    "a = np.array([1, 2, 3, 4, 5])\n",
    "print(a[0]) # перший елемент\n",
    "print(a[1:]) # з другого елемента до кінця\n",
    "print(a[:2]) # з початку до другого елемента"
   ]
  },
  {
   "cell_type": "markdown",
   "metadata": {},
   "source": [
    "Індексація багатовимірного масиву NumPy трохи відрізняється від індексації звичайного списку списків у Python: замість зазначення індексу необхідного елемента в окремих квадратних дужках m[i][j] використовується кортеж цілих чисел m[i, j]:"
   ]
  },
  {
   "cell_type": "code",
   "execution_count": 25,
   "metadata": {},
   "outputs": [
    {
     "name": "stdout",
     "output_type": "stream",
     "text": [
      "[1 2 3]\n",
      "[1 2]\n",
      "1\n",
      "\n",
      "\n",
      "5\n",
      "[5 8]\n",
      "[1 2]\n"
     ]
    }
   ],
   "source": [
    "import numpy as np\n",
    "\n",
    "a = np.array([[1, 2, 3], [4, 5, 6], [7, 8, 9]])\n",
    "\n",
    "print(a[0])     # перший рядок\n",
    "print(a[0][0:2])  # перший рядок, перші два елементи\n",
    "print(a[0][0])  # перший рядок, перший елемент\n",
    "print('\\n')\n",
    "print(a[1, 1]) # другий рядок, другий елемент\n",
    "print(a[1:, 1]) # з другого рядка, другий елемент\n",
    "print(a[0, :2]) # перший рядок, перші два елементи"
   ]
  },
  {
   "cell_type": "code",
   "execution_count": 26,
   "metadata": {},
   "outputs": [
    {
     "name": "stdout",
     "output_type": "stream",
     "text": [
      "[[1 2 3]\n",
      " [4 5 6]\n",
      " [7 8 9]]\n",
      "[[10  2  3]\n",
      " [ 4  5  6]\n",
      " [ 7  8  9]]\n"
     ]
    }
   ],
   "source": [
    "# за індексом можна задати елемент масива \n",
    "print(a)\n",
    "a[0, 0] = 10\n",
    "print(a)"
   ]
  },
  {
   "cell_type": "markdown",
   "metadata": {},
   "source": [
    "## Арифметичні операції\n",
    "\n"
   ]
  },
  {
   "cell_type": "code",
   "execution_count": 28,
   "metadata": {},
   "outputs": [
    {
     "name": "stdout",
     "output_type": "stream",
     "text": [
      "[[ 3  6  9]\n",
      " [12 15 18]\n",
      " [21 24 27]]\n"
     ]
    }
   ],
   "source": [
    "a = np.array([[1, 2, 3], [4, 5, 6], [7, 8, 9]])\n",
    "trip_arr = a * 3\n",
    "print(trip_arr)"
   ]
  },
  {
   "cell_type": "code",
   "execution_count": 29,
   "metadata": {},
   "outputs": [
    {
     "name": "stdout",
     "output_type": "stream",
     "text": [
      "[[1. 2. 3.]\n",
      " [4. 5. 6.]\n",
      " [7. 8. 9.]]\n"
     ]
    }
   ],
   "source": [
    "float_arr = a.astype(float) # змінює тип даних на float\n",
    "print(float_arr)"
   ]
  },
  {
   "cell_type": "markdown",
   "metadata": {},
   "source": [
    "# Basic math"
   ]
  },
  {
   "cell_type": "code",
   "execution_count": 38,
   "metadata": {},
   "outputs": [
    {
     "name": "stdout",
     "output_type": "stream",
     "text": [
      "[0.56822696 0.70443213 0.95263174 0.7465049  0.78239772 0.49061047\n",
      " 0.97500655 0.74411134 0.91628865 0.51910735] \n",
      "\n",
      "[0.11263428 0.94273771 0.38565862 0.08674395 0.89896821 0.59486776\n",
      " 0.30794086 0.62208476 0.91719475 0.23464407] \n",
      "\n",
      "[0.68086124 1.64716984 1.33829037 0.83324885 1.68136593 1.08547823\n",
      " 1.28294741 1.3661961  1.83348339 0.75375142] \n",
      "\n",
      "[ 0.45559268 -0.23830558  0.56697312  0.65976094 -0.11657048 -0.10425729\n",
      "  0.66706569  0.12202658 -0.0009061   0.28446329] \n",
      "\n",
      "[0.06400183 0.66409473 0.36739065 0.06475479 0.70335068 0.29184835\n",
      " 0.30024435 0.46290032 0.84041513 0.12180546] \n",
      "\n",
      "[5.04488476 0.74721963 2.47014248 8.60584365 0.87032858 0.82473871\n",
      " 3.16621364 1.19615749 0.99901209 2.21231828] \n",
      "\n"
     ]
    }
   ],
   "source": [
    "# При арифметичних операціях не потрібне написання циклів for з обчисленнями. Операції над масивами виконуються для кожного ряду.\n",
    "\n",
    "import numpy as np\n",
    "\n",
    "a = np.random.random(10)\n",
    "b = np.random.random(10)\n",
    "\n",
    "print(a, \"\\n\")\n",
    "print(b, \"\\n\")\n",
    "print(a + b, \"\\n\")\n",
    "print(a - b, \"\\n\")\n",
    "print(a * b, \"\\n\")\n",
    "print(a / b, \"\\n\")"
   ]
  },
  {
   "cell_type": "code",
   "execution_count": 39,
   "metadata": {},
   "outputs": [
    {
     "name": "stdout",
     "output_type": "stream",
     "text": [
      "[0.68086124 1.64716984 1.33829037 0.83324885 1.68136593 1.08547823\n",
      " 1.28294741 1.3661961  1.83348339 0.75375142] \n",
      "\n",
      "[ 0.45559268 -0.23830558  0.56697312  0.65976094 -0.11657048 -0.10425729\n",
      "  0.66706569  0.12202658 -0.0009061   0.28446329] \n",
      "\n",
      "[0.06400183 0.66409473 0.36739065 0.06475479 0.70335068 0.29184835\n",
      " 0.30024435 0.46290032 0.84041513 0.12180546] \n",
      "\n",
      "[5.04488476 0.74721963 2.47014248 8.60584365 0.87032858 0.82473871\n",
      " 3.16621364 1.19615749 0.99901209 2.21231828] \n",
      "\n"
     ]
    }
   ],
   "source": [
    "add = np.add(a, b)\n",
    "sub = np.subtract(a, b)\n",
    "mul = np.multiply(a, b)\n",
    "div = np.divide(a, b)\n",
    "\n",
    "print(add, \"\\n\")\n",
    "print(sub, \"\\n\")\n",
    "print(mul, \"\\n\")\n",
    "print(div, \"\\n\")"
   ]
  },
  {
   "cell_type": "code",
   "execution_count": 3,
   "metadata": {},
   "outputs": [
    {
     "name": "stdout",
     "output_type": "stream",
     "text": [
      "[[ 2  4  6]\n",
      " [ 5  7  9]\n",
      " [ 8 10 12]]\n",
      "[[0 0 0]\n",
      " [3 3 3]\n",
      " [6 6 6]]\n",
      "[[ 1  4  9]\n",
      " [ 4 10 18]\n",
      " [ 7 16 27]]\n",
      "[[1.  1.  1. ]\n",
      " [4.  2.5 2. ]\n",
      " [7.  4.  3. ]]\n"
     ]
    }
   ],
   "source": [
    "# Якщо розміри масивів не співпадають, то виконується операція над кожним рядом.\n",
    "# Якщо розміри масивів не співпадають, але можуть бути розширені (Арифметичні операції над матрицями різних розмірів можливі в тому випадку, якщо одна з матриць має лише один стовпець або один рядок.)\n",
    "# то розмір результуючого масиву буде рівний розміру більшого масиву.\n",
    "\n",
    "import numpy as np\n",
    "\n",
    "a = np.array([[1, 2, 3], [4, 5, 6], [7, 8, 9]])\n",
    "b = np.array([1, 2, 3])\n",
    "print(a + b)\n",
    "print(a - b)\n",
    "print(a * b)\n",
    "print(a / b)"
   ]
  },
  {
   "cell_type": "markdown",
   "metadata": {},
   "source": [
    "Якщо розміри масивів не співпадають і не можуть бути розширені, то виникає помилка.\n",
    "\n",
    "a = np.array([[1, 2, 3], [4, 5, 6], [7, 8, 9]])\n",
    "b = np.array([[1, 2, 3], [4, 5, 6]])\n",
    "print(a + b)\n",
    "---------------------------------------------------------------------------\n",
    "ValueError                                Traceback (most recent call last)\n",
    "Cell In[11], line 1\n",
    "----> 1 print(a + b)\n",
    "\n",
    "ValueError: operands could not be broadcast together with shapes (3,3) (2,3) "
   ]
  },
  {
   "cell_type": "code",
   "execution_count": 50,
   "metadata": {},
   "outputs": [
    {
     "name": "stdout",
     "output_type": "stream",
     "text": [
      "[[22 28]\n",
      " [49 64]]\n"
     ]
    }
   ],
   "source": [
    "# Матричне множення:\n",
    "# Щоб виконати звичайне математичне множення матриць, використовують функцію numpy.dot() або оператор @.\n",
    "# Це відповідає стандартному математичному множенню матриць, де рядки однієї матриці множаться на стовпці іншої.\n",
    "# матриця B має мати стільки ж рядків, скільки стовпців у матриці і на виході буде матриця з таким же розміром\n",
    "a = np.array([[1, 2, 3], [4, 5, 6]])\n",
    "b = np.array([[1, 2], [3, 4], [5, 6]])\n",
    "c = np.dot(a,b)  # або c = a @ b\n",
    "print(c)"
   ]
  },
  {
   "cell_type": "markdown",
   "metadata": {},
   "source": [
    "# Stat Functions"
   ]
  },
  {
   "cell_type": "code",
   "execution_count": 42,
   "metadata": {},
   "outputs": [
    {
     "name": "stdout",
     "output_type": "stream",
     "text": [
      "[0.44449057 0.08883863 0.82480698 0.98604529 0.14480099 0.60280905\n",
      " 0.35233946 0.35061104 0.33197799 0.10173767] \n",
      "\n",
      "[0.64754507 0.90337074 0.13753133 0.82971503 0.55996676 0.41094332\n",
      " 0.06471947 0.02717994 0.82712942 0.81096757] \n",
      "\n",
      "0.08883862750380045 \n",
      "\n"
     ]
    }
   ],
   "source": [
    "a = np.random.random(10)\n",
    "b = np.random.random(10)\n",
    "\n",
    "print(a, \"\\n\")\n",
    "print(b, \"\\n\")\n",
    "\n",
    "sqrt_arr = np.sqrt(25)\n",
    "abs_arr = np.abs(-25)\n",
    "power_arr = np.power(5, 2)\n",
    "mins = a.min()\n",
    "maxs = a.max()\n",
    "\n",
    "print(mins, \"\\n\")"
   ]
  },
  {
   "cell_type": "markdown",
   "metadata": {},
   "source": [
    "# Sorting"
   ]
  },
  {
   "cell_type": "code",
   "execution_count": 43,
   "metadata": {},
   "outputs": [
    {
     "name": "stdout",
     "output_type": "stream",
     "text": [
      "[0.53194203 0.93788867 0.01145605 0.2069125  0.06366099 0.31409938\n",
      " 0.75819315 0.20470702 0.1203253  0.85307433] \n",
      "\n",
      "[0.01145605 0.06366099 0.1203253  0.20470702 0.2069125  0.31409938\n",
      " 0.53194203 0.75819315 0.85307433 0.93788867] \n",
      "\n"
     ]
    }
   ],
   "source": [
    "a = np.random.random(10)\n",
    "print(a, \"\\n\")\n",
    "a.sort()\n",
    "print(a, \"\\n\")"
   ]
  },
  {
   "cell_type": "code",
   "execution_count": 45,
   "metadata": {},
   "outputs": [
    {
     "name": "stdout",
     "output_type": "stream",
     "text": [
      "[0.2851831  0.87294029 0.83057127 0.42185866 0.63159829 0.79622046\n",
      " 0.09826748 0.48920009 0.47543572 0.47395984] \n",
      "\n",
      "[0.87294029 0.83057127 0.79622046 0.63159829 0.48920009 0.47543572\n",
      " 0.47395984 0.42185866 0.2851831  0.09826748] \n",
      "\n"
     ]
    }
   ],
   "source": [
    "# у зворотньому порядку\n",
    "a = np.random.random(10)\n",
    "print(a, \"\\n\")\n",
    "\n",
    "a.sort()  # Спочатку сортуємо список\n",
    "reversed_a = a[::-1]  # Потім звертаємо його.# зворотній порядок бо -1 (Тут : означає взяти весь список, а -1 вказує, що крок перебору елементів має бути задом наперед.)\n",
    "print(reversed_a, \"\\n\")"
   ]
  },
  {
   "cell_type": "code",
   "execution_count": 46,
   "metadata": {},
   "outputs": [
    {
     "name": "stdout",
     "output_type": "stream",
     "text": [
      "[0.8729402923953556, 0.8305712686690464, 0.7962204590169327, 0.6315982894838983, 0.4892000907638143, 0.47543571714642974, 0.4739598425495093, 0.4218586643638782, 0.28518309878852144, 0.09826747771076916] \n",
      "\n"
     ]
    }
   ],
   "source": [
    "reversed_a = sorted(a, reverse=True)\n",
    "print(reversed_a, \"\\n\")"
   ]
  }
 ],
 "metadata": {
  "kernelspec": {
   "display_name": "Python 3",
   "language": "python",
   "name": "python3"
  },
  "language_info": {
   "codemirror_mode": {
    "name": "ipython",
    "version": 3
   },
   "file_extension": ".py",
   "mimetype": "text/x-python",
   "name": "python",
   "nbconvert_exporter": "python",
   "pygments_lexer": "ipython3",
   "version": "3.10.12"
  }
 },
 "nbformat": 4,
 "nbformat_minor": 2
}
