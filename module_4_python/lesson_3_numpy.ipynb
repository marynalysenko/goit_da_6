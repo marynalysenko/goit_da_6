{
 "cells": [
  {
   "cell_type": "markdown",
   "metadata": {},
   "source": [
    "# Тема 3. Введення в Pandas та створення DataFrame"
   ]
  },
  {
   "cell_type": "markdown",
   "metadata": {},
   "source": [
    "приклад 1: виведемо словник"
   ]
  },
  {
   "cell_type": "code",
   "execution_count": null,
   "metadata": {},
   "outputs": [],
   "source": [
    "import numpy as np\n",
    "import json\n",
    "from math import pi  # спосіб імпортувати конкретну функцію з модуля"
   ]
  },
  {
   "cell_type": "code",
   "execution_count": 51,
   "metadata": {},
   "outputs": [
    {
     "data": {
      "text/plain": [
       "{'name': 'Andriy',\n",
       " 'age': 30,\n",
       " 'address': {'street': 'Hlova Street, 10',\n",
       "  'city': 'Kyiv',\n",
       "  'country': 'Ukraine'},\n",
       " 'email': 'andriy@example.com',\n",
       " 'phone': '+380123456789',\n",
       " 'orders': [{'id': 1, 'item_id': 55},\n",
       "  {'id': 2, 'item_id': 57},\n",
       "  {'id': 3, 'item_id': 587}]}"
      ]
     },
     "execution_count": 51,
     "metadata": {},
     "output_type": "execute_result"
    }
   ],
   "source": [
    "client_info = {\n",
    "    \"name\": \"Andriy\",\n",
    "    \"age\": 30,\n",
    "    \"address\": {\n",
    "                \"street\": \"Hlova Street, 10\", \n",
    "                \"city\": \"Kyiv\", \n",
    "                \"country\": \"Ukraine\"},\n",
    "    \"email\": \"andriy@example.com\",\n",
    "    \"phone\": \"+380123456789\",\n",
    "    \"orders\": [\n",
    "                {\"id\": 1, \"item_id\": 55},\n",
    "                {\"id\": 2, \"item_id\": 57},\n",
    "                {\"id\": 3, \"item_id\": 587},\n",
    "    ],\n",
    "}\n",
    "client_info\n",
    "# часто будете працювати якщо дані з API, але частіше будуть дата інженери так отримувати дані"
   ]
  },
  {
   "cell_type": "code",
   "execution_count": 52,
   "metadata": {},
   "outputs": [
    {
     "name": "stdout",
     "output_type": "stream",
     "text": [
      "{\"name\": \"Andriy\", \"age\": 30, \"address\": {\"street\": \"Hlova Street, 10\", \"city\": \"Kyiv\", \"country\": \"Ukraine\"}, \"email\": \"andriy@example.com\", \"phone\": \"+380123456789\", \"orders\": [{\"id\": 1, \"item_id\": 55}, {\"id\": 2, \"item_id\": 57}, {\"id\": 3, \"item_id\": 587}]}\n"
     ]
    }
   ],
   "source": [
    "# кожен ключ з нового рядка і відступи на рівні - для цього базова бібліотека json\n",
    "# в ній є функція dumbs - словник в текст з форматуванням переводить\n",
    "\n",
    "import json\n",
    "\n",
    "dict_to_print =json.dumps(client_info)\n",
    "print(dict_to_print)"
   ]
  },
  {
   "cell_type": "markdown",
   "metadata": {},
   "source": [
    "Щоб вивести вміст словника в форматованому вигляді з нового рядка для кожного ключа та з відступами, потрібно використовувати аргументи indent та sort_keys у функції json.dumps. Ці аргументи дозволяють вказати рівень відступів та чи потрібно сортувати ключі у виведеному JSON.\n",
    "\n",
    "- indent визначає кількість пробілів, які використовуються для відступів. Наприклад, indent=4 зробить відступ у чотири пробіли для кожного рівня вкладеності.\n",
    "- sort_keys при значенні True впорядковує ключі словника за алфавітом.\n",
    "Ось приклад використання цих параметрів:"
   ]
  },
  {
   "cell_type": "code",
   "execution_count": 53,
   "metadata": {},
   "outputs": [
    {
     "name": "stdout",
     "output_type": "stream",
     "text": [
      "{\n",
      "    \"address\": {\n",
      "        \"city\": \"Kyiv\",\n",
      "        \"country\": \"Ukraine\",\n",
      "        \"street\": \"Hlova Street, 10\"\n",
      "    },\n",
      "    \"age\": 30,\n",
      "    \"email\": \"andriy@example.com\",\n",
      "    \"name\": \"Andriy\",\n",
      "    \"orders\": [\n",
      "        {\n",
      "            \"id\": 1,\n",
      "            \"item_id\": 55\n",
      "        },\n",
      "        {\n",
      "            \"id\": 2,\n",
      "            \"item_id\": 57\n",
      "        },\n",
      "        {\n",
      "            \"id\": 3,\n",
      "            \"item_id\": 587\n",
      "        }\n",
      "    ],\n",
      "    \"phone\": \"+380123456789\"\n",
      "}\n"
     ]
    }
   ],
   "source": [
    "# Використання json.dumps з indent і sort_keys\n",
    "dict_to_print = json.dumps(client_info, indent=4, sort_keys=True)\n",
    "print(dict_to_print)"
   ]
  },
  {
   "cell_type": "markdown",
   "metadata": {},
   "source": [
    "приклад 2: нам треба константа чиста Пі"
   ]
  },
  {
   "cell_type": "code",
   "execution_count": 55,
   "metadata": {},
   "outputs": [
    {
     "name": "stdout",
     "output_type": "stream",
     "text": [
      "3.141592653589793\n"
     ]
    }
   ],
   "source": [
    "from math import pi # спосіб імпортувати конкретну функцію з модуля\n",
    "\n",
    "print(pi)"
   ]
  },
  {
   "cell_type": "markdown",
   "metadata": {},
   "source": [
    "приклад 3: до кожного елементу масива додати 5"
   ]
  },
  {
   "cell_type": "code",
   "execution_count": 59,
   "metadata": {},
   "outputs": [
    {
     "name": "stdout",
     "output_type": "stream",
     "text": [
      "[1, 2, 3, 4, 5]\n"
     ]
    }
   ],
   "source": [
    "my_list = [1, 2, 3, 4, 5]\n",
    "print(my_list)\n",
    "\n",
    "#my_list + 5 # не можна додати число до списку"
   ]
  },
  {
   "cell_type": "code",
   "execution_count": 60,
   "metadata": {},
   "outputs": [
    {
     "name": "stdout",
     "output_type": "stream",
     "text": [
      "[6, 7, 8, 9, 10]\n"
     ]
    }
   ],
   "source": [
    "# але можна додати число до кожного елементу списку за допомогою\n",
    "new_list = [] \n",
    "for x in my_list:\n",
    "    new_list.append(x + 5)\n",
    "print(new_list)"
   ]
  },
  {
   "cell_type": "code",
   "execution_count": null,
   "metadata": {},
   "outputs": [],
   "source": [
    "# або можна використати бібліотеку numpy, що дозволяє виконувати операції над матрицями і векторами "
   ]
  },
  {
   "cell_type": "code",
   "execution_count": null,
   "metadata": {},
   "outputs": [],
   "source": [
    "# бібліотек в пайтоні доволі багато  - вони допомагають вирішувати різні задачі\n",
    "# іноді вони вбудовані в пайтон, а іноді потрібно встановлювати окремо\n",
    "# наприклад, для роботи з датами потрібно встановити бібліотеку datetime\n",
    "# для роботи з графіками - matplotlib\n",
    "# для роботи з даними - pandas\n",
    "# для роботи з нейронними мережами - tensorflow\n",
    "# для роботи з образами - opencv\n",
    "# для роботи з текстами - nltk\n",
    "# для роботи зі звуком - librosa\n",
    "# для роботи з геоданими - geopandas\n",
    "# іх треба перевіряти перед інсталяцією на ресурсі pypi.org - там є документація і приклади використання і статистка використання "
   ]
  },
  {
   "cell_type": "markdown",
   "metadata": {},
   "source": [
    "# I. NumPy"
   ]
  },
  {
   "cell_type": "markdown",
   "metadata": {},
   "source": [
    "# pip install numpy"
   ]
  },
  {
   "cell_type": "code",
   "execution_count": 61,
   "metadata": {},
   "outputs": [],
   "source": [
    "import numpy as np\n",
    "\n",
    "# 1. Інструкція import в мові програмування Python використовується для підключення модулів та бібліотек до поточного скрипта.\n",
    "# 2. Ми скорочуємо імпортоване ім'я до np для кращого читання коду за допомогою NumPy. Це широко розповсюджена угода, якій необхідно слідувати, щоб будь-хто, хто працює з нашим кодом, зміг легко його зрозуміти.\n",
    "# 3. Інструкція from ... import використовується для імпортування конкретних імен з модуля. Це може бути корисно, якщо ви знаєте, які функції вам потрібні, і ви не хочете завантажувати весь модуль в пам'ять."
   ]
  },
  {
   "cell_type": "code",
   "execution_count": null,
   "metadata": {},
   "outputs": [],
   "source": [
    "# бібліотека NumPy - це основна бібліотека для наукових обчислень у Python.\n",
    "\n",
    "# Об'єкт ndarray в NumPy -  це  ключовий об'єкт у бібліотеці NumPy.\n",
    "# ndarray є скороченням від \"n-dimensional array\", що означає \"багатовимірний масив\".\n",
    "# Це основний тип даних, який використовується в NumPy для зберігання і обробки багатовимірних масивів.\n",
    "# ndarray не є вбудованим типом даних у Python, як, наприклад, int, float, або list.\n",
    "# Натомість, ndarray є типом, який надається бібліотекою NumPy, спеціалізованою бібліотекою для наукових обчислень у Python.\n",
    "\n",
    "# np.array - це функція в NumPy, яка використовується для створення нових об'єктів ndarray.\n",
    "# Коли ви створюєте масив за допомогою np.array, ви отримуєте екземпляр ndarray."
   ]
  },
  {
   "cell_type": "markdown",
   "metadata": {},
   "source": [
    "Найпростіший спосіб створення невеликого масиву NumPy – виклик конструктора np.array зі списком або кортежем значень:"
   ]
  },
  {
   "cell_type": "code",
   "execution_count": 64,
   "metadata": {},
   "outputs": [
    {
     "name": "stdout",
     "output_type": "stream",
     "text": [
      "[1. 2. 3. 4. 5.]\n"
     ]
    },
    {
     "data": {
      "text/plain": [
       "array([ 6.,  7.,  8.,  9., 10.])"
      ]
     },
     "execution_count": 64,
     "metadata": {},
     "output_type": "execute_result"
    }
   ],
   "source": [
    "import numpy as np # стандартний еліас для numpy - np\n",
    "# create a 1D array from a list\n",
    "a = np.array([1, 2, 3, 4, 5], dtype=float)\n",
    "\n",
    "print(a)  # [1. 2. 3. 4. 5.]\n",
    "a+5"
   ]
  },
  {
   "cell_type": "code",
   "execution_count": 65,
   "metadata": {},
   "outputs": [
    {
     "data": {
      "text/plain": [
       "array([1, 2, 3, 4, 5])"
      ]
     },
     "execution_count": 65,
     "metadata": {},
     "output_type": "execute_result"
    }
   ],
   "source": [
    "np.array([1, 2, 3, 4, 5])"
   ]
  },
  {
   "cell_type": "code",
   "execution_count": 67,
   "metadata": {},
   "outputs": [
    {
     "name": "stdout",
     "output_type": "stream",
     "text": [
      "[[1 2 3]\n",
      " [4 5 6]]\n"
     ]
    }
   ],
   "source": [
    "# create a 2d array\n",
    "m = np.array([[1, 2, 3], [4, 5, 6]], dtype=int)\n",
    "\n",
    "print(m)"
   ]
  },
  {
   "cell_type": "markdown",
   "metadata": {},
   "source": [
    "## Atributes"
   ]
  },
  {
   "cell_type": "code",
   "execution_count": 70,
   "metadata": {},
   "outputs": [
    {
     "name": "stdout",
     "output_type": "stream",
     "text": [
      "(5,)\n",
      "(2, 3)\n",
      "5\n",
      "6\n",
      "float64\n",
      "int64\n"
     ]
    }
   ],
   "source": [
    "\n",
    "a = np.array([1, 2, 3, 4, 5], dtype=float)\n",
    "m = np.array([[1, 2, 3], [4, 5, 6]], dtype=int)\n",
    "\n",
    "# Розмірність створеного вектора та матриці можна подивитися за допомогою атрибуту shape.Розмірність - це кортеж, який містить кількість елементів у кожному розмірі масиву.\n",
    "print(a.shape)  # (5,)\n",
    "print(m.shape)  # (2, 3)\n",
    "\n",
    "# size - це атрибут, який містить загальну кількість елементів у масиві.\n",
    "print(a.size)\n",
    "print(m.size)\n",
    "\n",
    "# dtype - це атрибут, який містить тип даних, який зберігається в масиві.\n",
    "print(a.dtype)\n",
    "print(m.dtype)"
   ]
  },
  {
   "cell_type": "code",
   "execution_count": 73,
   "metadata": {},
   "outputs": [
    {
     "name": "stdout",
     "output_type": "stream",
     "text": [
      "[0.83578357 0.09297304 0.09770802] \n",
      "\n",
      "[[1.83835250e-01 2.52974185e-01 7.73707011e-04]\n",
      " [8.27299218e-01 8.85430549e-01 6.74062244e-01]\n",
      " [9.63900792e-01 6.03126184e-01 1.38522655e-01]]\n"
     ]
    }
   ],
   "source": [
    "# Щоб створити масив з випадковими числами, використовуйте функцію random.\n",
    "import numpy as np\n",
    "\n",
    "a = np.random.random(3) # 3 випадкових числа від 0 до 1\n",
    "b = np.random.random((3, 3)) # 3 випадкових числа від 0 до 1\n",
    "print(a , '\\n')\n",
    "print(b)"
   ]
  },
  {
   "cell_type": "code",
   "execution_count": 75,
   "metadata": {},
   "outputs": [
    {
     "name": "stdout",
     "output_type": "stream",
     "text": [
      "[1. 1. 1. 1. 1.]\n",
      "[[1 1 1]\n",
      " [1 1 1]]\n"
     ]
    }
   ],
   "source": [
    "# Щоб створити масив з одиниць, використовуйте функцію ones.\n",
    "import numpy as np\n",
    "\n",
    "a = np.ones((5,), dtype=float)\n",
    "print(a)\n",
    "\n",
    "m = np.ones((2, 3), dtype=int)\n",
    "print(m)"
   ]
  },
  {
   "cell_type": "code",
   "execution_count": 76,
   "metadata": {},
   "outputs": [
    {
     "name": "stdout",
     "output_type": "stream",
     "text": [
      "[0. 0. 0. 0. 0.]\n",
      "[[0 0 0]\n",
      " [0 0 0]]\n"
     ]
    }
   ],
   "source": [
    "# Щоб створити масив з нулів, використовуйте функцію zeros.\n",
    "import numpy as np\n",
    "\n",
    "a = np.zeros(5, dtype=float)\n",
    "print(a)\n",
    "\n",
    "m = np.zeros((2, 3), dtype=int)\n",
    "print(m)"
   ]
  },
  {
   "cell_type": "code",
   "execution_count": 77,
   "metadata": {},
   "outputs": [
    {
     "name": "stdout",
     "output_type": "stream",
     "text": [
      "[[1 0 0 0]\n",
      " [0 1 0 0]\n",
      " [0 0 1 0]\n",
      " [0 0 0 1]]\n"
     ]
    }
   ],
   "source": [
    "# Щоб створити одиничну матрицю, використовуйте функцію eye.\n",
    "m = np.identity(4, dtype=int)\n",
    "print(m)"
   ]
  },
  {
   "cell_type": "code",
   "execution_count": 78,
   "metadata": {},
   "outputs": [
    {
     "name": "stdout",
     "output_type": "stream",
     "text": [
      "[0 1 2 3 4]\n",
      "[1.  1.5 2.  2.5]\n"
     ]
    }
   ],
   "source": [
    "# Щоб створити масив з послідовністю чисел, використовуйте функцію arange.\n",
    "import numpy as np\n",
    "\n",
    "a = np.arange(5) # 5 послідовних чисел починаючи з 0\n",
    "b = np.arange(1, 3, 0.5) # послідовність чисел від 1 до 3 з кроком 0.5\n",
    "print(a)\n",
    "print(b)"
   ]
  },
  {
   "cell_type": "code",
   "execution_count": 79,
   "metadata": {},
   "outputs": [
    {
     "name": "stdout",
     "output_type": "stream",
     "text": [
      "[1. 2. 3. 4. 5.]\n",
      "[1. 2. 3.]\n"
     ]
    }
   ],
   "source": [
    "# Щоб створити масив з рівномірно розподіленими числами, використовуйте функцію linspace. \n",
    "# Ця функція приймає три аргументи: початок послідовності, кінець послідовності, кількість елементів.\n",
    "# По замовчуванню кількість елементів дорівнює 50.\n",
    "import numpy as np\n",
    "\n",
    "a = np.linspace(1, 5, num=5) # 5 рівномірно розподілених чисел від 1 до 5\n",
    "b = np.linspace(1, 3, num=3) # 3 рівномірно розподілених чисел від 1 до 3\n",
    "print(a)\n",
    "print(b)"
   ]
  },
  {
   "cell_type": "markdown",
   "metadata": {},
   "source": [
    "### Індексація / Slising "
   ]
  },
  {
   "cell_type": "code",
   "execution_count": 81,
   "metadata": {},
   "outputs": [
    {
     "name": "stdout",
     "output_type": "stream",
     "text": [
      "1\n",
      "[2 3 4 5]\n",
      "[1 2]\n"
     ]
    }
   ],
   "source": [
    "# Масив NumPy можна розділити на частини та присвоїти їм індекси. Принцип роботи схожий на те, як це відбувається зі списками Python.\n",
    "\n",
    "import numpy as np\n",
    "\n",
    "a = np.array([1, 2, 3, 4, 5])\n",
    "print(a[0]) # перший елемент\n",
    "print(a[1:]) # з другого елемента до кінця\n",
    "print(a[:2]) # з початку до другого елемента"
   ]
  },
  {
   "cell_type": "markdown",
   "metadata": {},
   "source": [
    "Індексація багатовимірного масиву NumPy трохи відрізняється від індексації звичайного списку списків у Python: замість зазначення індексу необхідного елемента в окремих квадратних дужках m[i][j] використовується кортеж цілих чисел m[i, j]:"
   ]
  },
  {
   "cell_type": "code",
   "execution_count": 84,
   "metadata": {},
   "outputs": [
    {
     "name": "stdout",
     "output_type": "stream",
     "text": [
      "[1 2 3]\n",
      "[1 2]\n",
      "1\n",
      "\n",
      "\n",
      "5\n",
      "[5 8]\n",
      "[1 2]\n"
     ]
    }
   ],
   "source": [
    "import numpy as np\n",
    "\n",
    "a = np.array([[1, 2, 3], [4, 5, 6], [7, 8, 9]])\n",
    "\n",
    "print(a[0])     # перший рядок\n",
    "print(a[0][0:2])  # перший рядок, перші два елементи\n",
    "print(a[0][0])  # перший рядок, перший елемент\n",
    "print('\\n')\n",
    "print(a[1, 1]) # другий рядок, другий елемент\n",
    "print(a[1:, 1]) # з другого рядка, другий елемент\n",
    "print(a[0, :2]) # перший рядок, перші два елементи"
   ]
  },
  {
   "cell_type": "code",
   "execution_count": 85,
   "metadata": {},
   "outputs": [
    {
     "name": "stdout",
     "output_type": "stream",
     "text": [
      "[[1 2 3]\n",
      " [4 5 6]\n",
      " [7 8 9]]\n",
      "[[10  2  3]\n",
      " [ 4  5  6]\n",
      " [ 7  8  9]]\n"
     ]
    }
   ],
   "source": [
    "# за індексом можна задати елемент масива \n",
    "print(a)\n",
    "a[0, 0] = 10\n",
    "print(a)"
   ]
  },
  {
   "cell_type": "markdown",
   "metadata": {},
   "source": [
    "## Арифметичні операції\n",
    "\n"
   ]
  },
  {
   "cell_type": "code",
   "execution_count": 88,
   "metadata": {},
   "outputs": [
    {
     "name": "stdout",
     "output_type": "stream",
     "text": [
      "[[ 3  6  9]\n",
      " [12 15 18]\n",
      " [21 24 27]]\n"
     ]
    }
   ],
   "source": [
    "a = np.array([[1, 2, 3], [4, 5, 6], [7, 8, 9]])\n",
    "trip_arr = a * 3\n",
    "print(trip_arr)"
   ]
  },
  {
   "cell_type": "code",
   "execution_count": 89,
   "metadata": {},
   "outputs": [
    {
     "name": "stdout",
     "output_type": "stream",
     "text": [
      "[[1. 2. 3.]\n",
      " [4. 5. 6.]\n",
      " [7. 8. 9.]]\n"
     ]
    }
   ],
   "source": [
    "float_arr = a.astype(float) # змінює тип даних на float\n",
    "print(float_arr)"
   ]
  },
  {
   "cell_type": "markdown",
   "metadata": {},
   "source": [
    "# Basic math"
   ]
  },
  {
   "cell_type": "code",
   "execution_count": 90,
   "metadata": {},
   "outputs": [
    {
     "name": "stdout",
     "output_type": "stream",
     "text": [
      "[0.87112797 0.032603   0.93295568 0.75441056 0.91948053 0.00655292\n",
      " 0.09974217 0.56512118 0.99494317 0.12762141] \n",
      "\n",
      "[0.35809352 0.72705581 0.95096836 0.43476337 0.120655   0.6927949\n",
      " 0.38715951 0.3779894  0.57966981 0.84071148] \n",
      "\n",
      "[1.22922148 0.75965881 1.88392405 1.18917393 1.04013553 0.69934782\n",
      " 0.48690168 0.94311058 1.57461299 0.96833289] \n",
      "\n",
      "[ 0.51303445 -0.69445282 -0.01801268  0.31964719  0.79882553 -0.68624198\n",
      " -0.28741734  0.18713178  0.41527336 -0.71309007] \n",
      "\n",
      "[0.31194528 0.0237042  0.88721134 0.32799008 0.11093992 0.00453983\n",
      " 0.03861613 0.21360982 0.57673852 0.10729278] \n",
      "\n",
      "[2.43268288 0.0448425  0.9810586  1.73522107 7.62074128 0.00945867\n",
      " 0.25762552 1.49507151 1.71639639 0.15180167] \n",
      "\n"
     ]
    }
   ],
   "source": [
    "# При арифметичних операціях не потрібне написання циклів for з обчисленнями. Операції над масивами виконуються для кожного ряду.\n",
    "\n",
    "import numpy as np\n",
    "\n",
    "a = np.random.random(10)\n",
    "b = np.random.random(10)\n",
    "\n",
    "print(a, \"\\n\")\n",
    "print(b, \"\\n\")\n",
    "\n",
    "print(a + b, \"\\n\")\n",
    "print(a - b, \"\\n\")\n",
    "print(a * b, \"\\n\")\n",
    "print(a / b, \"\\n\")"
   ]
  },
  {
   "cell_type": "code",
   "execution_count": 93,
   "metadata": {},
   "outputs": [
    {
     "name": "stdout",
     "output_type": "stream",
     "text": [
      "[1.22922148 0.75965881 1.88392405 1.18917393 1.04013553 0.69934782\n",
      " 0.48690168 0.94311058 1.57461299 0.96833289] \n",
      "\n",
      "[ 0.51303445 -0.69445282 -0.01801268  0.31964719  0.79882553 -0.68624198\n",
      " -0.28741734  0.18713178  0.41527336 -0.71309007] \n",
      "\n",
      "[0.31194528 0.0237042  0.88721134 0.32799008 0.11093992 0.00453983\n",
      " 0.03861613 0.21360982 0.57673852 0.10729278] \n",
      "\n",
      "[2.43268288 0.0448425  0.9810586  1.73522107 7.62074128 0.00945867\n",
      " 0.25762552 1.49507151 1.71639639 0.15180167] \n",
      "\n"
     ]
    }
   ],
   "source": [
    "add = np.add(a, b)\n",
    "sub = np.subtract(a, b)\n",
    "mul = np.multiply(a, b)\n",
    "div = np.divide(a, b)\n",
    "\n",
    "print(add, \"\\n\")\n",
    "print(sub, \"\\n\")\n",
    "print(mul, \"\\n\")\n",
    "print(div, \"\\n\")"
   ]
  },
  {
   "cell_type": "code",
   "execution_count": 94,
   "metadata": {},
   "outputs": [
    {
     "name": "stdout",
     "output_type": "stream",
     "text": [
      "[[ 2  4  6]\n",
      " [ 5  7  9]\n",
      " [ 8 10 12]]\n",
      "[[0 0 0]\n",
      " [3 3 3]\n",
      " [6 6 6]]\n",
      "[[ 1  4  9]\n",
      " [ 4 10 18]\n",
      " [ 7 16 27]]\n",
      "[[1.  1.  1. ]\n",
      " [4.  2.5 2. ]\n",
      " [7.  4.  3. ]]\n"
     ]
    }
   ],
   "source": [
    "# Якщо розміри масивів не співпадають, то виконується операція над кожним рядом.\n",
    "# Якщо розміри масивів не співпадають, але можуть бути розширені (Арифметичні операції над матрицями різних розмірів можливі в тому випадку, якщо одна з матриць має лише один стовпець або один рядок.)\n",
    "# то розмір результуючого масиву буде рівний розміру більшого масиву.\n",
    "\n",
    "import numpy as np\n",
    "\n",
    "a = np.array([[1, 2, 3], [4, 5, 6], [7, 8, 9]])\n",
    "b = np.array([1, 2, 3])\n",
    "\n",
    "print(a + b)\n",
    "print(a - b)\n",
    "print(a * b)\n",
    "print(a / b)"
   ]
  },
  {
   "cell_type": "markdown",
   "metadata": {},
   "source": [
    "Якщо розміри масивів не співпадають і не можуть бути розширені, то виникає помилка.\n",
    "\n",
    "a = np.array([[1, 2, 3], [4, 5, 6], [7, 8, 9]])\n",
    "b = np.array([[1, 2, 3], [4, 5, 6]])\n",
    "print(a + b)\n",
    "---------------------------------------------------------------------------\n",
    "ValueError                                Traceback (most recent call last)\n",
    "Cell In[11], line 1\n",
    "----> 1 print(a + b)\n",
    "\n",
    "ValueError: operands could not be broadcast together with shapes (3,3) (2,3) "
   ]
  },
  {
   "cell_type": "code",
   "execution_count": 95,
   "metadata": {},
   "outputs": [
    {
     "name": "stdout",
     "output_type": "stream",
     "text": [
      "[[22 28]\n",
      " [49 64]]\n"
     ]
    }
   ],
   "source": [
    "# Матричне множення:\n",
    "# Щоб виконати звичайне математичне множення матриць, використовують функцію numpy.dot() або оператор @.\n",
    "# Це відповідає стандартному математичному множенню матриць, де рядки однієї матриці множаться на стовпці іншої.\n",
    "# матриця B має мати стільки ж рядків, скільки стовпців у матриці і на виході буде матриця з таким же розміром\n",
    "a = np.array([[1, 2, 3], [4, 5, 6]])\n",
    "b = np.array([[1, 2], [3, 4], [5, 6]])\n",
    "\n",
    "c = np.dot(a,b)  # або c = a @ b\n",
    "print(c)"
   ]
  },
  {
   "cell_type": "markdown",
   "metadata": {},
   "source": [
    "# Stat Functions"
   ]
  },
  {
   "cell_type": "code",
   "execution_count": 97,
   "metadata": {},
   "outputs": [
    {
     "name": "stdout",
     "output_type": "stream",
     "text": [
      "[0.8518019  0.6535514  0.89372806 0.20390288 0.69861136 0.92762968\n",
      " 0.74500738 0.64962705 0.49323751 0.31809712] \n",
      "\n",
      "[0.30676819 0.8178632  0.06862255 0.33363026 0.30606523 0.31823828\n",
      " 0.54885765 0.18350087 0.09510367 0.66972818] \n",
      "\n",
      "0.2039028839599336 \n",
      "\n"
     ]
    }
   ],
   "source": [
    "a = np.random.random(10)\n",
    "b = np.random.random(10)\n",
    "\n",
    "print(a, \"\\n\")\n",
    "print(b, \"\\n\")\n",
    "\n",
    "sqrt_arr = np.sqrt(25)\n",
    "abs_arr = np.abs(-25)\n",
    "power_arr = np.power(5, 2)\n",
    "\n",
    "mins = a.min()\n",
    "maxs = a.max()\n",
    "\n",
    "print(mins, \"\\n\")"
   ]
  },
  {
   "cell_type": "markdown",
   "metadata": {},
   "source": [
    "# Sorting"
   ]
  },
  {
   "cell_type": "code",
   "execution_count": 98,
   "metadata": {},
   "outputs": [
    {
     "name": "stdout",
     "output_type": "stream",
     "text": [
      "[0.72296367 0.56755383 0.76887112 0.18808059 0.189684   0.04111643\n",
      " 0.61107153 0.15916665 0.05883633 0.49748632] \n",
      "\n",
      "[0.04111643 0.05883633 0.15916665 0.18808059 0.189684   0.49748632\n",
      " 0.56755383 0.61107153 0.72296367 0.76887112] \n",
      "\n"
     ]
    }
   ],
   "source": [
    "a = np.random.random(10)\n",
    "print(a, \"\\n\")\n",
    "\n",
    "a.sort()\n",
    "print(a, \"\\n\")"
   ]
  },
  {
   "cell_type": "code",
   "execution_count": 100,
   "metadata": {},
   "outputs": [
    {
     "name": "stdout",
     "output_type": "stream",
     "text": [
      "[0.31800216 0.04239552 0.79190199 0.40822457 0.9168872  0.71971533\n",
      " 0.77125465 0.62447733 0.17014459 0.95448577] \n",
      "\n",
      "[0.95448577 0.9168872  0.79190199 0.77125465 0.71971533 0.62447733\n",
      " 0.40822457 0.31800216 0.17014459 0.04239552] \n",
      "\n"
     ]
    }
   ],
   "source": [
    "# у зворотньому порядку\n",
    "a = np.random.random(10)\n",
    "print(a, \"\\n\")\n",
    "\n",
    "a.sort()  # Спочатку сортуємо список\n",
    "reversed_a = a[::-1]  # Потім звертаємо його.# зворотній порядок бо -1 (Тут : означає взяти весь список, а -1 вказує, що крок перебору елементів має бути задом наперед.)\n",
    "print(reversed_a, \"\\n\")"
   ]
  },
  {
   "cell_type": "code",
   "execution_count": 101,
   "metadata": {},
   "outputs": [
    {
     "name": "stdout",
     "output_type": "stream",
     "text": [
      "[0.954485766116746, 0.916887198363519, 0.791901990974261, 0.7712546476418015, 0.7197153332454796, 0.6244773274036529, 0.408224573152139, 0.31800215631990614, 0.17014458882191674, 0.04239551554531462] \n",
      "\n"
     ]
    }
   ],
   "source": [
    "reversed_a = sorted(a, reverse=True)\n",
    "print(reversed_a, \"\\n\")"
   ]
  }
 ],
 "metadata": {
  "kernelspec": {
   "display_name": "Python 3",
   "language": "python",
   "name": "python3"
  },
  "language_info": {
   "codemirror_mode": {
    "name": "ipython",
    "version": 3
   },
   "file_extension": ".py",
   "mimetype": "text/x-python",
   "name": "python",
   "nbconvert_exporter": "python",
   "pygments_lexer": "ipython3",
   "version": "3.10.12"
  }
 },
 "nbformat": 4,
 "nbformat_minor": 2
}
