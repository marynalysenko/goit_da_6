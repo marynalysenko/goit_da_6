{
 "cells": [
  {
   "cell_type": "markdown",
   "metadata": {},
   "source": [
    "# Тема 4. Робота з даними в Pandas та агрегація даних"
   ]
  },
  {
   "cell_type": "code",
   "execution_count": null,
   "metadata": {},
   "outputs": [],
   "source": [
    "import pandas as pd\n",
    "import numpy as np"
   ]
  },
  {
   "cell_type": "code",
   "execution_count": null,
   "metadata": {},
   "outputs": [],
   "source": [
    "# # параметри виведення \n",
    "# pd.set_option(\"display.max_columns\", 500) # кількість колонок\n",
    "# pd.set_option(\"display.max_rows\", 1000) # кількість рядків\n",
    "# pd.set_option(\"display.max_colwidth\", 300) # ширина колонок\n",
    "# pd.set_option(\"display.precision\", 7) # кількість знаків після коми\n",
    "\n",
    "# # вимикаємо зайві попередження\n",
    "# import warnings\n",
    "# warnings.filterwarnings(\"ignore\") \n",
    "\n",
    "# # друк всіх результатів в одній комірці а не тільки останнього\n",
    "# from IPython.core.interactiveshell import InteractiveShell\n",
    "# InteractiveShell.ast_node_interactivity = \"all\""
   ]
  },
  {
   "cell_type": "code",
   "execution_count": null,
   "metadata": {},
   "outputs": [],
   "source": [
    "df = pd.read_csv(\"survey_results_public.csv\")"
   ]
  },
  {
   "cell_type": "code",
   "execution_count": null,
   "metadata": {},
   "outputs": [],
   "source": [
    "df.head()"
   ]
  },
  {
   "cell_type": "code",
   "execution_count": null,
   "metadata": {},
   "outputs": [],
   "source": [
    "df.columns"
   ]
  },
  {
   "cell_type": "markdown",
   "metadata": {},
   "source": [
    "# Cпособи фільтрації "
   ]
  },
  {
   "cell_type": "code",
   "execution_count": null,
   "metadata": {},
   "outputs": [],
   "source": [
    "# обмежити колонки\n",
    "df[[\"DevType\", \"Country\", \"YearsCodePro\", \"TechList\", \"ConvertedCompYearly\"]]"
   ]
  },
  {
   "cell_type": "code",
   "execution_count": null,
   "metadata": {},
   "outputs": [],
   "source": [
    "# за номером рядка (індексом)\n",
    "\n",
    "df[0:15]"
   ]
  },
  {
   "cell_type": "code",
   "execution_count": null,
   "metadata": {},
   "outputs": [],
   "source": [
    "# можемо поєднувати ці два підходи\n",
    "\n",
    "df[[\"DevType\", \"Country\", \"YearsCodePro\", \"TechList\", \"ConvertedCompYearly\"]][0:15]"
   ]
  },
  {
   "cell_type": "code",
   "execution_count": null,
   "metadata": {},
   "outputs": [],
   "source": [
    "# умови для фільтрації рядків\n",
    "\n",
    "df[\"ConvertedCompYearly\"]\n",
    "df[\"ConvertedCompYearly\"] > 1000000"
   ]
  },
  {
   "cell_type": "code",
   "execution_count": null,
   "metadata": {},
   "outputs": [],
   "source": [
    "# можемо на серії застосувати методи\n",
    "\n",
    "df[\"LanguageHaveWorkedWith\"].str.contains(\"SQL\")"
   ]
  },
  {
   "cell_type": "code",
   "execution_count": null,
   "metadata": {},
   "outputs": [],
   "source": [
    "df['Country'].unique()"
   ]
  },
  {
   "cell_type": "code",
   "execution_count": null,
   "metadata": {},
   "outputs": [],
   "source": [
    "countries = [\n",
    "    \"Ukraine\",\n",
    "    \"Poland\",\n",
    "    \"Czech Republic\",\n",
    "    \"Germany\",\n",
    "    \"Albania\",\n",
    "    \"Egypt\",\n",
    "    \"Turkey\",\n",
    "    \"Iceland\",\n",
    "    \"Azerbaijan\",\n",
    "    \"Nigeria\",\n",
    "    \"Kazakhstan\",\n",
    "]"
   ]
  },
  {
   "cell_type": "code",
   "execution_count": null,
   "metadata": {},
   "outputs": [],
   "source": [
    "df[\"Country\"].isin(countries)"
   ]
  },
  {
   "cell_type": "code",
   "execution_count": null,
   "metadata": {},
   "outputs": [],
   "source": [
    "df[df[\"Country\"].isin(countries)]"
   ]
  },
  {
   "cell_type": "code",
   "execution_count": null,
   "metadata": {},
   "outputs": [],
   "source": [
    "df['DevType'].unique()"
   ]
  },
  {
   "cell_type": "code",
   "execution_count": null,
   "metadata": {},
   "outputs": [],
   "source": [
    "profession = [\n",
    "    \"Data scientist or machine learning specialist\",\n",
    "    \"Data or business analyst\",\n",
    "    \"Engineer, data\",\n",
    "]"
   ]
  },
  {
   "cell_type": "code",
   "execution_count": null,
   "metadata": {},
   "outputs": [],
   "source": [
    "df2 = df[df[\"Country\"].isin(countries)]\n",
    "df3 = df2[df[\"DevType\"].isin(profession)]"
   ]
  },
  {
   "cell_type": "code",
   "execution_count": null,
   "metadata": {},
   "outputs": [],
   "source": [
    "# це можна написати і одразу\n",
    "df[df[\"Country\"].isin(countries)   &  df[\"DevType\"].isin(profession)]\n",
    "\n"
   ]
  },
  {
   "cell_type": "code",
   "execution_count": null,
   "metadata": {},
   "outputs": [],
   "source": [
    "# можна використовувати інверсію ()\n",
    "df[~df[\"Country\"].isin(countries)]"
   ]
  },
  {
   "cell_type": "code",
   "execution_count": null,
   "metadata": {},
   "outputs": [],
   "source": [
    "df[\"LanguageHaveWorkedWith\"].str.contains(\"SQL\")"
   ]
  },
  {
   "cell_type": "code",
   "execution_count": null,
   "metadata": {},
   "outputs": [],
   "source": [
    "df[~df[\"ConvertedCompYearly\"].isna()]"
   ]
  },
  {
   "cell_type": "markdown",
   "metadata": {},
   "source": [
    "# Методи loc - зберігають послідовність фільтрації"
   ]
  },
  {
   "cell_type": "code",
   "execution_count": null,
   "metadata": {},
   "outputs": [],
   "source": [
    "df.loc[730, \"Country\"]"
   ]
  },
  {
   "cell_type": "code",
   "execution_count": null,
   "metadata": {},
   "outputs": [],
   "source": [
    "df.loc[1:3, [\"Country\", \"Age\"]]"
   ]
  },
  {
   "cell_type": "code",
   "execution_count": null,
   "metadata": {},
   "outputs": [],
   "source": [
    "# 3. по індексу і колонці\n",
    "df.loc[[1, 7, 3], [\"Country\", \"Age\"]]"
   ]
  },
  {
   "cell_type": "code",
   "execution_count": null,
   "metadata": {},
   "outputs": [],
   "source": [
    "df.loc[[1, 7, 3], \"Age\":\"LearnCode\"]"
   ]
  },
  {
   "cell_type": "code",
   "execution_count": null,
   "metadata": {},
   "outputs": [],
   "source": [
    "# iloc працює по номеру а не позначенню \n",
    "\n",
    "df.iloc[1:3, 0:2]"
   ]
  },
  {
   "cell_type": "code",
   "execution_count": null,
   "metadata": {},
   "outputs": [],
   "source": [
    "df.loc[730, \"RemoteWork\"]\n",
    "df.iloc[730, 5]"
   ]
  }
 ],
 "metadata": {
  "kernelspec": {
   "display_name": "Python 3",
   "language": "python",
   "name": "python3"
  },
  "language_info": {
   "codemirror_mode": {
    "name": "ipython",
    "version": 3
   },
   "file_extension": ".py",
   "mimetype": "text/x-python",
   "name": "python",
   "nbconvert_exporter": "python",
   "pygments_lexer": "ipython3",
   "version": "3.10.12"
  }
 },
 "nbformat": 4,
 "nbformat_minor": 2
}
