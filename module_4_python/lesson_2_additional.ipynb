{
 "cells": [
  {
   "cell_type": "code",
   "execution_count": 7,
   "metadata": {},
   "outputs": [
    {
     "name": "stdout",
     "output_type": "stream",
     "text": [
      "Ви ввели: 12\n"
     ]
    }
   ],
   "source": [
    "# вбудовані\n",
    "a = input(\"Введіть число: \")\n",
    "b = input(\"Введіть число: \")\n",
    "print(f\"Ви ввели: {a+b}\")\n",
    "\n",
    "# виведе конкатановано два рядки (просто склеїть)"
   ]
  },
  {
   "cell_type": "code",
   "execution_count": 8,
   "metadata": {},
   "outputs": [
    {
     "name": "stdout",
     "output_type": "stream",
     "text": [
      "Ви ввели: 3\n"
     ]
    }
   ],
   "source": [
    "# приведення типів\n",
    "\n",
    "a = int(input(\"Введіть число: \"))\n",
    "b = int(input(\"Введіть число: \"))\n",
    "print(f\"Ви ввели: {a+b}\")\n",
    "\n",
    "# виведе як суму"
   ]
  },
  {
   "cell_type": "code",
   "execution_count": 13,
   "metadata": {},
   "outputs": [
    {
     "name": "stdout",
     "output_type": "stream",
     "text": [
      "Ви ввели: 3\n"
     ]
    }
   ],
   "source": [
    "a, b = input(\"Введіть два числа через пробіл: \").split()\n",
    "print(f\"Ви ввели: {int(a)+int(b)}\")"
   ]
  },
  {
   "cell_type": "code",
   "execution_count": 14,
   "metadata": {},
   "outputs": [
    {
     "name": "stdout",
     "output_type": "stream",
     "text": [
      "Ви ввели: 3\n"
     ]
    }
   ],
   "source": [
    "if a.isdigit() and b.isdigit():\n",
    "    print(f\"Ви ввели: {int(a)+int(b)}\")"
   ]
  },
  {
   "cell_type": "code",
   "execution_count": 15,
   "metadata": {},
   "outputs": [
    {
     "name": "stdout",
     "output_type": "stream",
     "text": [
      "2\n"
     ]
    }
   ],
   "source": [
    "a=2\n",
    "if a==2:\n",
    "    print(a)\n",
    "else:\n",
    "    print(f\"not {a}\")"
   ]
  },
  {
   "cell_type": "code",
   "execution_count": 18,
   "metadata": {},
   "outputs": [
    {
     "name": "stdout",
     "output_type": "stream",
     "text": [
      "not defined\n"
     ]
    }
   ],
   "source": [
    "a = None\n",
    "if a:\n",
    "    print(a)\n",
    "else:\n",
    "    print(f\"not defined\")"
   ]
  },
  {
   "cell_type": "code",
   "execution_count": 20,
   "metadata": {},
   "outputs": [
    {
     "name": "stdout",
     "output_type": "stream",
     "text": [
      "not defined\n"
     ]
    }
   ],
   "source": [
    "a = input(\"Введіть a: \")\n",
    "if a: # None, 0, \"\", [], {}, () - розпізнається як False\n",
    "    print(a)\n",
    "else:\n",
    "    print(f\"not defined\")"
   ]
  },
  {
   "cell_type": "code",
   "execution_count": 2,
   "metadata": {},
   "outputs": [
    {
     "data": {
      "text/plain": [
       "False"
      ]
     },
     "execution_count": 2,
     "metadata": {},
     "output_type": "execute_result"
    }
   ],
   "source": [
    "a=2\n",
    "a != 2"
   ]
  },
  {
   "cell_type": "code",
   "execution_count": 3,
   "metadata": {},
   "outputs": [
    {
     "data": {
      "text/plain": [
       "True"
      ]
     },
     "execution_count": 3,
     "metadata": {},
     "output_type": "execute_result"
    }
   ],
   "source": [
    "a>1"
   ]
  },
  {
   "cell_type": "code",
   "execution_count": 4,
   "metadata": {},
   "outputs": [
    {
     "data": {
      "text/plain": [
       "False"
      ]
     },
     "execution_count": 4,
     "metadata": {},
     "output_type": "execute_result"
    }
   ],
   "source": [
    "a<1"
   ]
  },
  {
   "cell_type": "code",
   "execution_count": 5,
   "metadata": {},
   "outputs": [
    {
     "data": {
      "text/plain": [
       "True"
      ]
     },
     "execution_count": 5,
     "metadata": {},
     "output_type": "execute_result"
    }
   ],
   "source": [
    "3>a>1"
   ]
  },
  {
   "cell_type": "code",
   "execution_count": 7,
   "metadata": {},
   "outputs": [
    {
     "data": {
      "text/plain": [
       "False"
      ]
     },
     "execution_count": 7,
     "metadata": {},
     "output_type": "execute_result"
    }
   ],
   "source": [
    "3>a>2 #якщо хоч одне не виконується, то вираз не виконується"
   ]
  },
  {
   "cell_type": "code",
   "execution_count": 8,
   "metadata": {},
   "outputs": [
    {
     "data": {
      "text/plain": [
       "False"
      ]
     },
     "execution_count": 8,
     "metadata": {},
     "output_type": "execute_result"
    }
   ],
   "source": [
    "# це аналог конструкції and\n",
    "3>a and a>2"
   ]
  },
  {
   "cell_type": "code",
   "execution_count": 9,
   "metadata": {},
   "outputs": [
    {
     "data": {
      "text/plain": [
       "True"
      ]
     },
     "execution_count": 9,
     "metadata": {},
     "output_type": "execute_result"
    }
   ],
   "source": [
    "a>=2"
   ]
  },
  {
   "cell_type": "code",
   "execution_count": 11,
   "metadata": {},
   "outputs": [
    {
     "data": {
      "text/plain": [
       "True"
      ]
     },
     "execution_count": 11,
     "metadata": {},
     "output_type": "execute_result"
    }
   ],
   "source": [
    "# це аналог конструкції (застаріло)\n",
    "not(a<2)"
   ]
  },
  {
   "cell_type": "code",
   "execution_count": 12,
   "metadata": {},
   "outputs": [
    {
     "data": {
      "text/plain": [
       "-27"
      ]
     },
     "execution_count": 12,
     "metadata": {},
     "output_type": "execute_result"
    }
   ],
   "source": [
    "-3 **3 #пріоритети виконання операцій - як в математиці унарний мінус нижче приорітет ніж піднесення до ступеню"
   ]
  },
  {
   "cell_type": "code",
   "execution_count": 14,
   "metadata": {},
   "outputs": [
    {
     "name": "stdout",
     "output_type": "stream",
     "text": [
      "0.30000000000000004\n"
     ]
    }
   ],
   "source": [
    "a = 0.2 + 0.1\n",
    "print(a)\n",
    "\n",
    "# виводить 0.30000000000000004 бо використовується двійкова система числення і вона не може точно \n",
    "# представити десяткові дроби (особливість процесора і пам'яті)\n",
    "# Ця ситуація може статися незалежно від мови програмування, і пов'язана вона з внутрішнім представленням чисел комп'ютером. \n",
    "# Тому порівняння дійсних чисел можливе лише з певною точністю, наприклад, до шостого знака після коми. \n",
    "# Це коли порівнюють між собою не два числа, а їх різницю з точністю до 0.000001, та перевіряють: вона менше точності чи ні. \n",
    "# Якщо при обчисленнях точність стає важливою, програмісти на Python використовують спеціальний модуль Decimal. "
   ]
  },
  {
   "cell_type": "code",
   "execution_count": 16,
   "metadata": {},
   "outputs": [
    {
     "data": {
      "text/plain": [
       "True"
      ]
     },
     "execution_count": 16,
     "metadata": {},
     "output_type": "execute_result"
    }
   ],
   "source": [
    "age = 18\n",
    "is_adult = age >= 18  # True\n",
    "is_adult"
   ]
  },
  {
   "cell_type": "code",
   "execution_count": 17,
   "metadata": {},
   "outputs": [
    {
     "data": {
      "text/plain": [
       "False"
      ]
     },
     "execution_count": 17,
     "metadata": {},
     "output_type": "execute_result"
    }
   ],
   "source": [
    "age = 15\n",
    "is_adult = age >= 18  # False\n",
    "is_adult"
   ]
  },
  {
   "cell_type": "markdown",
   "metadata": {},
   "source": [
    "Розглянемо знайомий всім приклад зі школи. \n",
    "Нехай у нас є прямокутний трикутник зі сторонами 10 і 5. Позначимо сторони наступними змінними:"
   ]
  },
  {
   "cell_type": "code",
   "execution_count": 18,
   "metadata": {},
   "outputs": [
    {
     "data": {
      "text/plain": [
       "11.180339887498949"
      ]
     },
     "execution_count": 18,
     "metadata": {},
     "output_type": "execute_result"
    }
   ],
   "source": [
    "side_a = 10\n",
    "side_b = 5\n",
    "hypotenuse = (side_a**2 + side_b**2) ** 0.5\n",
    "hypotenuse"
   ]
  },
  {
   "cell_type": "code",
   "execution_count": 19,
   "metadata": {},
   "outputs": [
    {
     "data": {
      "text/plain": [
       "25.0"
      ]
     },
     "execution_count": 19,
     "metadata": {},
     "output_type": "execute_result"
    }
   ],
   "source": [
    "S = side_a * side_b / 2\n",
    "S"
   ]
  },
  {
   "cell_type": "markdown",
   "metadata": {},
   "source": [
    "Після розрахунку змінна S буде дорівнювати 25.0. Зверни увагу, що змінна S стала типу float, хоча в правій стороні виразу стоять тільки числа int. Так завжди буває при операціях ділення.\n",
    "\n"
   ]
  },
  {
   "cell_type": "markdown",
   "metadata": {},
   "source": [
    "Щоб отримати тільки цілу частину, треба використовувати операцію ділення без остачі //. Коли така операція може знадобиться? Розглянемо приклад, де треба скласти програму, яка переводить час із секунд, визначаючи повну кількість годин, хвилин і секунд.\n",
    "\n"
   ]
  },
  {
   "cell_type": "code",
   "execution_count": 21,
   "metadata": {},
   "outputs": [
    {
     "name": "stdout",
     "output_type": "stream",
     "text": [
      "1:23:20\n"
     ]
    }
   ],
   "source": [
    "n = 5000\n",
    "\n",
    "hours = n // (60 * 60)\n",
    "minutes = (n - hours * 60 * 60) // 60\n",
    "seconds = n - hours * 60 * 60 - minutes * 60\n",
    "print(f\"{hours}:{minutes}:{seconds}\")"
   ]
  },
  {
   "cell_type": "markdown",
   "metadata": {},
   "source": [
    "Перерахуємо основні правила застосування операцій у порядку їх пріоритету:\n",
    "\n",
    "\n",
    "\n",
    "- Дужки (): Вирази всередині дужок мають найвищий пріоритет і виконуються першими. Дужки можуть бути використані для зміни звичайного порядку виконання.\n",
    "- Піднесення до степеня **: Наступним виконується піднесення до степеня.\n",
    "- Унарні плюс + та мінус -. Далі йдуть операції унарного плюса та мінуса (наприклад, -5 або +3).\n",
    "- Множення ``, ділення /, цілочисельне ділення //, остача від ділення %: Ці операції мають однаковий пріоритет і виконуються після унарних операцій.\n",
    "- Додавання + та віднімання -. Виконуються після операцій множення та ділення.\n",
    "- Операції порівняння ==, !=, >, <, >=, <=: Виконуються після арифметичних операцій.\n",
    "- Логічні операції not, and, or: В кінці виконуються логічні операції, де not має вищий пріоритет, ніж and, який, у свою чергу, має вищий пріоритет, ніж or."
   ]
  },
  {
   "cell_type": "markdown",
   "metadata": {},
   "source": [
    "Розглянемо приклад. Складемо програму, яка обчислює відстані між точками (відстані Евкліда)"
   ]
  },
  {
   "cell_type": "code",
   "execution_count": 23,
   "metadata": {},
   "outputs": [
    {
     "data": {
      "text/plain": [
       "21.213203435596427"
      ]
     },
     "execution_count": 23,
     "metadata": {},
     "output_type": "execute_result"
    }
   ],
   "source": [
    "x1 = 10\n",
    "y1 = 10\n",
    "x2 = 25\n",
    "y2 = 25\n",
    "d = ((x2 - x1) ** 2 + (y2 - y1) ** 2) ** 0.5\n",
    "d"
   ]
  },
  {
   "cell_type": "markdown",
   "metadata": {},
   "source": [
    "\n",
    "Спочатку виконуються операції в дужках. У нашому випадку це x2 - x1 та y2 - y1. Вони відповідають за обчислення різниці між відповідними координатами двох точок.\n",
    "\n",
    "Далі виконується піднесення до квадрата **2 та застосовується до результатів (x2 - x1) і (y2 - y1), обчислених на попередньому кроці.\n",
    "\n",
    "Після обчислення квадратів різниць виконується додавання: сума (x2 - x1)**2 і (y2 - y1)**2, бо вона знаходиться в дужках.\n",
    "\n",
    "Останньою операцією у внутрішніх виразах є піднесення суми квадратів до степеня 0.5, що еквівалентно взяттю квадратного кореня. Це дає кінцевий результат — відстань між двома точками, яка в нашому випадку дорівнює 21.213203435596427."
   ]
  },
  {
   "cell_type": "markdown",
   "metadata": {},
   "source": [
    "## Колекції"
   ]
  },
  {
   "cell_type": "markdown",
   "metadata": {},
   "source": [
    "Перерахуємо основні типи колекцій у Python:\n",
    "\n",
    "\n",
    "\n",
    "- Списки (Lists). Впорядковані колекції, які можуть містити елементи будь-якого типу. Списки є змінними, що означає можливість зміни, додавання або видалення елементів після їх створення.\n",
    "- Кортежі (Tuples). Схожі на списки, але вони незмінні. Це означає, що після створення кортежу його не можна змінювати. Кортежі часто використовуються для зберігання даних, які не повинні змінюватися впродовж роботи програми.\n",
    "- Словники (Dictionaries). Колекції пар ключ-значення, де кожний ключ є унікальним. Словники використовуються, коли потрібен швидкий доступ до елементів за ключем.\n",
    "- Множини (Sets). Неупорядковані колекції унікальних елементів. Використовуються для видалення дублікатів і виконання операцій, які типові для математичних множин, таких як об'єднання, перетин, різниця.\n",
    "- Заморожені множини (Frozen Sets). Це незмінні версії множин. Такі множини не можна змінювати після їх створення."
   ]
  },
  {
   "cell_type": "code",
   "execution_count": 25,
   "metadata": {},
   "outputs": [
    {
     "name": "stdout",
     "output_type": "stream",
     "text": [
      "[1, 2, 3, 4, 5]\n",
      "[1, 'Hello', 3.14]\n",
      "[1, 'Hello', 3.14, 4]\n",
      "[1, 3.14, 4]\n"
     ]
    }
   ],
   "source": [
    "my_list = list()\n",
    "\n",
    "empty_list = []\n",
    "\n",
    "my_list = [1, 2, 3, 4, 5]\n",
    "print(my_list)\n",
    "my_list = [1, \"Hello\", 3.14]\n",
    "print(my_list)\n",
    "my_list.append(4)\n",
    "print(my_list)\n",
    "my_list.remove(\"Hello\")\n",
    "print(my_list)"
   ]
  },
  {
   "cell_type": "code",
   "execution_count": 27,
   "metadata": {},
   "outputs": [
    {
     "name": "stdout",
     "output_type": "stream",
     "text": [
      "a b c\n"
     ]
    }
   ],
   "source": [
    "some_iterable = [\"a\", \"b\", \"c\"]\n",
    "first_letter = some_iterable[0]\n",
    "middle_one = some_iterable[1]\n",
    "last_letter = some_iterable[2]\n",
    "print(first_letter, middle_one, last_letter)"
   ]
  },
  {
   "cell_type": "code",
   "execution_count": 29,
   "metadata": {},
   "outputs": [
    {
     "name": "stdout",
     "output_type": "stream",
     "text": [
      "a\n",
      "b\n",
      "c\n"
     ]
    }
   ],
   "source": [
    "print(some_iterable[-3])\n",
    "print(some_iterable[-2])\n",
    "print(some_iterable[-1])"
   ]
  },
  {
   "cell_type": "code",
   "execution_count": 31,
   "metadata": {},
   "outputs": [
    {
     "name": "stdout",
     "output_type": "stream",
     "text": [
      "['a', -2, 'c']\n"
     ]
    }
   ],
   "source": [
    "some_iterable[1] = -2\n",
    "print(some_iterable)\n"
   ]
  },
  {
   "cell_type": "code",
   "execution_count": 32,
   "metadata": {},
   "outputs": [],
   "source": [
    "chars = [\"a\", \"b\", \"c\"]\n",
    "last = chars.pop(1)"
   ]
  },
  {
   "cell_type": "code",
   "execution_count": 34,
   "metadata": {},
   "outputs": [
    {
     "name": "stdout",
     "output_type": "stream",
     "text": [
      "['a', 'b']\n",
      "['a', 'b', 1, 2]\n",
      "['a', 'b', 'b', 1, 2]\n"
     ]
    }
   ],
   "source": [
    "chars = [\"a\", \"b\"]\n",
    "print(chars)\n",
    "numbers = [1, 2]\n",
    "chars.extend(numbers)\n",
    "print(chars)\n",
    "chars.insert(1, \"b\")\n",
    "print(chars)"
   ]
  },
  {
   "cell_type": "code",
   "execution_count": 36,
   "metadata": {},
   "outputs": [
    {
     "name": "stdout",
     "output_type": "stream",
     "text": [
      "2\n"
     ]
    }
   ],
   "source": [
    "chars = [\"a\", \"b\", \"c\", \"d\"]\n",
    "c_ind = chars.index(\"c\")\n",
    "print(c_ind)"
   ]
  },
  {
   "cell_type": "code",
   "execution_count": 37,
   "metadata": {},
   "outputs": [
    {
     "name": "stdout",
     "output_type": "stream",
     "text": [
      "4\n"
     ]
    }
   ],
   "source": [
    "my_list = [1, 2, 3, 4, 2, 2, 5, 2]\n",
    "count_2 = my_list.count(2)\n",
    "print(count_2)  # Виведе 4, оскільки число 2 зустрічається 4 рази"
   ]
  },
  {
   "cell_type": "code",
   "execution_count": 38,
   "metadata": {},
   "outputs": [
    {
     "name": "stdout",
     "output_type": "stream",
     "text": [
      "5\n"
     ]
    }
   ],
   "source": [
    "my_list = [1, 2, 3, 4, 5]\n",
    "print(len(my_list))"
   ]
  },
  {
   "cell_type": "code",
   "execution_count": 39,
   "metadata": {},
   "outputs": [
    {
     "name": "stdout",
     "output_type": "stream",
     "text": [
      "[1, 1, 2, 3, 4, 5, 9]\n"
     ]
    }
   ],
   "source": [
    "nums = [3, 1, 4, 1, 5, 9, 2]\n",
    "nums.sort()\n",
    "print(nums)  # Виведе [1, 1, 2, 3, 4, 5, 9]"
   ]
  },
  {
   "cell_type": "code",
   "execution_count": 40,
   "metadata": {},
   "outputs": [
    {
     "name": "stdout",
     "output_type": "stream",
     "text": [
      "[9, 5, 4, 3, 2, 1, 1]\n"
     ]
    }
   ],
   "source": [
    "nums = [3, 1, 4, 1, 5, 9, 2]\n",
    "nums.sort(reverse=True)\n",
    "print(nums)  # Виведе [9, 5, 4, 3, 2, 1, 1]"
   ]
  },
  {
   "cell_type": "code",
   "execution_count": 41,
   "metadata": {},
   "outputs": [
    {
     "name": "stdout",
     "output_type": "stream",
     "text": [
      "['apple', 'banana', 'cherry']\n"
     ]
    }
   ],
   "source": [
    "words = [\"banana\", \"apple\", \"cherry\"]\n",
    "words.sort(key=len)\n",
    "print(words)  # Виведе ['apple', 'banana', 'cherry']"
   ]
  },
  {
   "cell_type": "markdown",
   "metadata": {},
   "source": [
    "Вбудований метод sorted() у Python використовується для сортування колекцій. Він відрізняється від методу sort(), який застосовується безпосередньо до списку, та змінює його: sorted() повертає новий відсортований об'єкт, залишаючи вихідний об'єкт без змін. Метод також використовує аргумент reverse=True, щоб відсортувати об'єкти у зворотному порядку, та за допомогою аргументу key можна вказати функцію, яка буде застосовуватися для визначення порядку сортування.\n"
   ]
  },
  {
   "cell_type": "code",
   "execution_count": 42,
   "metadata": {},
   "outputs": [
    {
     "name": "stdout",
     "output_type": "stream",
     "text": [
      "[1, 1, 2, 3, 4, 5, 9]\n"
     ]
    }
   ],
   "source": [
    "nums = [3, 1, 4, 1, 5, 9, 2]\n",
    "sorted_nums = sorted(nums)\n",
    "print(sorted_nums)  # Виведе [1, 1, 2, 3, 4, 5, 9]"
   ]
  },
  {
   "cell_type": "code",
   "execution_count": 43,
   "metadata": {},
   "outputs": [
    {
     "name": "stdout",
     "output_type": "stream",
     "text": [
      "[9, 5, 4, 3, 2, 1, 1]\n"
     ]
    }
   ],
   "source": [
    "sorted_nums_desc = sorted(nums, reverse=True)\n",
    "print(sorted_nums_desc)  # Виведе [9, 5, 4, 3, 2, 1, 1]"
   ]
  },
  {
   "cell_type": "code",
   "execution_count": 44,
   "metadata": {},
   "outputs": [
    {
     "name": "stdout",
     "output_type": "stream",
     "text": [
      "['apple', 'banana', 'cherry']\n"
     ]
    }
   ],
   "source": [
    "words = [\"banana\", \"apple\", \"cherry\"]\n",
    "sorted_words = sorted(words, key=len)\n",
    "print(sorted_words)  # Виведе ['apple', 'banana', 'cherry']"
   ]
  },
  {
   "cell_type": "code",
   "execution_count": 45,
   "metadata": {},
   "outputs": [],
   "source": [
    "chars = [\"a\", \"b\"]\n",
    "chars_copy = chars.copy()"
   ]
  },
  {
   "cell_type": "code",
   "execution_count": 46,
   "metadata": {},
   "outputs": [
    {
     "name": "stdout",
     "output_type": "stream",
     "text": [
      "Alice\n"
     ]
    }
   ],
   "source": [
    "my_dict = {\"name\": \"Alice\", \"age\": 25, \"city\": \"New York\"}\n",
    "print(my_dict[\"name\"])  # Виведе 'Alice'"
   ]
  },
  {
   "cell_type": "code",
   "execution_count": 47,
   "metadata": {},
   "outputs": [
    {
     "name": "stdout",
     "output_type": "stream",
     "text": [
      "{'name': 'Alice', 'age': 26, 'city': 'New York', 'email': 'alice@example.com'}\n"
     ]
    }
   ],
   "source": [
    "my_dict[\"age\"] = 26  # Змінює вік на 26\n",
    "my_dict[\"email\"] = \"alice@example.com\"  # Додає нову пару ключ-значення\n",
    "print(my_dict)"
   ]
  },
  {
   "cell_type": "code",
   "execution_count": 48,
   "metadata": {},
   "outputs": [
    {
     "name": "stdout",
     "output_type": "stream",
     "text": [
      "{'name': 'Alice', 'city': 'New York', 'email': 'alice@example.com'}\n"
     ]
    }
   ],
   "source": [
    "del my_dict[\"age\"]\n",
    "print(my_dict)"
   ]
  },
  {
   "cell_type": "code",
   "execution_count": 49,
   "metadata": {},
   "outputs": [
    {
     "name": "stdout",
     "output_type": "stream",
     "text": [
      "True\n",
      "False\n"
     ]
    }
   ],
   "source": [
    "print(\"name\" in my_dict)\n",
    "print(\"age\" in my_dict)"
   ]
  },
  {
   "cell_type": "code",
   "execution_count": 51,
   "metadata": {},
   "outputs": [
    {
     "name": "stdout",
     "output_type": "stream",
     "text": [
      "25\n"
     ]
    }
   ],
   "source": [
    "my_dict = {\"name\": \"Alice\", \"age\": 25}\n",
    "age = my_dict.get(\"age\")  # Поверне 25\n",
    "gender = my_dict.get(\"gender\")  # Поверне None, оскільки \"gender\" немає в словнику\n",
    "print(age)"
   ]
  },
  {
   "cell_type": "code",
   "execution_count": 52,
   "metadata": {},
   "outputs": [],
   "source": [
    "a = set(\"hello\")"
   ]
  },
  {
   "cell_type": "code",
   "execution_count": 53,
   "metadata": {},
   "outputs": [
    {
     "name": "stdout",
     "output_type": "stream",
     "text": [
      "[1, 2, 3, 4]\n"
     ]
    }
   ],
   "source": [
    "#Приклад. Нехай у нас є список, з якого треба видалити дублікати\n",
    "\n",
    "lst = [1, 2, 3, 1, 2, 2, 3, 4, 1]\n",
    "lst = list(set(lst))\n",
    "print(lst)  # Виведе [1, 2, 3, 4]\n",
    "\n"
   ]
  },
  {
   "cell_type": "code",
   "execution_count": 54,
   "metadata": {},
   "outputs": [
    {
     "name": "stdout",
     "output_type": "stream",
     "text": [
      "{1, 2, 3, 4}\n"
     ]
    }
   ],
   "source": [
    "numbers = {1, 2, 3}\n",
    "numbers.add(4)\n",
    "print(numbers)  # {1, 2, 3, 4}"
   ]
  },
  {
   "cell_type": "code",
   "execution_count": 55,
   "metadata": {},
   "outputs": [
    {
     "name": "stdout",
     "output_type": "stream",
     "text": [
      "{1, 2}\n"
     ]
    }
   ],
   "source": [
    "numbers = {1, 2, 3}\n",
    "numbers.remove(3)\n",
    "print(numbers)  # {1, 2}"
   ]
  },
  {
   "cell_type": "code",
   "execution_count": 56,
   "metadata": {},
   "outputs": [
    {
     "name": "stdout",
     "output_type": "stream",
     "text": [
      "{1, 3}\n"
     ]
    }
   ],
   "source": [
    "numbers = {1, 2, 3}\n",
    "numbers.discard(2)\n",
    "print(numbers)  # {1, 3}"
   ]
  },
  {
   "cell_type": "code",
   "execution_count": 58,
   "metadata": {},
   "outputs": [],
   "source": [
    "a = {1, 2, 3}\n",
    "\n",
    "b = {3, 4, 5}"
   ]
  },
  {
   "cell_type": "code",
   "execution_count": 60,
   "metadata": {},
   "outputs": [
    {
     "name": "stdout",
     "output_type": "stream",
     "text": [
      "{3}\n",
      "{3}\n"
     ]
    }
   ],
   "source": [
    "# Перетин двох множин включає лише ті елементи, які є в обох множинах. Щоб знайти загальні елементи для двох множин, над ними треба виконати операцію & або використати метод intersection:\n",
    "\n",
    "\n",
    "print(a.intersection(b))  # {3}\n",
    "print(a & b)  # {3}"
   ]
  },
  {
   "cell_type": "code",
   "execution_count": 62,
   "metadata": {},
   "outputs": [
    {
     "name": "stdout",
     "output_type": "stream",
     "text": [
      "{1, 2}\n",
      "{1, 2}\n"
     ]
    }
   ],
   "source": [
    "# Різниця між двома множинами включає елементи, які містяться в першій множині, але не містяться в другій. Можна також використовувати оператор - або метод difference:\n",
    "\n",
    "a = {1, 2, 3}\n",
    "b = {3, 4, 5}\n",
    "print(a.difference(b))  # {1, 2}\n",
    "print(a - b)  # {1, 2}"
   ]
  },
  {
   "cell_type": "markdown",
   "metadata": {},
   "source": [
    "Симетрична різниця між двома множинами включає всі елементи, які містяться в одній множині, але не містяться в іншій, і навпаки. Щоб знайти всі елементи з двох множин, окрім загальних, нам необхідно використати оператор ^.\n",
    "\n",
    "\n",
    "\n",
    "Альтернативно, можна використовувати метод symmetric_difference:"
   ]
  },
  {
   "cell_type": "code",
   "execution_count": 63,
   "metadata": {},
   "outputs": [
    {
     "name": "stdout",
     "output_type": "stream",
     "text": [
      "{1, 2, 4, 5}\n",
      "{1, 2, 4, 5}\n"
     ]
    }
   ],
   "source": [
    "a = {1, 2, 3}\n",
    "b = {3, 4, 5}\n",
    "print(a.symmetric_difference(b))  # {1, 2, 4, 5}\n",
    "print(a ^ b)  # {1, 2, 4, 5}"
   ]
  },
  {
   "cell_type": "markdown",
   "metadata": {},
   "source": [
    "Об'єднання двох множин включає всі елементи з обох множин, але без дублікатів. Це знаходиться за допомогою оператора | або методу union:\n"
   ]
  },
  {
   "cell_type": "code",
   "execution_count": 64,
   "metadata": {},
   "outputs": [
    {
     "name": "stdout",
     "output_type": "stream",
     "text": [
      "{1, 2, 3, 4, 5}\n",
      "{1, 2, 3, 4, 5}\n"
     ]
    }
   ],
   "source": [
    "a = {1, 2, 3}\n",
    "b = {3, 4, 5}\n",
    "print(a.union(b))  # {1, 2, 3, 4, 5}\n",
    "print(a | b)  # {1, 2, 3, 4, 5}"
   ]
  },
  {
   "cell_type": "markdown",
   "metadata": {},
   "source": [
    "Заморожені множини в Python, відомі як frozenset, є подібними до звичайних множин set, але з ключовою відмінністю: вони є незмінними. Це означає, що після створення замороженої множини ви не можете додати або видалити елементи з неї.\n",
    "\n",
    "\n",
    "\n",
    "Заморожену множину можна створити за допомогою функції frozenset():"
   ]
  },
  {
   "cell_type": "code",
   "execution_count": 65,
   "metadata": {},
   "outputs": [],
   "source": [
    "my_frozenset = frozenset([1, 2, 3, 4, 5])"
   ]
  },
  {
   "cell_type": "code",
   "execution_count": 66,
   "metadata": {},
   "outputs": [
    {
     "name": "stdout",
     "output_type": "stream",
     "text": [
      "frozenset({1, 2, 3, 4, 5})\n",
      "frozenset({3})\n",
      "frozenset({1, 2})\n",
      "frozenset({1, 2, 4, 5})\n"
     ]
    }
   ],
   "source": [
    "a = frozenset([1, 2, 3])\n",
    "b = frozenset([3, 4, 5])\n",
    "\n",
    "union = a | b  # Об'єднання множин\n",
    "intersection = a & b  # Перетин множин\n",
    "difference = a - b  # Різниця множин\n",
    "symmetric_difference = a ^ b  # Симетрична різниця\n",
    "\n",
    "print(union)  # frozenset({1, 2, 3, 4, 5})\n",
    "print(intersection)  # frozenset({3})\n",
    "print(difference)  # frozenset({1, 2})\n",
    "print(symmetric_difference)  # frozenset({1, 2, 4, 5})"
   ]
  },
  {
   "cell_type": "code",
   "execution_count": 67,
   "metadata": {},
   "outputs": [],
   "source": [
    "my_tuple = (1, \"Hello\", 3.14)"
   ]
  },
  {
   "cell_type": "code",
   "execution_count": 69,
   "metadata": {},
   "outputs": [
    {
     "name": "stdout",
     "output_type": "stream",
     "text": [
      "1\n"
     ]
    }
   ],
   "source": [
    "first_item = my_tuple[0]  # Отримати перший елемент\n",
    "print(first_item)  # 1"
   ]
  },
  {
   "cell_type": "code",
   "execution_count": 74,
   "metadata": {},
   "outputs": [],
   "source": [
    "#Наприклад, розглянемо набір точок на площині (кортежі). Їх можна використовувати як ключі у словнику:\n",
    "\n",
    "\n",
    "points = { \n",
    "    (0, 0): \"O\",\n",
    "    (1, 1): \"A\",\n",
    "    (2, 2): \"B\",\n",
    "}"
   ]
  },
  {
   "cell_type": "markdown",
   "metadata": {},
   "source": [
    "# Методи рядків\n"
   ]
  },
  {
   "cell_type": "markdown",
   "metadata": {},
   "source": [
    "Незмінна послідовність означає, що якщо рядок уже створений, то змінити його не можна, можна тільки створити новий.\n",
    "\n",
    "s = \"Hello world!\"\n",
    "s[0] = \"Q\"# Тут буде викликано виняток (помилка) TypeError"
   ]
  },
  {
   "cell_type": "code",
   "execution_count": 75,
   "metadata": {},
   "outputs": [
    {
     "name": "stdout",
     "output_type": "stream",
     "text": [
      "Hello\n"
     ]
    }
   ],
   "source": [
    "s = \"Hello\"\n",
    "s.upper()\n",
    "print(s)  # Виведе 'HELLO'"
   ]
  },
  {
   "cell_type": "code",
   "execution_count": 76,
   "metadata": {},
   "outputs": [
    {
     "name": "stdout",
     "output_type": "stream",
     "text": [
      "some text\n"
     ]
    }
   ],
   "source": [
    "s = \"Some Text\"\n",
    "print(s.lower())  # Виведе 'some text'"
   ]
  },
  {
   "cell_type": "code",
   "execution_count": 77,
   "metadata": {},
   "outputs": [
    {
     "name": "stdout",
     "output_type": "stream",
     "text": [
      "True\n"
     ]
    }
   ],
   "source": [
    "s = \"Bill Jons\"\n",
    "print(s.startswith(\"Bi\"))  # Виведе True"
   ]
  },
  {
   "cell_type": "code",
   "execution_count": 78,
   "metadata": {},
   "outputs": [
    {
     "name": "stdout",
     "output_type": "stream",
     "text": [
      "True\n"
     ]
    }
   ],
   "source": [
    "s = \"hello.jpg\"\n",
    "print(s.endswith(\"jpg\"))  # Виведе True"
   ]
  },
  {
   "cell_type": "code",
   "execution_count": 81,
   "metadata": {},
   "outputs": [
    {
     "data": {
      "text/plain": [
       "'Hello world'"
      ]
     },
     "execution_count": 81,
     "metadata": {},
     "output_type": "execute_result"
    }
   ],
   "source": [
    "s = \"hello world\".capitalize()  # Результат: \"Hello world\"\n",
    "s"
   ]
  },
  {
   "cell_type": "code",
   "execution_count": 82,
   "metadata": {},
   "outputs": [
    {
     "data": {
      "text/plain": [
       "'Hello World'"
      ]
     },
     "execution_count": 82,
     "metadata": {},
     "output_type": "execute_result"
    }
   ],
   "source": [
    "s = \"hello world\".title()  # Результат: \"Hello World\"\n",
    "s"
   ]
  },
  {
   "cell_type": "markdown",
   "metadata": {},
   "source": [
    "Ще можуть стати в пригоді методи isdigit, isalpha, isspace, які перевіряють, чи складається рядок тільки з цифр, літер, пробілів тощо відповідно:"
   ]
  },
  {
   "cell_type": "code",
   "execution_count": 84,
   "metadata": {},
   "outputs": [
    {
     "name": "stdout",
     "output_type": "stream",
     "text": [
      "True\n",
      "True\n",
      "True\n"
     ]
    }
   ],
   "source": [
    "print(\"123\".isdigit())  # True\n",
    "print(\"hello\".isalpha())  # True\n",
    "print(\" \".isspace())  # True"
   ]
  },
  {
   "cell_type": "code",
   "execution_count": 85,
   "metadata": {},
   "outputs": [
    {
     "name": "stdout",
     "output_type": "stream",
     "text": [
      "Hello, John!\n",
      "Hello, John. You are 25 years old.\n",
      "Hello, Jane. You are 30 years old.\n",
      "Hello, John. You are 25 years old.\n"
     ]
    }
   ],
   "source": [
    "# Просте форматування рядка\n",
    "name = \"John\"\n",
    "print(\"Hello, {}!\".format(name))\n",
    "\n",
    "# Форматування з декількома аргументами\n",
    "age = 25\n",
    "print(\"Hello, {}. You are {} years old.\".format(name, age))\n",
    "\n",
    "# Використання іменованих аргументів\n",
    "print(\"Hello, {name}. You are {age} years old.\".format(name=\"Jane\", age=30))\n",
    "\n",
    "# Використання індексів для вказівки порядку аргументів\n",
    "print(\"Hello, {1}. You are {0} years old.\".format(age, name))"
   ]
  },
  {
   "cell_type": "markdown",
   "metadata": {},
   "source": [
    "# Зрізи у Python (Slice)"
   ]
  },
  {
   "cell_type": "markdown",
   "metadata": {},
   "source": [
    "Для впорядкованих контейнерів є спеціальний синтаксис, коли нам необхідно отримати деяку послідовність елементів з контейнера.\n",
    "\n",
    "Зрізи (slices) у Python — це потужний механізм для доступу до частин послідовностей, таких як рядки, списки та кортежі.\n",
    "\n",
    "Зрізи визначаються за допомогою квадратних дужок [] із вказівкою індексів початку, кінця та (необов'язково) кроку. Ось основний синтаксис:\n",
    "\n",
    "послідовність[початок:кінець:крок]\n",
    "\n",
    "- початок — індекс елемента, з якого починається зріз. Якщо він не вказаний, зріз починається з початку послідовності, з 0.\n",
    "- кінець — індекс елемента, до якого йде зріз, але увага!, не включаючи його. Якщо він не вказаний, зріз іде до кінця послідовності.\n",
    "- крок — визначає крок, з яким вибираються елементи. Якщо не вказаний, використовується крок 1."
   ]
  },
  {
   "cell_type": "code",
   "execution_count": 86,
   "metadata": {},
   "outputs": [
    {
     "name": "stdout",
     "output_type": "stream",
     "text": [
      "Hello\n"
     ]
    }
   ],
   "source": [
    "s = \"Hello, World!\"\n",
    "first_five = s[:5]\n",
    "print(first_five)  # Виведе 'Hello'"
   ]
  },
  {
   "cell_type": "code",
   "execution_count": 88,
   "metadata": {},
   "outputs": [
    {
     "name": "stdout",
     "output_type": "stream",
     "text": [
      "[1, 3, 5, 7, 9]\n"
     ]
    }
   ],
   "source": [
    "numbers = [1, 2, 3, 4, 5, 6, 7, 8, 9, 10]\n",
    "odd_numbers = numbers[0:10:2]\n",
    "print(odd_numbers)  # Виведе [1, 3, 5, 7, 9]"
   ]
  },
  {
   "cell_type": "code",
   "execution_count": 90,
   "metadata": {},
   "outputs": [
    {
     "name": "stdout",
     "output_type": "stream",
     "text": [
      "[2, 4, 6, 8, 10]\n"
     ]
    }
   ],
   "source": [
    "numbers = [1, 2, 3, 4, 5, 6, 7, 8, 9, 10]\n",
    "even_numbers = numbers[1:10:2]\n",
    "print(even_numbers)  # Виведе [2, 4, 6, 8, 10]"
   ]
  },
  {
   "cell_type": "code",
   "execution_count": 91,
   "metadata": {},
   "outputs": [
    {
     "name": "stdout",
     "output_type": "stream",
     "text": [
      "[10, 9, 8, 7, 6, 5, 4, 3, 2, 1]\n"
     ]
    }
   ],
   "source": [
    "numbers = [1, 2, 3, 4, 5, 6, 7, 8, 9, 10]\n",
    "reverse_numbers = numbers[::-1]\n",
    "print(reverse_numbers)"
   ]
  },
  {
   "cell_type": "code",
   "execution_count": 92,
   "metadata": {},
   "outputs": [
    {
     "name": "stdout",
     "output_type": "stream",
     "text": [
      "[1, 2, 3, 4, 5, 6, 7, 8, 9, 10]\n"
     ]
    }
   ],
   "source": [
    "numbers = [1, 2, 3, 4, 5, 6, 7, 8, 9, 10]\n",
    "copy_numbers = numbers[:]\n",
    "print(copy_numbers)"
   ]
  },
  {
   "cell_type": "code",
   "execution_count": 115,
   "metadata": {},
   "outputs": [
    {
     "name": "stdout",
     "output_type": "stream",
     "text": [
      "num більше за 10\n"
     ]
    }
   ],
   "source": [
    "num = 15  # приклад значення для num\n",
    "\n",
    "if num > 10:\n",
    "    print(\"num більше за 10\")\n",
    "else:\n",
    "    print(\"num не більше за 10\")"
   ]
  },
  {
   "cell_type": "code",
   "execution_count": 116,
   "metadata": {},
   "outputs": [
    {
     "name": "stdout",
     "output_type": "stream",
     "text": [
      "Число x є парним.\n"
     ]
    }
   ],
   "source": [
    "x = int(input(\"Введіть число: \"))\n",
    "\n",
    "if x % 2 == 0:\n",
    "    print(\"Число x є парним.\")\n",
    "else:\n",
    "    print(\"Число x є непарним.\")"
   ]
  },
  {
   "cell_type": "code",
   "execution_count": 117,
   "metadata": {},
   "outputs": [
    {
     "name": "stdout",
     "output_type": "stream",
     "text": [
      "Число додатне\n"
     ]
    }
   ],
   "source": [
    "a = input(\"Введіть число\")\n",
    "a = int(a)\n",
    "if a > 0:\n",
    "    print(\"Число додатне\")\n",
    "elif a < 0:\n",
    "    print(\"Число від'ємне\")\n",
    "else:\n",
    "    print(\"Це число - нуль\")"
   ]
  },
  {
   "cell_type": "code",
   "execution_count": 118,
   "metadata": {},
   "outputs": [
    {
     "name": "stdout",
     "output_type": "stream",
     "text": [
      "Число дорівнює 1\n"
     ]
    }
   ],
   "source": [
    "a = input(\"Введіть число\")\n",
    "a = int(a)\n",
    "\n",
    "if a == 1:\n",
    "    print(\"Число дорівнює 1\")\n",
    "elif a > 0:\n",
    "    print(\"Число додатне\")\n",
    "else:\n",
    "    print(\"a <= 0\")"
   ]
  },
  {
   "cell_type": "code",
   "execution_count": 120,
   "metadata": {},
   "outputs": [
    {
     "name": "stdout",
     "output_type": "stream",
     "text": [
      "You have no money and no debts\n"
     ]
    }
   ],
   "source": [
    "money = 0\n",
    "if money:\n",
    "    print(f\"You have {money} on your bank account\")\n",
    "else:\n",
    "    print(\"You have no money and no debts\")"
   ]
  },
  {
   "cell_type": "code",
   "execution_count": 121,
   "metadata": {},
   "outputs": [
    {
     "name": "stdout",
     "output_type": "stream",
     "text": [
      "Result is None, do something\n"
     ]
    }
   ],
   "source": [
    "result = None\n",
    "if result:\n",
    "    print(result)\n",
    "else:\n",
    "    print(\"Result is None, do something\")"
   ]
  },
  {
   "cell_type": "code",
   "execution_count": 122,
   "metadata": {},
   "outputs": [
    {
     "name": "stdout",
     "output_type": "stream",
     "text": [
      "Hi Anonym!\n"
     ]
    }
   ],
   "source": [
    "user_name = input(\"Enter your name: \")\n",
    "\n",
    "if user_name:\n",
    "    print(f\"Hello {user_name}\")\n",
    "else:\n",
    "    print(\"Hi Anonym!\")"
   ]
  },
  {
   "cell_type": "code",
   "execution_count": 123,
   "metadata": {},
   "outputs": [
    {
     "name": "stdout",
     "output_type": "stream",
     "text": [
      "True\n",
      "False\n"
     ]
    }
   ],
   "source": [
    "a = [1, 2, 3]\n",
    "b = a\n",
    "c = [1, 2, 3]\n",
    "\n",
    "print(a is b)  # True\n",
    "print(a is c)  # False"
   ]
  },
  {
   "cell_type": "markdown",
   "metadata": {},
   "source": [
    "Що робити, якщо у нас складна умова, яка поєднує в собі декілька вкладених умов? Наприклад, щоб користувач міг орендувати автомобіль, потрібно, щоб у користувача обов'язково було вказане ім'я, користувач був старший 18 і були водійські права."
   ]
  },
  {
   "cell_type": "code",
   "execution_count": 124,
   "metadata": {},
   "outputs": [
    {
     "name": "stdout",
     "output_type": "stream",
     "text": [
      "User Taras can rent a car\n"
     ]
    }
   ],
   "source": [
    "name = \"Taras\"\n",
    "age = 22\n",
    "has_driver_licence = True\n",
    "\n",
    "if name and age >= 18 and has_driver_licence:\n",
    "    print(f\"User {name} can rent a car\")"
   ]
  },
  {
   "cell_type": "code",
   "execution_count": 125,
   "metadata": {},
   "outputs": [
    {
     "name": "stdout",
     "output_type": "stream",
     "text": [
      "Ні\n"
     ]
    }
   ],
   "source": [
    "num = int(input(\"Введіть число: \"))\n",
    "\n",
    "length = len(str(num))\n",
    "\n",
    "if length == 2 and num % 2 == 0:\n",
    "    print(\"Парне двозначне число\")\n",
    "else:\n",
    "    print(\"Ні\")"
   ]
  },
  {
   "cell_type": "code",
   "execution_count": 126,
   "metadata": {},
   "outputs": [
    {
     "name": "stdout",
     "output_type": "stream",
     "text": [
      "34\n"
     ]
    }
   ],
   "source": [
    "# Задаємо конкретне число\n",
    "num = int(input())\n",
    "\n",
    "# Перевіряємо кратність\n",
    "if num % 3 == 0 and num % 5 == 0:\n",
    "    print(\"FizzBuzz\")\n",
    "elif num % 3 == 0:\n",
    "    print(\"Fizz\")\n",
    "elif num % 5 == 0:\n",
    "    print(\"Buzz\")\n",
    "else:\n",
    "    print(num)"
   ]
  },
  {
   "cell_type": "code",
   "execution_count": 127,
   "metadata": {},
   "outputs": [
    {
     "name": "stdout",
     "output_type": "stream",
     "text": [
      "X can`t be equal to zero\n"
     ]
    }
   ],
   "source": [
    "x = int(input(\"X: \"))\n",
    "y = int(input(\"Y: \"))\n",
    "\n",
    "if x == 0:\n",
    "    print(\"X can`t be equal to zero\")\n",
    "    x = int(input(\"X: \"))\n",
    "\n",
    "    if x == 0:\n",
    "        print(\"X can`t be equal to zero\")\n",
    "        x = int(input(\"X: \"))\n",
    "\n",
    "        if x == 0:\n",
    "            print(\"X can`t be equal to zero\")\n",
    "            x = int(input(\"X: \"))\n",
    "\n",
    "result = y / x"
   ]
  },
  {
   "cell_type": "markdown",
   "metadata": {},
   "source": [
    "Наведемо наступний приклад вкладеності для визначення чвертей для координатної площини, щоб закріпити розуміння блоку інструкцій. Даний фрагмент коду реалізує визначення квадранту точки з координатами x та y на координатній площині.\n",
    "\n"
   ]
  },
  {
   "cell_type": "code",
   "execution_count": 128,
   "metadata": {},
   "outputs": [
    {
     "name": "stdout",
     "output_type": "stream",
     "text": [
      "Перша чверть\n"
     ]
    }
   ],
   "source": [
    "if x >= 0:\n",
    "    if y >= 0:  # x > 0, y > 0\n",
    "        print(\"Перша чверть\")\n",
    "    else:  # x > 0, y < 0\n",
    "        print(\"Четверта чверть\")\n",
    "else:\n",
    "    if y >= 0:  # x < 0, y > 0\n",
    "        print(\"Друга чверть\")\n",
    "    else:  # x < 0, y < 0\n",
    "        print(\"Третя чверть\")"
   ]
  },
  {
   "cell_type": "code",
   "execution_count": 130,
   "metadata": {},
   "outputs": [
    {
     "name": "stdout",
     "output_type": "stream",
     "text": [
      "nice\n"
     ]
    }
   ],
   "source": [
    "is_nice = True\n",
    "if is_nice:\n",
    "    state = \"nice\"\n",
    "else:\n",
    "    state = \"not nice\"\n",
    "print(state)    "
   ]
  },
  {
   "cell_type": "code",
   "execution_count": 132,
   "metadata": {},
   "outputs": [
    {
     "name": "stdout",
     "output_type": "stream",
     "text": [
      "nice\n"
     ]
    }
   ],
   "source": [
    "is_nice = True\n",
    "state = \"nice\" if is_nice else \"not nice\"\n",
    "print(state)"
   ]
  },
  {
   "cell_type": "code",
   "execution_count": 133,
   "metadata": {},
   "outputs": [
    {
     "name": "stdout",
     "output_type": "stream",
     "text": [
      "Не було повернено даних\n"
     ]
    }
   ],
   "source": [
    "some_data = None\n",
    "msg = some_data or \"Не було повернено даних\"\n",
    "print(msg)"
   ]
  },
  {
   "cell_type": "code",
   "execution_count": 134,
   "metadata": {},
   "outputs": [
    {
     "name": "stdout",
     "output_type": "stream",
     "text": [
      "This is an apple.\n"
     ]
    }
   ],
   "source": [
    "fruit = \"apple\"\n",
    "\n",
    "match fruit:\n",
    "    case \"apple\":\n",
    "        print(\"This is an apple.\")\n",
    "    case \"banana\":\n",
    "        print(\"This is a banana.\")\n",
    "    case \"orange\":\n",
    "        print(\"This is an orange.\")\n",
    "    case _:\n",
    "        print(\"Unknown fruit.\")"
   ]
  },
  {
   "cell_type": "code",
   "execution_count": 136,
   "metadata": {},
   "outputs": [
    {
     "name": "stdout",
     "output_type": "stream",
     "text": [
      "Точка лежить на осі Y: y=4\n"
     ]
    }
   ],
   "source": [
    "point = (0,4)\n",
    "match point:\n",
    "    case (0, 0):\n",
    "        print(\"Точка в центрі координат\")\n",
    "    case (0, y):\n",
    "        print(f\"Точка лежить на осі Y: y={y}\")\n",
    "    case (x, 0):\n",
    "        print(f\"Точка лежить на осі X: x={x}\")\n",
    "    case (x, y):\n",
    "        print(f\"Точка має координати:  x={x}, y={y}\")\n",
    "    case _:\n",
    "        print(\"Це не точка\")"
   ]
  },
  {
   "cell_type": "code",
   "execution_count": 138,
   "metadata": {},
   "outputs": [
    {
     "name": "stdout",
     "output_type": "stream",
     "text": [
      "There's a dog.\n"
     ]
    }
   ],
   "source": [
    "pets = [\"dog\", \"fish\", \"cat\"]\n",
    "\n",
    "match pets:\n",
    "    case [\"dog\", \"cat\", _]:\n",
    "        # Випадок, коли є і собака, і кіт\n",
    "        print(\"There's a dog and a cat.\")\n",
    "    case [\"dog\", _, _]:\n",
    "        # Випадок, коли є тільки собака\n",
    "        print(\"There's a dog.\")\n",
    "    case _:\n",
    "        # Випадок для інших комбінацій\n",
    "        print(\"No dogs.\")\n",
    "\n",
    "# В цьому випадку виведення буде \"There's a dog.\", бо тільки \"dog\" знаходиться на своєму місці."
   ]
  },
  {
   "cell_type": "code",
   "execution_count": 139,
   "metadata": {},
   "outputs": [
    {
     "name": "stdout",
     "output_type": "stream",
     "text": [
      "a b c d e f g h i j k l m n o p q r s t u v w x y z "
     ]
    }
   ],
   "source": [
    "alphabet = \"abcdefghijklmnopqrstuvwxyz\"\n",
    "for char in alphabet:\n",
    "    print(char, end=\" \")"
   ]
  },
  {
   "cell_type": "code",
   "execution_count": 140,
   "metadata": {},
   "outputs": [
    {
     "name": "stdout",
     "output_type": "stream",
     "text": [
      "Загальна кількість символів у рядку: 17\n",
      "Кількість пробілів у рядку: 3\n"
     ]
    }
   ],
   "source": [
    "# Зчитування рядка від користувача\n",
    "user_input = input(\"Введіть рядок: \")\n",
    "\n",
    "# Ініціалізація змінних для підрахунку символів та пробілів\n",
    "total_chars = len(user_input)  # загальна кількість символів у рядку\n",
    "space_count = 0  # кількість пробілів\n",
    "\n",
    "# Підрахунок кількості пробілів\n",
    "for char in user_input:\n",
    "    if char == \" \":\n",
    "        space_count += 1\n",
    "\n",
    "# Виведення результатів\n",
    "print(f\"Загальна кількість символів у рядку: {total_chars}\")\n",
    "print(f\"Кількість пробілів у рядку: {space_count}\")"
   ]
  },
  {
   "cell_type": "code",
   "execution_count": 142,
   "metadata": {},
   "outputs": [
    {
     "name": "stdout",
     "output_type": "stream",
     "text": [
      "1\n",
      "2\n",
      "3\n",
      "4\n",
      "5\n",
      "6\n",
      "7\n",
      "8\n",
      "9\n",
      "10\n"
     ]
    }
   ],
   "source": [
    "k = 0\n",
    "while k < 10:\n",
    "    k = k + 1\n",
    "    print(k)"
   ]
  },
  {
   "cell_type": "code",
   "execution_count": 143,
   "metadata": {},
   "outputs": [
    {
     "name": "stdout",
     "output_type": "stream",
     "text": [
      "0\n",
      "1\n",
      "2\n",
      "3\n",
      "4\n",
      "5\n",
      "6\n",
      "7\n",
      "8\n",
      "9\n",
      "10\n",
      "11\n",
      "12\n",
      "13\n",
      "14\n",
      "15\n",
      "16\n",
      "17\n",
      "18\n",
      "19\n",
      "20\n"
     ]
    }
   ],
   "source": [
    "a = 0\n",
    "while True:\n",
    "    print(a)\n",
    "    if a >= 20:\n",
    "        break\n",
    "    a = a + 1"
   ]
  },
  {
   "cell_type": "code",
   "execution_count": 144,
   "metadata": {},
   "outputs": [
    {
     "name": "stdout",
     "output_type": "stream",
     "text": [
      "1\n",
      "3\n",
      "5\n"
     ]
    }
   ],
   "source": [
    "a = 0\n",
    "while a < 6:\n",
    "    a = a + 1\n",
    "    if not a % 2:\n",
    "        continue\n",
    "    print(a)\n",
    "\n",
    "# Інструкція print(a) не виконувалась, коли a ділилося на 2 без залишку, оскільки ітерація завершувалася за допомогою continue."
   ]
  },
  {
   "cell_type": "markdown",
   "metadata": {},
   "source": [
    "# Розширення можливостей циклу for\n"
   ]
  },
  {
   "cell_type": "markdown",
   "metadata": {},
   "source": [
    "- Функція range важлива для створення послідовностей чисел, які ви можете використовувати у циклах. Вона надзвичайно корисна, коли вам потрібно виконати дію певну кількість разів або ітерувати через послідовність чисел.\n",
    "- Коли вам потрібно отримати доступ не тільки до значення з ітерованої колекції, але до її індексу, тут функція enumerate стає незамінним помічником. Ця функція дозволяє вам легко отримувати доступ до індексу кожного елементу під час ітерації.\n",
    "- Функція zip використовується для одночасної ітерації по кількох колекціях. Якщо вам потрібно комбінувати дані з різних джерел або виконувати операції, які залежать від декількох пов'язаних колекцій, zip дозволяє це зробити легко та елегантно."
   ]
  },
  {
   "cell_type": "markdown",
   "metadata": {},
   "source": [
    "Функція range створює послідовність чисел. Вона може бути використана різними способами:\n",
    "\n",
    "- range(stop): Створює послідовність чисел від 0 до stop - 1.\n",
    "- range(start, stop): Генерує числа від start до stop - 1.\n",
    "- range(start, stop, step): Створює числа від start до stop - 1, з кроком step."
   ]
  },
  {
   "cell_type": "code",
   "execution_count": 151,
   "metadata": {},
   "outputs": [
    {
     "name": "stdout",
     "output_type": "stream",
     "text": [
      "0\n",
      "1\n",
      "2\n",
      "3\n",
      "4\n"
     ]
    }
   ],
   "source": [
    "for i in range(5):\n",
    "    print(i)"
   ]
  },
  {
   "cell_type": "code",
   "execution_count": 152,
   "metadata": {},
   "outputs": [
    {
     "name": "stdout",
     "output_type": "stream",
     "text": [
      "2\n",
      "3\n",
      "4\n",
      "5\n",
      "6\n",
      "7\n",
      "8\n",
      "9\n"
     ]
    }
   ],
   "source": [
    "for i in range(2, 10):\n",
    "    print(i)"
   ]
  },
  {
   "cell_type": "code",
   "execution_count": 153,
   "metadata": {},
   "outputs": [
    {
     "name": "stdout",
     "output_type": "stream",
     "text": [
      "0\n",
      "2\n",
      "4\n",
      "6\n",
      "8\n"
     ]
    }
   ],
   "source": [
    "for i in range(0, 10, 2):\n",
    "    print(i)"
   ]
  },
  {
   "cell_type": "markdown",
   "metadata": {},
   "source": [
    "Функція enumerate використовується для одночасного отримання індексу та значення елементів ітерованого об'єкта. Це корисно, коли вам потрібно отримати доступ до індексу елементів під час ітерації."
   ]
  },
  {
   "cell_type": "markdown",
   "metadata": {},
   "source": []
  },
  {
   "cell_type": "code",
   "execution_count": 154,
   "metadata": {},
   "outputs": [
    {
     "name": "stdout",
     "output_type": "stream",
     "text": [
      "0 apple\n",
      "1 banana\n",
      "2 cherry\n"
     ]
    }
   ],
   "source": [
    "some_list = [\"apple\", \"banana\", \"cherry\"]\n",
    "for index, value in enumerate(some_list):\n",
    "    print(index, value)"
   ]
  },
  {
   "cell_type": "markdown",
   "metadata": {},
   "source": [
    "Функція zip використовується для ітерації по декількох ітерованих об'єктах одночасно. Вона \"застібає\" елементи з кожного ітерованого об'єкта, створюючи кортежі з цих елементів."
   ]
  },
  {
   "cell_type": "code",
   "execution_count": 155,
   "metadata": {},
   "outputs": [
    {
     "name": "stdout",
     "output_type": "stream",
     "text": [
      "зелене яблуко\n",
      "стигла вишня\n",
      "червоний томат\n"
     ]
    }
   ],
   "source": [
    "list1 = [\"зелене\", \"стигла\", \"червоний\"]\n",
    "list2 = [\"яблуко\", \"вишня\", \"томат\"]\n",
    "for number, letter in zip(list1, list2):\n",
    "    print(number, letter)"
   ]
  },
  {
   "cell_type": "code",
   "execution_count": 157,
   "metadata": {},
   "outputs": [
    {
     "name": "stdout",
     "output_type": "stream",
     "text": [
      "1 a\n",
      "2 b\n",
      "3 c\n"
     ]
    }
   ],
   "source": [
    "list1 = [1, 2, 3]\n",
    "list2 = [\"a\", \"b\", \"c\", \"d\", \"e\"]\n",
    "\n",
    "for number, letter in zip(list1, list2):\n",
    "    print(number, letter)\n",
    "\n",
    " # розмір визначається за найменшим списком   "
   ]
  },
  {
   "cell_type": "code",
   "execution_count": 158,
   "metadata": {},
   "outputs": [],
   "source": [
    "numbers = {1: \"one\", 2: \"two\", 3: \"three\"}"
   ]
  },
  {
   "cell_type": "code",
   "execution_count": 159,
   "metadata": {},
   "outputs": [
    {
     "name": "stdout",
     "output_type": "stream",
     "text": [
      "1\n",
      "2\n",
      "3\n"
     ]
    }
   ],
   "source": [
    "for key in numbers:\n",
    "    print(key)"
   ]
  },
  {
   "cell_type": "code",
   "execution_count": 160,
   "metadata": {},
   "outputs": [
    {
     "name": "stdout",
     "output_type": "stream",
     "text": [
      "1\n",
      "2\n",
      "3\n"
     ]
    }
   ],
   "source": [
    "for key in numbers.keys():\n",
    "    print(key)"
   ]
  },
  {
   "cell_type": "code",
   "execution_count": 162,
   "metadata": {},
   "outputs": [
    {
     "name": "stdout",
     "output_type": "stream",
     "text": [
      "one\n",
      "two\n",
      "three\n"
     ]
    }
   ],
   "source": [
    "for val in numbers.values():\n",
    "    print(val)"
   ]
  },
  {
   "cell_type": "code",
   "execution_count": 163,
   "metadata": {},
   "outputs": [
    {
     "name": "stdout",
     "output_type": "stream",
     "text": [
      "1 one\n",
      "2 two\n",
      "3 three\n"
     ]
    }
   ],
   "source": [
    "for key, value in numbers.items():\n",
    "    print(key, value)"
   ]
  },
  {
   "cell_type": "markdown",
   "metadata": {},
   "source": [
    "## Механізм обробки винятків"
   ]
  },
  {
   "cell_type": "code",
   "execution_count": 164,
   "metadata": {},
   "outputs": [
    {
     "name": "stdout",
     "output_type": "stream",
     "text": [
      "val a is not a number\n",
      "This will be printed anyway\n"
     ]
    }
   ],
   "source": [
    "val = \"a\"\n",
    "try:\n",
    "    val = int(val)\n",
    "except ValueError:\n",
    "    print(f\"val {val} is not a number\")\n",
    "else:\n",
    "    print(val > 0)\n",
    "finally:\n",
    "    print(\"This will be printed anyway\")"
   ]
  },
  {
   "cell_type": "code",
   "execution_count": 165,
   "metadata": {},
   "outputs": [
    {
     "name": "stdout",
     "output_type": "stream",
     "text": [
      "You are adult.\n"
     ]
    }
   ],
   "source": [
    "age = input(\"How old are you? \")\n",
    "try:\n",
    "    age = int(age)\n",
    "    if age >= 18:\n",
    "        print(\"You are adult.\")\n",
    "    else:\n",
    "        print(\"You are infant\")\n",
    "except ValueError:\n",
    "    print(f\"{age} is not a number\")"
   ]
  },
  {
   "cell_type": "markdown",
   "metadata": {},
   "source": [
    "# Функції"
   ]
  },
  {
   "cell_type": "code",
   "execution_count": 166,
   "metadata": {},
   "outputs": [
    {
     "name": "stdout",
     "output_type": "stream",
     "text": [
      "4 максимально\n",
      "7 максимально\n"
     ]
    }
   ],
   "source": [
    "def print_max(a, b):\n",
    "    if a > b:\n",
    "        print(a, \"максимально\")\n",
    "    elif a == b:\n",
    "        print(a, \"дорівнює\", b)\n",
    "    else:\n",
    "        print(b, \"максимально\")\n",
    "\n",
    "\n",
    "print_max(3, 4)  # пряма передача значень\n",
    "\n",
    "x = 5\n",
    "y = 7\n",
    "print_max(x, y)  # передача змінних у якості аргументів"
   ]
  },
  {
   "cell_type": "markdown",
   "metadata": {},
   "source": [
    "## Типізація параметрів функції\n",
    "\n",
    "В Python, починаючи з версії 3.5, ви можете використовувати \"type hints\" (підказки типів) для вказівки очікуваних типів параметрів. Це дозволяє коду бути більш зрозумілим та може допомогти у виявленні можливих помилок.\n",
    "\n",
    "Попередню функцію ми можемо записати тепер наступним чином:"
   ]
  },
  {
   "cell_type": "code",
   "execution_count": 167,
   "metadata": {},
   "outputs": [
    {
     "name": "stdout",
     "output_type": "stream",
     "text": [
      "4 максимально\n",
      "7 максимально\n"
     ]
    }
   ],
   "source": [
    "def print_max(a: int, b: int):\n",
    "    if a > b:\n",
    "        print(a, \"максимально\")\n",
    "    elif a == b:\n",
    "        print(a, \"дорівнює\", b)\n",
    "    else:\n",
    "        print(b, \"максимально\")\n",
    "\n",
    "\n",
    "print_max(3, 4)  # пряма передача значень\n",
    "\n",
    "x = 5\n",
    "y = 7\n",
    "print_max(x, y)  # передача змінних у якості аргументів"
   ]
  },
  {
   "cell_type": "markdown",
   "metadata": {},
   "source": [
    "## Повернення результату\n",
    "\n"
   ]
  },
  {
   "cell_type": "code",
   "execution_count": 168,
   "metadata": {},
   "outputs": [
    {
     "name": "stdout",
     "output_type": "stream",
     "text": [
      "15\n"
     ]
    }
   ],
   "source": [
    "def add_numbers(num1: int, num2: int) -> int:\n",
    "    sum = num1 + num2\n",
    "    return sum\n",
    "\n",
    "\n",
    "result = add_numbers(5, 10)\n",
    "print(result)  # Виведе: 15"
   ]
  },
  {
   "cell_type": "code",
   "execution_count": 169,
   "metadata": {},
   "outputs": [
    {
     "name": "stdout",
     "output_type": "stream",
     "text": [
      "Привіт, Олексій!\n"
     ]
    }
   ],
   "source": [
    "def greet(name: str) -> str:\n",
    "    return f\"Привіт, {name}!\"\n",
    "\n",
    "\n",
    "greeting = greet(\"Олексій\")\n",
    "print(greeting)  # Виведе: Привіт, Олексій!"
   ]
  },
  {
   "cell_type": "code",
   "execution_count": 170,
   "metadata": {},
   "outputs": [
    {
     "name": "stdout",
     "output_type": "stream",
     "text": [
      "Всередині вкладеної функції: Я змінна в функції, що охоплює\n"
     ]
    }
   ],
   "source": [
    "def outer_func():\n",
    "    enclosing_var = \"Я змінна в функції, що охоплює\"\n",
    "\n",
    "    def inner_func():\n",
    "        print(\"Всередині вкладеної функції:\", enclosing_var)\n",
    "\n",
    "    inner_func()\n",
    "\n",
    "\n",
    "outer_func()"
   ]
  },
  {
   "cell_type": "markdown",
   "metadata": {},
   "source": [
    "Розглянемо типову задачу, яка відображає реальну ситуацію в області торгівлі та фінансів, де потрібно часто обраховувати ціни зі знижками. Нам необхідно створити функцію для розрахунку вартості товарів з урахуванням можливої знижки.\n",
    "\n"
   ]
  },
  {
   "cell_type": "code",
   "execution_count": 171,
   "metadata": {},
   "outputs": [],
   "source": [
    "def real_cost(base: int, discount: int = 0) -> int:\n",
    "    return base * (1 - discount)"
   ]
  },
  {
   "cell_type": "code",
   "execution_count": 172,
   "metadata": {},
   "outputs": [],
   "source": [
    "price_bread = 15\n",
    "price_butter = 50\n",
    "price_sugar = 60\n",
    "\n",
    "current_price_bread = real_cost(price_bread)\n",
    "current_price_butter = real_cost(price_butter, 0.05)\n",
    "current_price_sugar = real_cost(price_sugar, 0.07)"
   ]
  },
  {
   "cell_type": "code",
   "execution_count": 173,
   "metadata": {},
   "outputs": [
    {
     "name": "stdout",
     "output_type": "stream",
     "text": [
      "Нова вартість хліба: 15\n",
      "Нова вартість масла: 47.5\n",
      "Нова вартість цукру: 55.8\n"
     ]
    }
   ],
   "source": [
    "print(f\"Нова вартість хліба: {current_price_bread}\")\n",
    "print(f\"Нова вартість масла: {current_price_butter}\")\n",
    "print(f\"Нова вартість цукру: {current_price_sugar}\")"
   ]
  },
  {
   "cell_type": "markdown",
   "metadata": {},
   "source": [
    "У Python існує два способи реалізації змінної кількості параметрів.\n",
    "\n",
    "- Параметр *args. Він дозволяє функції приймати довільну кількість позиційних аргументів. Аргументи, передані функції, зберігаються у вигляді кортежу.\n",
    "- Параметр **kwargs. Він дозволяє функції приймати довільну кількість ключових аргументів. Але аргументи, передані функції, зберігаються вже у вигляді словника."
   ]
  },
  {
   "cell_type": "code",
   "execution_count": 174,
   "metadata": {},
   "outputs": [
    {
     "name": "stdout",
     "output_type": "stream",
     "text": [
      "1\n",
      "hello\n",
      "True\n"
     ]
    }
   ],
   "source": [
    "def print_all_args(*args):\n",
    "    for arg in args:\n",
    "        print(arg)\n",
    "\n",
    "\n",
    "print_all_args(1, \"hello\", True)"
   ]
  },
  {
   "cell_type": "markdown",
   "metadata": {},
   "source": [
    "Де це може знадобиться? Насправді багато де, але ми розглянемо дуже простий та зрозумілий приклад. Нам треба написати функцію, яка буде передану будь яку кількість рядків об'єднувати в один рядок та повертати його."
   ]
  },
  {
   "cell_type": "code",
   "execution_count": null,
   "metadata": {},
   "outputs": [],
   "source": [
    "def concatenate(*args) -> str:\n",
    "    result = \"\"\n",
    "    for arg in args:\n",
    "        result += arg\n",
    "    return result\n",
    "\n",
    "\n",
    "print(concatenate(\"Hello\", \" \", \"world\", \"!\"))"
   ]
  },
  {
   "cell_type": "markdown",
   "metadata": {},
   "source": [
    "Параметр **kwargs використовується у визначенні функції для вказівки на те, що функція може приймати довільну кількість ключових аргументів. Назва kwargs пішла від \"keyword arguments\" та дозволяє передавати в функцію іменовані аргументи у вигляді словника.\n",
    "\n"
   ]
  },
  {
   "cell_type": "code",
   "execution_count": 175,
   "metadata": {},
   "outputs": [
    {
     "name": "stdout",
     "output_type": "stream",
     "text": [
      "name: Alice\n",
      "age: 25\n"
     ]
    }
   ],
   "source": [
    "def greet(**kwargs):\n",
    "    for key, value in kwargs.items():\n",
    "        print(f\"{key}: {value}\")\n",
    "\n",
    "\n",
    "greet(name=\"Alice\", age=25)"
   ]
  },
  {
   "cell_type": "code",
   "execution_count": 176,
   "metadata": {},
   "outputs": [
    {
     "name": "stdout",
     "output_type": "stream",
     "text": [
      "Позиційні аргументи: (1, 2, 3)\n",
      "Ключові аргументи: {'name': 'Alice', 'age': 25}\n"
     ]
    }
   ],
   "source": [
    "def example_function(*args, **kwargs):\n",
    "    print(\"Позиційні аргументи:\", args)\n",
    "    print(\"Ключові аргументи:\", kwargs)\n",
    "\n",
    "\n",
    "example_function(1, 2, 3, name=\"Alice\", age=25)"
   ]
  },
  {
   "cell_type": "code",
   "execution_count": 177,
   "metadata": {},
   "outputs": [
    {
     "name": "stdout",
     "output_type": "stream",
     "text": [
      "Hello Alice, you are 25 years old.\n"
     ]
    }
   ],
   "source": [
    "def greet(name, age):\n",
    "    print(f\"Hello {name}, you are {age} years old.\")\n",
    "\n",
    "\n",
    "person_info = {\"name\": \"Alice\", \"age\": 25}\n",
    "greet(**person_info)"
   ]
  },
  {
   "cell_type": "code",
   "execution_count": 178,
   "metadata": {},
   "outputs": [
    {
     "name": "stdout",
     "output_type": "stream",
     "text": [
      "120\n"
     ]
    }
   ],
   "source": [
    "def factorial(n):\n",
    "    if n == 0:  # базовий випадок\n",
    "        return 1\n",
    "    else:\n",
    "        return n * factorial(n - 1)  # рекурсивний випадок\n",
    "\n",
    "\n",
    "print(factorial(5))  # виведе 120"
   ]
  },
  {
   "cell_type": "code",
   "execution_count": 179,
   "metadata": {},
   "outputs": [
    {
     "name": "stdout",
     "output_type": "stream",
     "text": [
      "55\n"
     ]
    }
   ],
   "source": [
    "def fibonacci(n):\n",
    "    if n <= 1:  # базовий випадок\n",
    "        return n\n",
    "    else:\n",
    "        return fibonacci(n - 1) + fibonacci(n - 2)  # рекурсивний випадок\n",
    "\n",
    "\n",
    "print(fibonacci(10))  # виведе 55"
   ]
  },
  {
   "cell_type": "markdown",
   "metadata": {},
   "source": [
    "# HW"
   ]
  },
  {
   "cell_type": "code",
   "execution_count": null,
   "metadata": {},
   "outputs": [],
   "source": [
    "name = \"Maryna\"\n",
    "age = 26"
   ]
  },
  {
   "cell_type": "markdown",
   "metadata": {},
   "source": [
    "Створить програму на Python, яка розраховує вартість споживання електроенергії на основі заданого тарифу та показників лічильника."
   ]
  },
  {
   "cell_type": "code",
   "execution_count": 94,
   "metadata": {},
   "outputs": [
    {
     "name": "stdout",
     "output_type": "stream",
     "text": [
      "100.8\n"
     ]
    }
   ],
   "source": [
    "rate = 1.68\n",
    "value = 60\n",
    "payment = rate * value\n",
    "print(payment)"
   ]
  },
  {
   "cell_type": "markdown",
   "metadata": {},
   "source": [
    "Створіть програму на Python, яка розраховує загальну вартість споживання електроенергії, враховуючи різні тарифи для денного та нічного часу."
   ]
  },
  {
   "cell_type": "code",
   "execution_count": 95,
   "metadata": {},
   "outputs": [
    {
     "name": "stdout",
     "output_type": "stream",
     "text": [
      "126.0\n"
     ]
    }
   ],
   "source": [
    "rate = 1.68\n",
    "value_day = 60\n",
    "value_night = 30\n",
    "payment = value_day * rate + value_night * (rate / 2)\n",
    "print(payment)"
   ]
  },
  {
   "cell_type": "markdown",
   "metadata": {},
   "source": [
    "Використовуючи раніше створені змінні first_name та last_name, здійсніть конкатенацію цих змінних для формування повного імені."
   ]
  },
  {
   "cell_type": "code",
   "execution_count": 96,
   "metadata": {},
   "outputs": [
    {
     "name": "stdout",
     "output_type": "stream",
     "text": [
      "Maryna Lysenko\n"
     ]
    }
   ],
   "source": [
    "first_name = \"Maryna\"\n",
    "last_name = \"Lysenko\"\n",
    "full_name = first_name + \" \" + last_name\n",
    "print(full_name)"
   ]
  },
  {
   "cell_type": "code",
   "execution_count": 99,
   "metadata": {},
   "outputs": [
    {
     "name": "stdout",
     "output_type": "stream",
     "text": [
      "With width 1.75 and length 2.75 of the room, its area is equal to 4.8125\n"
     ]
    }
   ],
   "source": [
    "length = 2.75\n",
    "width = 1.75\n",
    "area = length * width\n",
    "show = (f\"With width {width} and length {length} of the room, its area is equal to {area}\")\n",
    "print(show)"
   ]
  },
  {
   "cell_type": "markdown",
   "metadata": {},
   "source": [
    "\n",
    "Булевий тип часто використовують, щоб позначити стан об'єкта. Наприклад, змінна is_active може вказувати, чи активний обліковий запис користувача, чи ні. Також акаунти користувачів часто не видаляють із бази даних, а просто встановлюють їм властивість is_delete – це називають soft delete (м'яке видалення). Використовуючи булевий тип даних у Python, встановити стан облікових записів користувачів за допомогою змінних is_active та is_delete."
   ]
  },
  {
   "cell_type": "code",
   "execution_count": 100,
   "metadata": {},
   "outputs": [],
   "source": [
    "is_active = True\n",
    "is_delete = False"
   ]
  },
  {
   "cell_type": "code",
   "execution_count": 101,
   "metadata": {},
   "outputs": [
    {
     "name": "stdout",
     "output_type": "stream",
     "text": [
      "<class 'str'>\n"
     ]
    }
   ],
   "source": [
    "name = \"Maryna\"\n",
    "age = 26\n",
    "is_active = True\n",
    "subscription = None\n",
    "print(type(name))  # <class 'str'>"
   ]
  },
  {
   "cell_type": "code",
   "execution_count": 103,
   "metadata": {},
   "outputs": [
    {
     "name": "stdout",
     "output_type": "stream",
     "text": [
      "With width 1.75 and length 2.75 of the room, its area is equal to 4.8125\n"
     ]
    }
   ],
   "source": [
    "length = \"2.75\"\n",
    "width = \"1.75\"\n",
    "area = float(length) * float(width)\n",
    "show = (\n",
    "    f\"With width {width} and length {length} of the room, its area is equal to {area}\"\n",
    ")\n",
    "print(show)"
   ]
  },
  {
   "cell_type": "code",
   "execution_count": 104,
   "metadata": {},
   "outputs": [],
   "source": [
    "name = input(\"Your name? \")\n",
    "email = input(\"Your email? \")\n",
    "age = int(input(\"Your age? \"))\n",
    "height = float(input(\"Your height? \"))\n",
    "is_active = bool(input(\"Do you want to receive messages? \"))\n"
   ]
  },
  {
   "cell_type": "code",
   "execution_count": 105,
   "metadata": {},
   "outputs": [
    {
     "name": "stdout",
     "output_type": "stream",
     "text": [
      "With width 1.5 and length 1.2 of the room, its area is equal to 1.7999999999999998\n"
     ]
    }
   ],
   "source": [
    "length = float(input(\"Your length? \"))\n",
    "width = float(input(\"Your width? \"))\n",
    "area = length * width\n",
    "show = (\n",
    "    f\"With width {width} and length {length} of the room, its area is equal to {area}\"\n",
    ")\n",
    "print(show)"
   ]
  },
  {
   "cell_type": "code",
   "execution_count": 109,
   "metadata": {},
   "outputs": [
    {
     "name": "stdout",
     "output_type": "stream",
     "text": [
      "[2024, 'Python', 3.12]\n"
     ]
    }
   ],
   "source": [
    "my_list = []\n",
    "my_list.insert(0,2024)\n",
    "my_list.insert(1,'Python')\n",
    "my_list.insert(2,3.12)\n",
    "print(my_list)"
   ]
  },
  {
   "cell_type": "code",
   "execution_count": 110,
   "metadata": {},
   "outputs": [
    {
     "name": "stdout",
     "output_type": "stream",
     "text": [
      "[2024, 3.12, 'Python']\n",
      "['Python', 3.12, 'Python', 2024]\n"
     ]
    }
   ],
   "source": [
    "my_list = [2024, 3.12]\n",
    "some_data = [\"Python\"]\n",
    "my_list.extend(some_data)\n",
    "my_list.insert(1, \"Python\")\n",
    "my_list.reverse()"
   ]
  },
  {
   "cell_type": "code",
   "execution_count": 113,
   "metadata": {},
   "outputs": [
    {
     "name": "stdout",
     "output_type": "stream",
     "text": [
      "{'year': 2024, 'lang': 'Python', 'version': 3.12}\n"
     ]
    }
   ],
   "source": [
    "data = dict()\n",
    "data['year'] = 2024\n",
    "data['lang'] = 'Python'\n",
    "data['version'] = 3.12\n",
    "print(data)"
   ]
  },
  {
   "cell_type": "code",
   "execution_count": 114,
   "metadata": {},
   "outputs": [
    {
     "name": "stdout",
     "output_type": "stream",
     "text": [
      "{'nick': 'Albus', 'age': 2, 'characteristics': ['kind', 'playful', 'sleepy'], 'status': 'vaccinated', 'breed': True}\n"
     ]
    }
   ],
   "source": [
    "cat = {}\n",
    "info = {\"status\": \"vaccinated\", \"breed\": True}\n",
    "cat[\"nick\"] = \"Albus\"\n",
    "cat[\"age\"] = 2\n",
    "cat[\"characteristics\"] = ['kind', 'playful', 'sleepy']\n",
    "age = cat.get(\"age\")\n",
    "cat.update(info)\n",
    "print(cat)"
   ]
  },
  {
   "cell_type": "markdown",
   "metadata": {},
   "source": [
    "# Q&A"
   ]
  }
 ],
 "metadata": {
  "kernelspec": {
   "display_name": "Python 3",
   "language": "python",
   "name": "python3"
  },
  "language_info": {
   "codemirror_mode": {
    "name": "ipython",
    "version": 3
   },
   "file_extension": ".py",
   "mimetype": "text/x-python",
   "name": "python",
   "nbconvert_exporter": "python",
   "pygments_lexer": "ipython3",
   "version": "3.10.12"
  }
 },
 "nbformat": 4,
 "nbformat_minor": 2
}
