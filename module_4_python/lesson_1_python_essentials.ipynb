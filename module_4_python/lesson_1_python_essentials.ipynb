{
 "cells": [
  {
   "cell_type": "markdown",
   "id": "c8a98b75",
   "metadata": {},
   "source": [
    "# Lesson 1\n",
    "## Знайомство з Python"
   ]
  },
  {
   "cell_type": "markdown",
   "id": "6bed0a40",
   "metadata": {},
   "source": [
    "#### Перша команда в кожній мові програмування :)"
   ]
  },
  {
   "cell_type": "code",
   "execution_count": 1,
   "id": "cc0e102c",
   "metadata": {},
   "outputs": [
    {
     "name": "stdout",
     "output_type": "stream",
     "text": [
      "Hello, world!\n"
     ]
    }
   ],
   "source": [
    "print(\"Hello, world!\")"
   ]
  },
  {
   "cell_type": "markdown",
   "id": "eeafcf18",
   "metadata": {},
   "source": [
    "## Змінні в Python\n",
    "Щоб створити змінну в Python необхідно присвоїти деякому ідентифікатору значення за допомогою оператора присвоювання =\n"
   ]
  },
  {
   "cell_type": "code",
   "execution_count": 2,
   "id": "4d3854d0",
   "metadata": {},
   "outputs": [
    {
     "name": "stdout",
     "output_type": "stream",
     "text": [
      "Maryna\n",
      "26\n"
     ]
    }
   ],
   "source": [
    "name = 'Maryna'\n",
    "print(name)\n",
    "\n",
    "age = 26\n",
    "print(age)"
   ]
  },
  {
   "cell_type": "markdown",
   "id": "47e146ff",
   "metadata": {},
   "source": [
    "## Типи даних в Python\n",
    "\n",
    "- None – порожнє значення\n",
    "- Цілі числа (int) – додатні та від'ємні цілі числа, а також 0\n",
    "- Числа з плаваючою точкою (float) – дробові числа, роздільником цілої та дробової частини є точка.\n",
    "- Рядки (str) - набір символів, укладених в одинарні чи подвійні лапки.\n",
    "- Логічний (bool) - булев тип. Є підтипом цілих чисел. Значення True або False."
   ]
  },
  {
   "cell_type": "code",
   "execution_count": 3,
   "id": "a6f2cbbb",
   "metadata": {},
   "outputs": [
    {
     "name": "stdout",
     "output_type": "stream",
     "text": [
      "11\n"
     ]
    }
   ],
   "source": [
    "int_type = 11\n",
    "print(int_type)"
   ]
  },
  {
   "cell_type": "code",
   "execution_count": 4,
   "id": "b517b40e",
   "metadata": {},
   "outputs": [
    {
     "name": "stdout",
     "output_type": "stream",
     "text": [
      "11.1\n"
     ]
    }
   ],
   "source": [
    "float_type = 11.1\n",
    "print(float_type)"
   ]
  },
  {
   "cell_type": "code",
   "execution_count": 5,
   "id": "25490af2",
   "metadata": {},
   "outputs": [
    {
     "name": "stdout",
     "output_type": "stream",
     "text": [
      "None\n"
     ]
    }
   ],
   "source": [
    "none_type = None\n",
    "print(none_type)"
   ]
  },
  {
   "cell_type": "code",
   "execution_count": 6,
   "id": "ca4eaa0c",
   "metadata": {},
   "outputs": [],
   "source": [
    "bool_type = True"
   ]
  },
  {
   "cell_type": "markdown",
   "id": "1e2fb40f",
   "metadata": {},
   "source": [
    "## Введення (input) і виведення (print) даних"
   ]
  },
  {
   "cell_type": "code",
   "execution_count": 7,
   "id": "181bf7de",
   "metadata": {},
   "outputs": [
    {
     "name": "stdout",
     "output_type": "stream",
     "text": [
      "What’s your name? marie\n"
     ]
    }
   ],
   "source": [
    "name = input(\"What’s your name? \")"
   ]
  },
  {
   "cell_type": "code",
   "execution_count": 8,
   "id": "c0c1edae",
   "metadata": {},
   "outputs": [
    {
     "name": "stdout",
     "output_type": "stream",
     "text": [
      "marie\n"
     ]
    }
   ],
   "source": [
    "print(name)"
   ]
  },
  {
   "cell_type": "code",
   "execution_count": 9,
   "id": "c903184b",
   "metadata": {},
   "outputs": [
    {
     "name": "stdout",
     "output_type": "stream",
     "text": [
      "What's your age?26\n"
     ]
    }
   ],
   "source": [
    "user_age = input(\"What's your age?\")"
   ]
  },
  {
   "cell_type": "code",
   "execution_count": 10,
   "id": "87fdfbe5",
   "metadata": {},
   "outputs": [
    {
     "name": "stdout",
     "output_type": "stream",
     "text": [
      "26\n"
     ]
    }
   ],
   "source": [
    "print(user_age)"
   ]
  },
  {
   "cell_type": "markdown",
   "id": "abf1437e",
   "metadata": {},
   "source": [
    "## Числові Оператори"
   ]
  },
  {
   "cell_type": "code",
   "execution_count": 11,
   "id": "17dc3ae5",
   "metadata": {},
   "outputs": [
    {
     "name": "stdout",
     "output_type": "stream",
     "text": [
      "1666.5\n"
     ]
    }
   ],
   "source": [
    "a = 10\n",
    "b = 15\n",
    "c = (a + b + b ** 3 - 67) / 2\n",
    "print(c)"
   ]
  },
  {
   "cell_type": "code",
   "execution_count": 12,
   "id": "3e348a6c",
   "metadata": {},
   "outputs": [
    {
     "name": "stdout",
     "output_type": "stream",
     "text": [
      "1666.5\n"
     ]
    }
   ],
   "source": [
    "print(c)"
   ]
  },
  {
   "cell_type": "markdown",
   "id": "483bf3db",
   "metadata": {},
   "source": [
    "## Оператори порівняння"
   ]
  },
  {
   "cell_type": "code",
   "execution_count": 13,
   "id": "b2cca57f",
   "metadata": {},
   "outputs": [
    {
     "data": {
      "text/plain": [
       "False"
      ]
     },
     "execution_count": 13,
     "metadata": {},
     "output_type": "execute_result"
    }
   ],
   "source": [
    "a>b"
   ]
  },
  {
   "cell_type": "code",
   "execution_count": 14,
   "id": "2f0b9b00",
   "metadata": {},
   "outputs": [
    {
     "data": {
      "text/plain": [
       "True"
      ]
     },
     "execution_count": 14,
     "metadata": {},
     "output_type": "execute_result"
    }
   ],
   "source": [
    "a<b"
   ]
  },
  {
   "cell_type": "code",
   "execution_count": 15,
   "id": "c7b47d4c",
   "metadata": {},
   "outputs": [
    {
     "data": {
      "text/plain": [
       "False"
      ]
     },
     "execution_count": 15,
     "metadata": {},
     "output_type": "execute_result"
    }
   ],
   "source": [
    "a = 10\n",
    "b = 15\n",
    "a == b"
   ]
  },
  {
   "cell_type": "markdown",
   "id": "71294925",
   "metadata": {},
   "source": [
    "## Логічні оператори"
   ]
  },
  {
   "cell_type": "code",
   "execution_count": 16,
   "id": "5f94c98a",
   "metadata": {},
   "outputs": [
    {
     "data": {
      "text/plain": [
       "True"
      ]
     },
     "execution_count": 16,
     "metadata": {},
     "output_type": "execute_result"
    }
   ],
   "source": [
    "a = 21\n",
    "b = 15\n",
    "a>b or a%2 > 0 and 1>0.5"
   ]
  },
  {
   "cell_type": "code",
   "execution_count": 17,
   "id": "3c2b46a4",
   "metadata": {},
   "outputs": [
    {
     "name": "stdout",
     "output_type": "stream",
     "text": [
      "None\n"
     ]
    }
   ],
   "source": [
    "none_type = None\n",
    "print(none_type)"
   ]
  },
  {
   "cell_type": "code",
   "execution_count": 18,
   "id": "d53566de",
   "metadata": {},
   "outputs": [
    {
     "name": "stdout",
     "output_type": "stream",
     "text": [
      "True\n"
     ]
    }
   ],
   "source": [
    "print(none_type is None)"
   ]
  },
  {
   "cell_type": "code",
   "execution_count": 19,
   "id": "08d054c4",
   "metadata": {},
   "outputs": [],
   "source": [
    "## Оператори присвоювання"
   ]
  },
  {
   "cell_type": "code",
   "execution_count": 20,
   "id": "19421dde",
   "metadata": {},
   "outputs": [
    {
     "data": {
      "text/plain": [
       "21"
      ]
     },
     "execution_count": 20,
     "metadata": {},
     "output_type": "execute_result"
    }
   ],
   "source": [
    "a"
   ]
  },
  {
   "cell_type": "code",
   "execution_count": 21,
   "id": "216251b2",
   "metadata": {},
   "outputs": [
    {
     "data": {
      "text/plain": [
       "26"
      ]
     },
     "execution_count": 21,
     "metadata": {},
     "output_type": "execute_result"
    }
   ],
   "source": [
    "a += 5\n",
    "a"
   ]
  },
  {
   "cell_type": "markdown",
   "id": "6384b638",
   "metadata": {},
   "source": [
    "#Умовне виконання"
   ]
  },
  {
   "cell_type": "code",
   "execution_count": 22,
   "id": "b8e344cb",
   "metadata": {},
   "outputs": [
    {
     "name": "stdout",
     "output_type": "stream",
     "text": [
      "-15\n",
      "не ділиться на 2\n"
     ]
    }
   ],
   "source": [
    "\n",
    "\n",
    "money = -5\n",
    "\n",
    "if money: # відбулось неявне приведення до bool\n",
    "    money*=3\n",
    "    print(money)\n",
    "    \n",
    "    if money%2 > 0:\n",
    "        print('не ділиться на 2')"
   ]
  },
  {
   "cell_type": "code",
   "execution_count": 23,
   "id": "8c0ff929",
   "metadata": {},
   "outputs": [
    {
     "data": {
      "text/plain": [
       "True"
      ]
     },
     "execution_count": 23,
     "metadata": {},
     "output_type": "execute_result"
    }
   ],
   "source": [
    "bool(-5)"
   ]
  },
  {
   "cell_type": "markdown",
   "id": "fc004750",
   "metadata": {},
   "source": [
    "## Додаткові матеріали \n",
    "Ознайомитись з Jupyter Notebook Shortcuts\n",
    "https://towardsdatascience.com/jypyter-notebook-shortcuts-bf0101a98330"
   ]
  }
 ],
 "metadata": {
  "kernelspec": {
   "display_name": "Python 3 (ipykernel)",
   "language": "python",
   "name": "python3"
  },
  "language_info": {
   "codemirror_mode": {
    "name": "ipython",
    "version": 3
   },
   "file_extension": ".py",
   "mimetype": "text/x-python",
   "name": "python",
   "nbconvert_exporter": "python",
   "pygments_lexer": "ipython3",
   "version": "3.10.9"
  }
 },
 "nbformat": 4,
 "nbformat_minor": 5
}
