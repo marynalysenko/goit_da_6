{
 "cells": [
  {
   "cell_type": "code",
   "execution_count": 31,
   "metadata": {},
   "outputs": [],
   "source": [
    "import pandas as pd\n",
    "import numpy as np"
   ]
  },
  {
   "cell_type": "code",
   "execution_count": 32,
   "metadata": {},
   "outputs": [],
   "source": [
    "df = pd.read_csv('survey_results_public.csv')"
   ]
  },
  {
   "cell_type": "markdown",
   "metadata": {},
   "source": [
    "### Скільки респондентів пройшли опитування?"
   ]
  },
  {
   "cell_type": "code",
   "execution_count": 42,
   "metadata": {},
   "outputs": [
    {
     "name": "stdout",
     "output_type": "stream",
     "text": [
      "Total respondents: 89184\n",
      "Total respondents: 89184\n"
     ]
    }
   ],
   "source": [
    "# варіант 1 - використовуючи shape\n",
    "print(\"Total respondents:\", df.shape[0])\n",
    "\n",
    "# варіант 2 - використовуючи функцію unique()\n",
    "# nunique() returns the number of unique values in a column\n",
    "print(\"Total respondents:\", df.ResponseId.nunique())"
   ]
  },
  {
   "cell_type": "markdown",
   "metadata": {},
   "source": [
    "### Скільки респондентів відповіли на всі запитання?"
   ]
  },
  {
   "cell_type": "markdown",
   "metadata": {},
   "source": [
    "!!! читаємо readme і дізнаємось які колонки відповідають питанням? - описані в survey_results_schema.csv"
   ]
  },
  {
   "cell_type": "code",
   "execution_count": 38,
   "metadata": {},
   "outputs": [],
   "source": [
    "schema = pd.read_csv(\"survey_results_schema.csv\")"
   ]
  },
  {
   "cell_type": "code",
   "execution_count": 39,
   "metadata": {},
   "outputs": [
    {
     "data": {
      "text/html": [
       "<div>\n",
       "<style scoped>\n",
       "    .dataframe tbody tr th:only-of-type {\n",
       "        vertical-align: middle;\n",
       "    }\n",
       "\n",
       "    .dataframe tbody tr th {\n",
       "        vertical-align: top;\n",
       "    }\n",
       "\n",
       "    .dataframe thead th {\n",
       "        text-align: right;\n",
       "    }\n",
       "</style>\n",
       "<table border=\"1\" class=\"dataframe\">\n",
       "  <thead>\n",
       "    <tr style=\"text-align: right;\">\n",
       "      <th></th>\n",
       "      <th>qid</th>\n",
       "      <th>qname</th>\n",
       "      <th>question</th>\n",
       "      <th>force_resp</th>\n",
       "      <th>type</th>\n",
       "      <th>selector</th>\n",
       "    </tr>\n",
       "  </thead>\n",
       "  <tbody>\n",
       "    <tr>\n",
       "      <th>0</th>\n",
       "      <td>QID16</td>\n",
       "      <td>S0</td>\n",
       "      <td>&lt;div&gt;&lt;span style=\"font-size:19px;\"&gt;&lt;strong&gt;Hel...</td>\n",
       "      <td>False</td>\n",
       "      <td>DB</td>\n",
       "      <td>TB</td>\n",
       "    </tr>\n",
       "    <tr>\n",
       "      <th>1</th>\n",
       "      <td>QID12</td>\n",
       "      <td>MetaInfo</td>\n",
       "      <td>Browser Meta Info</td>\n",
       "      <td>False</td>\n",
       "      <td>Meta</td>\n",
       "      <td>Browser</td>\n",
       "    </tr>\n",
       "    <tr>\n",
       "      <th>2</th>\n",
       "      <td>QID310</td>\n",
       "      <td>Q310</td>\n",
       "      <td>&lt;div&gt;&lt;span style=\"font-size:19px;\"&gt;&lt;strong&gt;You...</td>\n",
       "      <td>False</td>\n",
       "      <td>DB</td>\n",
       "      <td>TB</td>\n",
       "    </tr>\n",
       "    <tr>\n",
       "      <th>3</th>\n",
       "      <td>QID312</td>\n",
       "      <td>Q120</td>\n",
       "      <td></td>\n",
       "      <td>True</td>\n",
       "      <td>MC</td>\n",
       "      <td>SAVR</td>\n",
       "    </tr>\n",
       "    <tr>\n",
       "      <th>4</th>\n",
       "      <td>QID1</td>\n",
       "      <td>S1</td>\n",
       "      <td>&lt;span style=\"font-size:22px; font-family: aria...</td>\n",
       "      <td>False</td>\n",
       "      <td>DB</td>\n",
       "      <td>TB</td>\n",
       "    </tr>\n",
       "  </tbody>\n",
       "</table>\n",
       "</div>"
      ],
      "text/plain": [
       "      qid     qname                                           question  \\\n",
       "0   QID16        S0  <div><span style=\"font-size:19px;\"><strong>Hel...   \n",
       "1   QID12  MetaInfo                                  Browser Meta Info   \n",
       "2  QID310      Q310  <div><span style=\"font-size:19px;\"><strong>You...   \n",
       "3  QID312      Q120                                                      \n",
       "4    QID1        S1  <span style=\"font-size:22px; font-family: aria...   \n",
       "\n",
       "  force_resp  type selector  \n",
       "0      False    DB       TB  \n",
       "1      False  Meta  Browser  \n",
       "2      False    DB       TB  \n",
       "3       True    MC     SAVR  \n",
       "4      False    DB       TB  "
      ]
     },
     "execution_count": 39,
     "metadata": {},
     "output_type": "execute_result"
    }
   ],
   "source": [
    "schema.head(5)"
   ]
  },
  {
   "cell_type": "code",
   "execution_count": 40,
   "metadata": {},
   "outputs": [],
   "source": [
    "questions = set(schema.qname.unique()) & set(df.columns)  # вибираємо за допомогою множин тільки ті стовпці, які є в обох датафреймах"
   ]
  },
  {
   "cell_type": "code",
   "execution_count": 41,
   "metadata": {},
   "outputs": [
    {
     "data": {
      "text/plain": [
       "{'AIAcc',\n",
       " 'AIBen',\n",
       " 'AISelect',\n",
       " 'AISent',\n",
       " 'Age',\n",
       " 'BuyNewTool',\n",
       " 'CodingActivities',\n",
       " 'CompTotal',\n",
       " 'Country',\n",
       " 'Currency',\n",
       " 'DevType',\n",
       " 'EdLevel',\n",
       " 'Employment',\n",
       " 'Frequency_1',\n",
       " 'Frequency_2',\n",
       " 'Frequency_3',\n",
       " 'ICorPM',\n",
       " 'Industry',\n",
       " 'Knowledge_1',\n",
       " 'Knowledge_2',\n",
       " 'Knowledge_3',\n",
       " 'Knowledge_4',\n",
       " 'Knowledge_5',\n",
       " 'Knowledge_6',\n",
       " 'Knowledge_7',\n",
       " 'Knowledge_8',\n",
       " 'LearnCode',\n",
       " 'LearnCodeCoursesCert',\n",
       " 'LearnCodeOnline',\n",
       " 'MainBranch',\n",
       " 'NEWSOSites',\n",
       " 'OrgSize',\n",
       " 'ProfessionalTech',\n",
       " 'PurchaseInfluence',\n",
       " 'Q120',\n",
       " 'RemoteWork',\n",
       " 'SOAI',\n",
       " 'SOAccount',\n",
       " 'SOComm',\n",
       " 'SOPartFreq',\n",
       " 'SOVisitFreq',\n",
       " 'SurveyEase',\n",
       " 'SurveyLength',\n",
       " 'TBranch',\n",
       " 'TechList',\n",
       " 'TimeAnswering',\n",
       " 'TimeSearching',\n",
       " 'WorkExp',\n",
       " 'YearsCode',\n",
       " 'YearsCodePro'}"
      ]
     },
     "execution_count": 41,
     "metadata": {},
     "output_type": "execute_result"
    }
   ],
   "source": [
    "questions"
   ]
  },
  {
   "cell_type": "code",
   "execution_count": null,
   "metadata": {},
   "outputs": [],
   "source": [
    "schema = pd.read_csv(\"survey_results_schema.csv\")\n",
    "questions = set(schema.qname.unique()) & set(\n",
    "    df.columns\n",
    ")  # вибираємо за допомогою множин тільки ті стовпці, які є в обох датафреймах\n",
    "\n",
    "# спосіб 1 - використовуючи підсемпл даних\n",
    "print(f\"Total respondents with full answers: {df[list(questions)].dropna().shape[0]}\")\n",
    "\n",
    "# спосіб 2 - використовуючи функцію dropna() видаляємо рядки, в яких є хоча б один пропуск, і рахуємо кількість рядків\n",
    "print(f\"Total respondents with full answers: {df.dropna(subset=questions).shape[0]}\")"
   ]
  },
  {
   "cell_type": "markdown",
   "metadata": {},
   "source": [
    "### Які значення мір центральної тенденції для досвіду (WorkExp) респондентів?"
   ]
  },
  {
   "cell_type": "code",
   "execution_count": 45,
   "metadata": {},
   "outputs": [
    {
     "name": "stdout",
     "output_type": "stream",
     "text": [
      "Mean: 11.4\n",
      "Mode: 5.0\n",
      "Median: 9.0\n"
     ]
    }
   ],
   "source": [
    "print(f'Mean: {round(df.WorkExp.mean(), 1)}')\n",
    "print(f'Mode: {round(df.WorkExp.mode()[0], 1)}')\n",
    "print(f'Median: {round(df.WorkExp.median(), 1)}')"
   ]
  },
  {
   "cell_type": "markdown",
   "metadata": {},
   "source": [
    "### Скільки респондентів працює віддалено?"
   ]
  },
  {
   "cell_type": "code",
   "execution_count": null,
   "metadata": {},
   "outputs": [],
   "source": [
    "df[\"RemoteWork\"].unique()"
   ]
  },
  {
   "cell_type": "code",
   "execution_count": null,
   "metadata": {},
   "outputs": [],
   "source": [
    "df[df.RemoteWork == \"Remote\"].shape[0]"
   ]
  },
  {
   "cell_type": "markdown",
   "metadata": {},
   "source": [
    "### Який відсоток респондентів програмує на Python?"
   ]
  },
  {
   "cell_type": "code",
   "execution_count": 46,
   "metadata": {},
   "outputs": [
    {
     "data": {
      "text/plain": [
       "0"
      ]
     },
     "execution_count": 46,
     "metadata": {},
     "output_type": "execute_result"
    }
   ],
   "source": [
    "# Варіант 1 - використовуючи функцію .str.contains\n",
    "df[\"worked_with_python\"] = df.LanguageHaveWorkedWith.str.contains(\n",
    "    \"python\", case=False, na=False\n",
    ")  # case=False - не враховуємо регістр, na=False - не враховуємо пропуски\n",
    "# round(df.worked_with_python.sum() / df.ResponseId.nunique(), 2)\n",
    "round(df.worked_with_python.sum() / df.shape[0])"
   ]
  },
  {
   "cell_type": "code",
   "execution_count": 47,
   "metadata": {},
   "outputs": [
    {
     "name": "stdout",
     "output_type": "stream",
     "text": [
      "Total = 0.4839\n",
      "Total = 0.4839\n"
     ]
    }
   ],
   "source": [
    "# Варіант 1 - використовуючи функцію .str.contains попередньо привівши до нижнього регістру\n",
    "df[\"LanguageHaveWorkedWith\"] = df[\"LanguageHaveWorkedWith\"].str.lower()\n",
    "df[\"worked_with_python\"] = df[\"LanguageHaveWorkedWith\"].str.contains(\"python\")\n",
    "\n",
    "\n",
    "print(f\"Total = {round(df[df['worked_with_python'] == True].shape[0] / df.shape[0], 4)}\")\n",
    "print(f\"Total = {round(df.worked_with_python.sum() / df.shape[0], 4)}\")"
   ]
  },
  {
   "cell_type": "code",
   "execution_count": null,
   "metadata": {},
   "outputs": [],
   "source": [
    "df[[\"LanguageHaveWorkedWith\", \"worked_with_python\"]]"
   ]
  },
  {
   "cell_type": "code",
   "execution_count": null,
   "metadata": {},
   "outputs": [],
   "source": [
    "# Варіант 1.2 - використовуючи функцію .str.contains з параметрами\n",
    "\n",
    "df[\"worked_with_python\"] = df.LanguageHaveWorkedWith.str.contains(\n",
    "    \"python\", case=False, na=False\n",
    ")  # case=False - не враховуємо регістр, na=False - не враховуємо пропуски (домовленність розрахунків)\n",
    "\n",
    "print(f\"Total = {round(df.worked_with_python.sum() / df.shape[0], 4)}\")\n",
    "print(f\"Total = {round(df.worked_with_python.sum() / df.ResponseId.nunique(), 4)}\")"
   ]
  },
  {
   "cell_type": "code",
   "execution_count": null,
   "metadata": {},
   "outputs": [],
   "source": [
    "# Варіант 2 - Використовуючи лямбда-функції для розмітки рядків\n",
    "df[\"worked_with_python\"] = df.LanguageHaveWorkedWith.apply(\n",
    "    lambda x: 1 if \"python\" in str(x).lower() else 0\n",
    ")\n",
    "\n",
    "print(f\"Total = {round(df.worked_with_python.sum() / df.shape[0], 4)}\")\n",
    "print(f\"Total = {round(df.worked_with_python.sum() / df.ResponseId.nunique(), 4)}\")"
   ]
  },
  {
   "cell_type": "markdown",
   "metadata": {},
   "source": [
    "### Скільки респондентів навчалося програмувати за допомогою онлайн курсів?"
   ]
  },
  {
   "cell_type": "code",
   "execution_count": null,
   "metadata": {},
   "outputs": [],
   "source": [
    "# Варіант 1 - використовуючи функцію .str.contains\n",
    "\n",
    "print( f\"Total={df[df['LearnCode'].str.contains('online courses', case=False, na=False)].shape[0]}\")"
   ]
  },
  {
   "cell_type": "code",
   "execution_count": null,
   "metadata": {},
   "outputs": [],
   "source": [
    "# Варіант 2\n",
    "\n",
    "df[\"learned_with_online_courses\"] = df.LearnCode.str.contains(\"online courses\", case=False, na=False)\n",
    "\n",
    "print(f\"Total={df.learned_with_online_courses.sum()}\")"
   ]
  },
  {
   "cell_type": "code",
   "execution_count": null,
   "metadata": {},
   "outputs": [],
   "source": [
    "# Варіант 3 - використовуючи лямбда-функції\n",
    "df[\"learned_with_online_courses\"] = df.LearnCode.apply(lambda x: 1 if \"online courses\" in str(x).lower() else 0)\n",
    "\n",
    "print(f\"Total={df.learned_with_online_courses.sum()}\")"
   ]
  },
  {
   "cell_type": "markdown",
   "metadata": {},
   "source": [
    "### Серед респондентів що програмують на Python в групуванні по країнам, яка середня та медіанна сума компенсації (ConvertedCompYearly) в кожній країні?"
   ]
  },
  {
   "cell_type": "code",
   "execution_count": 48,
   "metadata": {},
   "outputs": [
    {
     "name": "stdout",
     "output_type": "stream",
     "text": [
      "21636\n"
     ]
    }
   ],
   "source": [
    "# варіант 1\n",
    "filtered_df = df[(df[\"worked_with_python\"] == 1) & (df[\"ConvertedCompYearly\"].isna() == False)]\n",
    "print(filtered_df.shape[0])"
   ]
  },
  {
   "cell_type": "code",
   "execution_count": null,
   "metadata": {},
   "outputs": [],
   "source": [
    "# варіант 2\n",
    "filtered_df = df[df.worked_with_python == 1].dropna(subset=[\"ConvertedCompYearly\"])\n",
    "print(filtered_df.shape[0])"
   ]
  },
  {
   "cell_type": "code",
   "execution_count": 49,
   "metadata": {},
   "outputs": [
    {
     "data": {
      "text/html": [
       "<div>\n",
       "<style scoped>\n",
       "    .dataframe tbody tr th:only-of-type {\n",
       "        vertical-align: middle;\n",
       "    }\n",
       "\n",
       "    .dataframe tbody tr th {\n",
       "        vertical-align: top;\n",
       "    }\n",
       "\n",
       "    .dataframe thead th {\n",
       "        text-align: right;\n",
       "    }\n",
       "</style>\n",
       "<table border=\"1\" class=\"dataframe\">\n",
       "  <thead>\n",
       "    <tr style=\"text-align: right;\">\n",
       "      <th></th>\n",
       "      <th>mean</th>\n",
       "      <th>median</th>\n",
       "    </tr>\n",
       "    <tr>\n",
       "      <th>Country</th>\n",
       "      <th></th>\n",
       "      <th></th>\n",
       "    </tr>\n",
       "  </thead>\n",
       "  <tbody>\n",
       "    <tr>\n",
       "      <th>Afghanistan</th>\n",
       "      <td>665.000000</td>\n",
       "      <td>48.0</td>\n",
       "    </tr>\n",
       "    <tr>\n",
       "      <th>Albania</th>\n",
       "      <td>28008.600000</td>\n",
       "      <td>11844.0</td>\n",
       "    </tr>\n",
       "    <tr>\n",
       "      <th>Algeria</th>\n",
       "      <td>8336.333333</td>\n",
       "      <td>6586.0</td>\n",
       "    </tr>\n",
       "    <tr>\n",
       "      <th>Andorra</th>\n",
       "      <td>32127.000000</td>\n",
       "      <td>32127.0</td>\n",
       "    </tr>\n",
       "    <tr>\n",
       "      <th>Angola</th>\n",
       "      <td>662.000000</td>\n",
       "      <td>662.0</td>\n",
       "    </tr>\n",
       "    <tr>\n",
       "      <th>...</th>\n",
       "      <td>...</td>\n",
       "      <td>...</td>\n",
       "    </tr>\n",
       "    <tr>\n",
       "      <th>Venezuela, Bolivarian Republic of...</th>\n",
       "      <td>24973.529412</td>\n",
       "      <td>12000.0</td>\n",
       "    </tr>\n",
       "    <tr>\n",
       "      <th>Viet Nam</th>\n",
       "      <td>20191.870370</td>\n",
       "      <td>13401.0</td>\n",
       "    </tr>\n",
       "    <tr>\n",
       "      <th>Yemen</th>\n",
       "      <td>8373.000000</td>\n",
       "      <td>9000.0</td>\n",
       "    </tr>\n",
       "    <tr>\n",
       "      <th>Zambia</th>\n",
       "      <td>13051.000000</td>\n",
       "      <td>9687.0</td>\n",
       "    </tr>\n",
       "    <tr>\n",
       "      <th>Zimbabwe</th>\n",
       "      <td>5600.000000</td>\n",
       "      <td>6000.0</td>\n",
       "    </tr>\n",
       "  </tbody>\n",
       "</table>\n",
       "<p>158 rows × 2 columns</p>\n",
       "</div>"
      ],
      "text/plain": [
       "                                              mean   median\n",
       "Country                                                    \n",
       "Afghanistan                             665.000000     48.0\n",
       "Albania                               28008.600000  11844.0\n",
       "Algeria                                8336.333333   6586.0\n",
       "Andorra                               32127.000000  32127.0\n",
       "Angola                                  662.000000    662.0\n",
       "...                                            ...      ...\n",
       "Venezuela, Bolivarian Republic of...  24973.529412  12000.0\n",
       "Viet Nam                              20191.870370  13401.0\n",
       "Yemen                                  8373.000000   9000.0\n",
       "Zambia                                13051.000000   9687.0\n",
       "Zimbabwe                               5600.000000   6000.0\n",
       "\n",
       "[158 rows x 2 columns]"
      ]
     },
     "execution_count": 49,
     "metadata": {},
     "output_type": "execute_result"
    }
   ],
   "source": [
    "# варіант 3\n",
    "\n",
    "# Фільтрація респондентів, які працюють з Python (Метод: query() використовується для фільтрації рядків у DataFrame на основі заданої умови. Умова вказується як рядок.)\n",
    "python_devs = df.query(\"worked_with_python == 1\").dropna(subset=[\"ConvertedCompYearly\"])\n",
    "\n",
    "# Групування за країною і розрахунок середнього та медіани\n",
    "python_devs.groupby(\"Country\")[\"ConvertedCompYearly\"].agg([\"mean\", \"median\"])"
   ]
  },
  {
   "cell_type": "code",
   "execution_count": null,
   "metadata": {},
   "outputs": [],
   "source": [
    "df[df.worked_with_python == 1].dropna(subset=\"ConvertedCompYearly\").groupby(\n",
    "    \"Country\",\n",
    "    as_index=False,  # as_index=False - не робити індексом стовпець, по якому групуємо (не принципово!!!!)\n",
    ").agg({\"ConvertedCompYearly\": [\"mean\", \"median\"]}).droplevel(\n",
    "    1, axis=1\n",
    ")  # droplevel(1, axis=1) - видаляємо перший рівень індексу (в даному випадку - \"ConvertedCompYearly\")"
   ]
  },
  {
   "cell_type": "code",
   "execution_count": null,
   "metadata": {},
   "outputs": [],
   "source": [
    "# ще один варіант - додаємо ренейми стовпців і переводимо в int\n",
    "py_progers_by_country = df[df.worked_with_python == 1].dropna(subset='ConvertedCompYearly') \\\n",
    "                                                      .groupby('Country', as_index=False) \\\n",
    "                                                      .agg({'ConvertedCompYearly': ['mean', 'median']}).droplevel(1, axis=1)\n",
    "py_progers_by_country.columns = ['country', 'mean_comp', 'median_comp']\n",
    "py_progers_by_country = py_progers_by_country.astype({'mean_comp': 'int', 'median_comp': 'int'})\n",
    "py_progers_by_country"
   ]
  },
  {
   "cell_type": "markdown",
   "metadata": {},
   "source": [
    "### Які рівні освіти мають 5 респондентів з найбільшою компенсацією?"
   ]
  },
  {
   "cell_type": "code",
   "execution_count": 50,
   "metadata": {},
   "outputs": [
    {
     "data": {
      "text/html": [
       "<div>\n",
       "<style scoped>\n",
       "    .dataframe tbody tr th:only-of-type {\n",
       "        vertical-align: middle;\n",
       "    }\n",
       "\n",
       "    .dataframe tbody tr th {\n",
       "        vertical-align: top;\n",
       "    }\n",
       "\n",
       "    .dataframe thead th {\n",
       "        text-align: right;\n",
       "    }\n",
       "</style>\n",
       "<table border=\"1\" class=\"dataframe\">\n",
       "  <thead>\n",
       "    <tr style=\"text-align: right;\">\n",
       "      <th></th>\n",
       "      <th>ResponseId</th>\n",
       "      <th>EdLevel</th>\n",
       "      <th>ConvertedCompYearly</th>\n",
       "    </tr>\n",
       "  </thead>\n",
       "  <tbody>\n",
       "    <tr>\n",
       "      <th>53268</th>\n",
       "      <td>53269</td>\n",
       "      <td>Professional degree (JD, MD, Ph.D, Ed.D, etc.)</td>\n",
       "      <td>74351432.0</td>\n",
       "    </tr>\n",
       "    <tr>\n",
       "      <th>77848</th>\n",
       "      <td>77849</td>\n",
       "      <td>Professional degree (JD, MD, Ph.D, Ed.D, etc.)</td>\n",
       "      <td>73607918.0</td>\n",
       "    </tr>\n",
       "    <tr>\n",
       "      <th>66223</th>\n",
       "      <td>66224</td>\n",
       "      <td>Bachelor’s degree (B.A., B.S., B.Eng., etc.)</td>\n",
       "      <td>72714292.0</td>\n",
       "    </tr>\n",
       "    <tr>\n",
       "      <th>28121</th>\n",
       "      <td>28122</td>\n",
       "      <td>Primary/elementary school</td>\n",
       "      <td>57513831.0</td>\n",
       "    </tr>\n",
       "    <tr>\n",
       "      <th>19679</th>\n",
       "      <td>19680</td>\n",
       "      <td>Professional degree (JD, MD, Ph.D, Ed.D, etc.)</td>\n",
       "      <td>36573181.0</td>\n",
       "    </tr>\n",
       "  </tbody>\n",
       "</table>\n",
       "</div>"
      ],
      "text/plain": [
       "       ResponseId                                         EdLevel  \\\n",
       "53268       53269  Professional degree (JD, MD, Ph.D, Ed.D, etc.)   \n",
       "77848       77849  Professional degree (JD, MD, Ph.D, Ed.D, etc.)   \n",
       "66223       66224    Bachelor’s degree (B.A., B.S., B.Eng., etc.)   \n",
       "28121       28122                       Primary/elementary school   \n",
       "19679       19680  Professional degree (JD, MD, Ph.D, Ed.D, etc.)   \n",
       "\n",
       "       ConvertedCompYearly  \n",
       "53268           74351432.0  \n",
       "77848           73607918.0  \n",
       "66223           72714292.0  \n",
       "28121           57513831.0  \n",
       "19679           36573181.0  "
      ]
     },
     "execution_count": 50,
     "metadata": {},
     "output_type": "execute_result"
    }
   ],
   "source": [
    "df[[\"ResponseId\", \"EdLevel\", \"ConvertedCompYearly\"]].sort_values( by=\"ConvertedCompYearly\", ascending=False).head(5)"
   ]
  },
  {
   "cell_type": "code",
   "execution_count": 51,
   "metadata": {},
   "outputs": [
    {
     "data": {
      "text/html": [
       "<div>\n",
       "<style scoped>\n",
       "    .dataframe tbody tr th:only-of-type {\n",
       "        vertical-align: middle;\n",
       "    }\n",
       "\n",
       "    .dataframe tbody tr th {\n",
       "        vertical-align: top;\n",
       "    }\n",
       "\n",
       "    .dataframe thead th {\n",
       "        text-align: right;\n",
       "    }\n",
       "</style>\n",
       "<table border=\"1\" class=\"dataframe\">\n",
       "  <thead>\n",
       "    <tr style=\"text-align: right;\">\n",
       "      <th></th>\n",
       "      <th>ResponseId</th>\n",
       "      <th>EdLevel</th>\n",
       "      <th>ConvertedCompYearly</th>\n",
       "    </tr>\n",
       "  </thead>\n",
       "  <tbody>\n",
       "    <tr>\n",
       "      <th>0</th>\n",
       "      <td>53269</td>\n",
       "      <td>Professional degree (JD, MD, Ph.D, Ed.D, etc.)</td>\n",
       "      <td>74351432.0</td>\n",
       "    </tr>\n",
       "    <tr>\n",
       "      <th>1</th>\n",
       "      <td>77849</td>\n",
       "      <td>Professional degree (JD, MD, Ph.D, Ed.D, etc.)</td>\n",
       "      <td>73607918.0</td>\n",
       "    </tr>\n",
       "    <tr>\n",
       "      <th>2</th>\n",
       "      <td>66224</td>\n",
       "      <td>Bachelor’s degree (B.A., B.S., B.Eng., etc.)</td>\n",
       "      <td>72714292.0</td>\n",
       "    </tr>\n",
       "    <tr>\n",
       "      <th>3</th>\n",
       "      <td>28122</td>\n",
       "      <td>Primary/elementary school</td>\n",
       "      <td>57513831.0</td>\n",
       "    </tr>\n",
       "    <tr>\n",
       "      <th>4</th>\n",
       "      <td>19680</td>\n",
       "      <td>Professional degree (JD, MD, Ph.D, Ed.D, etc.)</td>\n",
       "      <td>36573181.0</td>\n",
       "    </tr>\n",
       "  </tbody>\n",
       "</table>\n",
       "</div>"
      ],
      "text/plain": [
       "   ResponseId                                         EdLevel  \\\n",
       "0       53269  Professional degree (JD, MD, Ph.D, Ed.D, etc.)   \n",
       "1       77849  Professional degree (JD, MD, Ph.D, Ed.D, etc.)   \n",
       "2       66224    Bachelor’s degree (B.A., B.S., B.Eng., etc.)   \n",
       "3       28122                       Primary/elementary school   \n",
       "4       19680  Professional degree (JD, MD, Ph.D, Ed.D, etc.)   \n",
       "\n",
       "   ConvertedCompYearly  \n",
       "0           74351432.0  \n",
       "1           73607918.0  \n",
       "2           72714292.0  \n",
       "3           57513831.0  \n",
       "4           36573181.0  "
      ]
     },
     "execution_count": 51,
     "metadata": {},
     "output_type": "execute_result"
    }
   ],
   "source": [
    "df[['ResponseId', 'EdLevel', 'ConvertedCompYearly']].sort_values(by='ConvertedCompYearly', ascending=False).reset_index(drop=True).head(5)"
   ]
  },
  {
   "cell_type": "markdown",
   "metadata": {},
   "source": [
    "### В кожній віковій категорії, який відсоток респондентів програмує на Python?"
   ]
  },
  {
   "cell_type": "code",
   "execution_count": 52,
   "metadata": {},
   "outputs": [
    {
     "data": {
      "text/html": [
       "<div>\n",
       "<style scoped>\n",
       "    .dataframe tbody tr th:only-of-type {\n",
       "        vertical-align: middle;\n",
       "    }\n",
       "\n",
       "    .dataframe tbody tr th {\n",
       "        vertical-align: top;\n",
       "    }\n",
       "\n",
       "    .dataframe thead th {\n",
       "        text-align: right;\n",
       "    }\n",
       "</style>\n",
       "<table border=\"1\" class=\"dataframe\">\n",
       "  <thead>\n",
       "    <tr style=\"text-align: right;\">\n",
       "      <th></th>\n",
       "      <th>ResponseId</th>\n",
       "      <th>worked_with_python</th>\n",
       "    </tr>\n",
       "    <tr>\n",
       "      <th>Age</th>\n",
       "      <th></th>\n",
       "      <th></th>\n",
       "    </tr>\n",
       "  </thead>\n",
       "  <tbody>\n",
       "    <tr>\n",
       "      <th>18-24 years old</th>\n",
       "      <td>17931</td>\n",
       "      <td>11008</td>\n",
       "    </tr>\n",
       "    <tr>\n",
       "      <th>25-34 years old</th>\n",
       "      <td>33247</td>\n",
       "      <td>15818</td>\n",
       "    </tr>\n",
       "    <tr>\n",
       "      <th>35-44 years old</th>\n",
       "      <td>20532</td>\n",
       "      <td>8509</td>\n",
       "    </tr>\n",
       "    <tr>\n",
       "      <th>45-54 years old</th>\n",
       "      <td>8334</td>\n",
       "      <td>3205</td>\n",
       "    </tr>\n",
       "    <tr>\n",
       "      <th>55-64 years old</th>\n",
       "      <td>3392</td>\n",
       "      <td>1238</td>\n",
       "    </tr>\n",
       "    <tr>\n",
       "      <th>65 years or older</th>\n",
       "      <td>1171</td>\n",
       "      <td>362</td>\n",
       "    </tr>\n",
       "    <tr>\n",
       "      <th>Prefer not to say</th>\n",
       "      <td>449</td>\n",
       "      <td>185</td>\n",
       "    </tr>\n",
       "    <tr>\n",
       "      <th>Under 18 years old</th>\n",
       "      <td>4128</td>\n",
       "      <td>2833</td>\n",
       "    </tr>\n",
       "  </tbody>\n",
       "</table>\n",
       "</div>"
      ],
      "text/plain": [
       "                    ResponseId worked_with_python\n",
       "Age                                              \n",
       "18-24 years old          17931              11008\n",
       "25-34 years old          33247              15818\n",
       "35-44 years old          20532               8509\n",
       "45-54 years old           8334               3205\n",
       "55-64 years old           3392               1238\n",
       "65 years or older         1171                362\n",
       "Prefer not to say          449                185\n",
       "Under 18 years old        4128               2833"
      ]
     },
     "execution_count": 52,
     "metadata": {},
     "output_type": "execute_result"
    }
   ],
   "source": [
    "df.groupby(\"Age\").agg({\"ResponseId\": \"count\", \"worked_with_python\": \"sum\"})"
   ]
  },
  {
   "cell_type": "code",
   "execution_count": 55,
   "metadata": {},
   "outputs": [
    {
     "data": {
      "text/html": [
       "<div>\n",
       "<style scoped>\n",
       "    .dataframe tbody tr th:only-of-type {\n",
       "        vertical-align: middle;\n",
       "    }\n",
       "\n",
       "    .dataframe tbody tr th {\n",
       "        vertical-align: top;\n",
       "    }\n",
       "\n",
       "    .dataframe thead th {\n",
       "        text-align: right;\n",
       "    }\n",
       "</style>\n",
       "<table border=\"1\" class=\"dataframe\">\n",
       "  <thead>\n",
       "    <tr style=\"text-align: right;\">\n",
       "      <th></th>\n",
       "      <th>Age</th>\n",
       "      <th>ResponseId</th>\n",
       "      <th>worked_with_python</th>\n",
       "    </tr>\n",
       "  </thead>\n",
       "  <tbody>\n",
       "    <tr>\n",
       "      <th>0</th>\n",
       "      <td>18-24 years old</td>\n",
       "      <td>17931</td>\n",
       "      <td>11008</td>\n",
       "    </tr>\n",
       "    <tr>\n",
       "      <th>1</th>\n",
       "      <td>25-34 years old</td>\n",
       "      <td>33247</td>\n",
       "      <td>15818</td>\n",
       "    </tr>\n",
       "    <tr>\n",
       "      <th>2</th>\n",
       "      <td>35-44 years old</td>\n",
       "      <td>20532</td>\n",
       "      <td>8509</td>\n",
       "    </tr>\n",
       "    <tr>\n",
       "      <th>3</th>\n",
       "      <td>45-54 years old</td>\n",
       "      <td>8334</td>\n",
       "      <td>3205</td>\n",
       "    </tr>\n",
       "    <tr>\n",
       "      <th>4</th>\n",
       "      <td>55-64 years old</td>\n",
       "      <td>3392</td>\n",
       "      <td>1238</td>\n",
       "    </tr>\n",
       "    <tr>\n",
       "      <th>5</th>\n",
       "      <td>65 years or older</td>\n",
       "      <td>1171</td>\n",
       "      <td>362</td>\n",
       "    </tr>\n",
       "    <tr>\n",
       "      <th>6</th>\n",
       "      <td>Prefer not to say</td>\n",
       "      <td>449</td>\n",
       "      <td>185</td>\n",
       "    </tr>\n",
       "    <tr>\n",
       "      <th>7</th>\n",
       "      <td>Under 18 years old</td>\n",
       "      <td>4128</td>\n",
       "      <td>2833</td>\n",
       "    </tr>\n",
       "  </tbody>\n",
       "</table>\n",
       "</div>"
      ],
      "text/plain": [
       "                  Age  ResponseId worked_with_python\n",
       "0     18-24 years old       17931              11008\n",
       "1     25-34 years old       33247              15818\n",
       "2     35-44 years old       20532               8509\n",
       "3     45-54 years old        8334               3205\n",
       "4     55-64 years old        3392               1238\n",
       "5   65 years or older        1171                362\n",
       "6   Prefer not to say         449                185\n",
       "7  Under 18 years old        4128               2833"
      ]
     },
     "execution_count": 55,
     "metadata": {},
     "output_type": "execute_result"
    }
   ],
   "source": [
    "df.groupby(\"Age\", as_index=False).agg({\"ResponseId\": \"count\", \"worked_with_python\": \"sum\"})"
   ]
  },
  {
   "cell_type": "code",
   "execution_count": null,
   "metadata": {},
   "outputs": [],
   "source": [
    "py_progers_share_by_age = df.groupby(\"Age\", as_index=False).agg(\n",
    "    {\"ResponseId\": \"count\", \"worked_with_python\": \"sum\"}\n",
    ")  # as_index=False - не робити індексом стовпець, по якому групуємо (не принципово!!!!)\n",
    "py_progers_share_by_age[\"work_with_python_share\"] = round(\n",
    "    py_progers_share_by_age.worked_with_python / py_progers_share_by_age.ResponseId, 2\n",
    ")\n",
    "py_progers_share_by_age"
   ]
  },
  {
   "cell_type": "markdown",
   "metadata": {},
   "source": [
    "### Серед респондентів що знаходяться в 75 перцентилі за компенсацією середнього і працюють віддалено, які індустрії є найрозповсюдженішими?"
   ]
  },
  {
   "cell_type": "code",
   "execution_count": null,
   "metadata": {},
   "outputs": [],
   "source": [
    "df[(df.ConvertedCompYearly > df.ConvertedCompYearly.quantile(0.75)) & (df.RemoteWork == 'Remote')].Industry.value_counts().reset_index()"
   ]
  },
  {
   "cell_type": "markdown",
   "metadata": {},
   "source": [
    "# Чому краще звертатись до стовпців через квадратні дужки?"
   ]
  },
  {
   "cell_type": "code",
   "execution_count": 33,
   "metadata": {},
   "outputs": [
    {
     "data": {
      "text/plain": [
       "0             NaN\n",
       "1        285000.0\n",
       "2        250000.0\n",
       "3        156000.0\n",
       "4         23456.0\n",
       "           ...   \n",
       "89179         NaN\n",
       "89180         NaN\n",
       "89181         NaN\n",
       "89182         NaN\n",
       "89183         NaN\n",
       "Name: ConvertedCompYearly, Length: 89184, dtype: float64"
      ]
     },
     "execution_count": 33,
     "metadata": {},
     "output_type": "execute_result"
    }
   ],
   "source": [
    "df.ConvertedCompYearly"
   ]
  },
  {
   "cell_type": "code",
   "execution_count": 34,
   "metadata": {},
   "outputs": [
    {
     "data": {
      "text/plain": [
       "0             NaN\n",
       "1        285000.0\n",
       "2        250000.0\n",
       "3        156000.0\n",
       "4         23456.0\n",
       "           ...   \n",
       "89179         NaN\n",
       "89180         NaN\n",
       "89181         NaN\n",
       "89182         NaN\n",
       "89183         NaN\n",
       "Name: ConvertedCompYearly, Length: 89184, dtype: float64"
      ]
     },
     "execution_count": 34,
     "metadata": {},
     "output_type": "execute_result"
    }
   ],
   "source": [
    "df[\"ConvertedCompYearly\"]"
   ]
  },
  {
   "cell_type": "code",
   "execution_count": 35,
   "metadata": {},
   "outputs": [],
   "source": [
    "\n",
    "df.head(2)\n",
    "df['Oклад за рік, $']  = df['ConvertedCompYearly']"
   ]
  },
  {
   "cell_type": "code",
   "execution_count": 36,
   "metadata": {},
   "outputs": [
    {
     "data": {
      "text/plain": [
       "0             NaN\n",
       "1        285000.0\n",
       "2        250000.0\n",
       "3        156000.0\n",
       "4         23456.0\n",
       "           ...   \n",
       "89179         NaN\n",
       "89180         NaN\n",
       "89181         NaN\n",
       "89182         NaN\n",
       "89183         NaN\n",
       "Name: Oклад за рік, $, Length: 89184, dtype: float64"
      ]
     },
     "execution_count": 36,
     "metadata": {},
     "output_type": "execute_result"
    }
   ],
   "source": [
    "df[\"Oклад за рік, $\"]"
   ]
  },
  {
   "cell_type": "code",
   "execution_count": 37,
   "metadata": {},
   "outputs": [
    {
     "ename": "SyntaxError",
     "evalue": "invalid syntax (2657301242.py, line 1)",
     "output_type": "error",
     "traceback": [
      "\u001b[0;36m  Cell \u001b[0;32mIn[37], line 1\u001b[0;36m\u001b[0m\n\u001b[0;31m    df.Oклад за рік, $ # не працює, бо в назві стовпця є пробіл\u001b[0m\n\u001b[0m             ^\u001b[0m\n\u001b[0;31mSyntaxError\u001b[0m\u001b[0;31m:\u001b[0m invalid syntax\n"
     ]
    }
   ],
   "source": [
    "df.Oклад за рік, $ # не працює, бо в назві стовпця є пробіл "
   ]
  }
 ],
 "metadata": {
  "kernelspec": {
   "display_name": "Python 3",
   "language": "python",
   "name": "python3"
  },
  "language_info": {
   "codemirror_mode": {
    "name": "ipython",
    "version": 3
   },
   "file_extension": ".py",
   "mimetype": "text/x-python",
   "name": "python",
   "nbconvert_exporter": "python",
   "pygments_lexer": "ipython3",
   "version": "3.10.12"
  },
  "orig_nbformat": 4
 },
 "nbformat": 4,
 "nbformat_minor": 2
}
