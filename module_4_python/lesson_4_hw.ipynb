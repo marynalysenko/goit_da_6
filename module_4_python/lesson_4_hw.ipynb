{
 "cells": [
  {
   "cell_type": "code",
   "execution_count": null,
   "metadata": {},
   "outputs": [],
   "source": [
    "import pandas as pd\n",
    "import numpy as np"
   ]
  },
  {
   "cell_type": "code",
   "execution_count": null,
   "metadata": {},
   "outputs": [],
   "source": [
    "df = pd.read_csv('survey_results_public.csv')"
   ]
  },
  {
   "cell_type": "markdown",
   "metadata": {},
   "source": [
    "### Скільки респондентів пройшли опитування?"
   ]
  },
  {
   "cell_type": "code",
   "execution_count": null,
   "metadata": {},
   "outputs": [],
   "source": [
    "# варіант 1 - використовуючи shape\n",
    "print(\"Total respondents:\", df.shape[0])\n",
    "\n",
    "# варіант 2 - використовуючи функцію unique()\n",
    "# nunique() returns the number of unique values in a column\n",
    "print(\"Total respondents:\", df.ResponseId.nunique())"
   ]
  },
  {
   "cell_type": "markdown",
   "metadata": {},
   "source": [
    "### Скільки респондентів відповіли на всі запитання?"
   ]
  },
  {
   "cell_type": "markdown",
   "metadata": {},
   "source": [
    "!!! читаємо readme і дізнаємось які колонки відповідають питанням? - описані в survey_results_schema.csv"
   ]
  },
  {
   "cell_type": "code",
   "execution_count": null,
   "metadata": {},
   "outputs": [],
   "source": [
    "schema = pd.read_csv(\"survey_results_schema.csv\")\n",
    "questions = set(schema.qname.unique()) & set(df.columns)  # вибираємо за допомогою множин тільки ті стовпці, які є в обох датафреймах"
   ]
  },
  {
   "cell_type": "code",
   "execution_count": null,
   "metadata": {},
   "outputs": [],
   "source": [
    "schema = pd.read_csv(\"survey_results_schema.csv\")\n",
    "questions = set(schema.qname.unique()) & set(\n",
    "    df.columns\n",
    ")  # вибираємо за допомогою множин тільки ті стовпці, які є в обох датафреймах\n",
    "\n",
    "# спосіб 1 - використовуючи підсемпл даних\n",
    "print(f\"Total respondents with full answers: {df[list(questions)].dropna().shape[0]}\")\n",
    "\n",
    "# спосіб 2 - використовуючи функцію dropna() видаляємо рядки, в яких є хоча б один пропуск, і рахуємо кількість рядків\n",
    "print(f\"Total respondents with full answers: {df.dropna(subset=questions).shape[0]}\")"
   ]
  },
  {
   "cell_type": "markdown",
   "metadata": {},
   "source": [
    "### Які значення мір центральної тенденції для досвіду (WorkExp) респондентів?"
   ]
  },
  {
   "cell_type": "code",
   "execution_count": null,
   "metadata": {},
   "outputs": [],
   "source": [
    "print(f'Mean: {round(df.WorkExp.mean(), 1)}')\n",
    "print(f'Mode: {round(df.WorkExp.mode()[0], 1)}')\n",
    "print(f'Median: {round(df.WorkExp.median(), 1)}')"
   ]
  },
  {
   "cell_type": "markdown",
   "metadata": {},
   "source": [
    "### Скільки респондентів працює віддалено?"
   ]
  },
  {
   "cell_type": "code",
   "execution_count": null,
   "metadata": {},
   "outputs": [],
   "source": [
    "df[\"RemoteWork\"].unique()"
   ]
  },
  {
   "cell_type": "code",
   "execution_count": null,
   "metadata": {},
   "outputs": [],
   "source": [
    "df[df.RemoteWork == \"Remote\"].shape[0]"
   ]
  },
  {
   "cell_type": "markdown",
   "metadata": {},
   "source": [
    "### Який відсоток респондентів програмує на Python?"
   ]
  },
  {
   "cell_type": "code",
   "execution_count": null,
   "metadata": {},
   "outputs": [],
   "source": [
    "# Варіант 1 - використовуючи функцію .str.contains\n",
    "df[\"worked_with_python\"] = df.LanguageHaveWorkedWith.str.contains(\"python\", case=False, na=False)  # case=False - не враховуємо регістр, na=False - не враховуємо пропуски\n",
    "#round(df.worked_with_python.sum() / df.ResponseId.nunique(), 2)\n",
    "round(df.worked_with_python.sum() / df.shape[0])"
   ]
  },
  {
   "cell_type": "code",
   "execution_count": null,
   "metadata": {},
   "outputs": [],
   "source": [
    "# Варіант 1 - використовуючи функцію .str.contains попередньо привівши до нижнього регістру\n",
    "df[\"LanguageHaveWorkedWith\"] = df[\"LanguageHaveWorkedWith\"].str.lower()\n",
    "df[\"worked_with_python\"] = df[\"LanguageHaveWorkedWith\"].str.contains(\"python\")\n",
    "\n",
    "\n",
    "print(f\"Total = {round(df[df['worked_with_python'] == True].shape[0] / df.shape[0], 4)}\")\n",
    "print(f\"Total = {round(df.worked_with_python.sum() / df.shape[0], 4)}\")"
   ]
  },
  {
   "cell_type": "code",
   "execution_count": null,
   "metadata": {},
   "outputs": [],
   "source": [
    "df[[\"LanguageHaveWorkedWith\", \"worked_with_python\"]]"
   ]
  },
  {
   "cell_type": "code",
   "execution_count": null,
   "metadata": {},
   "outputs": [],
   "source": [
    "# Варіант 1.2 - використовуючи функцію .str.contains з параметрами\n",
    "\n",
    "df[\"worked_with_python\"] = df.LanguageHaveWorkedWith.str.contains(\n",
    "    \"python\", case=False, na=False\n",
    ")  # case=False - не враховуємо регістр, na=False - не враховуємо пропуски (домовленність розрахунків)\n",
    "\n",
    "print(f\"Total = {round(df.worked_with_python.sum() / df.shape[0], 4)}\")\n",
    "print(f\"Total = {round(df.worked_with_python.sum() / df.ResponseId.nunique(), 4)}\")"
   ]
  },
  {
   "cell_type": "code",
   "execution_count": null,
   "metadata": {},
   "outputs": [],
   "source": [
    "# Варіант 2 - Використовуючи лямбда-функції для розмітки рядків\n",
    "df[\"worked_with_python\"] = df.LanguageHaveWorkedWith.apply(\n",
    "    lambda x: 1 if \"python\" in str(x).lower() else 0\n",
    ")\n",
    "\n",
    "print(f\"Total = {round(df.worked_with_python.sum() / df.shape[0], 4)}\")\n",
    "print(f\"Total = {round(df.worked_with_python.sum() / df.ResponseId.nunique(), 4)}\")"
   ]
  },
  {
   "cell_type": "markdown",
   "metadata": {},
   "source": [
    "### Скільки респондентів навчалося програмувати за допомогою онлайн курсів?"
   ]
  },
  {
   "cell_type": "code",
   "execution_count": null,
   "metadata": {},
   "outputs": [],
   "source": [
    "# Варіант 1 - використовуючи функцію .str.contains\n",
    "\n",
    "print( f\"Total={df[df['LearnCode'].str.contains('online courses', case=False, na=False)].shape[0]}\")"
   ]
  },
  {
   "cell_type": "code",
   "execution_count": null,
   "metadata": {},
   "outputs": [],
   "source": [
    "# Варіант 2\n",
    "\n",
    "df[\"learned_with_online_courses\"] = df.LearnCode.str.contains(\"online courses\", case=False, na=False)\n",
    "\n",
    "print(f\"Total={df.learned_with_online_courses.sum()}\")"
   ]
  },
  {
   "cell_type": "code",
   "execution_count": null,
   "metadata": {},
   "outputs": [],
   "source": [
    "# Варіант 3 - використовуючи лямбда-функції\n",
    "df[\"learned_with_online_courses\"] = df.LearnCode.apply(lambda x: 1 if \"online courses\" in str(x).lower() else 0)\n",
    "\n",
    "print(f\"Total={df.learned_with_online_courses.sum()}\")"
   ]
  },
  {
   "cell_type": "markdown",
   "metadata": {},
   "source": [
    "### Серед респондентів що програмують на Python в групуванні по країнам, яка середня та медіанна сума компенсації (ConvertedCompYearly) в кожній країні?"
   ]
  },
  {
   "cell_type": "code",
   "execution_count": null,
   "metadata": {},
   "outputs": [],
   "source": [
    "# варіант 1\n",
    "filtered_df = df[(df[\"worked_with_python\"] == 1) & (df[\"ConvertedCompYearly\"].isna() == False)]\n",
    "print(filtered_df.shape[0])"
   ]
  },
  {
   "cell_type": "code",
   "execution_count": null,
   "metadata": {},
   "outputs": [],
   "source": [
    "# варіант 2\n",
    "filtered_df = df[df.worked_with_python == 1].dropna(subset=[\"ConvertedCompYearly\"])\n",
    "print(filtered_df.shape[0])"
   ]
  },
  {
   "cell_type": "code",
   "execution_count": null,
   "metadata": {},
   "outputs": [],
   "source": [
    "# варіант 3\n",
    "\n",
    "# Фільтрація респондентів, які працюють з Python (Метод: query() використовується для фільтрації рядків у DataFrame на основі заданої умови. Умова вказується як рядок.)\n",
    "python_devs = df.query(\"worked_with_python == 1\").dropna(subset=[\"ConvertedCompYearly\"])\n",
    "\n",
    "# Групування за країною і розрахунок середнього та медіани\n",
    "python_devs.groupby(\"Country\")[\"ConvertedCompYearly\"].agg([\"mean\", \"median\"])"
   ]
  },
  {
   "cell_type": "code",
   "execution_count": null,
   "metadata": {},
   "outputs": [],
   "source": [
    "df[df.worked_with_python == 1].dropna(subset=\"ConvertedCompYearly\").groupby(\n",
    "    \"Country\",\n",
    "    as_index=False,  # as_index=False - не робити індексом стовпець, по якому групуємо (не принципово!!!!)\n",
    ").agg({\"ConvertedCompYearly\": [\"mean\", \"median\"]}).droplevel(\n",
    "    1, axis=1\n",
    ")  # droplevel(1, axis=1) - видаляємо перший рівень індексу (в даному випадку - \"ConvertedCompYearly\")"
   ]
  },
  {
   "cell_type": "code",
   "execution_count": null,
   "metadata": {},
   "outputs": [],
   "source": [
    "# ще один варіант - додаємо ренейми стовпців і переводимо в int\n",
    "py_progers_by_country = df[df.worked_with_python == 1].dropna(subset='ConvertedCompYearly') \\\n",
    "                                                      .groupby('Country', as_index=False) \\\n",
    "                                                      .agg({'ConvertedCompYearly': ['mean', 'median']}).droplevel(1, axis=1)\n",
    "py_progers_by_country.columns = ['country', 'mean_comp', 'median_comp']\n",
    "py_progers_by_country = py_progers_by_country.astype({'mean_comp': 'int', 'median_comp': 'int'})\n",
    "py_progers_by_country"
   ]
  },
  {
   "cell_type": "markdown",
   "metadata": {},
   "source": [
    "### Які рівні освіти мають 5 респондентів з найбільшою компенсацією?"
   ]
  },
  {
   "cell_type": "code",
   "execution_count": null,
   "metadata": {},
   "outputs": [],
   "source": [
    "df[[\"ResponseId\", \"EdLevel\", \"ConvertedCompYearly\"]].sort_values( by=\"ConvertedCompYearly\", ascending=False).head(5)"
   ]
  },
  {
   "cell_type": "code",
   "execution_count": null,
   "metadata": {},
   "outputs": [],
   "source": [
    "df[['ResponseId', 'EdLevel', 'ConvertedCompYearly']].sort_values(by='ConvertedCompYearly', ascending=False).reset_index(drop=True).head(5)"
   ]
  },
  {
   "cell_type": "markdown",
   "metadata": {},
   "source": [
    "### В кожній віковій категорії, який відсоток респондентів програмує на Python?"
   ]
  },
  {
   "cell_type": "code",
   "execution_count": null,
   "metadata": {},
   "outputs": [],
   "source": [
    "df.groupby(\"Age\").agg({\"ResponseId\": \"count\", \"worked_with_python\": \"sum\"})"
   ]
  },
  {
   "cell_type": "code",
   "execution_count": null,
   "metadata": {},
   "outputs": [],
   "source": [
    "df.groupby(\"Age\", as_index=False).agg({\"ResponseId\": \"count\", \"worked_with_python\": \"sum\"})"
   ]
  },
  {
   "cell_type": "code",
   "execution_count": null,
   "metadata": {},
   "outputs": [],
   "source": [
    "py_progers_share_by_age = df.groupby(\"Age\", as_index=False).agg(\n",
    "    {\"ResponseId\": \"count\", \"worked_with_python\": \"sum\"}\n",
    ")  # as_index=False - не робити індексом стовпець, по якому групуємо (не принципово!!!!)\n",
    "py_progers_share_by_age[\"work_with_python_share\"] = round(\n",
    "    py_progers_share_by_age.worked_with_python / py_progers_share_by_age.ResponseId, 2\n",
    ")\n",
    "py_progers_share_by_age"
   ]
  },
  {
   "cell_type": "markdown",
   "metadata": {},
   "source": [
    "### Серед респондентів що знаходяться в 75 перцентилі за компенсацією середнього і працюють віддалено, які індустрії є найрозповсюдженішими?"
   ]
  },
  {
   "cell_type": "code",
   "execution_count": null,
   "metadata": {},
   "outputs": [],
   "source": [
    "df[(df.ConvertedCompYearly > df.ConvertedCompYearly.quantile(0.75)) & (df.RemoteWork == 'Remote')].Industry.value_counts().reset_index()"
   ]
  },
  {
   "cell_type": "markdown",
   "metadata": {},
   "source": [
    "# Чому краще звертатись до стовпців через квадратні дужки?"
   ]
  },
  {
   "cell_type": "code",
   "execution_count": null,
   "metadata": {},
   "outputs": [],
   "source": [
    "\n",
    "df.head(2)\n",
    "df['Oклад за рік, $']  = df['ConvertedCompYearly']"
   ]
  },
  {
   "cell_type": "code",
   "execution_count": null,
   "metadata": {},
   "outputs": [],
   "source": [
    "df[\"Oклад за рік, $\"]"
   ]
  },
  {
   "cell_type": "code",
   "execution_count": null,
   "metadata": {},
   "outputs": [],
   "source": [
    "#df.Oклад за рік, $ # не працює, бо в назві стовпця є пробіл "
   ]
  }
 ],
 "metadata": {
  "kernelspec": {
   "display_name": "Python 3",
   "language": "python",
   "name": "python3"
  },
  "language_info": {
   "codemirror_mode": {
    "name": "ipython",
    "version": 3
   },
   "file_extension": ".py",
   "mimetype": "text/x-python",
   "name": "python",
   "nbconvert_exporter": "python",
   "pygments_lexer": "ipython3",
   "version": "3.10.12"
  },
  "orig_nbformat": 4
 },
 "nbformat": 4,
 "nbformat_minor": 2
}
