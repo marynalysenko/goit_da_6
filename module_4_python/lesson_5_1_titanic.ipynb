{
 "cells": [
  {
   "cell_type": "markdown",
   "metadata": {},
   "source": [
    "# Mathplotlib"
   ]
  },
  {
   "cell_type": "markdown",
   "metadata": {},
   "source": [
    "## базові діаграми та методи їх побудови"
   ]
  },
  {
   "cell_type": "markdown",
   "metadata": {},
   "source": [
    "#### Підготовка\n",
    "- Charts in Colaboratory[https://colab.research.google.com/notebooks/charts.ipynb#scrollTo=JGnotb1n73Yk]\n",
    "- документація бібліотеки matplotlib[https://matplotlib.org/stable/users/index.html]\n",
    "- документація бібліотеки seaborn[https://seaborn.pydata.org/]\n"
   ]
  },
  {
   "cell_type": "code",
   "execution_count": null,
   "metadata": {},
   "outputs": [],
   "source": [
    "#pip install matplotlib"
   ]
  },
  {
   "cell_type": "code",
   "execution_count": null,
   "metadata": {},
   "outputs": [],
   "source": [
    "%matplotlib inline"
   ]
  },
  {
   "cell_type": "code",
   "execution_count": null,
   "metadata": {},
   "outputs": [],
   "source": [
    "import numpy as np\n",
    "import pandas as pd\n",
    "import matplotlib.pyplot as plt\n",
    "import seaborn as sns # використаємо для завантаження датасету\n",
    "\n",
    "\n",
    "# plt - загальноприйняте позначення для mathplotlib.pyplot"
   ]
  },
  {
   "cell_type": "code",
   "execution_count": null,
   "metadata": {},
   "outputs": [],
   "source": [
    "data = sns.load_dataset(\"titanic\")"
   ]
  },
  {
   "cell_type": "markdown",
   "metadata": {},
   "source": [
    "### Variable Notes\n",
    "- PassengerId Unique ID of the passenger\n",
    "- Survived Survived (1) or died (0)\n",
    "- Pclass Passenger’s class (1st, 2nd, or 3rd)\n",
    "- Name Passenger’s name\n",
    "- Sex Passenger’s sex\n",
    "- Age Passenger’s age\n",
    "- SibSp Number of siblings/spouses aboard the Titanic\n",
    "- Parch Number of parents/children aboard the Titanic\n",
    "- Ticket Ticket number\n",
    "- Fare Fare paid for ticket\n",
    "- Cabin Cabin number\n",
    "- Embarked Where the passenger got on the ship (C — Cherbourg, S — Southampton, Q = Queenstown)"
   ]
  },
  {
   "cell_type": "code",
   "execution_count": null,
   "metadata": {},
   "outputs": [],
   "source": [
    "data.head()"
   ]
  },
  {
   "cell_type": "markdown",
   "metadata": {},
   "source": [
    "\n"
   ]
  },
  {
   "cell_type": "code",
   "execution_count": null,
   "metadata": {},
   "outputs": [],
   "source": [
    "# для кожного віку знайти середнє значення вартості квитка\n",
    "\n",
    "df = data.groupby(\n",
    "    \"age\",\n",
    "    as_index=False,  # as_index=False - не робити індексом стовпець, по якому групуємо\n",
    ")[\"fare\"].mean()"
   ]
  },
  {
   "cell_type": "code",
   "execution_count": null,
   "metadata": {},
   "outputs": [],
   "source": [
    "df"
   ]
  },
  {
   "cell_type": "code",
   "execution_count": null,
   "metadata": {},
   "outputs": [],
   "source": [
    "# найпростіший графік\n",
    "plt.plot(df[\"age\"], df[\"fare\"])"
   ]
  },
  {
   "cell_type": "code",
   "execution_count": null,
   "metadata": {},
   "outputs": [],
   "source": [
    "plt.savefig(\"simple_plot.png\")\n",
    "# збереження графіка з діаграмою в файл"
   ]
  },
  {
   "cell_type": "code",
   "execution_count": null,
   "metadata": {},
   "outputs": [],
   "source": [
    "plt.plot(df[\"age\"], df[\"fare\"])\n",
    "plt.show() # виведення графіка на екран (використовується, якщо не використовуємо Jupyter Notebook)"
   ]
  },
  {
   "cell_type": "code",
   "execution_count": null,
   "metadata": {},
   "outputs": [],
   "source": [
    "# зробити групи за віком з кроком в 10 років і розрахувати для кожного віку відсоток виживших \n",
    "\n",
    "data[\"age_group\"] = data[\"age\"] // 10 * 10\n",
    "# // - цілочисельне ділення\n",
    "# 10 * 10 - крок в 10 років\n",
    "\n",
    "data.head()\n",
    "\n",
    "df = data.groupby(\n",
    "    \"age_group\",\n",
    "    as_index=False,\n",
    ")[\"survived\"].mean()"
   ]
  },
  {
   "cell_type": "code",
   "execution_count": null,
   "metadata": {},
   "outputs": [],
   "source": [
    "plt.plot(df[\"age_group\"], df[\"survived\"])\n",
    "plt.show()  # виведення графіка на екран (використовується, якщо не використовуємо Jupyter Notebook)"
   ]
  },
  {
   "cell_type": "code",
   "execution_count": null,
   "metadata": {},
   "outputs": [],
   "source": [
    "plt.plot(df[\"age_group\"], df[\"survived\"]*100.0,\n",
    "         label=\"survived, %\",  # label - підпис графіка\n",
    "         color=\"red\",  # колір графіка\n",
    "         marker=\".\",  # тип маркера (s,o)\n",
    "         linestyle=\"--\",  # тип лінії\n",
    "         linewidth=2,  # товщина лінії\n",
    "         markersize=10,  # розмір маркера\n",
    "         markeredgecolor=\"green\",  # колір межі маркера\n",
    "         )\n",
    "plt.legend()  # виведення легенди\n",
    "# Аргументи функції plot можна задавати в будь-якому порядку\n",
    "\n",
    "# щоб побачити всі аргументи функції plot скористайтеся документацією: \n",
    "# https://matplotlib.org/stable/api/_as_gen/matplotlib.pyplot.plot.html"
   ]
  },
  {
   "cell_type": "code",
   "execution_count": null,
   "metadata": {},
   "outputs": [],
   "source": [
    "# підхід 2 - ініціюючи фігуру\n",
    "\n",
    "plt.figure(figsize=(5, 3), dpi=120)  # figsize - розмір фігури\n",
    "\n",
    "plt.plot(\n",
    "    df[\"age_group\"],\n",
    "    df[\"survived\"],\n",
    "    label=\"survived\",  # label - підпис графіка\n",
    "    color=\"red\",  # колір графіка\n",
    "    marker=\".\",  # тип маркера (s,o)\n",
    "    linestyle=\"--\",  # тип лінії\n",
    "    linewidth=2,  # товщина лінії\n",
    "    markersize=10,  # розмір маркера\n",
    "    markeredgecolor=\"green\",  # колір межі маркера\n",
    ")\n",
    "plt.legend()  # виведення легенди\n",
    "\n",
    "plt.title(\"Survived by age group\")  # заголовок графіка\n",
    "\n",
    "plt.xlabel(\"Age group\")  # підпис осі X\n",
    "plt.ylabel(\"Survived\")  # підпис осі Y\n",
    "\n",
    "plt.xticks(np.arange(0, 80, 10))  # задаємо мітки на осі X\n",
    "# np.arange(0, 80, 10) - масив значень від 0 до 80 з кроком 10\n",
    "plt.yticks(np.arange(0, 1.1, 0.1))  # задаємо мітки на осі Y\n",
    "# np.arange(0, 1.1, 0.1) - масив значень від 0 до 1 з кроком 0.1\n",
    "\n",
    "plt.show()  # виведення графіка на екран (використовується, якщо не використовуємо Jupyter Notebook)\n",
    "\n",
    "# оформлення графіка\n",
    "\n",
    "# усі наявні методи для оформлення pyplot можна подивитися тут: https://matplotlib.org/stable/api/pyplot_summary.html"
   ]
  },
  {
   "cell_type": "code",
   "execution_count": null,
   "metadata": {},
   "outputs": [],
   "source": [
    "plt.plot(df[\"age_group\"], df[\"survived\"], 'ro--', label=\"survived\", markeredgecolor = 'green')\n",
    "plt.legend()\n",
    "plt.show()\n",
    "\n",
    "# використання швидкого форматування"
   ]
  },
  {
   "cell_type": "code",
   "execution_count": null,
   "metadata": {},
   "outputs": [],
   "source": [
    "# виведення двох графіків на одному полотні\n",
    "\n",
    "# зробити групи за віком з кроком в 10 років і розрахувати для кожного віку відсоток виживших в розрізі статі\n",
    "df = data.groupby(\n",
    "    [\"age_group\", \"sex\"],\n",
    "    as_index=False,\n",
    ")[\"survived\"].mean()\n",
    "\n",
    "# Фільтруємо дані для чоловіків і жінок\n",
    "df_male = df[df[\"sex\"] == \"male\"]\n",
    "df_female = df[df[\"sex\"] == \"female\"]"
   ]
  },
  {
   "cell_type": "code",
   "execution_count": null,
   "metadata": {},
   "outputs": [],
   "source": [
    "plt.plot(\n",
    "    df_male[\"age_group\"],\n",
    "    df_male[\"survived\"],\n",
    "    \"bo--\",\n",
    "    label=\"male\",\n",
    "    markeredgecolor=\"black\",\n",
    ")\n",
    "\n",
    "plt.plot(\n",
    "    df_female[\"age_group\"],\n",
    "    df_female[\"survived\"],\n",
    "    \"ro--\",\n",
    "    label=\"female\",\n",
    "    markeredgecolor=\"black\",\n",
    ")\n",
    "\n",
    "plt.legend()\n",
    "plt.show()"
   ]
  },
  {
   "cell_type": "code",
   "execution_count": null,
   "metadata": {},
   "outputs": [],
   "source": [
    "plt.plot(\n",
    "    df_male[\"age_group\"],\n",
    "    df_male[\"survived\"],\n",
    "    \"bo--\",\n",
    "    label=\"male\",\n",
    "    markeredgecolor=\"black\",\n",
    ")\n",
    "\n",
    "# вивести значення на графіку\n",
    "for i, v in zip(df_male[\"age_group\"], df_male[\"survived\"]):\n",
    "    plt.annotate(text=round(v, 2), xy=(i, v), ha=\"center\", va=\"bottom\")\n",
    "\n",
    "\n",
    "plt.plot(\n",
    "    df_female[\"age_group\"],\n",
    "    df_female[\"survived\"],\n",
    "    \"ro--\",\n",
    "    label=\"female\",\n",
    "    markeredgecolor=\"black\",\n",
    ")\n",
    "# вивести значення на графіку\n",
    "for i, v in zip(df_female[\"age_group\"], df_female[\"survived\"]):\n",
    "    plt.annotate(text=round(v, 2), xy=(i, v), ha=\"center\", va=\"bottom\") # ha - горизонтальне вирівнювання, va - вертикальне вирівнювання\n",
    "\n",
    "plt.legend()\n",
    "plt.show()"
   ]
  },
  {
   "cell_type": "code",
   "execution_count": null,
   "metadata": {},
   "outputs": [],
   "source": [
    "# знайти кількісь чоловіків і жінок на кораблі\n",
    "\n",
    "df = data.groupby('sex' , as_index=False)['survived'].count()   # as_index=False - не робити індексом стовпець, по якому групуємо   "
   ]
  },
  {
   "cell_type": "code",
   "execution_count": null,
   "metadata": {},
   "outputs": [],
   "source": [
    "df"
   ]
  },
  {
   "cell_type": "code",
   "execution_count": null,
   "metadata": {},
   "outputs": [],
   "source": [
    "data.shape[0]"
   ]
  },
  {
   "cell_type": "code",
   "execution_count": null,
   "metadata": {},
   "outputs": [],
   "source": [
    "df[\"gender_share\"] = round(df.survived / data.shape[0], 2)\n",
    "df"
   ]
  },
  {
   "cell_type": "code",
   "execution_count": null,
   "metadata": {},
   "outputs": [],
   "source": [
    "plt.pie(\n",
    "    df[\"gender_share\"],\n",
    ");\n",
    "\n",
    "# кругова діаграма"
   ]
  },
  {
   "cell_type": "code",
   "execution_count": null,
   "metadata": {},
   "outputs": [],
   "source": [
    "plt.pie(\n",
    "    df[\"gender_share\"],\n",
    "    labels=df['sex'].unique(),  # назви\n",
    "    autopct=\"%.1f%%\",  # відсотки з округленням до 1 знаків після коми\n",
    "    pctdistance=0.50,  # відстань від центру до відсотків\n",
    "    shadow=True,  # тінь\n",
    "    startangle=90,  # початковий кут\n",
    "    labeldistance=1.15,  # відстань від центру до назви\n",
    ");"
   ]
  },
  {
   "cell_type": "code",
   "execution_count": null,
   "metadata": {},
   "outputs": [],
   "source": [
    "plt.pie(\n",
    "    df[\"gender_share\"],\n",
    "    labels=df[\"sex\"].unique(),  # назви\n",
    "    autopct=\"%.1f%%\",  # відсотки з округленням до 1 знаків після коми\n",
    "    pctdistance=0.50,  # відстань від центру до відсотків\n",
    "    shadow=True,  # тінь\n",
    "    startangle=90,  # початковий кут\n",
    "    labeldistance=1.15,  # відстань від центру до назви\n",
    ")\n",
    "\n",
    "# draw circle\n",
    "centre_circle = plt.Circle((0, 0), 0.70, fc=\"white\") # (0, 0) - координати центру кола, 0.70 - радіус кола, fc=\"white\" - колір кола\n",
    "fig = plt.gcf() # gcf - get current figure\n",
    "\n",
    "# Adding Circle in Pie chart\n",
    "fig.gca().add_artist(centre_circle)"
   ]
  },
  {
   "cell_type": "code",
   "execution_count": null,
   "metadata": {},
   "outputs": [],
   "source": [
    "# Побудова стовпчатої діаграми (вертикальна)\n",
    "\n",
    "df = data.groupby(\"sex\", as_index=False)[\n",
    "    \"survived\"\n",
    "].mean()  # as_index=False - не робити індексом стовпець, по якому групуємо\n",
    "\n",
    "\n",
    "plt.bar(df[\"sex\"], df[\"survived\"])\n",
    "plt.show()"
   ]
  },
  {
   "cell_type": "code",
   "execution_count": null,
   "metadata": {},
   "outputs": [],
   "source": [
    "plt.barh(df[\"sex\"], df[\"survived\"])\n",
    "plt.show()\n",
    "\n",
    "\n",
    "# Побудова стовпчатої діаграми (горизонтальна)"
   ]
  },
  {
   "cell_type": "code",
   "execution_count": null,
   "metadata": {},
   "outputs": [],
   "source": [
    "df"
   ]
  },
  {
   "cell_type": "code",
   "execution_count": null,
   "metadata": {},
   "outputs": [],
   "source": [
    "# діаграма розсіювання\n",
    "\n",
    "plt.scatter(data[\"age\"], data[\"fare\"])\n",
    "plt.show()"
   ]
  },
  {
   "cell_type": "code",
   "execution_count": null,
   "metadata": {},
   "outputs": [],
   "source": [
    "x = np.random.rand(100)\n",
    "y = np.random.rand(100)\n",
    "\n",
    "plt.plot(x, y);\n"
   ]
  },
  {
   "cell_type": "code",
   "execution_count": null,
   "metadata": {},
   "outputs": [],
   "source": [
    "plt.plot(np.sort(x), np.sort(y));"
   ]
  },
  {
   "cell_type": "code",
   "execution_count": null,
   "metadata": {},
   "outputs": [],
   "source": [
    "# якщо хочемо побудувати декілька графіків на одному полотні\n",
    "fig, ax = plt.subplots(\n",
    "    figsize=(16, 6), nrows=1, ncols=2\n",
    ")  # figsize - розмір фігури, nrows - кількість рядків, ncols - кількість стовпців\n",
    "\n",
    "ax[0].plot(\n",
    "    df_male[\"age_group\"],\n",
    "    df_male[\"survived\"],\n",
    ")\n",
    "ax[0].set_title(\"Male\")\n",
    "ax[0].set_xlabel(\"Age group\")\n",
    "ax[0].set_ylabel(\"Survived\")\n",
    "\n",
    "ax[1].plot(\n",
    "    df_female[\"age_group\"],\n",
    "    df_female[\"survived\"],\n",
    ")\n",
    "ax[1].set_title(\"Female\")\n",
    "ax[1].set_xlabel(\"Age group\")\n",
    "ax[1].set_ylabel(\"Survived\")\n",
    "\n",
    "plt.show()"
   ]
  },
  {
   "cell_type": "code",
   "execution_count": null,
   "metadata": {},
   "outputs": [],
   "source": [
    "fig, ax = plt.subplots(figsize=(6, 3))\n",
    "\n",
    "ax.plot(np.sort(x), np.sort(y))\n",
    "ax.set_title(\"Random plot\")\n",
    "ax.set_xlabel(\"X\")\n",
    "ax.set_ylabel(\"Y\")\n",
    "ax.grid()  # сітка\n",
    "\n",
    "#ax.grid( linewidth=0.5, linestyle=\"dashed\")  # сітка з параметрами (товщина лінії, тип лінії)"
   ]
  },
  {
   "cell_type": "code",
   "execution_count": null,
   "metadata": {},
   "outputs": [],
   "source": [
    "# які підводні камені коли різні графіки?"
   ]
  },
  {
   "cell_type": "code",
   "execution_count": null,
   "metadata": {},
   "outputs": [],
   "source": [
    "x1 = np.arange(1, 20, 1) # масив значень від 1 до 20 з кроком 1\n",
    "y1 = x1**2\n",
    "\n",
    "x2 = np.arange(1, 20, 1) # масив значень від 1 до 20 з кроком 1\n",
    "y2 = x2**3\n",
    "\n",
    "fig, ax = plt.subplots(figsize=(6, 3))\n",
    "\n",
    "ax.plot(x1,y1)\n",
    "ax.set_title(\"Random plot\")\n",
    "ax.set_xlabel(\"X\")\n",
    "ax.set_ylabel(\"Y\")\n",
    "ax.grid()  # сітка\n",
    "\n",
    "ax2 = ax#.twinx()\n",
    "ax2.plot(x2,y2, color = 'orange')\n",
    "\n",
    "\n",
    "\n",
    "# ax.grid( linewidth=0.5, linestyle=\"dashed\")  # сітка з параметрами (товщина лінії, тип лінії)"
   ]
  },
  {
   "cell_type": "markdown",
   "metadata": {},
   "source": [
    "##### Більше типів графіків та прикладів можна знайти тут: https://matplotlib.org/stable/gallery/index.html"
   ]
  }
 ],
 "metadata": {
  "kernelspec": {
   "display_name": "Python 3",
   "language": "python",
   "name": "python3"
  },
  "language_info": {
   "codemirror_mode": {
    "name": "ipython",
    "version": 3
   },
   "file_extension": ".py",
   "mimetype": "text/x-python",
   "name": "python",
   "nbconvert_exporter": "python",
   "pygments_lexer": "ipython3",
   "version": "3.10.12"
  }
 },
 "nbformat": 4,
 "nbformat_minor": 2
}
