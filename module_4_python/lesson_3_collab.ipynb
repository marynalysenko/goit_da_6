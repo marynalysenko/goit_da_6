{
 "cells": [
  {
   "cell_type": "markdown",
   "metadata": {},
   "source": [
    "# Приклад зчитування даних з файлу на Google Drive в середовищі Colab з використанням Pandas DataFrame (Python 3) "
   ]
  },
  {
   "cell_type": "code",
   "execution_count": null,
   "metadata": {},
   "outputs": [],
   "source": [
    "# Імпорт необхідних бібліотек\n",
    "import pandas as pd\n",
    "from google.colab import drive"
   ]
  },
  {
   "cell_type": "code",
   "execution_count": null,
   "metadata": {},
   "outputs": [],
   "source": [
    "# Цей код монтує ваш Google Drive до середовища Colab\n",
    "drive.mount(\"/content/drive\")"
   ]
  },
  {
   "cell_type": "markdown",
   "metadata": {},
   "source": [
    "- Задайте шлях до вашого файлу на Google Drive\n",
    "- Наприклад, якщо ваш файл знаходиться в папці 'Colab Notebooks' і має назву 'my_data.csv', шлях буде:\n",
    "- '/content/drive/My Drive/Colab Notebooks/my_data.csv'\n",
    "- file_path = '/content/drive/My Drive/шлях/до/вашого/файлу.csv' # у вас на гугл драйві!!! (скопіювати файли собі обовязково)"
   ]
  },
  {
   "cell_type": "code",
   "execution_count": null,
   "metadata": {},
   "outputs": [],
   "source": [
    "file_path = \"/content/drive/My Drive/_GOIT/4_Python/data/train_and_test2.csv\"  # замінити на свій шлях до файлу на гугл драйві"
   ]
  },
  {
   "cell_type": "code",
   "execution_count": null,
   "metadata": {},
   "outputs": [],
   "source": [
    "# Зчитування DataFrame з використанням Pandas\n",
    "df = pd.read_csv(file_path)\n",
    "\n",
    "# Показуємо перші кілька рядків DataFrame для перевірки\n",
    "df.head()\n",
    "\n",
    "# Всі наступні команди аналогічні командам з демо на занятті"
   ]
  }
 ],
 "metadata": {
  "kernelspec": {
   "display_name": "Python 3",
   "language": "python",
   "name": "python3"
  },
  "language_info": {
   "codemirror_mode": {
    "name": "ipython",
    "version": 3
   },
   "file_extension": ".py",
   "mimetype": "text/x-python",
   "name": "python",
   "nbconvert_exporter": "python",
   "pygments_lexer": "ipython3",
   "version": "3.10.12"
  }
 },
 "nbformat": 4,
 "nbformat_minor": 2
}
