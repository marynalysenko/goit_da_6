{
 "cells": [
  {
   "cell_type": "markdown",
   "id": "2d470921",
   "metadata": {},
   "source": [
    "# Lesson 2"
   ]
  },
  {
   "cell_type": "code",
   "execution_count": 3,
   "id": "044a9f78",
   "metadata": {},
   "outputs": [
    {
     "data": {
      "text/plain": [
       "5"
      ]
     },
     "execution_count": 3,
     "metadata": {},
     "output_type": "execute_result"
    }
   ],
   "source": [
    "i = 5\n",
    "i"
   ]
  },
  {
   "cell_type": "code",
   "execution_count": 24,
   "id": "adfba1d2",
   "metadata": {},
   "outputs": [
    {
     "data": {
      "text/plain": [
       "['a', 17, 35.77, [1, 2, 3], True, None, 5]"
      ]
     },
     "execution_count": 24,
     "metadata": {},
     "output_type": "execute_result"
    }
   ],
   "source": [
    "l=['a', 17, 35.77, [1, 2, 3], True, None, i]\n",
    "l"
   ]
  },
  {
   "cell_type": "code",
   "execution_count": 12,
   "id": "8af7f5a5",
   "metadata": {},
   "outputs": [
    {
     "data": {
      "text/plain": [
       "2"
      ]
     },
     "execution_count": 12,
     "metadata": {},
     "output_type": "execute_result"
    }
   ],
   "source": [
    "l2 = l[3]\n",
    "#l2[1]\n",
    "\n",
    "l[3][1]"
   ]
  },
  {
   "cell_type": "code",
   "execution_count": 7,
   "id": "eb0efb07",
   "metadata": {},
   "outputs": [],
   "source": [
    "k = 4"
   ]
  },
  {
   "cell_type": "code",
   "execution_count": 8,
   "id": "aafa360d",
   "metadata": {},
   "outputs": [
    {
     "data": {
      "text/plain": [
       "True"
      ]
     },
     "execution_count": 8,
     "metadata": {},
     "output_type": "execute_result"
    }
   ],
   "source": [
    "l[k]"
   ]
  },
  {
   "cell_type": "code",
   "execution_count": 25,
   "id": "d1211174",
   "metadata": {},
   "outputs": [],
   "source": [
    "l.append(45)"
   ]
  },
  {
   "cell_type": "code",
   "execution_count": 26,
   "id": "bc8285e9",
   "metadata": {},
   "outputs": [
    {
     "data": {
      "text/plain": [
       "['a', 17, 35.77, [1, 2, 3], True, None, 5, 45]"
      ]
     },
     "execution_count": 26,
     "metadata": {},
     "output_type": "execute_result"
    }
   ],
   "source": [
    "l"
   ]
  },
  {
   "cell_type": "code",
   "execution_count": 27,
   "id": "acb53ffe",
   "metadata": {},
   "outputs": [
    {
     "data": {
      "text/plain": [
       "['a', 17, 35.77, [1, 2, 3], True, None, 5, 45, 'Marie']"
      ]
     },
     "execution_count": 27,
     "metadata": {},
     "output_type": "execute_result"
    }
   ],
   "source": [
    "element = 'Marie'\n",
    "l.append(element)\n",
    "l"
   ]
  },
  {
   "cell_type": "code",
   "execution_count": 28,
   "id": "f6cbe5f2",
   "metadata": {},
   "outputs": [],
   "source": [
    "l.insert(0, element)"
   ]
  },
  {
   "cell_type": "code",
   "execution_count": 29,
   "id": "b0222158",
   "metadata": {},
   "outputs": [
    {
     "data": {
      "text/plain": [
       "['Marie', 'a', 17, 35.77, [1, 2, 3], True, None, 5, 45, 'Marie']"
      ]
     },
     "execution_count": 29,
     "metadata": {},
     "output_type": "execute_result"
    }
   ],
   "source": [
    "l"
   ]
  },
  {
   "cell_type": "code",
   "execution_count": 30,
   "id": "c42d00ad",
   "metadata": {},
   "outputs": [],
   "source": [
    "m = [12,13]\n",
    "l.extend(m)"
   ]
  },
  {
   "cell_type": "code",
   "execution_count": 31,
   "id": "a1d5ab4c",
   "metadata": {},
   "outputs": [
    {
     "data": {
      "text/plain": [
       "['Marie', 'a', 17, 35.77, [1, 2, 3], True, None, 5, 45, 'Marie', 12, 13]"
      ]
     },
     "execution_count": 31,
     "metadata": {},
     "output_type": "execute_result"
    }
   ],
   "source": [
    "l"
   ]
  },
  {
   "cell_type": "code",
   "execution_count": 32,
   "id": "85a8de06",
   "metadata": {},
   "outputs": [
    {
     "data": {
      "text/plain": [
       "['Marie',\n",
       " 'a',\n",
       " 17,\n",
       " 35.77,\n",
       " [1, 2, 3],\n",
       " True,\n",
       " None,\n",
       " 5,\n",
       " 45,\n",
       " 'Marie',\n",
       " 12,\n",
       " 13,\n",
       " 12,\n",
       " 13]"
      ]
     },
     "execution_count": 32,
     "metadata": {},
     "output_type": "execute_result"
    }
   ],
   "source": [
    "l = l + m\n",
    "l"
   ]
  },
  {
   "cell_type": "code",
   "execution_count": null,
   "id": "5e370b5f",
   "metadata": {},
   "outputs": [],
   "source": [
    "l.append(list([12,13]))"
   ]
  },
  {
   "cell_type": "code",
   "execution_count": null,
   "id": "c6fdb44d",
   "metadata": {},
   "outputs": [],
   "source": []
  },
  {
   "cell_type": "code",
   "execution_count": 33,
   "id": "8bf90294",
   "metadata": {},
   "outputs": [
    {
     "data": {
      "text/plain": [
       "['Marie',\n",
       " 'a',\n",
       " 17,\n",
       " 35.77,\n",
       " [1, 2, 3],\n",
       " True,\n",
       " None,\n",
       " 5,\n",
       " 45,\n",
       " 'Marie',\n",
       " 12,\n",
       " 13,\n",
       " 12,\n",
       " 13]"
      ]
     },
     "execution_count": 33,
     "metadata": {},
     "output_type": "execute_result"
    }
   ],
   "source": [
    "l"
   ]
  },
  {
   "cell_type": "code",
   "execution_count": 34,
   "id": "22bdfbfd",
   "metadata": {},
   "outputs": [
    {
     "data": {
      "text/plain": [
       "['Marie', 'a', 17, 35.77, [1, 2, 3], None, 5, 45, 'Marie', 12, 13, 12, 13]"
      ]
     },
     "execution_count": 34,
     "metadata": {},
     "output_type": "execute_result"
    }
   ],
   "source": [
    "l.pop(5)\n",
    "l"
   ]
  },
  {
   "cell_type": "code",
   "execution_count": 37,
   "id": "a2c1ebf4",
   "metadata": {},
   "outputs": [
    {
     "data": {
      "text/plain": [
       "['Marie', 'a', 17, [1, 2, 3], None, 5, 45, 'Marie', 12, 13, 12, 13]"
      ]
     },
     "execution_count": 37,
     "metadata": {},
     "output_type": "execute_result"
    }
   ],
   "source": [
    "element_index = l.index(35.77)\n",
    "l.pop(element_index)\n",
    "l"
   ]
  },
  {
   "cell_type": "code",
   "execution_count": 41,
   "id": "71118545",
   "metadata": {},
   "outputs": [
    {
     "data": {
      "text/plain": [
       "0"
      ]
     },
     "execution_count": 41,
     "metadata": {},
     "output_type": "execute_result"
    }
   ],
   "source": [
    "l.count('b')"
   ]
  },
  {
   "cell_type": "code",
   "execution_count": 46,
   "id": "8c9a3646",
   "metadata": {},
   "outputs": [
    {
     "data": {
      "text/plain": [
       "True"
      ]
     },
     "execution_count": 46,
     "metadata": {},
     "output_type": "execute_result"
    }
   ],
   "source": [
    "k = ('a', 17, 35.77, [1, 2, 3], True, None)\n",
    "k[4]"
   ]
  },
  {
   "cell_type": "code",
   "execution_count": 51,
   "id": "445ffeec",
   "metadata": {},
   "outputs": [],
   "source": [
    "k1 = ('a', 17, 35.77, [1, 2, 3], True, None)\n",
    "k2 = ('b', 17, 35.77, [1, 4, 3], True, None)\n",
    "k1 = k2"
   ]
  },
  {
   "cell_type": "code",
   "execution_count": 54,
   "id": "a0809271",
   "metadata": {},
   "outputs": [
    {
     "data": {
      "text/plain": [
       "(1, (1, 2), 35.77, [1, 2, 3], True, None)"
      ]
     },
     "execution_count": 54,
     "metadata": {},
     "output_type": "execute_result"
    }
   ],
   "source": [
    "a = 1\n",
    "d = (1,2)\n",
    "k = (a, d, 35.77, [1, 2, 3], True, None)\n",
    "k\n"
   ]
  },
  {
   "cell_type": "code",
   "execution_count": null,
   "id": "c83fc7e7",
   "metadata": {},
   "outputs": [],
   "source": [
    "k = (1 , )"
   ]
  },
  {
   "cell_type": "code",
   "execution_count": 55,
   "id": "8f2648cf",
   "metadata": {},
   "outputs": [
    {
     "data": {
      "text/plain": [
       "(1, (1, 2), 35.77, [1, 2, 3], True, None)"
      ]
     },
     "execution_count": 55,
     "metadata": {},
     "output_type": "execute_result"
    }
   ],
   "source": [
    "a = 2\n",
    "k "
   ]
  },
  {
   "cell_type": "code",
   "execution_count": 56,
   "id": "e4418622",
   "metadata": {},
   "outputs": [
    {
     "data": {
      "text/plain": [
       "{17, 35.77, None, True, 'a'}"
      ]
     },
     "execution_count": 56,
     "metadata": {},
     "output_type": "execute_result"
    }
   ],
   "source": [
    "s = {'a', 17, 35.77, True, None, 17,  35.77}\n",
    "s"
   ]
  },
  {
   "cell_type": "code",
   "execution_count": 57,
   "id": "e5182465",
   "metadata": {},
   "outputs": [],
   "source": [
    "s.add(3)"
   ]
  },
  {
   "cell_type": "code",
   "execution_count": 58,
   "id": "049dcf91",
   "metadata": {},
   "outputs": [
    {
     "data": {
      "text/plain": [
       "{17, 3, 35.77, None, True, 'a'}"
      ]
     },
     "execution_count": 58,
     "metadata": {},
     "output_type": "execute_result"
    }
   ],
   "source": [
    "s"
   ]
  },
  {
   "cell_type": "code",
   "execution_count": 59,
   "id": "ca715d3b",
   "metadata": {},
   "outputs": [
    {
     "data": {
      "text/plain": [
       "{17, 3, 35.77, None, True, 'a'}"
      ]
     },
     "execution_count": 59,
     "metadata": {},
     "output_type": "execute_result"
    }
   ],
   "source": [
    "s.add('a')\n",
    "s"
   ]
  },
  {
   "cell_type": "code",
   "execution_count": 61,
   "id": "40f42226",
   "metadata": {},
   "outputs": [
    {
     "data": {
      "text/plain": [
       "{17, 23, 3, 34, 35.77, 45, 56, None, True, 'a'}"
      ]
     },
     "execution_count": 61,
     "metadata": {},
     "output_type": "execute_result"
    }
   ],
   "source": [
    "s = {17, 3, 35.77, None, True, 'a'}\n",
    "s2 = {23,34,45,56}\n",
    "\n",
    "s.update(s2)\n",
    "s"
   ]
  },
  {
   "cell_type": "code",
   "execution_count": 62,
   "id": "9bc346a5",
   "metadata": {},
   "outputs": [
    {
     "data": {
      "text/plain": [
       "{17, 23, 3, 34, 35.77, 45, 56, None, True, 'a'}"
      ]
     },
     "execution_count": 62,
     "metadata": {},
     "output_type": "execute_result"
    }
   ],
   "source": [
    "s = {17, 3, 35.77, None, True, 'a'}\n",
    "s2 = {23,34,45,56}\n",
    "\n",
    "s = s | s2\n",
    "s"
   ]
  },
  {
   "cell_type": "code",
   "execution_count": 63,
   "id": "36469920",
   "metadata": {},
   "outputs": [
    {
     "data": {
      "text/plain": [
       "{23, 3, 34, 35.77, 45, 56, None, True, 'a'}"
      ]
     },
     "execution_count": 63,
     "metadata": {},
     "output_type": "execute_result"
    }
   ],
   "source": [
    "s.remove(17)\n",
    "s"
   ]
  },
  {
   "cell_type": "code",
   "execution_count": 64,
   "id": "173d1bc6",
   "metadata": {},
   "outputs": [
    {
     "ename": "KeyError",
     "evalue": "17",
     "output_type": "error",
     "traceback": [
      "\u001b[0;31m---------------------------------------------------------------------------\u001b[0m",
      "\u001b[0;31mKeyError\u001b[0m                                  Traceback (most recent call last)",
      "Cell \u001b[0;32mIn[64], line 1\u001b[0m\n\u001b[0;32m----> 1\u001b[0m \u001b[43ms\u001b[49m\u001b[38;5;241;43m.\u001b[39;49m\u001b[43mremove\u001b[49m\u001b[43m(\u001b[49m\u001b[38;5;241;43m17\u001b[39;49m\u001b[43m)\u001b[49m\n\u001b[1;32m      2\u001b[0m s\n",
      "\u001b[0;31mKeyError\u001b[0m: 17"
     ]
    }
   ],
   "source": [
    "s.remove(17)\n",
    "s"
   ]
  },
  {
   "cell_type": "code",
   "execution_count": 68,
   "id": "855628eb",
   "metadata": {},
   "outputs": [
    {
     "data": {
      "text/plain": [
       "{3, 34, 35.77, 45, 56, None, True, 'a'}"
      ]
     },
     "execution_count": 68,
     "metadata": {},
     "output_type": "execute_result"
    }
   ],
   "source": [
    "s.discard(23)\n",
    "s"
   ]
  },
  {
   "cell_type": "code",
   "execution_count": 71,
   "id": "3c2ca15e",
   "metadata": {},
   "outputs": [],
   "source": [
    "l=['a', 17, 35.77, [1, 2, 3], True, None, i, 17]"
   ]
  },
  {
   "cell_type": "code",
   "execution_count": 78,
   "id": "640be48c",
   "metadata": {},
   "outputs": [
    {
     "data": {
      "text/plain": [
       "{'key': 'value',\n",
       " 1: 'one',\n",
       " 'key45': 456,\n",
       " 65: 63,\n",
       " 'param': {'key': 'value', 1: 'one', 'key45': 456, 65: 63}}"
      ]
     },
     "execution_count": 78,
     "metadata": {},
     "output_type": "execute_result"
    }
   ],
   "source": [
    "d = {\n",
    "        \"key\": \"value\", \n",
    "        1: \"one\",\n",
    "        'key45': 456,\n",
    "        65:63,\n",
    "        'param':  {\n",
    "                    \"key\": \"value\", \n",
    "                    1: \"one\",\n",
    "                    'key45': 456,\n",
    "                    65:63,\n",
    "                  }\n",
    "        \n",
    "    }\n",
    "d"
   ]
  },
  {
   "cell_type": "code",
   "execution_count": 80,
   "id": "b0774f41",
   "metadata": {},
   "outputs": [
    {
     "data": {
      "text/plain": [
       "{'name': 'Andriy',\n",
       " 'age': 30,\n",
       " 'address': {'street': 'Hlova Street, 10',\n",
       "  'city': 'Kyiv',\n",
       "  'country': 'Ukraine'},\n",
       " 'email': 'andriy@example.com',\n",
       " 'phone': '+380123456789',\n",
       " 'orders': [{'id': 1, 'item_id': 55},\n",
       "  {'id': 2, 'item_id': 57},\n",
       "  {'id': 3, 'item_id': 587}]}"
      ]
     },
     "execution_count": 80,
     "metadata": {},
     "output_type": "execute_result"
    }
   ],
   "source": [
    "client_info = {\n",
    "    \"name\": \"Andriy\",\n",
    "    \"age\": 30,\n",
    "    \"address\": {\n",
    "        \"street\": \"Hlova Street, 10\",\n",
    "        \"city\": \"Kyiv\",\n",
    "        \"country\": \"Ukraine\"\n",
    "    },\n",
    "    \"email\": \"andriy@example.com\",\n",
    "    \"phone\": \"+380123456789\",\n",
    "    \n",
    "     \"orders\": [{  \n",
    "                  'id':1,\n",
    "                  'item_id':55\n",
    "                },\n",
    "               {\n",
    "                   'id':2,\n",
    "                   'item_id':57\n",
    "               },\n",
    "               {\n",
    "                   'id':3,\n",
    "                   'item_id':587\n",
    "               },\n",
    "              ]\n",
    "}\n",
    "client_info\n",
    "#часто будете працювати якщо дані з API, але частіше будуть дата інженери так отримувати дані"
   ]
  },
  {
   "cell_type": "code",
   "execution_count": 84,
   "id": "3846bdf9",
   "metadata": {},
   "outputs": [
    {
     "data": {
      "text/plain": [
       "'Kyiv'"
      ]
     },
     "execution_count": 84,
     "metadata": {},
     "output_type": "execute_result"
    }
   ],
   "source": [
    "client_info['address']['city']"
   ]
  },
  {
   "cell_type": "code",
   "execution_count": 85,
   "id": "6b68b238",
   "metadata": {},
   "outputs": [
    {
     "data": {
      "text/plain": [
       "[{'id': 1, 'item_id': 55}, {'id': 2, 'item_id': 57}, {'id': 3, 'item_id': 587}]"
      ]
     },
     "execution_count": 85,
     "metadata": {},
     "output_type": "execute_result"
    }
   ],
   "source": [
    "client_info['orders']"
   ]
  },
  {
   "cell_type": "code",
   "execution_count": 86,
   "id": "19b2a474",
   "metadata": {},
   "outputs": [
    {
     "data": {
      "text/plain": [
       "{'name': 'Andriy',\n",
       " 'age': 30,\n",
       " 'address': {'street': 'Hlova Street, 10',\n",
       "  'city': 'Kyiv',\n",
       "  'country': 'Ukraine'},\n",
       " 'email': 'andriy@example.com',\n",
       " 'orders': [{'id': 1, 'item_id': 55},\n",
       "  {'id': 2, 'item_id': 57},\n",
       "  {'id': 3, 'item_id': 587}]}"
      ]
     },
     "execution_count": 86,
     "metadata": {},
     "output_type": "execute_result"
    }
   ],
   "source": [
    "client_info.pop(\"phone\")\n",
    "client_info"
   ]
  },
  {
   "cell_type": "code",
   "execution_count": 87,
   "id": "d7633e9e",
   "metadata": {},
   "outputs": [
    {
     "data": {
      "text/plain": [
       "{'name': 'Andriy',\n",
       " 'age': 30,\n",
       " 'address': {'street': 'Hlova Street, 10',\n",
       "  'city': 'Kyiv',\n",
       "  'country': 'Ukraine'},\n",
       " 'email': 'andriy@example.com',\n",
       " 'orders': [{'id': 1, 'item_id': 55},\n",
       "  {'id': 2, 'item_id': 57},\n",
       "  {'id': 3, 'item_id': 587}],\n",
       " 'gender': 'male'}"
      ]
     },
     "execution_count": 87,
     "metadata": {},
     "output_type": "execute_result"
    }
   ],
   "source": [
    "client_info.update(  {'gender': 'male'} )\n",
    "client_info"
   ]
  },
  {
   "cell_type": "code",
   "execution_count": 89,
   "id": "ff4e4f72",
   "metadata": {},
   "outputs": [
    {
     "ename": "KeyError",
     "evalue": "'work_place'",
     "output_type": "error",
     "traceback": [
      "\u001b[0;31m---------------------------------------------------------------------------\u001b[0m",
      "\u001b[0;31mKeyError\u001b[0m                                  Traceback (most recent call last)",
      "Cell \u001b[0;32mIn[89], line 1\u001b[0m\n\u001b[0;32m----> 1\u001b[0m \u001b[43mclient_info\u001b[49m\u001b[43m[\u001b[49m\u001b[38;5;124;43m'\u001b[39;49m\u001b[38;5;124;43mwork_place\u001b[39;49m\u001b[38;5;124;43m'\u001b[39;49m\u001b[43m]\u001b[49m\n",
      "\u001b[0;31mKeyError\u001b[0m: 'work_place'"
     ]
    }
   ],
   "source": [
    "client_info['work_place']"
   ]
  },
  {
   "cell_type": "code",
   "execution_count": 93,
   "id": "cecb5af5",
   "metadata": {},
   "outputs": [
    {
     "data": {
      "text/plain": [
       "{'street': 'Hlova Street, 10', 'city': 'Kyiv', 'country': 'Ukraine'}"
      ]
     },
     "execution_count": 93,
     "metadata": {},
     "output_type": "execute_result"
    }
   ],
   "source": [
    "client_info['address']"
   ]
  },
  {
   "cell_type": "code",
   "execution_count": 92,
   "id": "d20c5df5",
   "metadata": {},
   "outputs": [],
   "source": [
    "client_info.get('work_place')"
   ]
  },
  {
   "cell_type": "code",
   "execution_count": 91,
   "id": "ced8aa5d",
   "metadata": {},
   "outputs": [
    {
     "data": {
      "text/plain": [
       "{'street': 'Hlova Street, 10', 'city': 'Kyiv', 'country': 'Ukraine'}"
      ]
     },
     "execution_count": 91,
     "metadata": {},
     "output_type": "execute_result"
    }
   ],
   "source": [
    "client_info.get('address')"
   ]
  },
  {
   "cell_type": "code",
   "execution_count": 96,
   "id": "dd48d37e",
   "metadata": {},
   "outputs": [
    {
     "data": {
      "text/plain": [
       "'empty'"
      ]
     },
     "execution_count": 96,
     "metadata": {},
     "output_type": "execute_result"
    }
   ],
   "source": [
    "default = 'empty'\n",
    "client_info.get('work_place' , default)"
   ]
  },
  {
   "cell_type": "code",
   "execution_count": 97,
   "id": "5feac402",
   "metadata": {},
   "outputs": [],
   "source": [
    "client_info['gender'] = 'm'"
   ]
  },
  {
   "cell_type": "code",
   "execution_count": 98,
   "id": "77a294bf",
   "metadata": {},
   "outputs": [
    {
     "data": {
      "text/plain": [
       "{'name': 'Andriy',\n",
       " 'age': 30,\n",
       " 'address': {'street': 'Hlova Street, 10',\n",
       "  'city': 'Kyiv',\n",
       "  'country': 'Ukraine'},\n",
       " 'email': 'andriy@example.com',\n",
       " 'orders': [{'id': 1, 'item_id': 55},\n",
       "  {'id': 2, 'item_id': 57},\n",
       "  {'id': 3, 'item_id': 587}],\n",
       " 'gender': 'm'}"
      ]
     },
     "execution_count": 98,
     "metadata": {},
     "output_type": "execute_result"
    }
   ],
   "source": [
    "client_info"
   ]
  },
  {
   "cell_type": "code",
   "execution_count": 99,
   "id": "70131ea7",
   "metadata": {},
   "outputs": [],
   "source": [
    "d2 = { 'fav_product' : 'banana',\n",
    "       'count_fav_product' : 3000\n",
    "        }"
   ]
  },
  {
   "cell_type": "code",
   "execution_count": 100,
   "id": "95b5086d",
   "metadata": {},
   "outputs": [
    {
     "data": {
      "text/plain": [
       "{'fav_product': 'banana', 'count_fav_product': 3000}"
      ]
     },
     "execution_count": 100,
     "metadata": {},
     "output_type": "execute_result"
    }
   ],
   "source": [
    "client_info.update(d2)\n"
   ]
  },
  {
   "cell_type": "code",
   "execution_count": 101,
   "id": "57a54058",
   "metadata": {},
   "outputs": [
    {
     "data": {
      "text/plain": [
       "{'name': 'Andriy',\n",
       " 'age': 30,\n",
       " 'address': {'street': 'Hlova Street, 10',\n",
       "  'city': 'Kyiv',\n",
       "  'country': 'Ukraine'},\n",
       " 'email': 'andriy@example.com',\n",
       " 'orders': [{'id': 1, 'item_id': 55},\n",
       "  {'id': 2, 'item_id': 57},\n",
       "  {'id': 3, 'item_id': 587}],\n",
       " 'gender': 'm',\n",
       " 'fav_product': 'banana',\n",
       " 'count_fav_product': 3000}"
      ]
     },
     "execution_count": 101,
     "metadata": {},
     "output_type": "execute_result"
    }
   ],
   "source": [
    "client_info"
   ]
  },
  {
   "cell_type": "code",
   "execution_count": 102,
   "id": "3bb1b1e1",
   "metadata": {},
   "outputs": [
    {
     "name": "stdout",
     "output_type": "stream",
     "text": [
      "{'new_key': 'value'}\n"
     ]
    }
   ],
   "source": [
    "my_dict = {\"old_key\": \"value\"}\n",
    "\n",
    "# Крок 1: Зберігаємо значення, пов'язане зі старим ключем\n",
    "old_value = my_dict[\"old_key\"]\n",
    "\n",
    "# Крок 2: Видаляємо старий ключ\n",
    "del my_dict[\"old_key\"]\n",
    "\n",
    "# Крок 3: Додаємо новий ключ зі збереженим значенням\n",
    "my_dict[\"new_key\"] = old_value\n",
    "\n",
    "print(my_dict)  # Виведе {'new_key': 'value'}"
   ]
  },
  {
   "cell_type": "code",
   "execution_count": 103,
   "id": "94feb0b0",
   "metadata": {},
   "outputs": [],
   "source": [
    "clients = [\n",
    "    { 'name': 'Marie' , \"age\": 25, 'email': 'marie@gmail.com'  },\n",
    "    { 'name': 'Marie1' , \"age\": 25, 'email': 'marie@gmail.com'  },\n",
    "    { 'name': 'Marie2' , \"age\": 25, 'email': 'marie@gmail.com'  },\n",
    "    { 'name': 'Marie3' , \"age\": 25, 'email': 'marie@gmail.com'  },\n",
    "    { 'name': 'Marie4' , \"age\": 25, 'email': 'marie@gmail.com'  },\n",
    "    { 'name': 'Marie5' , \"age\": 25, 'email': 'marie@gmail.com'  }, \n",
    "]"
   ]
  },
  {
   "cell_type": "code",
   "execution_count": 104,
   "id": "e8717520",
   "metadata": {},
   "outputs": [],
   "source": [
    "clients = {\n",
    "    \"client1\": { 'name': 'Marie' , \"age\": 25, 'email': 'marie@gmail.com'  },\n",
    "    \"client2\": { 'name': 'Marie' , \"age\": 25, 'email': 'marie@gmail.com'  },\n",
    "\n",
    "}"
   ]
  },
  {
   "cell_type": "markdown",
   "id": "9361c83f",
   "metadata": {},
   "source": [
    "# Цикли"
   ]
  },
  {
   "cell_type": "code",
   "execution_count": 105,
   "id": "1e8bec40",
   "metadata": {},
   "outputs": [
    {
     "name": "stdout",
     "output_type": "stream",
     "text": [
      "a\n",
      "17\n",
      "35.77\n",
      "[1, 2, 3]\n",
      "True\n",
      "None\n"
     ]
    }
   ],
   "source": [
    "l = ['a', 17, 35.77, [1, 2, 3], True, None]\n",
    "\n",
    "for element in l:\n",
    "    print(element)\n"
   ]
  },
  {
   "cell_type": "code",
   "execution_count": 120,
   "id": "4cd727d6",
   "metadata": {},
   "outputs": [
    {
     "name": "stdout",
     "output_type": "stream",
     "text": [
      "current_elem =  1  current_sum =  1  current_mult =  1\n",
      "current_elem =  4  current_sum =  5  current_mult =  4\n",
      "current_elem =  5  current_sum =  10  current_mult =  20\n",
      "current_elem =  3  current_sum =  13  current_mult =  60\n",
      "Result =  13\n"
     ]
    }
   ],
   "source": [
    "l = [ 1 , 4, 5, 3]\n",
    "elem_sum = 0\n",
    "elem_mult = 1\n",
    "\n",
    "for element in l:\n",
    "    elem_sum += element\n",
    "    elem_mult *= element\n",
    "    print(\"current_elem = \", element, \" current_sum = \", elem_sum, \" current_mult = \", elem_mult)\n",
    "    \n",
    "print(\"Result = \", elem_sum)"
   ]
  },
  {
   "cell_type": "code",
   "execution_count": 121,
   "id": "efdac386",
   "metadata": {},
   "outputs": [
    {
     "data": {
      "text/plain": [
       "3"
      ]
     },
     "execution_count": 121,
     "metadata": {},
     "output_type": "execute_result"
    }
   ],
   "source": [
    "element"
   ]
  },
  {
   "cell_type": "code",
   "execution_count": 110,
   "id": "1b74c16d",
   "metadata": {},
   "outputs": [
    {
     "name": "stdout",
     "output_type": "stream",
     "text": [
      "Hello world!\n",
      "Hello world!\n",
      "Hello world!\n",
      "Hello world!\n"
     ]
    }
   ],
   "source": [
    "print('Hello world!')\n",
    "print(\"Hello world!\")\n",
    "print('''Hello world!''')\n",
    "print(\"\"\"Hello world!\"\"\")"
   ]
  },
  {
   "cell_type": "code",
   "execution_count": 113,
   "id": "7a5288fb",
   "metadata": {},
   "outputs": [
    {
     "name": "stdout",
     "output_type": "stream",
     "text": [
      "6\n",
      "7\n",
      "8\n",
      "9\n"
     ]
    }
   ],
   "source": [
    "l = [ 1 , 2, 3, 4]\n",
    "\n",
    "for t in l:\n",
    "    print(t+5)\n",
    "    "
   ]
  },
  {
   "cell_type": "code",
   "execution_count": 114,
   "id": "d45d3691",
   "metadata": {},
   "outputs": [
    {
     "data": {
      "text/plain": [
       "{'name': 'Andriy',\n",
       " 'age': 30,\n",
       " 'address': {'street': 'Hlova Street, 10',\n",
       "  'city': 'Kyiv',\n",
       "  'country': 'Ukraine'},\n",
       " 'email': 'andriy@example.com',\n",
       " 'orders': [{'id': 1, 'item_id': 55},\n",
       "  {'id': 2, 'item_id': 57},\n",
       "  {'id': 3, 'item_id': 587}],\n",
       " 'gender': 'm',\n",
       " 'fav_product': 'banana',\n",
       " 'count_fav_product': 3000}"
      ]
     },
     "execution_count": 114,
     "metadata": {},
     "output_type": "execute_result"
    }
   ],
   "source": [
    "client_info"
   ]
  },
  {
   "cell_type": "code",
   "execution_count": 118,
   "id": "94b886f8",
   "metadata": {},
   "outputs": [
    {
     "name": "stdout",
     "output_type": "stream",
     "text": [
      "name Andriy\n",
      "age 30\n",
      "address {'street': 'Hlova Street, 10', 'city': 'Kyiv', 'country': 'Ukraine'}\n",
      "email andriy@example.com\n",
      "orders [{'id': 1, 'item_id': 55}, {'id': 2, 'item_id': 57}, {'id': 3, 'item_id': 587}]\n",
      "gender m\n",
      "fav_product banana\n",
      "count_fav_product 3000\n"
     ]
    }
   ],
   "source": [
    "for element in client_info:\n",
    "    print(element, client_info[element])"
   ]
  },
  {
   "cell_type": "code",
   "execution_count": 123,
   "id": "71caa9d2",
   "metadata": {},
   "outputs": [
    {
     "name": "stdout",
     "output_type": "stream",
     "text": [
      "Andriy\n",
      "30\n",
      "{'street': 'Hlova Street, 10', 'city': 'Kyiv', 'country': 'Ukraine'}\n",
      "andriy@example.com\n",
      "[{'id': 1, 'item_id': 55}, {'id': 2, 'item_id': 57}, {'id': 3, 'item_id': 587}]\n",
      "m\n",
      "banana\n",
      "3000\n"
     ]
    }
   ],
   "source": [
    "for val in client_info.values():\n",
    "    print(val)"
   ]
  },
  {
   "cell_type": "code",
   "execution_count": 124,
   "id": "63adfa27",
   "metadata": {},
   "outputs": [
    {
     "data": {
      "text/plain": [
       "dict_items([('name', 'Andriy'), ('age', 30), ('address', {'street': 'Hlova Street, 10', 'city': 'Kyiv', 'country': 'Ukraine'}), ('email', 'andriy@example.com'), ('orders', [{'id': 1, 'item_id': 55}, {'id': 2, 'item_id': 57}, {'id': 3, 'item_id': 587}]), ('gender', 'm'), ('fav_product', 'banana'), ('count_fav_product', 3000)])"
      ]
     },
     "execution_count": 124,
     "metadata": {},
     "output_type": "execute_result"
    }
   ],
   "source": [
    "client_info.items()"
   ]
  },
  {
   "cell_type": "code",
   "execution_count": 125,
   "id": "74031063",
   "metadata": {},
   "outputs": [
    {
     "name": "stdout",
     "output_type": "stream",
     "text": [
      "name Andriy\n",
      "age 30\n",
      "address {'street': 'Hlova Street, 10', 'city': 'Kyiv', 'country': 'Ukraine'}\n",
      "email andriy@example.com\n",
      "orders [{'id': 1, 'item_id': 55}, {'id': 2, 'item_id': 57}, {'id': 3, 'item_id': 587}]\n",
      "gender m\n",
      "fav_product banana\n",
      "count_fav_product 3000\n"
     ]
    }
   ],
   "source": [
    "for key, value in client_info.items():\n",
    "    print(key, value)"
   ]
  },
  {
   "cell_type": "code",
   "execution_count": 128,
   "id": "91878323",
   "metadata": {},
   "outputs": [
    {
     "name": "stdout",
     "output_type": "stream",
     "text": [
      "30\n",
      "29\n",
      "28\n",
      "27\n",
      "26\n"
     ]
    }
   ],
   "source": [
    "i = 30 \n",
    "while i > 25:\n",
    "    print(i)\n",
    "    i -= 1"
   ]
  },
  {
   "cell_type": "code",
   "execution_count": 133,
   "id": "b2583586",
   "metadata": {},
   "outputs": [
    {
     "name": "stdout",
     "output_type": "stream",
     "text": [
      "He's tall\n"
     ]
    }
   ],
   "source": [
    "print('He\\'s tall')"
   ]
  },
  {
   "cell_type": "code",
   "execution_count": 134,
   "id": "5d15d3e5",
   "metadata": {},
   "outputs": [],
   "source": [
    "s = 'He is tall!'"
   ]
  },
  {
   "cell_type": "code",
   "execution_count": 135,
   "id": "3f7c9549",
   "metadata": {},
   "outputs": [
    {
     "data": {
      "text/plain": [
       "'e'"
      ]
     },
     "execution_count": 135,
     "metadata": {},
     "output_type": "execute_result"
    }
   ],
   "source": [
    "s[1]"
   ]
  },
  {
   "cell_type": "code",
   "execution_count": 136,
   "id": "becdb3dc",
   "metadata": {},
   "outputs": [],
   "source": [
    "text = \"tall, young\""
   ]
  },
  {
   "cell_type": "code",
   "execution_count": 137,
   "id": "6064cdc5",
   "metadata": {},
   "outputs": [],
   "source": [
    "traits_list = text.split(', ')"
   ]
  },
  {
   "cell_type": "code",
   "execution_count": 141,
   "id": "d87bcab8",
   "metadata": {},
   "outputs": [
    {
     "data": {
      "text/plain": [
       "['tall', 'young']"
      ]
     },
     "execution_count": 141,
     "metadata": {},
     "output_type": "execute_result"
    }
   ],
   "source": [
    "traits_list"
   ]
  },
  {
   "cell_type": "code",
   "execution_count": 142,
   "id": "840717ff",
   "metadata": {},
   "outputs": [
    {
     "data": {
      "text/plain": [
       "'tall, young'"
      ]
     },
     "execution_count": 142,
     "metadata": {},
     "output_type": "execute_result"
    }
   ],
   "source": [
    "', '.join(traits_list)"
   ]
  },
  {
   "cell_type": "code",
   "execution_count": null,
   "id": "e677c101",
   "metadata": {},
   "outputs": [],
   "source": []
  },
  {
   "cell_type": "code",
   "execution_count": 144,
   "id": "58b6eb01",
   "metadata": {},
   "outputs": [
    {
     "name": "stdout",
     "output_type": "stream",
     "text": [
      "Hello, John! You are 30 years old.\n"
     ]
    }
   ],
   "source": [
    "name = 'John'\n",
    "age = 30\n",
    "\n",
    "print(f'Hello, {name}! You are {age} years old.')"
   ]
  },
  {
   "cell_type": "code",
   "execution_count": 148,
   "id": "5b7e7e71",
   "metadata": {},
   "outputs": [
    {
     "name": "stdout",
     "output_type": "stream",
     "text": [
      "Hello, John. You are 30 years old.\n"
     ]
    }
   ],
   "source": [
    "template = 'Hello, {}. You are {} years old.'\n",
    "print(template.format(name, age))"
   ]
  },
  {
   "cell_type": "code",
   "execution_count": 149,
   "id": "29a71c22",
   "metadata": {},
   "outputs": [
    {
     "name": "stdout",
     "output_type": "stream",
     "text": [
      "Hello, John. You are 30 years old.\n"
     ]
    }
   ],
   "source": [
    "print('Hello, {str_name}. You are {str_age} years old.'.format(str_name=name, str_age=age))"
   ]
  },
  {
   "cell_type": "code",
   "execution_count": null,
   "id": "ffe5f957",
   "metadata": {},
   "outputs": [],
   "source": []
  },
  {
   "cell_type": "code",
   "execution_count": null,
   "id": "878ca118",
   "metadata": {},
   "outputs": [],
   "source": [
    "print(f'Hello, {name}! You are {age} years old.')\n",
    "\n",
    "print('Hello, {}. You are {} years old.'.format(name, age))\n",
    "print('Hello, {str_name}. You are {str_age} years old.'.format(str_name=name, str_age=age))"
   ]
  },
  {
   "cell_type": "markdown",
   "id": "88cb3fb1",
   "metadata": {},
   "source": [
    "# Функції "
   ]
  },
  {
   "cell_type": "code",
   "execution_count": 150,
   "id": "48f77ae4",
   "metadata": {},
   "outputs": [],
   "source": [
    "def foo():\n",
    "    print('I am foo!')"
   ]
  },
  {
   "cell_type": "code",
   "execution_count": 151,
   "id": "a3200a59",
   "metadata": {},
   "outputs": [
    {
     "name": "stdout",
     "output_type": "stream",
     "text": [
      "I am foo!\n"
     ]
    }
   ],
   "source": [
    "foo()"
   ]
  },
  {
   "cell_type": "code",
   "execution_count": 152,
   "id": "89631378",
   "metadata": {},
   "outputs": [
    {
     "name": "stdout",
     "output_type": "stream",
     "text": [
      "I am foo!\n"
     ]
    }
   ],
   "source": [
    "foo()"
   ]
  },
  {
   "cell_type": "code",
   "execution_count": 153,
   "id": "016487d1",
   "metadata": {},
   "outputs": [
    {
     "name": "stdout",
     "output_type": "stream",
     "text": [
      "I am foo!\n",
      "I am foo!\n",
      "I am foo!\n",
      "I am foo!\n",
      "I am foo!\n"
     ]
    }
   ],
   "source": [
    "i = 30 \n",
    "while i > 25:\n",
    "    foo()\n",
    "    i -= 1"
   ]
  },
  {
   "cell_type": "code",
   "execution_count": 159,
   "id": "675071ae",
   "metadata": {},
   "outputs": [
    {
     "name": "stdout",
     "output_type": "stream",
     "text": [
      "I am foo! My age is 12\n"
     ]
    }
   ],
   "source": [
    "def foo(age):\n",
    "    print(f'I am foo! My age is {age}')\n",
    "    \n",
    "    \n",
    "y =     foo(12)"
   ]
  },
  {
   "cell_type": "code",
   "execution_count": 160,
   "id": "e605330f",
   "metadata": {},
   "outputs": [],
   "source": []
  },
  {
   "cell_type": "code",
   "execution_count": 156,
   "id": "873ca9c6",
   "metadata": {},
   "outputs": [
    {
     "name": "stdout",
     "output_type": "stream",
     "text": [
      "I am foo! My age is 12\n"
     ]
    }
   ],
   "source": [
    "foo(12)"
   ]
  },
  {
   "cell_type": "code",
   "execution_count": null,
   "id": "89a2f211",
   "metadata": {},
   "outputs": [],
   "source": [
    "# y = f(x)"
   ]
  },
  {
   "cell_type": "code",
   "execution_count": 157,
   "id": "ef33e80b",
   "metadata": {},
   "outputs": [],
   "source": [
    "def age_5_years_ago(age):\n",
    "    print(f'I am foo! My age is {age}')\n",
    "    return age - 5"
   ]
  },
  {
   "cell_type": "code",
   "execution_count": 158,
   "id": "82e0e132",
   "metadata": {},
   "outputs": [
    {
     "name": "stdout",
     "output_type": "stream",
     "text": [
      "I am foo! My age is 12\n"
     ]
    },
    {
     "data": {
      "text/plain": [
       "7"
      ]
     },
     "execution_count": 158,
     "metadata": {},
     "output_type": "execute_result"
    }
   ],
   "source": [
    "t = age_5_years_ago(12)\n",
    "t"
   ]
  },
  {
   "cell_type": "code",
   "execution_count": null,
   "id": "c26252cf",
   "metadata": {},
   "outputs": [],
   "source": []
  },
  {
   "cell_type": "code",
   "execution_count": 164,
   "id": "ae51e0aa",
   "metadata": {},
   "outputs": [],
   "source": [
    "sales_count = [100 , 120 , 90 , 110 , 95]"
   ]
  },
  {
   "cell_type": "code",
   "execution_count": 165,
   "id": "6c5b9d8f",
   "metadata": {},
   "outputs": [
    {
     "data": {
      "text/plain": [
       "5"
      ]
     },
     "execution_count": 165,
     "metadata": {},
     "output_type": "execute_result"
    }
   ],
   "source": [
    "len(sales_count)"
   ]
  },
  {
   "cell_type": "code",
   "execution_count": 166,
   "id": "d5e59682",
   "metadata": {},
   "outputs": [],
   "source": [
    "def average_sales(data):\n",
    "    total_sum = 0\n",
    "    for element in data:\n",
    "        total_sum += element\n",
    "    return   total_sum /   len(data)"
   ]
  },
  {
   "cell_type": "code",
   "execution_count": 168,
   "id": "682704bf",
   "metadata": {},
   "outputs": [
    {
     "name": "stdout",
     "output_type": "stream",
     "text": [
      "Середня кількість продажів: 103.0\n"
     ]
    }
   ],
   "source": [
    "avg_sales  = average_sales(sales_count)\n",
    "print(f'Середня кількість продажів: {avg_sales}')"
   ]
  },
  {
   "cell_type": "code",
   "execution_count": 172,
   "id": "9ecf0476",
   "metadata": {},
   "outputs": [
    {
     "name": "stdout",
     "output_type": "stream",
     "text": [
      "Середня кількість продажів: 103.0\n"
     ]
    }
   ],
   "source": [
    "print(f'Середня кількість продажів: {average_sales(sales_count)}')"
   ]
  },
  {
   "cell_type": "code",
   "execution_count": 169,
   "id": "755b6439",
   "metadata": {},
   "outputs": [],
   "source": [
    "team = [\n",
    "    {\"name\": \"John\", \"age\": 20, \"number\": 1},\n",
    "    {\"name\": \"Mark\", \"age\": 33, \"number\": 3},\n",
    "    {\"name\": \"Cavin\", \"age\": 17, \"number\": 12},\n",
    "]"
   ]
  },
  {
   "cell_type": "code",
   "execution_count": 170,
   "id": "d1927073",
   "metadata": {},
   "outputs": [
    {
     "data": {
      "text/plain": [
       "[{'name': 'John', 'age': 20, 'number': 1},\n",
       " {'name': 'Mark', 'age': 33, 'number': 3},\n",
       " {'name': 'Cavin', 'age': 17, 'number': 12}]"
      ]
     },
     "execution_count": 170,
     "metadata": {},
     "output_type": "execute_result"
    }
   ],
   "source": [
    "team"
   ]
  },
  {
   "cell_type": "code",
   "execution_count": 171,
   "id": "3796f8af",
   "metadata": {},
   "outputs": [
    {
     "name": "stdout",
     "output_type": "stream",
     "text": [
      "Дані про гравців команди\n",
      " номер = 1, ім'я = John, вік гравця = 20\n",
      " номер = 3, ім'я = Mark, вік гравця = 33\n",
      " номер = 12, ім'я = Cavin, вік гравця = 17\n"
     ]
    }
   ],
   "source": [
    "\n",
    "def show_players(players):\n",
    "    print(\"Дані про гравців команди\")\n",
    "\n",
    "    for player in players:\n",
    "        # Форматування і виведення інформації про гравця\n",
    "        print(f\" номер = {player['number']}, ім'я = {player['name']}, вік гравця = {player['age']}\")\n",
    "\n",
    "# Викликаємо функцію з нашим списком гравців\n",
    "show_players(team)"
   ]
  },
  {
   "cell_type": "code",
   "execution_count": 176,
   "id": "2325cb0f",
   "metadata": {},
   "outputs": [],
   "source": [
    "def average_sales_v2(data):\n",
    "    total_sum = 0\n",
    "\n",
    "    for element in data:\n",
    "        total_sum += element\n",
    "        \n",
    "    count_10prc_plus =  total_sum * 1.1   \n",
    "    \n",
    "    return   total_sum /   len(data) , count_10prc_plus, 1,2 ,12 ,12312, 43, 'sddhnsdkl'"
   ]
  },
  {
   "cell_type": "code",
   "execution_count": 177,
   "id": "7b44fc24",
   "metadata": {},
   "outputs": [
    {
     "data": {
      "text/plain": [
       "(103.0, 566.5, 1, 2, 12, 12312, 43, 'sddhnsdkl')"
      ]
     },
     "execution_count": 177,
     "metadata": {},
     "output_type": "execute_result"
    }
   ],
   "source": [
    "average_sales_v2(sales_count)"
   ]
  },
  {
   "cell_type": "code",
   "execution_count": null,
   "id": "c4faa0e2",
   "metadata": {},
   "outputs": [],
   "source": []
  },
  {
   "cell_type": "code",
   "execution_count": 184,
   "id": "32fd1732",
   "metadata": {},
   "outputs": [],
   "source": [
    "def calculate_statistics(data, mean = True, median = False, std_dev = False):\n",
    "    result = {}\n",
    "    if mean:\n",
    "        result['mean'] = sum(data) / len(data)\n",
    "    if median:\n",
    "        sorted_data = sorted(data)\n",
    "        mid = len(data) // 2\n",
    "        result['median'] = (sorted_data[mid] if len(data) % 2 != 0 else (sorted_data[mid - 1] + sorted_data[mid]) / 2)\n",
    "    if std_dev:\n",
    "        mean_value = sum(data) / len(data)\n",
    "        result['std_dev'] = (sum((x - mean_value) ** 2 for x in data) / len(data)) ** 0.5\n",
    "    return result"
   ]
  },
  {
   "cell_type": "code",
   "execution_count": 185,
   "id": "355437e0",
   "metadata": {},
   "outputs": [],
   "source": [
    "# Використання функції\n",
    "data = [1, 2, 3, 4, 5, 6, 7, 8, 9, 10]"
   ]
  },
  {
   "cell_type": "code",
   "execution_count": 186,
   "id": "cc6e4c67",
   "metadata": {},
   "outputs": [
    {
     "name": "stdout",
     "output_type": "stream",
     "text": [
      "{'mean': 5.5}\n"
     ]
    }
   ],
   "source": [
    "stats = calculate_statistics(data)\n",
    "print(stats)"
   ]
  },
  {
   "cell_type": "code",
   "execution_count": 187,
   "id": "5b9df4cc",
   "metadata": {},
   "outputs": [
    {
     "name": "stdout",
     "output_type": "stream",
     "text": [
      "{'mean': 5.5, 'std_dev': 2.8722813232690143}\n"
     ]
    }
   ],
   "source": [
    "# Обчислення лише середнього та стандартного відхилення\n",
    "stats = calculate_statistics(data, median=False, std_dev=True)\n",
    "print(stats)"
   ]
  },
  {
   "cell_type": "code",
   "execution_count": 189,
   "id": "9362a1a3",
   "metadata": {},
   "outputs": [
    {
     "name": "stdout",
     "output_type": "stream",
     "text": [
      "{'mean': 5.5, 'median': 5.5}\n"
     ]
    }
   ],
   "source": [
    "stats = calculate_statistics(data, median=True)\n",
    "print(stats)"
   ]
  },
  {
   "cell_type": "code",
   "execution_count": null,
   "id": "4336f9a7",
   "metadata": {},
   "outputs": [],
   "source": [
    "#Значеннями за замовчуванням можуть бути забезпечені тільки параметри, що знаходяться у кінці списку параметрів. \n",
    "#Таким чином, у списку параметрів функції параметр зі значенням за замовчуванням не може передувати \n",
    "#параметру без значення за замовчуванням. \n",
    "#Це пов'язано з тим, що значення надаються параметрам відповідно до їх положення!!! "
   ]
  },
  {
   "cell_type": "code",
   "execution_count": null,
   "id": "ba39ebbf",
   "metadata": {},
   "outputs": [],
   "source": []
  },
  {
   "cell_type": "code",
   "execution_count": 191,
   "id": "efdbdfc9",
   "metadata": {},
   "outputs": [
    {
     "name": "stdout",
     "output_type": "stream",
     "text": [
      "Фіксований аргумент: 1\n",
      "Позиційні аргументи (кортеж): (2, 3, 4)\n",
      "Ключові аргументи (словник): {'param1': 'a', 'param2': 'b', 'param3': 'с'}\n"
     ]
    }
   ],
   "source": [
    "def example_func(fixed_arg, *my_exmpl1, **kwargs):\n",
    "    print(\"Фіксований аргумент:\", fixed_arg)\n",
    "    print(\"Позиційні аргументи (кортеж):\", args)\n",
    "    print(\"Ключові аргументи (словник):\", kwargs)\n",
    "\n",
    "example_func(1,      2, 3, 4,      param1='a', param2='b', param3='с')"
   ]
  },
  {
   "cell_type": "code",
   "execution_count": null,
   "id": "88d7226b",
   "metadata": {},
   "outputs": [],
   "source": []
  },
  {
   "cell_type": "code",
   "execution_count": null,
   "id": "c1efbd46",
   "metadata": {},
   "outputs": [],
   "source": []
  },
  {
   "cell_type": "code",
   "execution_count": 194,
   "id": "574c0f8b",
   "metadata": {},
   "outputs": [
    {
     "data": {
      "text/plain": [
       "10"
      ]
     },
     "execution_count": 194,
     "metadata": {},
     "output_type": "execute_result"
    }
   ],
   "source": [
    "def double_1(x):\n",
    "\t\treturn x * 2\n",
    "double_1(5)    "
   ]
  },
  {
   "cell_type": "code",
   "execution_count": 195,
   "id": "5ef7ecac",
   "metadata": {},
   "outputs": [
    {
     "name": "stdout",
     "output_type": "stream",
     "text": [
      "10\n"
     ]
    }
   ],
   "source": [
    "double = lambda x: x*2\n",
    "print(double(5))"
   ]
  },
  {
   "cell_type": "code",
   "execution_count": 196,
   "id": "38069f30",
   "metadata": {},
   "outputs": [],
   "source": [
    "def defined_cube(y):\n",
    "    return y*y*y"
   ]
  },
  {
   "cell_type": "code",
   "execution_count": 197,
   "id": "fc73c620",
   "metadata": {},
   "outputs": [
    {
     "name": "stdout",
     "output_type": "stream",
     "text": [
      "8\n",
      "8\n"
     ]
    }
   ],
   "source": [
    "lambda_cube = lambda y: y*y*y\n",
    "\n",
    "print(defined_cube(2))\n",
    "print(lambda_cube(2))"
   ]
  },
  {
   "cell_type": "code",
   "execution_count": 199,
   "id": "4cc79e1a",
   "metadata": {},
   "outputs": [
    {
     "name": "stdout",
     "output_type": "stream",
     "text": [
      "[4, 6, 10, 12, 14]\n"
     ]
    }
   ],
   "source": [
    "my_list = [1, 3, 4, 6, 10, 11, 15, 12, 14]\n",
    "\n",
    "new_list = list(filter(lambda x: (x%2 == 0) , my_list))\n",
    "\n",
    "print(new_list)"
   ]
  },
  {
   "cell_type": "code",
   "execution_count": null,
   "id": "6a78715d",
   "metadata": {},
   "outputs": [],
   "source": []
  },
  {
   "cell_type": "code",
   "execution_count": 203,
   "id": "2b4fcc37",
   "metadata": {},
   "outputs": [],
   "source": [
    "#def func(a, b=11, c) #Такий варіант теж заборонений? \n",
    "\n",
    "#Тобто лише так:\n",
    "def foo(a, c, b=11):\n",
    "    print('I am foo')"
   ]
  },
  {
   "cell_type": "code",
   "execution_count": 202,
   "id": "e6e43f3a",
   "metadata": {},
   "outputs": [
    {
     "ename": "SyntaxError",
     "evalue": "non-default argument follows default argument (4282826300.py, line 1)",
     "output_type": "error",
     "traceback": [
      "\u001b[0;36m  Cell \u001b[0;32mIn[202], line 1\u001b[0;36m\u001b[0m\n\u001b[0;31m    def foo(a, b=11, c):\u001b[0m\n\u001b[0m                     ^\u001b[0m\n\u001b[0;31mSyntaxError\u001b[0m\u001b[0;31m:\u001b[0m non-default argument follows default argument\n"
     ]
    }
   ],
   "source": [
    "def foo(a, b=11, c):\n",
    "    print('I am foo')"
   ]
  },
  {
   "cell_type": "code",
   "execution_count": null,
   "id": "743be2f3",
   "metadata": {},
   "outputs": [],
   "source": []
  },
  {
   "cell_type": "code",
   "execution_count": null,
   "id": "b39c2422",
   "metadata": {},
   "outputs": [],
   "source": []
  }
 ],
 "metadata": {
  "kernelspec": {
   "display_name": "Python 3 (ipykernel)",
   "language": "python",
   "name": "python3"
  },
  "language_info": {
   "codemirror_mode": {
    "name": "ipython",
    "version": 3
   },
   "file_extension": ".py",
   "mimetype": "text/x-python",
   "name": "python",
   "nbconvert_exporter": "python",
   "pygments_lexer": "ipython3",
   "version": "3.10.9"
  }
 },
 "nbformat": 4,
 "nbformat_minor": 5
}
