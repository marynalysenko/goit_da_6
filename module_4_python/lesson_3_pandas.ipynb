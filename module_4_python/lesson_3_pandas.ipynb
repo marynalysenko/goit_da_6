{
 "cells": [
  {
   "cell_type": "markdown",
   "metadata": {},
   "source": [
    "# II. Pandas"
   ]
  },
  {
   "cell_type": "markdown",
   "metadata": {},
   "source": [
    "Pandas (Panel data) - це широко поширена бібліотека мовою Python з відкритим вихідним кодом для обробки і аналізу даних. На відміну від основної структури даних бібліотеки NumPy, головний об'єкт pandas DataFrame може містити неоднорідні типи даних (числа з плаваючою комою, цілі числа, рядки, дати тощо), які можна структурувати у вигляді ієрархії та індексувати.\n",
    "\n",
    "Бібліотека pandas надає дві структури для роботи з даними: \n",
    "- Series\n",
    "- DataFrame\n",
    "\n",
    "Series - це маркована одновимірна структура даних, її можна уявити, як таблицю з одним рядком (або стовпцем). З Series можна працювати як із звичайним масивом (звертатися за номером індексу), і як із асоційованим масивом, у цьому випадку можна використовувати ключ для доступу до елементів даних.\n",
    "\n",
    "DataFrame - це двовимірна маркована структура. Вона схожа на звичайну таблицю і це виявляється у способі її створення та у роботі з її елементами.\n",
    "\n",
    "Pandas важливий для обробки даних, оскільки він надає широкий спектр інструментів для ефективної роботи з даними, включаючи завантаження, очищення, трансформацію, візуалізацію та аналіз даних."
   ]
  },
  {
   "cell_type": "code",
   "execution_count": null,
   "metadata": {},
   "outputs": [],
   "source": [
    "#pip install pandas"
   ]
  },
  {
   "cell_type": "code",
   "execution_count": null,
   "metadata": {},
   "outputs": [],
   "source": [
    "import pandas as pd"
   ]
  },
  {
   "cell_type": "code",
   "execution_count": null,
   "metadata": {},
   "outputs": [],
   "source": [
    "mountains_height = pd.Series([2061, 2035.8, 2028.5, 2022.5, 2016.4])  # У найпростішій формі об'єкт Series можна створити так само як одновимірний масив NumPy:\n",
    "print(mountains_height)"
   ]
  },
  {
   "cell_type": "code",
   "execution_count": null,
   "metadata": {},
   "outputs": [],
   "source": [
    "mountains_height = pd.Series(\n",
    "    data=[2061, 2035.8, 2028.5, 2022.5, 2016.4], # data - дані, які будуть зберігатися в об'єкті Series\n",
    "    index=[\"Goverla\", \"Brebenskyl\", \"Pip_Ivan\", \"Petros\", \"Gutin_Tomnatik\"], # index - індекси, які будуть використовуватися для доступу до елементів об'єкту Series\n",
    "    name=\"Height, m\", # name - назва об'єкту Series\n",
    "    dtype=float, # dtype - тип даних, які будуть зберігатися в об'єкті Series\n",
    ")\n",
    "\n",
    "print(mountains_height)"
   ]
  },
  {
   "cell_type": "code",
   "execution_count": null,
   "metadata": {},
   "outputs": [],
   "source": [
    "print(mountains_height[0])  # 2061.0"
   ]
  },
  {
   "cell_type": "code",
   "execution_count": null,
   "metadata": {},
   "outputs": [],
   "source": [
    "print(mountains_height[\"Goverla\"])  # 2061.0"
   ]
  },
  {
   "cell_type": "code",
   "execution_count": null,
   "metadata": {},
   "outputs": [],
   "source": [
    "print(mountains_height[[\"Pip_Ivan\", \"Goverla\", \"Gutin_Tomnatik\"]])"
   ]
  },
  {
   "cell_type": "code",
   "execution_count": null,
   "metadata": {},
   "outputs": [],
   "source": [
    "# Вирізання елементів у стилі Python працює.\n",
    "\n",
    "print(mountains_height[1:3]) # не включно 3!"
   ]
  },
  {
   "cell_type": "code",
   "execution_count": null,
   "metadata": {},
   "outputs": [],
   "source": [
    "print(mountains_height[\"Brebenskyl\":\"Petros\"])"
   ]
  },
  {
   "cell_type": "code",
   "execution_count": null,
   "metadata": {},
   "outputs": [],
   "source": [
    "# Можна звертатися до рядку даних як до атрибуту послідовності Series:\n",
    "\n",
    "print(mountains_height.Petros)  # 2022.5\n",
    "print(mountains_height.Brebenskyl)  # 2035.8"
   ]
  },
  {
   "cell_type": "code",
   "execution_count": null,
   "metadata": {},
   "outputs": [],
   "source": [
    "# Операції порівняння та фільтрації об'єкта Series за допомогою логічних операцій створюють новий об'єкт Series\n",
    "\n",
    "print(mountains_height > 2030) # повертає об'єкт Series з логічними значеннями\n"
   ]
  },
  {
   "cell_type": "code",
   "execution_count": null,
   "metadata": {},
   "outputs": [],
   "source": [
    "print(mountains_height[mountains_height > 2030])  # повертає об'єкт Series з елементами, які задовольняють умову"
   ]
  },
  {
   "cell_type": "code",
   "execution_count": null,
   "metadata": {},
   "outputs": [],
   "source": [
    "# Операції перевірки на існування елемента в Series використовують індекс, а не значення:\n",
    "\n",
    "print(\"Goverla\" in mountains_height)  # True"
   ]
  },
  {
   "cell_type": "markdown",
   "metadata": {},
   "source": [
    "# Sorting"
   ]
  },
  {
   "cell_type": "code",
   "execution_count": null,
   "metadata": {},
   "outputs": [],
   "source": [
    "sort_index = mountains_height.sort_index()\n",
    "print(sort_index)"
   ]
  },
  {
   "cell_type": "code",
   "execution_count": null,
   "metadata": {},
   "outputs": [],
   "source": [
    "mountains_height.sort_values(inplace=True, ascending=True) # inplace=True - змінює об'єкт Series, а не повертає новий \n",
    "print(mountains_height)"
   ]
  },
  {
   "cell_type": "code",
   "execution_count": null,
   "metadata": {},
   "outputs": [],
   "source": [
    "# Метод apply дозволяє застосовувати користувацьку функцію до кожного елемента Series.\n",
    "\n",
    "def square(x):\n",
    "    return x**2\n",
    "\n",
    "\n",
    "squared_height = mountains_height.apply(square)\n",
    "print(squared_height)"
   ]
  },
  {
   "cell_type": "code",
   "execution_count": null,
   "metadata": {},
   "outputs": [],
   "source": [
    "#pip install matplotlib"
   ]
  },
  {
   "cell_type": "code",
   "execution_count": null,
   "metadata": {},
   "outputs": [],
   "source": [
    "# Також Pandas пропонує простий спосіб візуалізації даних в Series.\n",
    "\n",
    "mountains_height.plot(kind='bar')"
   ]
  },
  {
   "cell_type": "code",
   "execution_count": null,
   "metadata": {},
   "outputs": [],
   "source": [
    "# Останнім розглянемо метод concat який дозволяє з'єднувати два або більше об'єктів Series в один.\n",
    "\n",
    "other_mountains = pd.Series([2001.1, 1998.4], index=[\"Rebra\", \"Menchul\"])\n",
    "all_mountains = pd.concat([mountains_height, other_mountains])\n",
    "print(all_mountains)"
   ]
  },
  {
   "cell_type": "markdown",
   "metadata": {},
   "source": [
    "# Об'єкт DataFrame"
   ]
  },
  {
   "cell_type": "code",
   "execution_count": null,
   "metadata": {},
   "outputs": [],
   "source": [
    "# Об'єкт DataFrame є основним компонентом бібліотеки Pandas і являє собою двовимірну структуру даних зі стовпцями різних типів.\n",
    "# Це один з найзручніших інструментів для обробки та аналізу табличних даних у Python."
   ]
  },
  {
   "cell_type": "code",
   "execution_count": null,
   "metadata": {},
   "outputs": [],
   "source": [
    "# Створення DataFrame можливо зі списків\n",
    "\n",
    "import pandas as pd\n",
    "\n",
    "data = [[1, \"Alice\"], [2, \"Bob\"]]\n",
    "df = pd.DataFrame(data, columns=[\"ID\", \"Name\"])"
   ]
  },
  {
   "cell_type": "code",
   "execution_count": null,
   "metadata": {},
   "outputs": [],
   "source": [
    "# Зі словників\n",
    "\n",
    "data = {'ID': [1, 2], 'Name': ['Alice', 'Bob']}\n",
    "df = pd.DataFrame(data)"
   ]
  },
  {
   "cell_type": "code",
   "execution_count": null,
   "metadata": {},
   "outputs": [],
   "source": [
    "# З NumPy масивів\n",
    "\n",
    "import numpy as np\n",
    "\n",
    "data = np.array([[1, \"Alice\"], [2, \"Bob\"]])\n",
    "df = pd.DataFrame(data, columns=[\"ID\", \"Name\"])"
   ]
  },
  {
   "cell_type": "markdown",
   "metadata": {},
   "source": [
    "## Властивості DataFrame​\n",
    "\n"
   ]
  },
  {
   "cell_type": "markdown",
   "metadata": {},
   "source": [
    "DataFrame має наступні властивості:\n",
    "\n",
    "- shape: повертає розмір DataFrame (кількість рядків, кількість стовпців).\n",
    "- columns: повертає назви стовпців.\n",
    "- index: повертає індекси рядків.\n",
    "- dtypes: повертає типи даних кожного стовпця."
   ]
  },
  {
   "cell_type": "code",
   "execution_count": null,
   "metadata": {},
   "outputs": [],
   "source": [
    "import pandas as pd\n",
    "\n",
    "# Створення даних у формі словника, де ключі - це назви колонок, а значення - списки даних для цих колонок\n",
    "data = {\"Student ID\": [101, 102, 103], \"Score\": [85, 90, 78]}\n",
    "\n",
    "# Створення DataFrame з використанням цього словника\n",
    "df = pd.DataFrame(data)\n",
    "\n",
    "# Виводимо DataFrame\n",
    "print(df)"
   ]
  },
  {
   "cell_type": "code",
   "execution_count": null,
   "metadata": {},
   "outputs": [],
   "source": [
    "# https://www.kaggle.com/datasets/heptapod/titanic\n",
    "df = pd.read_csv('/Users/marinalysenko/Projects/goit_da_6/goit_da_6/module_4_python/train_and_test2.csv')\n",
    "df"
   ]
  },
  {
   "cell_type": "code",
   "execution_count": null,
   "metadata": {},
   "outputs": [],
   "source": [
    "# https://www.kaggle.com/datasets/yeanzc/telco-customer-churn-ibm-dataset?resource=download\n",
    "\n",
    "# pip install openpyxl\n",
    "df = pd.read_excel(\n",
    "    \"/Users/marinalysenko/Projects/goit_da_6/goit_da_6/module_4_python/Telco_customer_churn.xlsx\"\n",
    ")\n",
    "df"
   ]
  },
  {
   "cell_type": "code",
   "execution_count": null,
   "metadata": {},
   "outputs": [],
   "source": [
    "df.head()"
   ]
  },
  {
   "cell_type": "code",
   "execution_count": null,
   "metadata": {},
   "outputs": [],
   "source": [
    "df.head(3)"
   ]
  },
  {
   "cell_type": "code",
   "execution_count": null,
   "metadata": {},
   "outputs": [],
   "source": [
    "df.tail(3)"
   ]
  },
  {
   "cell_type": "code",
   "execution_count": null,
   "metadata": {},
   "outputs": [],
   "source": [
    "df.describe()"
   ]
  },
  {
   "cell_type": "code",
   "execution_count": null,
   "metadata": {},
   "outputs": [],
   "source": [
    "df.shape"
   ]
  },
  {
   "cell_type": "code",
   "execution_count": null,
   "metadata": {},
   "outputs": [],
   "source": [
    "df.info()"
   ]
  },
  {
   "cell_type": "code",
   "execution_count": null,
   "metadata": {},
   "outputs": [],
   "source": [
    "df.columns"
   ]
  },
  {
   "cell_type": "code",
   "execution_count": null,
   "metadata": {},
   "outputs": [],
   "source": [
    "df.dtypes"
   ]
  },
  {
   "cell_type": "code",
   "execution_count": null,
   "metadata": {},
   "outputs": [],
   "source": [
    "dfr = df.rename(columns={\"CustomerID\": \"ClientID\"})\n",
    "dfr.columns"
   ]
  },
  {
   "cell_type": "code",
   "execution_count": null,
   "metadata": {},
   "outputs": [],
   "source": [
    "df.drop(\"Zip Code\", axis=1) # axis=1 - видаляє колонку, axis=0 - видаляє рядок"
   ]
  },
  {
   "cell_type": "code",
   "execution_count": null,
   "metadata": {},
   "outputs": [],
   "source": [
    "df.reset_index()"
   ]
  },
  {
   "cell_type": "markdown",
   "metadata": {},
   "source": [
    "## Що робимо з рядками?"
   ]
  },
  {
   "cell_type": "code",
   "execution_count": null,
   "metadata": {},
   "outputs": [],
   "source": [
    "#df.reset_index(drop=True, inplace=True) # drop=True - видаляє колонку з індексами, inplace=True - змінює об'єкт DataFrame, а не повертає новий"
   ]
  },
  {
   "cell_type": "code",
   "execution_count": null,
   "metadata": {},
   "outputs": [],
   "source": [
    "df.set_index(\"CustomerID\")"
   ]
  },
  {
   "cell_type": "code",
   "execution_count": null,
   "metadata": {},
   "outputs": [],
   "source": [
    "type(df[\"Country\"])"
   ]
  },
  {
   "cell_type": "code",
   "execution_count": null,
   "metadata": {},
   "outputs": [],
   "source": [
    "df[\"State\"].unique()"
   ]
  },
  {
   "cell_type": "code",
   "execution_count": null,
   "metadata": {},
   "outputs": [],
   "source": [
    "df[\"Charge_ind\"] = df[\"Monthly Charges\"] * df[\"Churn Score\"]"
   ]
  },
  {
   "cell_type": "code",
   "execution_count": null,
   "metadata": {},
   "outputs": [],
   "source": [
    "df"
   ]
  },
  {
   "cell_type": "code",
   "execution_count": null,
   "metadata": {},
   "outputs": [],
   "source": [
    "df.isnull()"
   ]
  },
  {
   "cell_type": "code",
   "execution_count": null,
   "metadata": {},
   "outputs": [],
   "source": [
    "df.isnull().sum()   "
   ]
  },
  {
   "cell_type": "code",
   "execution_count": null,
   "metadata": {},
   "outputs": [],
   "source": [
    "df['Total Charges'].info()"
   ]
  },
  {
   "cell_type": "code",
   "execution_count": null,
   "metadata": {},
   "outputs": [],
   "source": [
    "df[\"Total Charges\"]"
   ]
  },
  {
   "cell_type": "code",
   "execution_count": null,
   "metadata": {},
   "outputs": [],
   "source": [
    "df[\"Total Charges\"] = df[\"Total Charges\"].astype(float)"
   ]
  },
  {
   "cell_type": "code",
   "execution_count": null,
   "metadata": {},
   "outputs": [],
   "source": [
    "df = df.fillna(0)"
   ]
  },
  {
   "cell_type": "code",
   "execution_count": null,
   "metadata": {},
   "outputs": [],
   "source": [
    "# df замінити '' на 0\n",
    "df = df.replace(\" \", 0)"
   ]
  },
  {
   "cell_type": "code",
   "execution_count": null,
   "metadata": {},
   "outputs": [],
   "source": [
    "df.shape"
   ]
  },
  {
   "cell_type": "code",
   "execution_count": null,
   "metadata": {},
   "outputs": [],
   "source": [
    "# видалити рядки з пропущеними значеннями\n",
    "df = df.dropna()"
   ]
  },
  {
   "cell_type": "code",
   "execution_count": null,
   "metadata": {},
   "outputs": [],
   "source": [
    "df.shape"
   ]
  },
  {
   "cell_type": "code",
   "execution_count": null,
   "metadata": {},
   "outputs": [],
   "source": [
    "# замінити значення в колонці Total Charges на середнє значення\n",
    "df[\"Total Charges\"] = df[\"Total Charges\"].fillna(df[\"Total Charges\"].mean())"
   ]
  }
 ],
 "metadata": {
  "kernelspec": {
   "display_name": "Python 3",
   "language": "python",
   "name": "python3"
  },
  "language_info": {
   "codemirror_mode": {
    "name": "ipython",
    "version": 3
   },
   "file_extension": ".py",
   "mimetype": "text/x-python",
   "name": "python",
   "nbconvert_exporter": "python",
   "pygments_lexer": "ipython3",
   "version": "3.10.12"
  }
 },
 "nbformat": 4,
 "nbformat_minor": 2
}
