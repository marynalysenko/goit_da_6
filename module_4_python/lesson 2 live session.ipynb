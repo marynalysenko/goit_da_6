{
 "cells": [
  {
   "cell_type": "markdown",
   "id": "9a3c2aa9",
   "metadata": {},
   "source": [
    "# Lesson 2"
   ]
  },
  {
   "cell_type": "code",
   "execution_count": 3,
   "id": "9724e89f",
   "metadata": {},
   "outputs": [
    {
     "data": {
      "text/plain": [
       "5"
      ]
     },
     "execution_count": 3,
     "metadata": {},
     "output_type": "execute_result"
    }
   ],
   "source": [
    "i = 5\n",
    "i"
   ]
  },
  {
   "cell_type": "code",
   "execution_count": 24,
   "id": "b26f02c1",
   "metadata": {},
   "outputs": [
    {
     "data": {
      "text/plain": [
       "['a', 17, 35.77, [1, 2, 3], True, None, 5]"
      ]
     },
     "execution_count": 24,
     "metadata": {},
     "output_type": "execute_result"
    }
   ],
   "source": [
    "l=['a', 17, 35.77, [1, 2, 3], True, None, i]\n",
    "l"
   ]
  },
  {
   "cell_type": "code",
   "execution_count": 12,
   "id": "9b46edbb",
   "metadata": {},
   "outputs": [
    {
     "data": {
      "text/plain": [
       "2"
      ]
     },
     "execution_count": 12,
     "metadata": {},
     "output_type": "execute_result"
    }
   ],
   "source": [
    "l2 = l[3]\n",
    "#l2[1]\n",
    "\n",
    "l[3][1]"
   ]
  },
  {
   "cell_type": "code",
   "execution_count": 7,
   "id": "39c2c75a",
   "metadata": {},
   "outputs": [],
   "source": [
    "k = 4"
   ]
  },
  {
   "cell_type": "code",
   "execution_count": 8,
   "id": "7bfe8064",
   "metadata": {},
   "outputs": [
    {
     "data": {
      "text/plain": [
       "True"
      ]
     },
     "execution_count": 8,
     "metadata": {},
     "output_type": "execute_result"
    }
   ],
   "source": [
    "l[k]"
   ]
  },
  {
   "cell_type": "code",
   "execution_count": 25,
   "id": "a957d11e",
   "metadata": {},
   "outputs": [],
   "source": [
    "l.append(45)"
   ]
  },
  {
   "cell_type": "code",
   "execution_count": 26,
   "id": "30bc9233",
   "metadata": {},
   "outputs": [
    {
     "data": {
      "text/plain": [
       "['a', 17, 35.77, [1, 2, 3], True, None, 5, 45]"
      ]
     },
     "execution_count": 26,
     "metadata": {},
     "output_type": "execute_result"
    }
   ],
   "source": [
    "l"
   ]
  },
  {
   "cell_type": "code",
   "execution_count": 27,
   "id": "4c67f696",
   "metadata": {},
   "outputs": [
    {
     "data": {
      "text/plain": [
       "['a', 17, 35.77, [1, 2, 3], True, None, 5, 45, 'Marie']"
      ]
     },
     "execution_count": 27,
     "metadata": {},
     "output_type": "execute_result"
    }
   ],
   "source": [
    "element = 'Marie'\n",
    "l.append(element)\n",
    "l"
   ]
  },
  {
   "cell_type": "code",
   "execution_count": 28,
   "id": "b11234ae",
   "metadata": {},
   "outputs": [],
   "source": [
    "l.insert(0, element)"
   ]
  },
  {
   "cell_type": "code",
   "execution_count": 29,
   "id": "f1f9cc28",
   "metadata": {},
   "outputs": [
    {
     "data": {
      "text/plain": [
       "['Marie', 'a', 17, 35.77, [1, 2, 3], True, None, 5, 45, 'Marie']"
      ]
     },
     "execution_count": 29,
     "metadata": {},
     "output_type": "execute_result"
    }
   ],
   "source": [
    "l"
   ]
  },
  {
   "cell_type": "code",
   "execution_count": 30,
   "id": "26e383bd",
   "metadata": {},
   "outputs": [],
   "source": [
    "m = [12,13]\n",
    "l.extend(m)"
   ]
  },
  {
   "cell_type": "code",
   "execution_count": 31,
   "id": "73cc506a",
   "metadata": {},
   "outputs": [
    {
     "data": {
      "text/plain": [
       "['Marie', 'a', 17, 35.77, [1, 2, 3], True, None, 5, 45, 'Marie', 12, 13]"
      ]
     },
     "execution_count": 31,
     "metadata": {},
     "output_type": "execute_result"
    }
   ],
   "source": [
    "l"
   ]
  },
  {
   "cell_type": "code",
   "execution_count": 32,
   "id": "c18159ad",
   "metadata": {},
   "outputs": [
    {
     "data": {
      "text/plain": [
       "['Marie',\n",
       " 'a',\n",
       " 17,\n",
       " 35.77,\n",
       " [1, 2, 3],\n",
       " True,\n",
       " None,\n",
       " 5,\n",
       " 45,\n",
       " 'Marie',\n",
       " 12,\n",
       " 13,\n",
       " 12,\n",
       " 13]"
      ]
     },
     "execution_count": 32,
     "metadata": {},
     "output_type": "execute_result"
    }
   ],
   "source": [
    "l = l + m\n",
    "l"
   ]
  },
  {
   "cell_type": "code",
   "execution_count": null,
   "id": "75d31ca7",
   "metadata": {},
   "outputs": [],
   "source": [
    "l.append(list([12,13]))"
   ]
  },
  {
   "cell_type": "code",
   "execution_count": null,
   "id": "0e703015",
   "metadata": {},
   "outputs": [],
   "source": []
  },
  {
   "cell_type": "code",
   "execution_count": 33,
   "id": "c96ad12c",
   "metadata": {},
   "outputs": [
    {
     "data": {
      "text/plain": [
       "['Marie',\n",
       " 'a',\n",
       " 17,\n",
       " 35.77,\n",
       " [1, 2, 3],\n",
       " True,\n",
       " None,\n",
       " 5,\n",
       " 45,\n",
       " 'Marie',\n",
       " 12,\n",
       " 13,\n",
       " 12,\n",
       " 13]"
      ]
     },
     "execution_count": 33,
     "metadata": {},
     "output_type": "execute_result"
    }
   ],
   "source": [
    "l"
   ]
  },
  {
   "cell_type": "code",
   "execution_count": 34,
   "id": "0e503987",
   "metadata": {},
   "outputs": [
    {
     "data": {
      "text/plain": [
       "['Marie', 'a', 17, 35.77, [1, 2, 3], None, 5, 45, 'Marie', 12, 13, 12, 13]"
      ]
     },
     "execution_count": 34,
     "metadata": {},
     "output_type": "execute_result"
    }
   ],
   "source": [
    "l.pop(5)\n",
    "l"
   ]
  },
  {
   "cell_type": "code",
   "execution_count": 37,
   "id": "f7a84f74",
   "metadata": {},
   "outputs": [
    {
     "data": {
      "text/plain": [
       "['Marie', 'a', 17, [1, 2, 3], None, 5, 45, 'Marie', 12, 13, 12, 13]"
      ]
     },
     "execution_count": 37,
     "metadata": {},
     "output_type": "execute_result"
    }
   ],
   "source": [
    "element_index = l.index(35.77)\n",
    "l.pop(element_index)\n",
    "l"
   ]
  },
  {
   "cell_type": "code",
   "execution_count": 41,
   "id": "0fff7ae7",
   "metadata": {},
   "outputs": [
    {
     "data": {
      "text/plain": [
       "0"
      ]
     },
     "execution_count": 41,
     "metadata": {},
     "output_type": "execute_result"
    }
   ],
   "source": [
    "l.count('b')"
   ]
  },
  {
   "cell_type": "code",
   "execution_count": 46,
   "id": "4e7122f8",
   "metadata": {},
   "outputs": [
    {
     "data": {
      "text/plain": [
       "True"
      ]
     },
     "execution_count": 46,
     "metadata": {},
     "output_type": "execute_result"
    }
   ],
   "source": [
    "k = ('a', 17, 35.77, [1, 2, 3], True, None)\n",
    "k[4]"
   ]
  },
  {
   "cell_type": "code",
   "execution_count": 51,
   "id": "8e2fcb8b",
   "metadata": {},
   "outputs": [],
   "source": [
    "k1 = ('a', 17, 35.77, [1, 2, 3], True, None)\n",
    "k2 = ('b', 17, 35.77, [1, 4, 3], True, None)\n",
    "k1 = k2"
   ]
  },
  {
   "cell_type": "code",
   "execution_count": 54,
   "id": "6fd15e94",
   "metadata": {},
   "outputs": [
    {
     "data": {
      "text/plain": [
       "(1, (1, 2), 35.77, [1, 2, 3], True, None)"
      ]
     },
     "execution_count": 54,
     "metadata": {},
     "output_type": "execute_result"
    }
   ],
   "source": [
    "a = 1\n",
    "d = (1,2)\n",
    "k = (a, d, 35.77, [1, 2, 3], True, None)\n",
    "k\n"
   ]
  },
  {
   "cell_type": "code",
   "execution_count": null,
   "id": "b91688a8",
   "metadata": {},
   "outputs": [],
   "source": [
    "k = (1 , )"
   ]
  },
  {
   "cell_type": "code",
   "execution_count": 55,
   "id": "35d5e858",
   "metadata": {},
   "outputs": [
    {
     "data": {
      "text/plain": [
       "(1, (1, 2), 35.77, [1, 2, 3], True, None)"
      ]
     },
     "execution_count": 55,
     "metadata": {},
     "output_type": "execute_result"
    }
   ],
   "source": [
    "a = 2\n",
    "k "
   ]
  },
  {
   "cell_type": "code",
   "execution_count": 56,
   "id": "09455733",
   "metadata": {},
   "outputs": [
    {
     "data": {
      "text/plain": [
       "{17, 35.77, None, True, 'a'}"
      ]
     },
     "execution_count": 56,
     "metadata": {},
     "output_type": "execute_result"
    }
   ],
   "source": [
    "s = {'a', 17, 35.77, True, None, 17,  35.77}\n",
    "s"
   ]
  },
  {
   "cell_type": "code",
   "execution_count": 57,
   "id": "690b6624",
   "metadata": {},
   "outputs": [],
   "source": [
    "s.add(3)"
   ]
  },
  {
   "cell_type": "code",
   "execution_count": 58,
   "id": "be0fa24b",
   "metadata": {},
   "outputs": [
    {
     "data": {
      "text/plain": [
       "{17, 3, 35.77, None, True, 'a'}"
      ]
     },
     "execution_count": 58,
     "metadata": {},
     "output_type": "execute_result"
    }
   ],
   "source": [
    "s"
   ]
  },
  {
   "cell_type": "code",
   "execution_count": 59,
   "id": "e9348767",
   "metadata": {},
   "outputs": [
    {
     "data": {
      "text/plain": [
       "{17, 3, 35.77, None, True, 'a'}"
      ]
     },
     "execution_count": 59,
     "metadata": {},
     "output_type": "execute_result"
    }
   ],
   "source": [
    "s.add('a')\n",
    "s"
   ]
  },
  {
   "cell_type": "code",
   "execution_count": 61,
   "id": "9c40dc5d",
   "metadata": {},
   "outputs": [
    {
     "data": {
      "text/plain": [
       "{17, 23, 3, 34, 35.77, 45, 56, None, True, 'a'}"
      ]
     },
     "execution_count": 61,
     "metadata": {},
     "output_type": "execute_result"
    }
   ],
   "source": [
    "s = {17, 3, 35.77, None, True, 'a'}\n",
    "s2 = {23,34,45,56}\n",
    "\n",
    "s.update(s2)\n",
    "s"
   ]
  },
  {
   "cell_type": "code",
   "execution_count": 62,
   "id": "075017e7",
   "metadata": {},
   "outputs": [
    {
     "data": {
      "text/plain": [
       "{17, 23, 3, 34, 35.77, 45, 56, None, True, 'a'}"
      ]
     },
     "execution_count": 62,
     "metadata": {},
     "output_type": "execute_result"
    }
   ],
   "source": [
    "s = {17, 3, 35.77, None, True, 'a'}\n",
    "s2 = {23,34,45,56}\n",
    "\n",
    "s = s | s2\n",
    "s"
   ]
  },
  {
   "cell_type": "code",
   "execution_count": 63,
   "id": "04c4f215",
   "metadata": {},
   "outputs": [
    {
     "data": {
      "text/plain": [
       "{23, 3, 34, 35.77, 45, 56, None, True, 'a'}"
      ]
     },
     "execution_count": 63,
     "metadata": {},
     "output_type": "execute_result"
    }
   ],
   "source": [
    "s.remove(17)\n",
    "s"
   ]
  },
  {
   "cell_type": "code",
   "execution_count": 64,
   "id": "bf47c8d0",
   "metadata": {},
   "outputs": [
    {
     "ename": "KeyError",
     "evalue": "17",
     "output_type": "error",
     "traceback": [
      "\u001b[0;31m---------------------------------------------------------------------------\u001b[0m",
      "\u001b[0;31mKeyError\u001b[0m                                  Traceback (most recent call last)",
      "Cell \u001b[0;32mIn[64], line 1\u001b[0m\n\u001b[0;32m----> 1\u001b[0m \u001b[43ms\u001b[49m\u001b[38;5;241;43m.\u001b[39;49m\u001b[43mremove\u001b[49m\u001b[43m(\u001b[49m\u001b[38;5;241;43m17\u001b[39;49m\u001b[43m)\u001b[49m\n\u001b[1;32m      2\u001b[0m s\n",
      "\u001b[0;31mKeyError\u001b[0m: 17"
     ]
    }
   ],
   "source": [
    "s.remove(17)\n",
    "s"
   ]
  },
  {
   "cell_type": "code",
   "execution_count": 68,
   "id": "db3cc105",
   "metadata": {},
   "outputs": [
    {
     "data": {
      "text/plain": [
       "{3, 34, 35.77, 45, 56, None, True, 'a'}"
      ]
     },
     "execution_count": 68,
     "metadata": {},
     "output_type": "execute_result"
    }
   ],
   "source": [
    "s.discard(23)\n",
    "s"
   ]
  },
  {
   "cell_type": "code",
   "execution_count": 71,
   "id": "f7172cea",
   "metadata": {},
   "outputs": [],
   "source": [
    "l=['a', 17, 35.77, [1, 2, 3], True, None, i, 17]"
   ]
  },
  {
   "cell_type": "code",
   "execution_count": 78,
   "id": "d08297f9",
   "metadata": {},
   "outputs": [
    {
     "data": {
      "text/plain": [
       "{'key': 'value',\n",
       " 1: 'one',\n",
       " 'key45': 456,\n",
       " 65: 63,\n",
       " 'param': {'key': 'value', 1: 'one', 'key45': 456, 65: 63}}"
      ]
     },
     "execution_count": 78,
     "metadata": {},
     "output_type": "execute_result"
    }
   ],
   "source": [
    "d = {\n",
    "        \"key\": \"value\", \n",
    "        1: \"one\",\n",
    "        'key45': 456,\n",
    "        65:63,\n",
    "        'param':  {\n",
    "                    \"key\": \"value\", \n",
    "                    1: \"one\",\n",
    "                    'key45': 456,\n",
    "                    65:63,\n",
    "                  }\n",
    "        \n",
    "    }\n",
    "d"
   ]
  },
  {
   "cell_type": "code",
   "execution_count": 80,
   "id": "87fe7a2e",
   "metadata": {},
   "outputs": [
    {
     "data": {
      "text/plain": [
       "{'name': 'Andriy',\n",
       " 'age': 30,\n",
       " 'address': {'street': 'Hlova Street, 10',\n",
       "  'city': 'Kyiv',\n",
       "  'country': 'Ukraine'},\n",
       " 'email': 'andriy@example.com',\n",
       " 'phone': '+380123456789',\n",
       " 'orders': [{'id': 1, 'item_id': 55},\n",
       "  {'id': 2, 'item_id': 57},\n",
       "  {'id': 3, 'item_id': 587}]}"
      ]
     },
     "execution_count": 80,
     "metadata": {},
     "output_type": "execute_result"
    }
   ],
   "source": [
    "client_info = {\n",
    "    \"name\": \"Andriy\",\n",
    "    \"age\": 30,\n",
    "    \"address\": {\n",
    "        \"street\": \"Hlova Street, 10\",\n",
    "        \"city\": \"Kyiv\",\n",
    "        \"country\": \"Ukraine\"\n",
    "    },\n",
    "    \"email\": \"andriy@example.com\",\n",
    "    \"phone\": \"+380123456789\",\n",
    "    \n",
    "     \"orders\": [{  \n",
    "                  'id':1,\n",
    "                  'item_id':55\n",
    "                },\n",
    "               {\n",
    "                   'id':2,\n",
    "                   'item_id':57\n",
    "               },\n",
    "               {\n",
    "                   'id':3,\n",
    "                   'item_id':587\n",
    "               },\n",
    "              ]\n",
    "}\n",
    "client_info\n",
    "#часто будете працювати якщо дані з API, але частіше будуть дата інженери так отримувати дані"
   ]
  },
  {
   "cell_type": "code",
   "execution_count": 84,
   "id": "47c61acc",
   "metadata": {},
   "outputs": [
    {
     "data": {
      "text/plain": [
       "'Kyiv'"
      ]
     },
     "execution_count": 84,
     "metadata": {},
     "output_type": "execute_result"
    }
   ],
   "source": [
    "client_info['address']['city']"
   ]
  },
  {
   "cell_type": "code",
   "execution_count": 85,
   "id": "9562d7f0",
   "metadata": {},
   "outputs": [
    {
     "data": {
      "text/plain": [
       "[{'id': 1, 'item_id': 55}, {'id': 2, 'item_id': 57}, {'id': 3, 'item_id': 587}]"
      ]
     },
     "execution_count": 85,
     "metadata": {},
     "output_type": "execute_result"
    }
   ],
   "source": [
    "client_info['orders']"
   ]
  },
  {
   "cell_type": "code",
   "execution_count": 86,
   "id": "5a66ff16",
   "metadata": {},
   "outputs": [
    {
     "data": {
      "text/plain": [
       "{'name': 'Andriy',\n",
       " 'age': 30,\n",
       " 'address': {'street': 'Hlova Street, 10',\n",
       "  'city': 'Kyiv',\n",
       "  'country': 'Ukraine'},\n",
       " 'email': 'andriy@example.com',\n",
       " 'orders': [{'id': 1, 'item_id': 55},\n",
       "  {'id': 2, 'item_id': 57},\n",
       "  {'id': 3, 'item_id': 587}]}"
      ]
     },
     "execution_count": 86,
     "metadata": {},
     "output_type": "execute_result"
    }
   ],
   "source": [
    "client_info.pop(\"phone\")\n",
    "client_info"
   ]
  },
  {
   "cell_type": "code",
   "execution_count": 87,
   "id": "24743fa5",
   "metadata": {},
   "outputs": [
    {
     "data": {
      "text/plain": [
       "{'name': 'Andriy',\n",
       " 'age': 30,\n",
       " 'address': {'street': 'Hlova Street, 10',\n",
       "  'city': 'Kyiv',\n",
       "  'country': 'Ukraine'},\n",
       " 'email': 'andriy@example.com',\n",
       " 'orders': [{'id': 1, 'item_id': 55},\n",
       "  {'id': 2, 'item_id': 57},\n",
       "  {'id': 3, 'item_id': 587}],\n",
       " 'gender': 'male'}"
      ]
     },
     "execution_count": 87,
     "metadata": {},
     "output_type": "execute_result"
    }
   ],
   "source": [
    "client_info.update(  {'gender': 'male'} )\n",
    "client_info"
   ]
  },
  {
   "cell_type": "code",
   "execution_count": 89,
   "id": "964c935a",
   "metadata": {},
   "outputs": [
    {
     "ename": "KeyError",
     "evalue": "'work_place'",
     "output_type": "error",
     "traceback": [
      "\u001b[0;31m---------------------------------------------------------------------------\u001b[0m",
      "\u001b[0;31mKeyError\u001b[0m                                  Traceback (most recent call last)",
      "Cell \u001b[0;32mIn[89], line 1\u001b[0m\n\u001b[0;32m----> 1\u001b[0m \u001b[43mclient_info\u001b[49m\u001b[43m[\u001b[49m\u001b[38;5;124;43m'\u001b[39;49m\u001b[38;5;124;43mwork_place\u001b[39;49m\u001b[38;5;124;43m'\u001b[39;49m\u001b[43m]\u001b[49m\n",
      "\u001b[0;31mKeyError\u001b[0m: 'work_place'"
     ]
    }
   ],
   "source": [
    "client_info['work_place']"
   ]
  },
  {
   "cell_type": "code",
   "execution_count": 93,
   "id": "794a79b9",
   "metadata": {},
   "outputs": [
    {
     "data": {
      "text/plain": [
       "{'street': 'Hlova Street, 10', 'city': 'Kyiv', 'country': 'Ukraine'}"
      ]
     },
     "execution_count": 93,
     "metadata": {},
     "output_type": "execute_result"
    }
   ],
   "source": [
    "client_info['address']"
   ]
  },
  {
   "cell_type": "code",
   "execution_count": 92,
   "id": "f818d636",
   "metadata": {},
   "outputs": [],
   "source": [
    "client_info.get('work_place')"
   ]
  },
  {
   "cell_type": "code",
   "execution_count": 91,
   "id": "f4f80dbc",
   "metadata": {},
   "outputs": [
    {
     "data": {
      "text/plain": [
       "{'street': 'Hlova Street, 10', 'city': 'Kyiv', 'country': 'Ukraine'}"
      ]
     },
     "execution_count": 91,
     "metadata": {},
     "output_type": "execute_result"
    }
   ],
   "source": [
    "client_info.get('address')"
   ]
  },
  {
   "cell_type": "code",
   "execution_count": 96,
   "id": "d50ab7fe",
   "metadata": {},
   "outputs": [
    {
     "data": {
      "text/plain": [
       "'empty'"
      ]
     },
     "execution_count": 96,
     "metadata": {},
     "output_type": "execute_result"
    }
   ],
   "source": [
    "default = 'empty'\n",
    "client_info.get('work_place' , default)"
   ]
  },
  {
   "cell_type": "code",
   "execution_count": 97,
   "id": "fe6a510d",
   "metadata": {},
   "outputs": [],
   "source": [
    "client_info['gender'] = 'm'"
   ]
  },
  {
   "cell_type": "code",
   "execution_count": 98,
   "id": "87132f0a",
   "metadata": {},
   "outputs": [
    {
     "data": {
      "text/plain": [
       "{'name': 'Andriy',\n",
       " 'age': 30,\n",
       " 'address': {'street': 'Hlova Street, 10',\n",
       "  'city': 'Kyiv',\n",
       "  'country': 'Ukraine'},\n",
       " 'email': 'andriy@example.com',\n",
       " 'orders': [{'id': 1, 'item_id': 55},\n",
       "  {'id': 2, 'item_id': 57},\n",
       "  {'id': 3, 'item_id': 587}],\n",
       " 'gender': 'm'}"
      ]
     },
     "execution_count": 98,
     "metadata": {},
     "output_type": "execute_result"
    }
   ],
   "source": [
    "client_info"
   ]
  },
  {
   "cell_type": "code",
   "execution_count": 99,
   "id": "85803707",
   "metadata": {},
   "outputs": [],
   "source": [
    "d2 = { 'fav_product' : 'banana',\n",
    "       'count_fav_product' : 3000\n",
    "        }"
   ]
  },
  {
   "cell_type": "code",
   "execution_count": 100,
   "id": "705e9f07",
   "metadata": {},
   "outputs": [
    {
     "data": {
      "text/plain": [
       "{'fav_product': 'banana', 'count_fav_product': 3000}"
      ]
     },
     "execution_count": 100,
     "metadata": {},
     "output_type": "execute_result"
    }
   ],
   "source": [
    "client_info.update(d2)\n"
   ]
  },
  {
   "cell_type": "code",
   "execution_count": 101,
   "id": "c7d9db22",
   "metadata": {},
   "outputs": [
    {
     "data": {
      "text/plain": [
       "{'name': 'Andriy',\n",
       " 'age': 30,\n",
       " 'address': {'street': 'Hlova Street, 10',\n",
       "  'city': 'Kyiv',\n",
       "  'country': 'Ukraine'},\n",
       " 'email': 'andriy@example.com',\n",
       " 'orders': [{'id': 1, 'item_id': 55},\n",
       "  {'id': 2, 'item_id': 57},\n",
       "  {'id': 3, 'item_id': 587}],\n",
       " 'gender': 'm',\n",
       " 'fav_product': 'banana',\n",
       " 'count_fav_product': 3000}"
      ]
     },
     "execution_count": 101,
     "metadata": {},
     "output_type": "execute_result"
    }
   ],
   "source": [
    "client_info"
   ]
  },
  {
   "cell_type": "code",
   "execution_count": 102,
   "id": "413203d6",
   "metadata": {},
   "outputs": [
    {
     "name": "stdout",
     "output_type": "stream",
     "text": [
      "{'new_key': 'value'}\n"
     ]
    }
   ],
   "source": [
    "my_dict = {\"old_key\": \"value\"}\n",
    "\n",
    "# Крок 1: Зберігаємо значення, пов'язане зі старим ключем\n",
    "old_value = my_dict[\"old_key\"]\n",
    "\n",
    "# Крок 2: Видаляємо старий ключ\n",
    "del my_dict[\"old_key\"]\n",
    "\n",
    "# Крок 3: Додаємо новий ключ зі збереженим значенням\n",
    "my_dict[\"new_key\"] = old_value\n",
    "\n",
    "print(my_dict)  # Виведе {'new_key': 'value'}"
   ]
  },
  {
   "cell_type": "code",
   "execution_count": 103,
   "id": "8271bdbe",
   "metadata": {},
   "outputs": [],
   "source": [
    "clients = [\n",
    "    { 'name': 'Marie' , \"age\": 25, 'email': 'marie@gmail.com'  },\n",
    "    { 'name': 'Marie1' , \"age\": 25, 'email': 'marie@gmail.com'  },\n",
    "    { 'name': 'Marie2' , \"age\": 25, 'email': 'marie@gmail.com'  },\n",
    "    { 'name': 'Marie3' , \"age\": 25, 'email': 'marie@gmail.com'  },\n",
    "    { 'name': 'Marie4' , \"age\": 25, 'email': 'marie@gmail.com'  },\n",
    "    { 'name': 'Marie5' , \"age\": 25, 'email': 'marie@gmail.com'  }, \n",
    "]"
   ]
  },
  {
   "cell_type": "code",
   "execution_count": 104,
   "id": "fd98561c",
   "metadata": {},
   "outputs": [],
   "source": [
    "clients = {\n",
    "    \"client1\": { 'name': 'Marie' , \"age\": 25, 'email': 'marie@gmail.com'  },\n",
    "    \"client2\": { 'name': 'Marie' , \"age\": 25, 'email': 'marie@gmail.com'  },\n",
    "\n",
    "}"
   ]
  },
  {
   "cell_type": "markdown",
   "id": "8bfc77f1",
   "metadata": {},
   "source": [
    "# Цикли"
   ]
  },
  {
   "cell_type": "code",
   "execution_count": 105,
   "id": "dbb07810",
   "metadata": {},
   "outputs": [
    {
     "name": "stdout",
     "output_type": "stream",
     "text": [
      "a\n",
      "17\n",
      "35.77\n",
      "[1, 2, 3]\n",
      "True\n",
      "None\n"
     ]
    }
   ],
   "source": [
    "l = ['a', 17, 35.77, [1, 2, 3], True, None]\n",
    "\n",
    "for element in l:\n",
    "    print(element)\n"
   ]
  },
  {
   "cell_type": "code",
   "execution_count": 120,
   "id": "d4c6e603",
   "metadata": {},
   "outputs": [
    {
     "name": "stdout",
     "output_type": "stream",
     "text": [
      "current_elem =  1  current_sum =  1  current_mult =  1\n",
      "current_elem =  4  current_sum =  5  current_mult =  4\n",
      "current_elem =  5  current_sum =  10  current_mult =  20\n",
      "current_elem =  3  current_sum =  13  current_mult =  60\n",
      "Result =  13\n"
     ]
    }
   ],
   "source": [
    "l = [ 1 , 4, 5, 3]\n",
    "elem_sum = 0\n",
    "elem_mult = 1\n",
    "\n",
    "for element in l:\n",
    "    elem_sum += element\n",
    "    elem_mult *= element\n",
    "    print(\"current_elem = \", element, \" current_sum = \", elem_sum, \" current_mult = \", elem_mult)\n",
    "    \n",
    "print(\"Result = \", elem_sum)"
   ]
  },
  {
   "cell_type": "code",
   "execution_count": 121,
   "id": "26b934dd",
   "metadata": {},
   "outputs": [
    {
     "data": {
      "text/plain": [
       "3"
      ]
     },
     "execution_count": 121,
     "metadata": {},
     "output_type": "execute_result"
    }
   ],
   "source": [
    "element"
   ]
  },
  {
   "cell_type": "code",
   "execution_count": 110,
   "id": "55c34b40",
   "metadata": {},
   "outputs": [
    {
     "name": "stdout",
     "output_type": "stream",
     "text": [
      "Hello world!\n",
      "Hello world!\n",
      "Hello world!\n",
      "Hello world!\n"
     ]
    }
   ],
   "source": [
    "print('Hello world!')\n",
    "print(\"Hello world!\")\n",
    "print('''Hello world!''')\n",
    "print(\"\"\"Hello world!\"\"\")"
   ]
  },
  {
   "cell_type": "code",
   "execution_count": 113,
   "id": "166b8abb",
   "metadata": {},
   "outputs": [
    {
     "name": "stdout",
     "output_type": "stream",
     "text": [
      "6\n",
      "7\n",
      "8\n",
      "9\n"
     ]
    }
   ],
   "source": [
    "l = [ 1 , 2, 3, 4]\n",
    "\n",
    "for t in l:\n",
    "    print(t+5)\n",
    "    "
   ]
  },
  {
   "cell_type": "code",
   "execution_count": 114,
   "id": "ec5698e2",
   "metadata": {},
   "outputs": [
    {
     "data": {
      "text/plain": [
       "{'name': 'Andriy',\n",
       " 'age': 30,\n",
       " 'address': {'street': 'Hlova Street, 10',\n",
       "  'city': 'Kyiv',\n",
       "  'country': 'Ukraine'},\n",
       " 'email': 'andriy@example.com',\n",
       " 'orders': [{'id': 1, 'item_id': 55},\n",
       "  {'id': 2, 'item_id': 57},\n",
       "  {'id': 3, 'item_id': 587}],\n",
       " 'gender': 'm',\n",
       " 'fav_product': 'banana',\n",
       " 'count_fav_product': 3000}"
      ]
     },
     "execution_count": 114,
     "metadata": {},
     "output_type": "execute_result"
    }
   ],
   "source": [
    "client_info"
   ]
  },
  {
   "cell_type": "code",
   "execution_count": 118,
   "id": "83bf10ed",
   "metadata": {},
   "outputs": [
    {
     "name": "stdout",
     "output_type": "stream",
     "text": [
      "name Andriy\n",
      "age 30\n",
      "address {'street': 'Hlova Street, 10', 'city': 'Kyiv', 'country': 'Ukraine'}\n",
      "email andriy@example.com\n",
      "orders [{'id': 1, 'item_id': 55}, {'id': 2, 'item_id': 57}, {'id': 3, 'item_id': 587}]\n",
      "gender m\n",
      "fav_product banana\n",
      "count_fav_product 3000\n"
     ]
    }
   ],
   "source": [
    "for element in client_info:\n",
    "    print(element, client_info[element])"
   ]
  },
  {
   "cell_type": "code",
   "execution_count": 123,
   "id": "211191de",
   "metadata": {},
   "outputs": [
    {
     "name": "stdout",
     "output_type": "stream",
     "text": [
      "Andriy\n",
      "30\n",
      "{'street': 'Hlova Street, 10', 'city': 'Kyiv', 'country': 'Ukraine'}\n",
      "andriy@example.com\n",
      "[{'id': 1, 'item_id': 55}, {'id': 2, 'item_id': 57}, {'id': 3, 'item_id': 587}]\n",
      "m\n",
      "banana\n",
      "3000\n"
     ]
    }
   ],
   "source": [
    "for val in client_info.values():\n",
    "    print(val)"
   ]
  },
  {
   "cell_type": "code",
   "execution_count": 124,
   "id": "6f7fc48c",
   "metadata": {},
   "outputs": [
    {
     "data": {
      "text/plain": [
       "dict_items([('name', 'Andriy'), ('age', 30), ('address', {'street': 'Hlova Street, 10', 'city': 'Kyiv', 'country': 'Ukraine'}), ('email', 'andriy@example.com'), ('orders', [{'id': 1, 'item_id': 55}, {'id': 2, 'item_id': 57}, {'id': 3, 'item_id': 587}]), ('gender', 'm'), ('fav_product', 'banana'), ('count_fav_product', 3000)])"
      ]
     },
     "execution_count": 124,
     "metadata": {},
     "output_type": "execute_result"
    }
   ],
   "source": [
    "client_info.items()"
   ]
  },
  {
   "cell_type": "code",
   "execution_count": 125,
   "id": "43afe098",
   "metadata": {},
   "outputs": [
    {
     "name": "stdout",
     "output_type": "stream",
     "text": [
      "name Andriy\n",
      "age 30\n",
      "address {'street': 'Hlova Street, 10', 'city': 'Kyiv', 'country': 'Ukraine'}\n",
      "email andriy@example.com\n",
      "orders [{'id': 1, 'item_id': 55}, {'id': 2, 'item_id': 57}, {'id': 3, 'item_id': 587}]\n",
      "gender m\n",
      "fav_product banana\n",
      "count_fav_product 3000\n"
     ]
    }
   ],
   "source": [
    "for key, value in client_info.items():\n",
    "    print(key, value)"
   ]
  },
  {
   "cell_type": "code",
   "execution_count": 128,
   "id": "911312c2",
   "metadata": {},
   "outputs": [
    {
     "name": "stdout",
     "output_type": "stream",
     "text": [
      "30\n",
      "29\n",
      "28\n",
      "27\n",
      "26\n"
     ]
    }
   ],
   "source": [
    "i = 30 \n",
    "while i > 25:\n",
    "    print(i)\n",
    "    i -= 1"
   ]
  },
  {
   "cell_type": "code",
   "execution_count": 133,
   "id": "612438c8",
   "metadata": {},
   "outputs": [
    {
     "name": "stdout",
     "output_type": "stream",
     "text": [
      "He's tall\n"
     ]
    }
   ],
   "source": [
    "print('He\\'s tall')"
   ]
  },
  {
   "cell_type": "code",
   "execution_count": 134,
   "id": "491e8d03",
   "metadata": {},
   "outputs": [],
   "source": [
    "s = 'He is tall!'"
   ]
  },
  {
   "cell_type": "code",
   "execution_count": 135,
   "id": "bfe1c161",
   "metadata": {},
   "outputs": [
    {
     "data": {
      "text/plain": [
       "'e'"
      ]
     },
     "execution_count": 135,
     "metadata": {},
     "output_type": "execute_result"
    }
   ],
   "source": [
    "s[1]"
   ]
  },
  {
   "cell_type": "code",
   "execution_count": 136,
   "id": "69c740a9",
   "metadata": {},
   "outputs": [],
   "source": [
    "text = \"tall, young\""
   ]
  },
  {
   "cell_type": "code",
   "execution_count": 137,
   "id": "11c6ca58",
   "metadata": {},
   "outputs": [],
   "source": [
    "traits_list = text.split(', ')"
   ]
  },
  {
   "cell_type": "code",
   "execution_count": 141,
   "id": "18a39a65",
   "metadata": {},
   "outputs": [
    {
     "data": {
      "text/plain": [
       "['tall', 'young']"
      ]
     },
     "execution_count": 141,
     "metadata": {},
     "output_type": "execute_result"
    }
   ],
   "source": [
    "traits_list"
   ]
  },
  {
   "cell_type": "code",
   "execution_count": 142,
   "id": "f240e844",
   "metadata": {},
   "outputs": [
    {
     "data": {
      "text/plain": [
       "'tall, young'"
      ]
     },
     "execution_count": 142,
     "metadata": {},
     "output_type": "execute_result"
    }
   ],
   "source": [
    "', '.join(traits_list)"
   ]
  },
  {
   "cell_type": "code",
   "execution_count": null,
   "id": "f5e3bedc",
   "metadata": {},
   "outputs": [],
   "source": []
  },
  {
   "cell_type": "code",
   "execution_count": 144,
   "id": "46603f74",
   "metadata": {},
   "outputs": [
    {
     "name": "stdout",
     "output_type": "stream",
     "text": [
      "Hello, John! You are 30 years old.\n"
     ]
    }
   ],
   "source": [
    "name = 'John'\n",
    "age = 30\n",
    "\n",
    "print(f'Hello, {name}! You are {age} years old.')"
   ]
  },
  {
   "cell_type": "code",
   "execution_count": 148,
   "id": "40eba7fe",
   "metadata": {},
   "outputs": [
    {
     "name": "stdout",
     "output_type": "stream",
     "text": [
      "Hello, John. You are 30 years old.\n"
     ]
    }
   ],
   "source": [
    "template = 'Hello, {}. You are {} years old.'\n",
    "print(template.format(name, age))"
   ]
  },
  {
   "cell_type": "code",
   "execution_count": 149,
   "id": "4d8018cc",
   "metadata": {},
   "outputs": [
    {
     "name": "stdout",
     "output_type": "stream",
     "text": [
      "Hello, John. You are 30 years old.\n"
     ]
    }
   ],
   "source": [
    "print('Hello, {str_name}. You are {str_age} years old.'.format(str_name=name, str_age=age))"
   ]
  },
  {
   "cell_type": "code",
   "execution_count": null,
   "id": "a1b2bc68",
   "metadata": {},
   "outputs": [],
   "source": []
  },
  {
   "cell_type": "code",
   "execution_count": null,
   "id": "27f13d40",
   "metadata": {},
   "outputs": [],
   "source": [
    "print(f'Hello, {name}! You are {age} years old.')\n",
    "\n",
    "print('Hello, {}. You are {} years old.'.format(name, age))\n",
    "print('Hello, {str_name}. You are {str_age} years old.'.format(str_name=name, str_age=age))"
   ]
  },
  {
   "cell_type": "markdown",
   "id": "95d1a0af",
   "metadata": {},
   "source": [
    "# Функції "
   ]
  },
  {
   "cell_type": "code",
   "execution_count": 150,
   "id": "d9e38e55",
   "metadata": {},
   "outputs": [],
   "source": [
    "def foo():\n",
    "    print('I am foo!')"
   ]
  },
  {
   "cell_type": "code",
   "execution_count": 151,
   "id": "e0d5ee4d",
   "metadata": {},
   "outputs": [
    {
     "name": "stdout",
     "output_type": "stream",
     "text": [
      "I am foo!\n"
     ]
    }
   ],
   "source": [
    "foo()"
   ]
  },
  {
   "cell_type": "code",
   "execution_count": 152,
   "id": "633304ff",
   "metadata": {},
   "outputs": [
    {
     "name": "stdout",
     "output_type": "stream",
     "text": [
      "I am foo!\n"
     ]
    }
   ],
   "source": [
    "foo()"
   ]
  },
  {
   "cell_type": "code",
   "execution_count": 153,
   "id": "ed122d28",
   "metadata": {},
   "outputs": [
    {
     "name": "stdout",
     "output_type": "stream",
     "text": [
      "I am foo!\n",
      "I am foo!\n",
      "I am foo!\n",
      "I am foo!\n",
      "I am foo!\n"
     ]
    }
   ],
   "source": [
    "i = 30 \n",
    "while i > 25:\n",
    "    foo()\n",
    "    i -= 1"
   ]
  },
  {
   "cell_type": "code",
   "execution_count": 159,
   "id": "6d468f52",
   "metadata": {},
   "outputs": [
    {
     "name": "stdout",
     "output_type": "stream",
     "text": [
      "I am foo! My age is 12\n"
     ]
    }
   ],
   "source": [
    "def foo(age):\n",
    "    print(f'I am foo! My age is {age}')\n",
    "    \n",
    "    \n",
    "y =     foo(12)"
   ]
  },
  {
   "cell_type": "code",
   "execution_count": 160,
   "id": "84342b64",
   "metadata": {},
   "outputs": [],
   "source": []
  },
  {
   "cell_type": "code",
   "execution_count": 156,
   "id": "7b05ca0c",
   "metadata": {},
   "outputs": [
    {
     "name": "stdout",
     "output_type": "stream",
     "text": [
      "I am foo! My age is 12\n"
     ]
    }
   ],
   "source": [
    "foo(12)"
   ]
  },
  {
   "cell_type": "code",
   "execution_count": null,
   "id": "4f8a4929",
   "metadata": {},
   "outputs": [],
   "source": [
    "# y = f(x)"
   ]
  },
  {
   "cell_type": "code",
   "execution_count": 157,
   "id": "6a2be396",
   "metadata": {},
   "outputs": [],
   "source": [
    "def age_5_years_ago(age):\n",
    "    print(f'I am foo! My age is {age}')\n",
    "    return age - 5"
   ]
  },
  {
   "cell_type": "code",
   "execution_count": 158,
   "id": "4b5ebf61",
   "metadata": {},
   "outputs": [
    {
     "name": "stdout",
     "output_type": "stream",
     "text": [
      "I am foo! My age is 12\n"
     ]
    },
    {
     "data": {
      "text/plain": [
       "7"
      ]
     },
     "execution_count": 158,
     "metadata": {},
     "output_type": "execute_result"
    }
   ],
   "source": [
    "t = age_5_years_ago(12)\n",
    "t"
   ]
  },
  {
   "cell_type": "code",
   "execution_count": null,
   "id": "ba3654b0",
   "metadata": {},
   "outputs": [],
   "source": []
  },
  {
   "cell_type": "code",
   "execution_count": 164,
   "id": "f1922b1a",
   "metadata": {},
   "outputs": [],
   "source": [
    "sales_count = [100 , 120 , 90 , 110 , 95]"
   ]
  },
  {
   "cell_type": "code",
   "execution_count": 165,
   "id": "14bcc997",
   "metadata": {},
   "outputs": [
    {
     "data": {
      "text/plain": [
       "5"
      ]
     },
     "execution_count": 165,
     "metadata": {},
     "output_type": "execute_result"
    }
   ],
   "source": [
    "len(sales_count)"
   ]
  },
  {
   "cell_type": "code",
   "execution_count": 166,
   "id": "70130334",
   "metadata": {},
   "outputs": [],
   "source": [
    "def average_sales(data):\n",
    "    total_sum = 0\n",
    "    for element in data:\n",
    "        total_sum += element\n",
    "    return   total_sum /   len(data)"
   ]
  },
  {
   "cell_type": "code",
   "execution_count": 168,
   "id": "a4f45587",
   "metadata": {},
   "outputs": [
    {
     "name": "stdout",
     "output_type": "stream",
     "text": [
      "Середня кількість продажів: 103.0\n"
     ]
    }
   ],
   "source": [
    "avg_sales  = average_sales(sales_count)\n",
    "print(f'Середня кількість продажів: {avg_sales}')"
   ]
  },
  {
   "cell_type": "code",
   "execution_count": 172,
   "id": "1dd345ba",
   "metadata": {},
   "outputs": [
    {
     "name": "stdout",
     "output_type": "stream",
     "text": [
      "Середня кількість продажів: 103.0\n"
     ]
    }
   ],
   "source": [
    "print(f'Середня кількість продажів: {average_sales(sales_count)}')"
   ]
  },
  {
   "cell_type": "code",
   "execution_count": 169,
   "id": "0dc844c3",
   "metadata": {},
   "outputs": [],
   "source": [
    "team = [\n",
    "    {\"name\": \"John\", \"age\": 20, \"number\": 1},\n",
    "    {\"name\": \"Mark\", \"age\": 33, \"number\": 3},\n",
    "    {\"name\": \"Cavin\", \"age\": 17, \"number\": 12},\n",
    "]"
   ]
  },
  {
   "cell_type": "code",
   "execution_count": 170,
   "id": "08dca06f",
   "metadata": {},
   "outputs": [
    {
     "data": {
      "text/plain": [
       "[{'name': 'John', 'age': 20, 'number': 1},\n",
       " {'name': 'Mark', 'age': 33, 'number': 3},\n",
       " {'name': 'Cavin', 'age': 17, 'number': 12}]"
      ]
     },
     "execution_count": 170,
     "metadata": {},
     "output_type": "execute_result"
    }
   ],
   "source": [
    "team"
   ]
  },
  {
   "cell_type": "code",
   "execution_count": 171,
   "id": "b00b53ca",
   "metadata": {},
   "outputs": [
    {
     "name": "stdout",
     "output_type": "stream",
     "text": [
      "Дані про гравців команди\n",
      " номер = 1, ім'я = John, вік гравця = 20\n",
      " номер = 3, ім'я = Mark, вік гравця = 33\n",
      " номер = 12, ім'я = Cavin, вік гравця = 17\n"
     ]
    }
   ],
   "source": [
    "\n",
    "def show_players(players):\n",
    "    print(\"Дані про гравців команди\")\n",
    "\n",
    "    for player in players:\n",
    "        # Форматування і виведення інформації про гравця\n",
    "        print(f\" номер = {player['number']}, ім'я = {player['name']}, вік гравця = {player['age']}\")\n",
    "\n",
    "# Викликаємо функцію з нашим списком гравців\n",
    "show_players(team)"
   ]
  },
  {
   "cell_type": "code",
   "execution_count": 176,
   "id": "0d03bf09",
   "metadata": {},
   "outputs": [],
   "source": [
    "def average_sales_v2(data):\n",
    "    total_sum = 0\n",
    "\n",
    "    for element in data:\n",
    "        total_sum += element\n",
    "        \n",
    "    count_10prc_plus =  total_sum * 1.1   \n",
    "    \n",
    "    return   total_sum /   len(data) , count_10prc_plus, 1,2 ,12 ,12312, 43, 'sddhnsdkl'"
   ]
  },
  {
   "cell_type": "code",
   "execution_count": 177,
   "id": "423a4630",
   "metadata": {},
   "outputs": [
    {
     "data": {
      "text/plain": [
       "(103.0, 566.5, 1, 2, 12, 12312, 43, 'sddhnsdkl')"
      ]
     },
     "execution_count": 177,
     "metadata": {},
     "output_type": "execute_result"
    }
   ],
   "source": [
    "average_sales_v2(sales_count)"
   ]
  },
  {
   "cell_type": "code",
   "execution_count": null,
   "id": "6b863f46",
   "metadata": {},
   "outputs": [],
   "source": []
  },
  {
   "cell_type": "code",
   "execution_count": 184,
   "id": "e90c123f",
   "metadata": {},
   "outputs": [],
   "source": [
    "def calculate_statistics(data, mean = True, median = False, std_dev = False):\n",
    "    result = {}\n",
    "    if mean:\n",
    "        result['mean'] = sum(data) / len(data)\n",
    "    if median:\n",
    "        sorted_data = sorted(data)\n",
    "        mid = len(data) // 2\n",
    "        result['median'] = (sorted_data[mid] if len(data) % 2 != 0 else (sorted_data[mid - 1] + sorted_data[mid]) / 2)\n",
    "    if std_dev:\n",
    "        mean_value = sum(data) / len(data)\n",
    "        result['std_dev'] = (sum((x - mean_value) ** 2 for x in data) / len(data)) ** 0.5\n",
    "    return result"
   ]
  },
  {
   "cell_type": "code",
   "execution_count": 185,
   "id": "b52f88b3",
   "metadata": {},
   "outputs": [],
   "source": [
    "# Використання функції\n",
    "data = [1, 2, 3, 4, 5, 6, 7, 8, 9, 10]"
   ]
  },
  {
   "cell_type": "code",
   "execution_count": 186,
   "id": "e2a3242f",
   "metadata": {},
   "outputs": [
    {
     "name": "stdout",
     "output_type": "stream",
     "text": [
      "{'mean': 5.5}\n"
     ]
    }
   ],
   "source": [
    "stats = calculate_statistics(data)\n",
    "print(stats)"
   ]
  },
  {
   "cell_type": "code",
   "execution_count": 187,
   "id": "889f904f",
   "metadata": {},
   "outputs": [
    {
     "name": "stdout",
     "output_type": "stream",
     "text": [
      "{'mean': 5.5, 'std_dev': 2.8722813232690143}\n"
     ]
    }
   ],
   "source": [
    "# Обчислення лише середнього та стандартного відхилення\n",
    "stats = calculate_statistics(data, median=False, std_dev=True)\n",
    "print(stats)"
   ]
  },
  {
   "cell_type": "code",
   "execution_count": 189,
   "id": "cf38b5e8",
   "metadata": {},
   "outputs": [
    {
     "name": "stdout",
     "output_type": "stream",
     "text": [
      "{'mean': 5.5, 'median': 5.5}\n"
     ]
    }
   ],
   "source": [
    "stats = calculate_statistics(data, median=True)\n",
    "print(stats)"
   ]
  },
  {
   "cell_type": "code",
   "execution_count": null,
   "id": "1ac75567",
   "metadata": {},
   "outputs": [],
   "source": [
    "#Значеннями за замовчуванням можуть бути забезпечені тільки параметри, що знаходяться у кінці списку параметрів. \n",
    "#Таким чином, у списку параметрів функції параметр зі значенням за замовчуванням не може передувати \n",
    "#параметру без значення за замовчуванням. \n",
    "#Це пов'язано з тим, що значення надаються параметрам відповідно до їх положення!!! "
   ]
  },
  {
   "cell_type": "code",
   "execution_count": null,
   "id": "d3bce3be",
   "metadata": {},
   "outputs": [],
   "source": []
  },
  {
   "cell_type": "code",
   "execution_count": 191,
   "id": "41fb1812",
   "metadata": {},
   "outputs": [
    {
     "name": "stdout",
     "output_type": "stream",
     "text": [
      "Фіксований аргумент: 1\n",
      "Позиційні аргументи (кортеж): (2, 3, 4)\n",
      "Ключові аргументи (словник): {'param1': 'a', 'param2': 'b', 'param3': 'с'}\n"
     ]
    }
   ],
   "source": [
    "def example_func(fixed_arg, *my_exmpl1, **kwargs):\n",
    "    print(\"Фіксований аргумент:\", fixed_arg)\n",
    "    print(\"Позиційні аргументи (кортеж):\", args)\n",
    "    print(\"Ключові аргументи (словник):\", kwargs)\n",
    "\n",
    "example_func(1,      2, 3, 4,      param1='a', param2='b', param3='с')"
   ]
  },
  {
   "cell_type": "code",
   "execution_count": null,
   "id": "366533ca",
   "metadata": {},
   "outputs": [],
   "source": []
  },
  {
   "cell_type": "code",
   "execution_count": null,
   "id": "420976b4",
   "metadata": {},
   "outputs": [],
   "source": []
  },
  {
   "cell_type": "code",
   "execution_count": 194,
   "id": "189234ff",
   "metadata": {},
   "outputs": [
    {
     "data": {
      "text/plain": [
       "10"
      ]
     },
     "execution_count": 194,
     "metadata": {},
     "output_type": "execute_result"
    }
   ],
   "source": [
    "def double_1(x):\n",
    "\t\treturn x * 2\n",
    "double_1(5)    "
   ]
  },
  {
   "cell_type": "code",
   "execution_count": 195,
   "id": "078a9049",
   "metadata": {},
   "outputs": [
    {
     "name": "stdout",
     "output_type": "stream",
     "text": [
      "10\n"
     ]
    }
   ],
   "source": [
    "double = lambda x: x*2\n",
    "print(double(5))"
   ]
  },
  {
   "cell_type": "code",
   "execution_count": 196,
   "id": "c695ff71",
   "metadata": {},
   "outputs": [],
   "source": [
    "def defined_cube(y):\n",
    "    return y*y*y"
   ]
  },
  {
   "cell_type": "code",
   "execution_count": 197,
   "id": "3923e511",
   "metadata": {},
   "outputs": [
    {
     "name": "stdout",
     "output_type": "stream",
     "text": [
      "8\n",
      "8\n"
     ]
    }
   ],
   "source": [
    "lambda_cube = lambda y: y*y*y\n",
    "\n",
    "print(defined_cube(2))\n",
    "print(lambda_cube(2))"
   ]
  },
  {
   "cell_type": "code",
   "execution_count": 199,
   "id": "c19c5bf6",
   "metadata": {},
   "outputs": [
    {
     "name": "stdout",
     "output_type": "stream",
     "text": [
      "[4, 6, 10, 12, 14]\n"
     ]
    }
   ],
   "source": [
    "my_list = [1, 3, 4, 6, 10, 11, 15, 12, 14]\n",
    "\n",
    "new_list = list(filter(lambda x: (x%2 == 0) , my_list))\n",
    "\n",
    "print(new_list)"
   ]
  },
  {
   "cell_type": "code",
   "execution_count": null,
   "id": "1a459ac4",
   "metadata": {},
   "outputs": [],
   "source": []
  },
  {
   "cell_type": "code",
   "execution_count": 203,
   "id": "5b40c903",
   "metadata": {},
   "outputs": [],
   "source": [
    "#def func(a, b=11, c) #Такий варіант теж заборонений? \n",
    "\n",
    "#Тобто лише так:\n",
    "def foo(a, c, b=11):\n",
    "    print('I am foo')"
   ]
  },
  {
   "cell_type": "code",
   "execution_count": 202,
   "id": "64cb0413",
   "metadata": {},
   "outputs": [
    {
     "ename": "SyntaxError",
     "evalue": "non-default argument follows default argument (4282826300.py, line 1)",
     "output_type": "error",
     "traceback": [
      "\u001b[0;36m  Cell \u001b[0;32mIn[202], line 1\u001b[0;36m\u001b[0m\n\u001b[0;31m    def foo(a, b=11, c):\u001b[0m\n\u001b[0m                     ^\u001b[0m\n\u001b[0;31mSyntaxError\u001b[0m\u001b[0;31m:\u001b[0m non-default argument follows default argument\n"
     ]
    }
   ],
   "source": [
    "def foo(a, b=11, c):\n",
    "    print('I am foo')"
   ]
  },
  {
   "cell_type": "code",
   "execution_count": null,
   "id": "194da74f",
   "metadata": {},
   "outputs": [],
   "source": []
  },
  {
   "cell_type": "code",
   "execution_count": null,
   "id": "c6cd5477",
   "metadata": {},
   "outputs": [],
   "source": []
  }
 ],
 "metadata": {
  "kernelspec": {
   "display_name": "Python 3 (ipykernel)",
   "language": "python",
   "name": "python3"
  },
  "language_info": {
   "codemirror_mode": {
    "name": "ipython",
    "version": 3
   },
   "file_extension": ".py",
   "mimetype": "text/x-python",
   "name": "python",
   "nbconvert_exporter": "python",
   "pygments_lexer": "ipython3",
   "version": "3.10.9"
  }
 },
 "nbformat": 4,
 "nbformat_minor": 5
}
