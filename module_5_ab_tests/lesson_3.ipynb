{
 "cells": [
  {
   "cell_type": "markdown",
   "metadata": {},
   "source": [
    "# SciPy"
   ]
  },
  {
   "cell_type": "markdown",
   "metadata": {},
   "source": [
    "SciPy (Scientific Python) - це бібліотека для Python, яка надає набір інструментів для виконання наукових та інженерних обчислень. SciPy побудована на основі бібліотеки NumPy та складається з кількох модулів, з яких нам потрібний буде модуль для статистичних обчислень — scipy.stats."
   ]
  },
  {
   "cell_type": "markdown",
   "metadata": {},
   "source": [
    "### Вхідні дані\n",
    "#### Контрольна група\n",
    "- Кількість користувачів в групі: 7 015\n",
    "- Кількість конверсій в групі: 139\n",
    "- Значення конверсії: 1.98%\n",
    "#### Альтернативна група\n",
    "- Кількість користувачів в групі: 6 987\n",
    "- Кількість конверсій в групі: 314\n",
    "- Значення конверсії: 4.49%"
   ]
  },
  {
   "cell_type": "code",
   "execution_count": null,
   "metadata": {},
   "outputs": [],
   "source": [
    "import pandas as pd\n",
    "\n",
    "test_data = pd.DataFrame(data  = {\n",
    "    'test_group': ['a']*7015 + ['b']*6987,\n",
    "    'conversion': [1] * 139 + [0] * (7015-139) + [1] * 314 + [0] * (6987 - 314)\n",
    "})\n",
    "\n",
    "test_data.head()"
   ]
  },
  {
   "cell_type": "code",
   "execution_count": null,
   "metadata": {},
   "outputs": [],
   "source": [
    "# Перевіримо, чи все коректно згенерували:\n",
    "test_data.groupby(\"test_group\").describe()"
   ]
  },
  {
   "cell_type": "markdown",
   "metadata": {},
   "source": [
    "## Тестування гіпотез за допомогою SciPy\n",
    "### Критерій Стʼюдента"
   ]
  },
  {
   "cell_type": "markdown",
   "metadata": {},
   "source": [
    "Нульова гіпотеза: середні двох незалежних вибірок не відрізняються."
   ]
  },
  {
   "cell_type": "code",
   "execution_count": null,
   "metadata": {},
   "outputs": [],
   "source": [
    "from scipy import stats  # пакет в середині пакету\n",
    "\n",
    "alpha = 0.05  # задаємо рівень значимості"
   ]
  },
  {
   "cell_type": "code",
   "execution_count": null,
   "metadata": {},
   "outputs": [],
   "source": [
    "statistic, pvalue = stats.ttest_ind(  # повертає результат t-тесту\n",
    "    test_data[test_data[\"test_group\"] == \"a\"][\"conversion\"],  # вибірка a\n",
    "    test_data[test_data[\"test_group\"] == \"b\"][\"conversion\"],  # вибірка b\n",
    "    alternative=\"less\",  # це означає, що ви проводите односторонній t-тест, де альтернативна гіпотеза стверджує, що середнє вибірки A менше середнього вибірки B.\n",
    ")\n",
    "# віддає 2 значення: статистику і p-value\n",
    "# p-value - ймовірність того, що ми помилилися, відкидаючи нульову гіпотезу. Чим менше p-value, тим більше вірогідність того, що ми відкидаємо нульову гіпотезу.\n",
    "# statistic: це t-статистика, величина, яка використовується для оцінки відмінностей між вибірками. Чим більше значення t-статистики, тим більше відмінностей між вибірками.\n",
    "\n",
    "print(f\"t-statistic: {round(statistic, 2)}, p-value: {round(pvalue, 2)}\")\n",
    "\n",
    "if pvalue < alpha:\n",
    "    print(\"The difference is statistically significant, Null Hypothesis is rejected.\")\n",
    "else:\n",
    "    print(\"The difference is insignificant, Null Hypothesis cannot rejected.\")"
   ]
  },
  {
   "cell_type": "code",
   "execution_count": null,
   "metadata": {},
   "outputs": [],
   "source": [
    "test_data[test_data[\"test_group\"] == \"a\"][\"conversion\"]"
   ]
  },
  {
   "cell_type": "markdown",
   "metadata": {},
   "source": [
    "### Критерій Хі-квадрат (додатково, не розглядається на занятті)"
   ]
  },
  {
   "cell_type": "markdown",
   "metadata": {},
   "source": [
    "Цей критерій перевіряє залежність змінної від категорії, тобто у випадку A/B тесту — чи залежить метрика, яку ми аналізуємо, від тестової групи, в яку потрапив користувач."
   ]
  },
  {
   "cell_type": "markdown",
   "metadata": {},
   "source": [
    "Наприклад, дослідження може намагатися встановити, чи існує зв'язок між освітою та доходом, або між статтю та музичними перевагами. У обох випадках змінні категоріальні – отже, критерій хі-квадрат можна використовувати."
   ]
  },
  {
   "cell_type": "code",
   "execution_count": null,
   "metadata": {},
   "outputs": [],
   "source": [
    "# критерій Хі-квадрат підходить для роботи з не нормальними розподілами"
   ]
  },
  {
   "cell_type": "code",
   "execution_count": null,
   "metadata": {},
   "outputs": [],
   "source": [
    "from scipy import stats\n",
    "\n",
    "alpha = 0.05"
   ]
  },
  {
   "cell_type": "code",
   "execution_count": null,
   "metadata": {},
   "outputs": [],
   "source": [
    "observed = pd.crosstab(\n",
    "    test_data[\"test_group\"].values, test_data[\"conversion\"].values\n",
    ")  # crosstab - це таблиця співставлення це зведена таблиця, в якій рядок — це категорія, стовпчик — значення змінної, а значення в таблиці — кількість спостережень."
   ]
  },
  {
   "cell_type": "code",
   "execution_count": null,
   "metadata": {},
   "outputs": [],
   "source": [
    "observed.head()"
   ]
  },
  {
   "cell_type": "markdown",
   "metadata": {},
   "source": [
    "- Мета застосування критерію Хі-квадрат полягає у виявленні, чи існує статистично значуща різниця між розподілами в різних категоріях.\n",
    "- У цьому випадку, ми хочемо з'ясувати, чи існує значуща відмінність між групами \"a\" та \"b\" залежно від категорій \"0\" та \"1\".\n",
    "- Виконується обчислення Хі-квадрат статистики, що базується на спостережуваних та очікуваних частотах у кожній категорії.\n"
   ]
  },
  {
   "cell_type": "code",
   "execution_count": null,
   "metadata": {},
   "outputs": [],
   "source": [
    "statistic, pvalue, dof, expected_values = stats.chi2_contingency(observed)\n",
    "\n",
    "print(f\"t-statistic: {round(statistic, 2)}, p-value: {round(pvalue, 2)}\")\n",
    "\n",
    "if pvalue < alpha:\n",
    "    print(\"The difference is statistically significant, Null Hypothesis is rejected.\")\n",
    "else:\n",
    "    print(\"The difference is insignificant, Null Hypothesis cannot rejected.\")"
   ]
  },
  {
   "cell_type": "markdown",
   "metadata": {},
   "source": [
    "Якщо отримане p-значення менше визначеного рівня значущості, то приймається висновок про наявність статистично значущої різниці між групами \"a\" та \"b\" у контексті категорій \"0\" та \"1\"."
   ]
  },
  {
   "cell_type": "markdown",
   "metadata": {},
   "source": [
    "## Permutation test\n",
    "### Тести з перестановками (перевіряємо на своїх потужностях як буде відрізнятись результат робимо практичну перевірку)"
   ]
  },
  {
   "cell_type": "markdown",
   "metadata": {},
   "source": [
    "Permutation test, або тест з перестановками — метод статистичного тестування, який базується на перемішуванні даних між групами для оцінки статистичної значущості результатів."
   ]
  },
  {
   "cell_type": "markdown",
   "metadata": {},
   "source": [
    "Основна ідея полягає в тому, щоб за допомогою перестановок зрозуміти, з якою ймовірністю ми отримаємо такі ж або більш екстремальні результати, якщо нульова гіпотеза справджується. Для цього проводиться багато перемішувань, для кожного з яких обчислюється статистика, а потім ми порівнюємо фактичну статистику з отриманим розподілом."
   ]
  },
  {
   "cell_type": "markdown",
   "metadata": {},
   "source": [
    "Нульова гіпотеза: дані рандомно обрані з одного розподілу (просто попали в дві різні групи але їх поведінка не відрізняється між собою)."
   ]
  },
  {
   "cell_type": "code",
   "execution_count": null,
   "metadata": {},
   "outputs": [],
   "source": [
    "import numpy as np\n",
    "\n",
    "a = [0] * (10000 - 10) + [1] * 10  # 10 тис спостережень 10 з яких були успішними\n",
    "b = [0] * (10000 - 20) + [1] * 20\n",
    "\n",
    "all_users = a + b\n",
    "\n",
    "observed_differece = np.mean(b) - np.mean(a) \n",
    "print(np.mean(b), np.mean(a)) # середнє в нашому випадку конверсія \n",
    "print(f\"Observed difference: {observed_differece}\")"
   ]
  },
  {
   "cell_type": "code",
   "execution_count": null,
   "metadata": {},
   "outputs": [],
   "source": [
    "conversion_rate_a = np.mean(a)\n",
    "conversion_rate_b = np.mean(b)\n",
    "\n",
    "print(f\"Conversion rate for a: {conversion_rate_a}\")\n",
    "print(f\"Conversion rate for b: {conversion_rate_b}\")\n",
    "\n",
    "# Перевіримо, чи все коректно розрахували:\n",
    "conversion_rate_a = len(np.array(a)[np.array(a) == 1]) / len(a)\n",
    "conversion_rate_b = len(np.array(b)[np.array(b) == 1]) / len(b)\n",
    "\n",
    "print(f\"Conversion rate for a: {conversion_rate_a}\")\n",
    "print(f\"Conversion rate for b: {conversion_rate_b}\")"
   ]
  },
  {
   "cell_type": "markdown",
   "metadata": {},
   "source": [
    "1. Розрахуємо результати теста в калькуляторі\n",
    "2. Порахуємо те ж саме що в калькуляторі за допомогою тесту з перестановкою"
   ]
  },
  {
   "cell_type": "code",
   "execution_count": null,
   "metadata": {},
   "outputs": [],
   "source": [
    "a_size = len(a)  # розмір вибірки a = 10 000\n",
    "# Нульова гіпотеза про те що зміни не впливають на конверсії (тобто якщо будь які інші групи утворимо то така сама різниця в конверсії)\n",
    "permulation_number = 1000\n",
    "simulated_differences = []\n",
    "\n",
    "for i in range(permulation_number): \n",
    "    permulation = np.random.permutation(all_users) # перемішуємо всіх користувачів\n",
    "    a_permulation = permulation[:a_size] # перші 10 тис користувачів\n",
    "    b_permulation = permulation[a_size:] # наступні 10 тис користувачів\n",
    "    simulated_differences.append( np.abs(np.mean(b_permulation) - np.mean(a_permulation))) # різниця конверсій\n",
    "\n",
    "simulated_differences = np.array(simulated_differences) # перетворюємо в numpy array\n",
    "len(simulated_differences) # 1000\n",
    "simulated_differences # масив з 1000 різниць конверсій"
   ]
  },
  {
   "cell_type": "code",
   "execution_count": null,
   "metadata": {},
   "outputs": [],
   "source": [
    "# графік з результатом\n",
    "\n",
    "import matplotlib.pyplot as plt\n",
    "import seaborn as sns\n",
    "\n",
    "plt.style.use(\"seaborn-v0_8\")\n",
    "# Plot permutaion simulated differences\n",
    "density = sns.kdeplot(simulated_differences, fill=True, bw_adjust=2)  # bw_adjust - це параметр, який визначає ширину ядра. Чим вище значення, тим ширше ядро.\n",
    "density.set(\n",
    "    xlabel=\"Difference between groups in conversion rate\",\n",
    "    ylabel=\"Number of simulations\",\n",
    "    title=\"Simulated test statistic distribution\",\n",
    ")\n",
    "\n",
    "density.axvline(x=observed_differece, color=\"red\", linestyle=\"--\")\n",
    "plt.show()"
   ]
  },
  {
   "cell_type": "markdown",
   "metadata": {},
   "source": [
    "Бачимо що не настільки часто бачимо таку різницю як у нас фактично"
   ]
  },
  {
   "cell_type": "code",
   "execution_count": null,
   "metadata": {},
   "outputs": [],
   "source": [
    "diffs = np.array(simulated_differences)\n",
    "\n",
    "len(diffs[diffs >= observed_differece]) / len(\n",
    "    diffs\n",
    ")  # дивимось як часто різниця була більшою за наш observed_differece"
   ]
  },
  {
   "cell_type": "markdown",
   "metadata": {},
   "source": [
    "Аналогом якої метрики з t-test є отримана мерика?\n",
    "Якщо 50% такі як у нас в спостреженні - який висновок? "
   ]
  },
  {
   "cell_type": "code",
   "execution_count": null,
   "metadata": {},
   "outputs": [],
   "source": [
    "if (len(diffs[diffs >= observed_differece])) / len(diffs) < alpha:\n",
    "    print(\"The difference is statistically significant, Null Hypothesis is rejected.\")\n",
    "else:\n",
    "    print(\"The difference is insignificant, Null Hypothesis cannot rejected.\")\n",
    "\n",
    "# Відхиляємо нульову гіпотезу та робимо висновок, що різниця між нашими групами з тесту є статистично значущою."
   ]
  },
  {
   "cell_type": "markdown",
   "metadata": {},
   "source": [
    "1. часто більш практично примінимі результати будуть в тесті з перестановками ніж в тесті Стьюдента коли мало конверсій у штуках\n",
    "2. Коли рахуємо не конверсію я сумму чи час"
   ]
  },
  {
   "cell_type": "markdown",
   "metadata": {},
   "source": [
    "# Visualization"
   ]
  },
  {
   "cell_type": "markdown",
   "metadata": {},
   "source": [
    "#### Перевіримо на практиці центральну граничну теорему"
   ]
  },
  {
   "cell_type": "code",
   "execution_count": null,
   "metadata": {},
   "outputs": [],
   "source": [
    "a_size = len(a)  # розмір вибірки a = 10 000\n",
    "# Нульова гіпотеза про те що зміни не впливають на конверсії (тобто якщо будь які інші групи утворимо то така сама різниця в конверсії)\n",
    "permulation_number = 10000\n",
    "sample_means = []\n",
    "\n",
    "for i in range(permulation_number):\n",
    "    sample = np.random.choice(all_users, a_size)\n",
    "    sample_means.append( np.mean(sample))\n",
    "\n",
    "len(sample_means)  # 10000"
   ]
  },
  {
   "cell_type": "code",
   "execution_count": null,
   "metadata": {},
   "outputs": [],
   "source": [
    "# графік з результатом\n",
    "\n",
    "import matplotlib.pyplot as plt\n",
    "import seaborn as sns\n",
    "\n",
    "plt.style.use(\"seaborn-v0_8\")\n",
    "density = sns.kdeplot(sample_means, fill=True\n",
    "                      #, bw_adjust=2\n",
    "                      )\n",
    "density.set(\n",
    "    xlabel=\"Mean of sample\",\n",
    "    ylabel=\"Number of groups\",\n",
    "    title=\"Means distribution\",\n",
    ")\n",
    "\n",
    "plt.show()"
   ]
  },
  {
   "cell_type": "code",
   "execution_count": null,
   "metadata": {},
   "outputs": [],
   "source": [
    "sns.histplot(sample_means)\n",
    "plt.show()"
   ]
  },
  {
   "cell_type": "markdown",
   "metadata": {},
   "source": [
    "# Візуалізація розподілів двох груп"
   ]
  },
  {
   "cell_type": "code",
   "execution_count": null,
   "metadata": {},
   "outputs": [],
   "source": [
    "a_size = len(a)  # розмір вибірки a = 10 000\n",
    "# Нульова гіпотеза про те що зміни не впливають на конверсії (тобто якщо будь які інші групи утворимо то така сама різниця в конверсії)\n",
    "permulation_number = 50000\n",
    "sample_means_a = []\n",
    "sample_means_b = []\n",
    "\n",
    "\n",
    "for i in range(permulation_number):\n",
    "    sample_a = np.random.choice(all_users, a_size)\n",
    "    sample_means_a.append(np.mean(sample_a))\n",
    "\n",
    "    sample_b = np.random.choice(all_users, a_size)\n",
    "    sample_means_b.append(np.mean(sample_b))\n",
    "\n",
    "len(sample_means)  # 10000"
   ]
  },
  {
   "cell_type": "code",
   "execution_count": null,
   "metadata": {},
   "outputs": [],
   "source": [
    "density = sns.kdeplot(  # kdeplot - це графік щільності розподілу\n",
    "    sample_means_a,\n",
    "    # fill=True\n",
    "    # , bw_adjust=2\n",
    ")\n",
    "\n",
    "density = sns.kdeplot(  # kdeplot - це графік щільності розподілу\n",
    "    sample_means_b,\n",
    "    # fill=True\n",
    "    # , bw_adjust=2\n",
    ")\n",
    "\n",
    "plt.title(\"Distribution of A/B Groups\")\n",
    "plt.xlabel(\"Value\")\n",
    "plt.ylabel(\"Frequency\")\n",
    "\n",
    "plt.legend([\"A\", \"B\"])\n",
    "\n",
    "plt.show()"
   ]
  },
  {
   "cell_type": "code",
   "execution_count": null,
   "metadata": {},
   "outputs": [],
   "source": [
    "plt.figure(figsize=(10, 6))\n",
    "\n",
    "sns.histplot(sample_means_a)\n",
    "sns.histplot(sample_means_b)\n",
    "\n",
    "plt.title(\"Histogram of A/B Groups\")\n",
    "plt.xlabel(\"Value\")\n",
    "plt.ylabel(\"Frequency\")\n",
    "\n",
    "plt.legend([\"A\", \"B\"])\n",
    "plt.show()"
   ]
  },
  {
   "cell_type": "markdown",
   "metadata": {},
   "source": [
    "#### Порівняння 2 груп з довірчими інтервалами\n"
   ]
  },
  {
   "cell_type": "code",
   "execution_count": null,
   "metadata": {},
   "outputs": [],
   "source": [
    "import matplotlib.pyplot as plt\n",
    "import seaborn as sns\n",
    "\n",
    "plt.style.use(\"seaborn-v0_8\")\n",
    "\n",
    "plt.figure(figsize=(8, 6))\n",
    "sns.barplot(\n",
    "    x=test_data[\"test_group\"], y=test_data[\"conversion\"], errorbar=(\"ci\", 95)\n",
    ")  # Confidence Intervals\n",
    "\n",
    "plt.title(\"A/B Test Results\")\n",
    "plt.xlabel(\"Group\")\n",
    "plt.ylabel(\"Mean\")\n",
    "\n",
    "plt.show()"
   ]
  },
  {
   "cell_type": "markdown",
   "metadata": {},
   "source": [
    "Візуалізація розподілу Q&A"
   ]
  },
  {
   "cell_type": "code",
   "execution_count": null,
   "metadata": {},
   "outputs": [],
   "source": [
    "stats.norm.rvs(\n",
    "    size=1000\n",
    ")  # випадкові величини з нормальним розподілом з 1000 спостережень (rvs - random values)"
   ]
  },
  {
   "cell_type": "code",
   "execution_count": null,
   "metadata": {},
   "outputs": [],
   "source": [
    "import seaborn as sns\n",
    "\n",
    "plt.figure(figsize=(10, 6))\n",
    "\n",
    "sns.kdeplot(stats.norm.rvs(size=1000))\n",
    "sns.kdeplot(stats.norm.rvs(size=1000))\n",
    "\n",
    "plt.title(\"Distribution of A/B Groups\")\n",
    "plt.xlabel(\"Value\")\n",
    "plt.ylabel(\"Frequency\")\n",
    "\n",
    "plt.legend([\"A\", \"B\"])\n",
    "plt.show()"
   ]
  }
 ],
 "metadata": {
  "kernelspec": {
   "display_name": "Python 3",
   "language": "python",
   "name": "python3"
  },
  "language_info": {
   "codemirror_mode": {
    "name": "ipython",
    "version": 3
   },
   "file_extension": ".py",
   "mimetype": "text/x-python",
   "name": "python",
   "nbconvert_exporter": "python",
   "pygments_lexer": "ipython3",
   "version": "3.10.12"
  }
 },
 "nbformat": 4,
 "nbformat_minor": 2
}
